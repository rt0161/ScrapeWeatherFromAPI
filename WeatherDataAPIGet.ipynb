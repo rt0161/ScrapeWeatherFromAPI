{
 "cells": [
  {
   "cell_type": "code",
   "execution_count": 97,
   "metadata": {},
   "outputs": [],
   "source": [
    "import requests\n",
    "from bs4 import BeautifulSoup\n",
    "import ast\n",
    "import json"
   ]
  },
  {
   "cell_type": "code",
   "execution_count": 95,
   "metadata": {},
   "outputs": [],
   "source": [
    "## set the API call account info and parameters\n",
    "## for forecasting\n",
    "## see : https://www.worldweatheronline.com/developer/api/docs/local-city-town-weather-api.aspx"
   ]
  },
  {
   "cell_type": "code",
   "execution_count": 96,
   "metadata": {},
   "outputs": [],
   "source": [
    "APIKey='eb4b4c92f58047019df155434190210'\n",
    "varLatLon='30.308026,-97.7153202'\n",
    "varnd = 8"
   ]
  },
  {
   "cell_type": "code",
   "execution_count": null,
   "metadata": {},
   "outputs": [],
   "source": [
    "## formulate the "
   ]
  },
  {
   "cell_type": "code",
   "execution_count": 73,
   "metadata": {},
   "outputs": [],
   "source": [
    "testreq='http://api.worldweatheronline.com/premium/v1/weather.ashx?key=eb4b4c92f58047019df155434190210&q=30.308026,-97.7153202&format=json&num_of_days=8&tp=1'"
   ]
  },
  {
   "cell_type": "code",
   "execution_count": 74,
   "metadata": {},
   "outputs": [],
   "source": [
    "w=requests.get(testreq)"
   ]
  },
  {
   "cell_type": "code",
   "execution_count": 76,
   "metadata": {},
   "outputs": [],
   "source": [
    "#cont=ast.literal_eval(w.content.decode('utf-8'))"
   ]
  },
  {
   "cell_type": "code",
   "execution_count": 107,
   "metadata": {},
   "outputs": [],
   "source": [
    "cont=json.loads(w.content)"
   ]
  },
  {
   "cell_type": "code",
   "execution_count": 108,
   "metadata": {},
   "outputs": [],
   "source": [
    "from IPython.display import JSON   ## prettifying the json/dictionary in view"
   ]
  },
  {
   "cell_type": "code",
   "execution_count": null,
   "metadata": {},
   "outputs": [],
   "source": []
  },
  {
   "cell_type": "code",
   "execution_count": 110,
   "metadata": {},
   "outputs": [
    {
     "data": {
      "application/json": [
       {
        "astronomy": [
         {
          "moon_illumination": "19",
          "moon_phase": "Waxing Crescent",
          "moonrise": "11:35 AM",
          "moonset": "10:28 PM",
          "sunrise": "07:25 AM",
          "sunset": "07:15 PM"
         }
        ],
        "avgtempC": "27",
        "avgtempF": "81",
        "date": "2019-10-02",
        "hourly": [
         {
          "DewPointC": "22",
          "DewPointF": "71",
          "FeelsLikeC": "27",
          "FeelsLikeF": "81",
          "HeatIndexC": "27",
          "HeatIndexF": "81",
          "WindChillC": "25",
          "WindChillF": "77",
          "WindGustKmph": "23",
          "WindGustMiles": "14",
          "chanceoffog": "0",
          "chanceoffrost": "0",
          "chanceofhightemp": "23",
          "chanceofovercast": "83",
          "chanceofrain": "65",
          "chanceofremdry": "0",
          "chanceofsnow": "0",
          "chanceofsunshine": "0",
          "chanceofthunder": "0",
          "chanceofwindy": "0",
          "cloudcover": "65",
          "humidity": "82",
          "precipInches": "0.0",
          "precipMM": "0.1",
          "pressure": "1014",
          "pressureInches": "30",
          "tempC": "25",
          "tempF": "77",
          "time": "0",
          "uvIndex": "0",
          "visibility": "10",
          "visibilityMiles": "6",
          "weatherCode": "176",
          "weatherDesc": [
           {
            "value": "Patchy rain possible"
           }
          ],
          "weatherIconUrl": [
           {
            "value": "http://cdn.worldweatheronline.net/images/wsymbols01_png_64/wsymbol_0025_light_rain_showers_night.png"
           }
          ],
          "winddir16Point": "SSE",
          "winddirDegree": "153",
          "windspeedKmph": "16",
          "windspeedMiles": "10"
         },
         {
          "DewPointC": "22",
          "DewPointF": "71",
          "FeelsLikeC": "27",
          "FeelsLikeF": "80",
          "HeatIndexC": "27",
          "HeatIndexF": "80",
          "WindChillC": "24",
          "WindChillF": "76",
          "WindGustKmph": "22",
          "WindGustMiles": "13",
          "chanceoffog": "0",
          "chanceoffrost": "0",
          "chanceofhightemp": "15",
          "chanceofovercast": "84",
          "chanceofrain": "63",
          "chanceofremdry": "0",
          "chanceofsnow": "0",
          "chanceofsunshine": "0",
          "chanceofthunder": "0",
          "chanceofwindy": "0",
          "cloudcover": "72",
          "humidity": "85",
          "precipInches": "0.0",
          "precipMM": "0.1",
          "pressure": "1015",
          "pressureInches": "30",
          "tempC": "24",
          "tempF": "76",
          "time": "100",
          "uvIndex": "0",
          "visibility": "10",
          "visibilityMiles": "6",
          "weatherCode": "176",
          "weatherDesc": [
           {
            "value": "Patchy rain possible"
           }
          ],
          "weatherIconUrl": [
           {
            "value": "http://cdn.worldweatheronline.net/images/wsymbols01_png_64/wsymbol_0025_light_rain_showers_night.png"
           }
          ],
          "winddir16Point": "SSE",
          "winddirDegree": "155",
          "windspeedKmph": "15",
          "windspeedMiles": "9"
         },
         {
          "DewPointC": "22",
          "DewPointF": "71",
          "FeelsLikeC": "26",
          "FeelsLikeF": "79",
          "HeatIndexC": "26",
          "HeatIndexF": "79",
          "WindChillC": "24",
          "WindChillF": "75",
          "WindGustKmph": "21",
          "WindGustMiles": "13",
          "chanceoffog": "0",
          "chanceoffrost": "0",
          "chanceofhightemp": "13",
          "chanceofovercast": "72",
          "chanceofrain": "42",
          "chanceofremdry": "28",
          "chanceofsnow": "0",
          "chanceofsunshine": "24",
          "chanceofthunder": "0",
          "chanceofwindy": "0",
          "cloudcover": "68",
          "humidity": "87",
          "precipInches": "0.0",
          "precipMM": "0.1",
          "pressure": "1014",
          "pressureInches": "30",
          "tempC": "24",
          "tempF": "75",
          "time": "200",
          "uvIndex": "0",
          "visibility": "10",
          "visibilityMiles": "6",
          "weatherCode": "116",
          "weatherDesc": [
           {
            "value": "Partly cloudy"
           }
          ],
          "weatherIconUrl": [
           {
            "value": "http://cdn.worldweatheronline.net/images/wsymbols01_png_64/wsymbol_0004_black_low_cloud.png"
           }
          ],
          "winddir16Point": "SSE",
          "winddirDegree": "157",
          "windspeedKmph": "14",
          "windspeedMiles": "9"
         },
         {
          "DewPointC": "22",
          "DewPointF": "71",
          "FeelsLikeC": "26",
          "FeelsLikeF": "79",
          "HeatIndexC": "26",
          "HeatIndexF": "79",
          "WindChillC": "24",
          "WindChillF": "75",
          "WindGustKmph": "19",
          "WindGustMiles": "12",
          "chanceoffog": "0",
          "chanceoffrost": "0",
          "chanceofhightemp": "12",
          "chanceofovercast": "59",
          "chanceofrain": "21",
          "chanceofremdry": "55",
          "chanceofsnow": "0",
          "chanceofsunshine": "49",
          "chanceofthunder": "0",
          "chanceofwindy": "0",
          "cloudcover": "64",
          "humidity": "88",
          "precipInches": "0.0",
          "precipMM": "0.0",
          "pressure": "1014",
          "pressureInches": "30",
          "tempC": "24",
          "tempF": "75",
          "time": "300",
          "uvIndex": "0",
          "visibility": "10",
          "visibilityMiles": "6",
          "weatherCode": "176",
          "weatherDesc": [
           {
            "value": "Patchy rain possible"
           }
          ],
          "weatherIconUrl": [
           {
            "value": "http://cdn.worldweatheronline.net/images/wsymbols01_png_64/wsymbol_0025_light_rain_showers_night.png"
           }
          ],
          "winddir16Point": "SSE",
          "winddirDegree": "158",
          "windspeedKmph": "13",
          "windspeedMiles": "8"
         },
         {
          "DewPointC": "22",
          "DewPointF": "71",
          "FeelsLikeC": "26",
          "FeelsLikeF": "78",
          "HeatIndexC": "26",
          "HeatIndexF": "78",
          "WindChillC": "23",
          "WindChillF": "74",
          "WindGustKmph": "18",
          "WindGustMiles": "11",
          "chanceoffog": "0",
          "chanceoffrost": "0",
          "chanceofhightemp": "10",
          "chanceofovercast": "47",
          "chanceofrain": "0",
          "chanceofremdry": "83",
          "chanceofsnow": "0",
          "chanceofsunshine": "73",
          "chanceofthunder": "0",
          "chanceofwindy": "0",
          "cloudcover": "60",
          "humidity": "90",
          "precipInches": "0.0",
          "precipMM": "0.0",
          "pressure": "1014",
          "pressureInches": "30",
          "tempC": "23",
          "tempF": "74",
          "time": "400",
          "uvIndex": "0",
          "visibility": "10",
          "visibilityMiles": "6",
          "weatherCode": "116",
          "weatherDesc": [
           {
            "value": "Partly cloudy"
           }
          ],
          "weatherIconUrl": [
           {
            "value": "http://cdn.worldweatheronline.net/images/wsymbols01_png_64/wsymbol_0004_black_low_cloud.png"
           }
          ],
          "winddir16Point": "SSE",
          "winddirDegree": "160",
          "windspeedKmph": "12",
          "windspeedMiles": "7"
         },
         {
          "DewPointC": "22",
          "DewPointF": "71",
          "FeelsLikeC": "26",
          "FeelsLikeF": "78",
          "HeatIndexC": "26",
          "HeatIndexF": "78",
          "WindChillC": "23",
          "WindChillF": "74",
          "WindGustKmph": "16",
          "WindGustMiles": "10",
          "chanceoffog": "0",
          "chanceoffrost": "0",
          "chanceofhightemp": "10",
          "chanceofovercast": "46",
          "chanceofrain": "0",
          "chanceofremdry": "84",
          "chanceofsnow": "0",
          "chanceofsunshine": "78",
          "chanceofthunder": "0",
          "chanceofwindy": "0",
          "cloudcover": "55",
          "humidity": "91",
          "precipInches": "0.0",
          "precipMM": "0.0",
          "pressure": "1014",
          "pressureInches": "30",
          "tempC": "23",
          "tempF": "74",
          "time": "500",
          "uvIndex": "0",
          "visibility": "10",
          "visibilityMiles": "6",
          "weatherCode": "116",
          "weatherDesc": [
           {
            "value": "Partly cloudy"
           }
          ],
          "weatherIconUrl": [
           {
            "value": "http://cdn.worldweatheronline.net/images/wsymbols01_png_64/wsymbol_0004_black_low_cloud.png"
           }
          ],
          "winddir16Point": "SSE",
          "winddirDegree": "156",
          "windspeedKmph": "11",
          "windspeedMiles": "7"
         },
         {
          "DewPointC": "22",
          "DewPointF": "71",
          "FeelsLikeC": "26",
          "FeelsLikeF": "78",
          "HeatIndexC": "26",
          "HeatIndexF": "78",
          "WindChillC": "23",
          "WindChillF": "74",
          "WindGustKmph": "14",
          "WindGustMiles": "9",
          "chanceoffog": "0",
          "chanceoffrost": "0",
          "chanceofhightemp": "10",
          "chanceofovercast": "45",
          "chanceofrain": "0",
          "chanceofremdry": "86",
          "chanceofsnow": "0",
          "chanceofsunshine": "82",
          "chanceofthunder": "0",
          "chanceofwindy": "0",
          "cloudcover": "49",
          "humidity": "91",
          "precipInches": "0.0",
          "precipMM": "0.0",
          "pressure": "1014",
          "pressureInches": "30",
          "tempC": "23",
          "tempF": "74",
          "time": "600",
          "uvIndex": "0",
          "visibility": "10",
          "visibilityMiles": "6",
          "weatherCode": "116",
          "weatherDesc": [
           {
            "value": "Partly cloudy"
           }
          ],
          "weatherIconUrl": [
           {
            "value": "http://cdn.worldweatheronline.net/images/wsymbols01_png_64/wsymbol_0004_black_low_cloud.png"
           }
          ],
          "winddir16Point": "SSE",
          "winddirDegree": "153",
          "windspeedKmph": "9",
          "windspeedMiles": "6"
         },
         {
          "DewPointC": "22",
          "DewPointF": "71",
          "FeelsLikeC": "25",
          "FeelsLikeF": "78",
          "HeatIndexC": "25",
          "HeatIndexF": "78",
          "WindChillC": "23",
          "WindChillF": "74",
          "WindGustKmph": "13",
          "WindGustMiles": "8",
          "chanceoffog": "0",
          "chanceoffrost": "0",
          "chanceofhightemp": "10",
          "chanceofovercast": "44",
          "chanceofrain": "0",
          "chanceofremdry": "87",
          "chanceofsnow": "0",
          "chanceofsunshine": "87",
          "chanceofthunder": "0",
          "chanceofwindy": "0",
          "cloudcover": "44",
          "humidity": "92",
          "precipInches": "0.0",
          "precipMM": "0.0",
          "pressure": "1014",
          "pressureInches": "30",
          "tempC": "23",
          "tempF": "74",
          "time": "700",
          "uvIndex": "0",
          "visibility": "10",
          "visibilityMiles": "6",
          "weatherCode": "116",
          "weatherDesc": [
           {
            "value": "Partly cloudy"
           }
          ],
          "weatherIconUrl": [
           {
            "value": "http://cdn.worldweatheronline.net/images/wsymbols01_png_64/wsymbol_0004_black_low_cloud.png"
           }
          ],
          "winddir16Point": "SSE",
          "winddirDegree": "150",
          "windspeedKmph": "8",
          "windspeedMiles": "5"
         },
         {
          "DewPointC": "22",
          "DewPointF": "71",
          "FeelsLikeC": "27",
          "FeelsLikeF": "80",
          "HeatIndexC": "27",
          "HeatIndexF": "80",
          "WindChillC": "24",
          "WindChillF": "76",
          "WindGustKmph": "12",
          "WindGustMiles": "8",
          "chanceoffog": "0",
          "chanceoffrost": "0",
          "chanceofhightemp": "20",
          "chanceofovercast": "42",
          "chanceofrain": "0",
          "chanceofremdry": "88",
          "chanceofsnow": "0",
          "chanceofsunshine": "86",
          "chanceofthunder": "0",
          "chanceofwindy": "0",
          "cloudcover": "48",
          "humidity": "86",
          "precipInches": "0.0",
          "precipMM": "0.0",
          "pressure": "1015",
          "pressureInches": "30",
          "tempC": "24",
          "tempF": "76",
          "time": "800",
          "uvIndex": "6",
          "visibility": "10",
          "visibilityMiles": "6",
          "weatherCode": "116",
          "weatherDesc": [
           {
            "value": "Partly cloudy"
           }
          ],
          "weatherIconUrl": [
           {
            "value": "http://cdn.worldweatheronline.net/images/wsymbols01_png_64/wsymbol_0002_sunny_intervals.png"
           }
          ],
          "winddir16Point": "SSE",
          "winddirDegree": "151",
          "windspeedKmph": "9",
          "windspeedMiles": "6"
         },
         {
          "DewPointC": "22",
          "DewPointF": "71",
          "FeelsLikeC": "28",
          "FeelsLikeF": "82",
          "HeatIndexC": "28",
          "HeatIndexF": "82",
          "WindChillC": "26",
          "WindChillF": "78",
          "WindGustKmph": "12",
          "WindGustMiles": "7",
          "chanceoffog": "0",
          "chanceoffrost": "0",
          "chanceofhightemp": "30",
          "chanceofovercast": "39",
          "chanceofrain": "0",
          "chanceofremdry": "88",
          "chanceofsnow": "0",
          "chanceofsunshine": "84",
          "chanceofthunder": "0",
          "chanceofwindy": "0",
          "cloudcover": "52",
          "humidity": "80",
          "precipInches": "0.0",
          "precipMM": "0.0",
          "pressure": "1015",
          "pressureInches": "30",
          "tempC": "26",
          "tempF": "78",
          "time": "900",
          "uvIndex": "7",
          "visibility": "10",
          "visibilityMiles": "6",
          "weatherCode": "116",
          "weatherDesc": [
           {
            "value": "Partly cloudy"
           }
          ],
          "weatherIconUrl": [
           {
            "value": "http://cdn.worldweatheronline.net/images/wsymbols01_png_64/wsymbol_0002_sunny_intervals.png"
           }
          ],
          "winddir16Point": "SSE",
          "winddirDegree": "153",
          "windspeedKmph": "9",
          "windspeedMiles": "6"
         },
         {
          "DewPointC": "22",
          "DewPointF": "71",
          "FeelsLikeC": "29",
          "FeelsLikeF": "84",
          "HeatIndexC": "29",
          "HeatIndexF": "84",
          "WindChillC": "27",
          "WindChillF": "80",
          "WindGustKmph": "12",
          "WindGustMiles": "7",
          "chanceoffog": "0",
          "chanceoffrost": "0",
          "chanceofhightemp": "40",
          "chanceofovercast": "37",
          "chanceofrain": "0",
          "chanceofremdry": "89",
          "chanceofsnow": "0",
          "chanceofsunshine": "83",
          "chanceofthunder": "0",
          "chanceofwindy": "0",
          "cloudcover": "55",
          "humidity": "73",
          "precipInches": "0.0",
          "precipMM": "0.0",
          "pressure": "1016",
          "pressureInches": "30",
          "tempC": "27",
          "tempF": "80",
          "time": "1000",
          "uvIndex": "7",
          "visibility": "10",
          "visibilityMiles": "6",
          "weatherCode": "116",
          "weatherDesc": [
           {
            "value": "Partly cloudy"
           }
          ],
          "weatherIconUrl": [
           {
            "value": "http://cdn.worldweatheronline.net/images/wsymbols01_png_64/wsymbol_0002_sunny_intervals.png"
           }
          ],
          "winddir16Point": "SSE",
          "winddirDegree": "155",
          "windspeedKmph": "10",
          "windspeedMiles": "6"
         },
         {
          "DewPointC": "21",
          "DewPointF": "70",
          "FeelsLikeC": "31",
          "FeelsLikeF": "87",
          "HeatIndexC": "31",
          "HeatIndexF": "87",
          "WindChillC": "28",
          "WindChillF": "83",
          "WindGustKmph": "12",
          "WindGustMiles": "7",
          "chanceoffog": "0",
          "chanceoffrost": "0",
          "chanceofhightemp": "43",
          "chanceofovercast": "53",
          "chanceofrain": "0",
          "chanceofremdry": "89",
          "chanceofsnow": "0",
          "chanceofsunshine": "60",
          "chanceofthunder": "0",
          "chanceofwindy": "0",
          "cloudcover": "59",
          "humidity": "67",
          "precipInches": "0.0",
          "precipMM": "0.0",
          "pressure": "1015",
          "pressureInches": "30",
          "tempC": "28",
          "tempF": "83",
          "time": "1100",
          "uvIndex": "6",
          "visibility": "10",
          "visibilityMiles": "6",
          "weatherCode": "119",
          "weatherDesc": [
           {
            "value": "Cloudy"
           }
          ],
          "weatherIconUrl": [
           {
            "value": "http://cdn.worldweatheronline.net/images/wsymbols01_png_64/wsymbol_0003_white_cloud.png"
           }
          ],
          "winddir16Point": "SSE",
          "winddirDegree": "157",
          "windspeedKmph": "10",
          "windspeedMiles": "6"
         },
         {
          "DewPointC": "21",
          "DewPointF": "69",
          "FeelsLikeC": "32",
          "FeelsLikeF": "90",
          "HeatIndexC": "32",
          "HeatIndexF": "90",
          "WindChillC": "30",
          "WindChillF": "85",
          "WindGustKmph": "13",
          "WindGustMiles": "8",
          "chanceoffog": "0",
          "chanceoffrost": "0",
          "chanceofhightemp": "46",
          "chanceofovercast": "69",
          "chanceofrain": "0",
          "chanceofremdry": "90",
          "chanceofsnow": "0",
          "chanceofsunshine": "38",
          "chanceofthunder": "0",
          "chanceofwindy": "0",
          "cloudcover": "63",
          "humidity": "60",
          "precipInches": "0.0",
          "precipMM": "0.0",
          "pressure": "1015",
          "pressureInches": "30",
          "tempC": "30",
          "tempF": "85",
          "time": "1200",
          "uvIndex": "7",
          "visibility": "10",
          "visibilityMiles": "6",
          "weatherCode": "116",
          "weatherDesc": [
           {
            "value": "Partly cloudy"
           }
          ],
          "weatherIconUrl": [
           {
            "value": "http://cdn.worldweatheronline.net/images/wsymbols01_png_64/wsymbol_0002_sunny_intervals.png"
           }
          ],
          "winddir16Point": "SSE",
          "winddirDegree": "159",
          "windspeedKmph": "11",
          "windspeedMiles": "7"
         },
         {
          "DewPointC": "20",
          "DewPointF": "68",
          "FeelsLikeC": "34",
          "FeelsLikeF": "92",
          "HeatIndexC": "34",
          "HeatIndexF": "92",
          "WindChillC": "31",
          "WindChillF": "88",
          "WindGustKmph": "13",
          "WindGustMiles": "8",
          "chanceoffog": "0",
          "chanceoffrost": "0",
          "chanceofhightemp": "50",
          "chanceofovercast": "85",
          "chanceofrain": "0",
          "chanceofremdry": "90",
          "chanceofsnow": "0",
          "chanceofsunshine": "15",
          "chanceofthunder": "0",
          "chanceofwindy": "0",
          "cloudcover": "67",
          "humidity": "53",
          "precipInches": "0.0",
          "precipMM": "0.0",
          "pressure": "1014",
          "pressureInches": "30",
          "tempC": "31",
          "tempF": "88",
          "time": "1300",
          "uvIndex": "7",
          "visibility": "10",
          "visibilityMiles": "6",
          "weatherCode": "119",
          "weatherDesc": [
           {
            "value": "Cloudy"
           }
          ],
          "weatherIconUrl": [
           {
            "value": "http://cdn.worldweatheronline.net/images/wsymbols01_png_64/wsymbol_0003_white_cloud.png"
           }
          ],
          "winddir16Point": "SSE",
          "winddirDegree": "160",
          "windspeedKmph": "11",
          "windspeedMiles": "7"
         },
         {
          "DewPointC": "20",
          "DewPointF": "69",
          "FeelsLikeC": "34",
          "FeelsLikeF": "93",
          "HeatIndexC": "34",
          "HeatIndexF": "93",
          "WindChillC": "31",
          "WindChillF": "88",
          "WindGustKmph": "14",
          "WindGustMiles": "9",
          "chanceoffog": "0",
          "chanceoffrost": "0",
          "chanceofhightemp": "50",
          "chanceofovercast": "85",
          "chanceofrain": "0",
          "chanceofremdry": "87",
          "chanceofsnow": "0",
          "chanceofsunshine": "14",
          "chanceofthunder": "0",
          "chanceofwindy": "0",
          "cloudcover": "73",
          "humidity": "52",
          "precipInches": "0.0",
          "precipMM": "0.0",
          "pressure": "1013",
          "pressureInches": "30",
          "tempC": "31",
          "tempF": "88",
          "time": "1400",
          "uvIndex": "7",
          "visibility": "10",
          "visibilityMiles": "6",
          "weatherCode": "119",
          "weatherDesc": [
           {
            "value": "Cloudy"
           }
          ],
          "weatherIconUrl": [
           {
            "value": "http://cdn.worldweatheronline.net/images/wsymbols01_png_64/wsymbol_0003_white_cloud.png"
           }
          ],
          "winddir16Point": "SSE",
          "winddirDegree": "152",
          "windspeedKmph": "12",
          "windspeedMiles": "7"
         },
         {
          "DewPointC": "20",
          "DewPointF": "69",
          "FeelsLikeC": "34",
          "FeelsLikeF": "94",
          "HeatIndexC": "34",
          "HeatIndexF": "94",
          "WindChillC": "32",
          "WindChillF": "89",
          "WindGustKmph": "14",
          "WindGustMiles": "9",
          "chanceoffog": "0",
          "chanceoffrost": "0",
          "chanceofhightemp": "50",
          "chanceofovercast": "85",
          "chanceofrain": "0",
          "chanceofremdry": "83",
          "chanceofsnow": "0",
          "chanceofsunshine": "12",
          "chanceofthunder": "0",
          "chanceofwindy": "0",
          "cloudcover": "78",
          "humidity": "52",
          "precipInches": "0.0",
          "precipMM": "0.0",
          "pressure": "1013",
          "pressureInches": "30",
          "tempC": "32",
          "tempF": "89",
          "time": "1500",
          "uvIndex": "7",
          "visibility": "10",
          "visibilityMiles": "6",
          "weatherCode": "119",
          "weatherDesc": [
           {
            "value": "Cloudy"
           }
          ],
          "weatherIconUrl": [
           {
            "value": "http://cdn.worldweatheronline.net/images/wsymbols01_png_64/wsymbol_0003_white_cloud.png"
           }
          ],
          "winddir16Point": "SE",
          "winddirDegree": "143",
          "windspeedKmph": "12",
          "windspeedMiles": "8"
         },
         {
          "DewPointC": "20",
          "DewPointF": "69",
          "FeelsLikeC": "35",
          "FeelsLikeF": "94",
          "HeatIndexC": "35",
          "HeatIndexF": "94",
          "WindChillC": "32",
          "WindChillF": "89",
          "WindGustKmph": "15",
          "WindGustMiles": "9",
          "chanceoffog": "0",
          "chanceoffrost": "0",
          "chanceofhightemp": "50",
          "chanceofovercast": "85",
          "chanceofrain": "0",
          "chanceofremdry": "80",
          "chanceofsnow": "0",
          "chanceofsunshine": "11",
          "chanceofthunder": "0",
          "chanceofwindy": "0",
          "cloudcover": "84",
          "humidity": "51",
          "precipInches": "0.0",
          "precipMM": "0.0",
          "pressure": "1012",
          "pressureInches": "30",
          "tempC": "32",
          "tempF": "89",
          "time": "1600",
          "uvIndex": "7",
          "visibility": "10",
          "visibilityMiles": "6",
          "weatherCode": "119",
          "weatherDesc": [
           {
            "value": "Cloudy"
           }
          ],
          "weatherIconUrl": [
           {
            "value": "http://cdn.worldweatheronline.net/images/wsymbols01_png_64/wsymbol_0003_white_cloud.png"
           }
          ],
          "winddir16Point": "SE",
          "winddirDegree": "134",
          "windspeedKmph": "13",
          "windspeedMiles": "8"
         },
         {
          "DewPointC": "20",
          "DewPointF": "68",
          "FeelsLikeC": "34",
          "FeelsLikeF": "93",
          "HeatIndexC": "34",
          "HeatIndexF": "93",
          "WindChillC": "31",
          "WindChillF": "88",
          "WindGustKmph": "15",
          "WindGustMiles": "10",
          "chanceoffog": "0",
          "chanceoffrost": "0",
          "chanceofhightemp": "50",
          "chanceofovercast": "84",
          "chanceofrain": "21",
          "chanceofremdry": "53",
          "chanceofsnow": "0",
          "chanceofsunshine": "7",
          "chanceofthunder": "0",
          "chanceofwindy": "0",
          "cloudcover": "80",
          "humidity": "52",
          "precipInches": "0.0",
          "precipMM": "0.0",
          "pressure": "1012",
          "pressureInches": "30",
          "tempC": "31",
          "tempF": "88",
          "time": "1700",
          "uvIndex": "7",
          "visibility": "10",
          "visibilityMiles": "6",
          "weatherCode": "176",
          "weatherDesc": [
           {
            "value": "Patchy rain possible"
           }
          ],
          "weatherIconUrl": [
           {
            "value": "http://cdn.worldweatheronline.net/images/wsymbols01_png_64/wsymbol_0009_light_rain_showers.png"
           }
          ],
          "winddir16Point": "SE",
          "winddirDegree": "140",
          "windspeedKmph": "12",
          "windspeedMiles": "8"
         },
         {
          "DewPointC": "20",
          "DewPointF": "68",
          "FeelsLikeC": "33",
          "FeelsLikeF": "91",
          "HeatIndexC": "33",
          "HeatIndexF": "91",
          "WindChillC": "31",
          "WindChillF": "87",
          "WindGustKmph": "16",
          "WindGustMiles": "10",
          "chanceoffog": "0",
          "chanceoffrost": "0",
          "chanceofhightemp": "50",
          "chanceofovercast": "84",
          "chanceofrain": "41",
          "chanceofremdry": "27",
          "chanceofsnow": "0",
          "chanceofsunshine": "4",
          "chanceofthunder": "0",
          "chanceofwindy": "0",
          "cloudcover": "75",
          "humidity": "52",
          "precipInches": "0.0",
          "precipMM": "0.1",
          "pressure": "1011",
          "pressureInches": "30",
          "tempC": "31",
          "tempF": "87",
          "time": "1800",
          "uvIndex": "7",
          "visibility": "10",
          "visibilityMiles": "6",
          "weatherCode": "119",
          "weatherDesc": [
           {
            "value": "Cloudy"
           }
          ],
          "weatherIconUrl": [
           {
            "value": "http://cdn.worldweatheronline.net/images/wsymbols01_png_64/wsymbol_0003_white_cloud.png"
           }
          ],
          "winddir16Point": "SE",
          "winddirDegree": "145",
          "windspeedKmph": "12",
          "windspeedMiles": "7"
         },
         {
          "DewPointC": "20",
          "DewPointF": "67",
          "FeelsLikeC": "32",
          "FeelsLikeF": "90",
          "HeatIndexC": "32",
          "HeatIndexF": "90",
          "WindChillC": "30",
          "WindChillF": "86",
          "WindGustKmph": "17",
          "WindGustMiles": "10",
          "chanceoffog": "0",
          "chanceoffrost": "0",
          "chanceofhightemp": "50",
          "chanceofovercast": "83",
          "chanceofrain": "62",
          "chanceofremdry": "0",
          "chanceofsnow": "0",
          "chanceofsunshine": "0",
          "chanceofthunder": "0",
          "chanceofwindy": "0",
          "cloudcover": "71",
          "humidity": "53",
          "precipInches": "0.0",
          "precipMM": "0.1",
          "pressure": "1011",
          "pressureInches": "30",
          "tempC": "30",
          "tempF": "86",
          "time": "1900",
          "uvIndex": "7",
          "visibility": "10",
          "visibilityMiles": "6",
          "weatherCode": "176",
          "weatherDesc": [
           {
            "value": "Patchy rain possible"
           }
          ],
          "weatherIconUrl": [
           {
            "value": "http://cdn.worldweatheronline.net/images/wsymbols01_png_64/wsymbol_0009_light_rain_showers.png"
           }
          ],
          "winddir16Point": "SSE",
          "winddirDegree": "151",
          "windspeedKmph": "11",
          "windspeedMiles": "7"
         },
         {
          "DewPointC": "20",
          "DewPointF": "67",
          "FeelsLikeC": "31",
          "FeelsLikeF": "88",
          "HeatIndexC": "31",
          "HeatIndexF": "88",
          "WindChillC": "29",
          "WindChillF": "84",
          "WindGustKmph": "18",
          "WindGustMiles": "11",
          "chanceoffog": "0",
          "chanceoffrost": "0",
          "chanceofhightemp": "48",
          "chanceofovercast": "71",
          "chanceofrain": "41",
          "chanceofremdry": "31",
          "chanceofsnow": "0",
          "chanceofsunshine": "24",
          "chanceofthunder": "0",
          "chanceofwindy": "0",
          "cloudcover": "48",
          "humidity": "57",
          "precipInches": "0.0",
          "precipMM": "0.1",
          "pressure": "1012",
          "pressureInches": "30",
          "tempC": "29",
          "tempF": "84",
          "time": "2000",
          "uvIndex": "0",
          "visibility": "10",
          "visibilityMiles": "6",
          "weatherCode": "116",
          "weatherDesc": [
           {
            "value": "Partly cloudy"
           }
          ],
          "weatherIconUrl": [
           {
            "value": "http://cdn.worldweatheronline.net/images/wsymbols01_png_64/wsymbol_0004_black_low_cloud.png"
           }
          ],
          "winddir16Point": "SSE",
          "winddirDegree": "149",
          "windspeedKmph": "12",
          "windspeedMiles": "7"
         },
         {
          "DewPointC": "20",
          "DewPointF": "67",
          "FeelsLikeC": "30",
          "FeelsLikeF": "86",
          "HeatIndexC": "30",
          "HeatIndexF": "86",
          "WindChillC": "28",
          "WindChillF": "83",
          "WindGustKmph": "19",
          "WindGustMiles": "12",
          "chanceoffog": "0",
          "chanceoffrost": "0",
          "chanceofhightemp": "47",
          "chanceofovercast": "59",
          "chanceofrain": "21",
          "chanceofremdry": "63",
          "chanceofsnow": "0",
          "chanceofsunshine": "47",
          "chanceofthunder": "0",
          "chanceofwindy": "0",
          "cloudcover": "26",
          "humidity": "60",
          "precipInches": "0.0",
          "precipMM": "0.0",
          "pressure": "1013",
          "pressureInches": "30",
          "tempC": "28",
          "tempF": "83",
          "time": "2100",
          "uvIndex": "0",
          "visibility": "10",
          "visibilityMiles": "6",
          "weatherCode": "176",
          "weatherDesc": [
           {
            "value": "Patchy rain possible"
           }
          ],
          "weatherIconUrl": [
           {
            "value": "http://cdn.worldweatheronline.net/images/wsymbols01_png_64/wsymbol_0025_light_rain_showers_night.png"
           }
          ],
          "winddir16Point": "SSE",
          "winddirDegree": "148",
          "windspeedKmph": "12",
          "windspeedMiles": "7"
         },
         {
          "DewPointC": "20",
          "DewPointF": "67",
          "FeelsLikeC": "29",
          "FeelsLikeF": "84",
          "HeatIndexC": "29",
          "HeatIndexF": "84",
          "WindChillC": "27",
          "WindChillF": "81",
          "WindGustKmph": "20",
          "WindGustMiles": "13",
          "chanceoffog": "0",
          "chanceoffrost": "0",
          "chanceofhightemp": "45",
          "chanceofovercast": "47",
          "chanceofrain": "0",
          "chanceofremdry": "94",
          "chanceofsnow": "0",
          "chanceofsunshine": "71",
          "chanceofthunder": "0",
          "chanceofwindy": "0",
          "cloudcover": "3",
          "humidity": "64",
          "precipInches": "0.0",
          "precipMM": "0.0",
          "pressure": "1014",
          "pressureInches": "30",
          "tempC": "27",
          "tempF": "81",
          "time": "2200",
          "uvIndex": "0",
          "visibility": "10",
          "visibilityMiles": "6",
          "weatherCode": "116",
          "weatherDesc": [
           {
            "value": "Partly cloudy"
           }
          ],
          "weatherIconUrl": [
           {
            "value": "http://cdn.worldweatheronline.net/images/wsymbols01_png_64/wsymbol_0004_black_low_cloud.png"
           }
          ],
          "winddir16Point": "SSE",
          "winddirDegree": "146",
          "windspeedKmph": "12",
          "windspeedMiles": "7"
         },
         {
          "DewPointC": "21",
          "DewPointF": "69",
          "FeelsLikeC": "28",
          "FeelsLikeF": "83",
          "HeatIndexC": "28",
          "HeatIndexF": "83",
          "WindChillC": "26",
          "WindChillF": "80",
          "WindGustKmph": "20",
          "WindGustMiles": "12",
          "chanceoffog": "0",
          "chanceoffrost": "0",
          "chanceofhightemp": "35",
          "chanceofovercast": "47",
          "chanceofrain": "0",
          "chanceofremdry": "92",
          "chanceofsnow": "0",
          "chanceofsunshine": "75",
          "chanceofthunder": "0",
          "chanceofwindy": "0",
          "cloudcover": "22",
          "humidity": "70",
          "precipInches": "0.0",
          "precipMM": "0.0",
          "pressure": "1014",
          "pressureInches": "30",
          "tempC": "26",
          "tempF": "80",
          "time": "2300",
          "uvIndex": "0",
          "visibility": "10",
          "visibilityMiles": "6",
          "weatherCode": "116",
          "weatherDesc": [
           {
            "value": "Partly cloudy"
           }
          ],
          "weatherIconUrl": [
           {
            "value": "http://cdn.worldweatheronline.net/images/wsymbols01_png_64/wsymbol_0004_black_low_cloud.png"
           }
          ],
          "winddir16Point": "SSE",
          "winddirDegree": "155",
          "windspeedKmph": "12",
          "windspeedMiles": "8"
         }
        ],
        "maxtempC": "32",
        "maxtempF": "89",
        "mintempC": "23",
        "mintempF": "74",
        "sunHour": "7.4",
        "totalSnow_cm": "0.0",
        "uvIndex": "6"
       },
       {
        "astronomy": [
         {
          "moon_illumination": "27",
          "moon_phase": "Waxing Crescent",
          "moonrise": "12:37 PM",
          "moonset": "11:16 PM",
          "sunrise": "07:26 AM",
          "sunset": "07:14 PM"
         }
        ],
        "avgtempC": "28",
        "avgtempF": "82",
        "date": "2019-10-03",
        "hourly": [
         {
          "DewPointC": "21",
          "DewPointF": "70",
          "FeelsLikeC": "28",
          "FeelsLikeF": "82",
          "HeatIndexC": "28",
          "HeatIndexF": "82",
          "WindChillC": "26",
          "WindChillF": "78",
          "WindGustKmph": "19",
          "WindGustMiles": "12",
          "chanceoffog": "0",
          "chanceoffrost": "0",
          "chanceofhightemp": "25",
          "chanceofovercast": "47",
          "chanceofrain": "0",
          "chanceofremdry": "91",
          "chanceofsnow": "0",
          "chanceofsunshine": "79",
          "chanceofthunder": "0",
          "chanceofwindy": "0",
          "cloudcover": "41",
          "humidity": "77",
          "precipInches": "0.0",
          "precipMM": "0.0",
          "pressure": "1014",
          "pressureInches": "30",
          "tempC": "26",
          "tempF": "78",
          "time": "0",
          "uvIndex": "0",
          "visibility": "10",
          "visibilityMiles": "6",
          "weatherCode": "116",
          "weatherDesc": [
           {
            "value": "Partly cloudy"
           }
          ],
          "weatherIconUrl": [
           {
            "value": "http://cdn.worldweatheronline.net/images/wsymbols01_png_64/wsymbol_0004_black_low_cloud.png"
           }
          ],
          "winddir16Point": "SSE",
          "winddirDegree": "163",
          "windspeedKmph": "12",
          "windspeedMiles": "8"
         },
         {
          "DewPointC": "22",
          "DewPointF": "72",
          "FeelsLikeC": "27",
          "FeelsLikeF": "81",
          "HeatIndexC": "27",
          "HeatIndexF": "81",
          "WindChillC": "25",
          "WindChillF": "77",
          "WindGustKmph": "19",
          "WindGustMiles": "12",
          "chanceoffog": "0",
          "chanceoffrost": "0",
          "chanceofhightemp": "15",
          "chanceofovercast": "47",
          "chanceofrain": "0",
          "chanceofremdry": "89",
          "chanceofsnow": "0",
          "chanceofsunshine": "83",
          "chanceofthunder": "0",
          "chanceofwindy": "0",
          "cloudcover": "60",
          "humidity": "84",
          "precipInches": "0.0",
          "precipMM": "0.0",
          "pressure": "1014",
          "pressureInches": "30",
          "tempC": "25",
          "tempF": "77",
          "time": "100",
          "uvIndex": "0",
          "visibility": "10",
          "visibilityMiles": "6",
          "weatherCode": "116",
          "weatherDesc": [
           {
            "value": "Partly cloudy"
           }
          ],
          "weatherIconUrl": [
           {
            "value": "http://cdn.worldweatheronline.net/images/wsymbols01_png_64/wsymbol_0004_black_low_cloud.png"
           }
          ],
          "winddir16Point": "S",
          "winddirDegree": "171",
          "windspeedKmph": "13",
          "windspeedMiles": "8"
         },
         {
          "DewPointC": "22",
          "DewPointF": "72",
          "FeelsLikeC": "27",
          "FeelsLikeF": "81",
          "HeatIndexC": "27",
          "HeatIndexF": "81",
          "WindChillC": "25",
          "WindChillF": "76",
          "WindGustKmph": "15",
          "WindGustMiles": "10",
          "chanceoffog": "0",
          "chanceoffrost": "0",
          "chanceofhightemp": "15",
          "chanceofovercast": "42",
          "chanceofrain": "0",
          "chanceofremdry": "88",
          "chanceofsnow": "0",
          "chanceofsunshine": "84",
          "chanceofthunder": "0",
          "chanceofwindy": "0",
          "cloudcover": "52",
          "humidity": "86",
          "precipInches": "0.0",
          "precipMM": "0.0",
          "pressure": "1015",
          "pressureInches": "30",
          "tempC": "25",
          "tempF": "76",
          "time": "200",
          "uvIndex": "0",
          "visibility": "10",
          "visibilityMiles": "6",
          "weatherCode": "116",
          "weatherDesc": [
           {
            "value": "Partly cloudy"
           }
          ],
          "weatherIconUrl": [
           {
            "value": "http://cdn.worldweatheronline.net/images/wsymbols01_png_64/wsymbol_0004_black_low_cloud.png"
           }
          ],
          "winddir16Point": "S",
          "winddirDegree": "171",
          "windspeedKmph": "10",
          "windspeedMiles": "6"
         },
         {
          "DewPointC": "22",
          "DewPointF": "72",
          "FeelsLikeC": "27",
          "FeelsLikeF": "80",
          "HeatIndexC": "27",
          "HeatIndexF": "80",
          "WindChillC": "24",
          "WindChillF": "76",
          "WindGustKmph": "12",
          "WindGustMiles": "8",
          "chanceoffog": "0",
          "chanceoffrost": "0",
          "chanceofhightemp": "15",
          "chanceofovercast": "36",
          "chanceofrain": "0",
          "chanceofremdry": "86",
          "chanceofsnow": "0",
          "chanceofsunshine": "85",
          "chanceofthunder": "0",
          "chanceofwindy": "0",
          "cloudcover": "44",
          "humidity": "87",
          "precipInches": "0.0",
          "precipMM": "0.0",
          "pressure": "1015",
          "pressureInches": "30",
          "tempC": "24",
          "tempF": "76",
          "time": "300",
          "uvIndex": "0",
          "visibility": "10",
          "visibilityMiles": "6",
          "weatherCode": "116",
          "weatherDesc": [
           {
            "value": "Partly cloudy"
           }
          ],
          "weatherIconUrl": [
           {
            "value": "http://cdn.worldweatheronline.net/images/wsymbols01_png_64/wsymbol_0004_black_low_cloud.png"
           }
          ],
          "winddir16Point": "S",
          "winddirDegree": "171",
          "windspeedKmph": "8",
          "windspeedMiles": "5"
         },
         {
          "DewPointC": "22",
          "DewPointF": "72",
          "FeelsLikeC": "27",
          "FeelsLikeF": "80",
          "HeatIndexC": "27",
          "HeatIndexF": "80",
          "WindChillC": "24",
          "WindChillF": "76",
          "WindGustKmph": "9",
          "WindGustMiles": "6",
          "chanceoffog": "0",
          "chanceoffrost": "0",
          "chanceofhightemp": "15",
          "chanceofovercast": "31",
          "chanceofrain": "0",
          "chanceofremdry": "85",
          "chanceofsnow": "0",
          "chanceofsunshine": "86",
          "chanceofthunder": "0",
          "chanceofwindy": "0",
          "cloudcover": "35",
          "humidity": "89",
          "precipInches": "0.0",
          "precipMM": "0.0",
          "pressure": "1015",
          "pressureInches": "30",
          "tempC": "24",
          "tempF": "76",
          "time": "400",
          "uvIndex": "0",
          "visibility": "10",
          "visibilityMiles": "6",
          "weatherCode": "116",
          "weatherDesc": [
           {
            "value": "Partly cloudy"
           }
          ],
          "weatherIconUrl": [
           {
            "value": "http://cdn.worldweatheronline.net/images/wsymbols01_png_64/wsymbol_0004_black_low_cloud.png"
           }
          ],
          "winddir16Point": "S",
          "winddirDegree": "171",
          "windspeedKmph": "6",
          "windspeedMiles": "4"
         },
         {
          "DewPointC": "22",
          "DewPointF": "72",
          "FeelsLikeC": "26",
          "FeelsLikeF": "79",
          "HeatIndexC": "26",
          "HeatIndexF": "79",
          "WindChillC": "24",
          "WindChillF": "75",
          "WindGustKmph": "8",
          "WindGustMiles": "5",
          "chanceoffog": "0",
          "chanceoffrost": "0",
          "chanceofhightemp": "13",
          "chanceofovercast": "36",
          "chanceofrain": "0",
          "chanceofremdry": "84",
          "chanceofsnow": "0",
          "chanceofsunshine": "85",
          "chanceofthunder": "0",
          "chanceofwindy": "0",
          "cloudcover": "40",
          "humidity": "89",
          "precipInches": "0.0",
          "precipMM": "0.0",
          "pressure": "1015",
          "pressureInches": "30",
          "tempC": "24",
          "tempF": "75",
          "time": "500",
          "uvIndex": "0",
          "visibility": "10",
          "visibilityMiles": "6",
          "weatherCode": "116",
          "weatherDesc": [
           {
            "value": "Partly cloudy"
           }
          ],
          "weatherIconUrl": [
           {
            "value": "http://cdn.worldweatheronline.net/images/wsymbols01_png_64/wsymbol_0004_black_low_cloud.png"
           }
          ],
          "winddir16Point": "SSE",
          "winddirDegree": "159",
          "windspeedKmph": "5",
          "windspeedMiles": "3"
         },
         {
          "DewPointC": "22",
          "DewPointF": "72",
          "FeelsLikeC": "26",
          "FeelsLikeF": "79",
          "HeatIndexC": "26",
          "HeatIndexF": "79",
          "WindChillC": "24",
          "WindChillF": "75",
          "WindGustKmph": "7",
          "WindGustMiles": "4",
          "chanceoffog": "0",
          "chanceoffrost": "0",
          "chanceofhightemp": "12",
          "chanceofovercast": "40",
          "chanceofrain": "0",
          "chanceofremdry": "82",
          "chanceofsnow": "0",
          "chanceofsunshine": "85",
          "chanceofthunder": "0",
          "chanceofwindy": "0",
          "cloudcover": "45",
          "humidity": "90",
          "precipInches": "0.0",
          "precipMM": "0.0",
          "pressure": "1015",
          "pressureInches": "30",
          "tempC": "24",
          "tempF": "75",
          "time": "600",
          "uvIndex": "0",
          "visibility": "10",
          "visibilityMiles": "6",
          "weatherCode": "116",
          "weatherDesc": [
           {
            "value": "Partly cloudy"
           }
          ],
          "weatherIconUrl": [
           {
            "value": "http://cdn.worldweatheronline.net/images/wsymbols01_png_64/wsymbol_0004_black_low_cloud.png"
           }
          ],
          "winddir16Point": "SSE",
          "winddirDegree": "147",
          "windspeedKmph": "5",
          "windspeedMiles": "3"
         },
         {
          "DewPointC": "22",
          "DewPointF": "72",
          "FeelsLikeC": "26",
          "FeelsLikeF": "79",
          "HeatIndexC": "26",
          "HeatIndexF": "79",
          "WindChillC": "24",
          "WindChillF": "74",
          "WindGustKmph": "6",
          "WindGustMiles": "4",
          "chanceoffog": "0",
          "chanceoffrost": "0",
          "chanceofhightemp": "10",
          "chanceofovercast": "45",
          "chanceofrain": "0",
          "chanceofremdry": "81",
          "chanceofsnow": "0",
          "chanceofsunshine": "84",
          "chanceofthunder": "0",
          "chanceofwindy": "0",
          "cloudcover": "50",
          "humidity": "91",
          "precipInches": "0.0",
          "precipMM": "0.0",
          "pressure": "1015",
          "pressureInches": "30",
          "tempC": "24",
          "tempF": "74",
          "time": "700",
          "uvIndex": "0",
          "visibility": "10",
          "visibilityMiles": "6",
          "weatherCode": "116",
          "weatherDesc": [
           {
            "value": "Partly cloudy"
           }
          ],
          "weatherIconUrl": [
           {
            "value": "http://cdn.worldweatheronline.net/images/wsymbols01_png_64/wsymbol_0004_black_low_cloud.png"
           }
          ],
          "winddir16Point": "SE",
          "winddirDegree": "135",
          "windspeedKmph": "4",
          "windspeedMiles": "2"
         },
         {
          "DewPointC": "22",
          "DewPointF": "71",
          "FeelsLikeC": "27",
          "FeelsLikeF": "81",
          "HeatIndexC": "27",
          "HeatIndexF": "81",
          "WindChillC": "25",
          "WindChillF": "77",
          "WindGustKmph": "6",
          "WindGustMiles": "4",
          "chanceoffog": "0",
          "chanceoffrost": "0",
          "chanceofhightemp": "22",
          "chanceofovercast": "40",
          "chanceofrain": "0",
          "chanceofremdry": "85",
          "chanceofsnow": "0",
          "chanceofsunshine": "84",
          "chanceofthunder": "0",
          "chanceofwindy": "0",
          "cloudcover": "38",
          "humidity": "83",
          "precipInches": "0.0",
          "precipMM": "0.0",
          "pressure": "1016",
          "pressureInches": "30",
          "tempC": "25",
          "tempF": "77",
          "time": "800",
          "uvIndex": "6",
          "visibility": "10",
          "visibilityMiles": "6",
          "weatherCode": "116",
          "weatherDesc": [
           {
            "value": "Partly cloudy"
           }
          ],
          "weatherIconUrl": [
           {
            "value": "http://cdn.worldweatheronline.net/images/wsymbols01_png_64/wsymbol_0002_sunny_intervals.png"
           }
          ],
          "winddir16Point": "ESE",
          "winddirDegree": "122",
          "windspeedKmph": "5",
          "windspeedMiles": "3"
         },
         {
          "DewPointC": "21",
          "DewPointF": "71",
          "FeelsLikeC": "28",
          "FeelsLikeF": "83",
          "HeatIndexC": "28",
          "HeatIndexF": "83",
          "WindChillC": "26",
          "WindChillF": "79",
          "WindGustKmph": "6",
          "WindGustMiles": "4",
          "chanceoffog": "0",
          "chanceoffrost": "0",
          "chanceofhightemp": "33",
          "chanceofovercast": "36",
          "chanceofrain": "0",
          "chanceofremdry": "90",
          "chanceofsnow": "0",
          "chanceofsunshine": "84",
          "chanceofthunder": "0",
          "chanceofwindy": "0",
          "cloudcover": "25",
          "humidity": "76",
          "precipInches": "0.0",
          "precipMM": "0.0",
          "pressure": "1016",
          "pressureInches": "30",
          "tempC": "26",
          "tempF": "79",
          "time": "900",
          "uvIndex": "7",
          "visibility": "10",
          "visibilityMiles": "6",
          "weatherCode": "116",
          "weatherDesc": [
           {
            "value": "Partly cloudy"
           }
          ],
          "weatherIconUrl": [
           {
            "value": "http://cdn.worldweatheronline.net/images/wsymbols01_png_64/wsymbol_0002_sunny_intervals.png"
           }
          ],
          "winddir16Point": "ESE",
          "winddirDegree": "109",
          "windspeedKmph": "5",
          "windspeedMiles": "3"
         },
         {
          "DewPointC": "21",
          "DewPointF": "70",
          "FeelsLikeC": "30",
          "FeelsLikeF": "85",
          "HeatIndexC": "30",
          "HeatIndexF": "85",
          "WindChillC": "27",
          "WindChillF": "81",
          "WindGustKmph": "6",
          "WindGustMiles": "4",
          "chanceoffog": "0",
          "chanceoffrost": "0",
          "chanceofhightemp": "45",
          "chanceofovercast": "31",
          "chanceofrain": "0",
          "chanceofremdry": "94",
          "chanceofsnow": "0",
          "chanceofsunshine": "84",
          "chanceofthunder": "0",
          "chanceofwindy": "0",
          "cloudcover": "13",
          "humidity": "68",
          "precipInches": "0.0",
          "precipMM": "0.0",
          "pressure": "1017",
          "pressureInches": "30",
          "tempC": "27",
          "tempF": "81",
          "time": "1000",
          "uvIndex": "7",
          "visibility": "10",
          "visibilityMiles": "6",
          "weatherCode": "116",
          "weatherDesc": [
           {
            "value": "Partly cloudy"
           }
          ],
          "weatherIconUrl": [
           {
            "value": "http://cdn.worldweatheronline.net/images/wsymbols01_png_64/wsymbol_0002_sunny_intervals.png"
           }
          ],
          "winddir16Point": "E",
          "winddirDegree": "96",
          "windspeedKmph": "6",
          "windspeedMiles": "4"
         },
         {
          "DewPointC": "20",
          "DewPointF": "68",
          "FeelsLikeC": "31",
          "FeelsLikeF": "88",
          "HeatIndexC": "31",
          "HeatIndexF": "88",
          "WindChillC": "29",
          "WindChillF": "84",
          "WindGustKmph": "9",
          "WindGustMiles": "5",
          "chanceoffog": "0",
          "chanceoffrost": "0",
          "chanceofhightemp": "47",
          "chanceofovercast": "33",
          "chanceofrain": "0",
          "chanceofremdry": "93",
          "chanceofsnow": "0",
          "chanceofsunshine": "85",
          "chanceofthunder": "0",
          "chanceofwindy": "0",
          "cloudcover": "12",
          "humidity": "60",
          "precipInches": "0.0",
          "precipMM": "0.0",
          "pressure": "1016",
          "pressureInches": "30",
          "tempC": "29",
          "tempF": "84",
          "time": "1100",
          "uvIndex": "7",
          "visibility": "10",
          "visibilityMiles": "6",
          "weatherCode": "116",
          "weatherDesc": [
           {
            "value": "Partly cloudy"
           }
          ],
          "weatherIconUrl": [
           {
            "value": "http://cdn.worldweatheronline.net/images/wsymbols01_png_64/wsymbol_0002_sunny_intervals.png"
           }
          ],
          "winddir16Point": "ESE",
          "winddirDegree": "102",
          "windspeedKmph": "8",
          "windspeedMiles": "5"
         },
         {
          "DewPointC": "19",
          "DewPointF": "66",
          "FeelsLikeC": "32",
          "FeelsLikeF": "90",
          "HeatIndexC": "32",
          "HeatIndexF": "90",
          "WindChillC": "31",
          "WindChillF": "87",
          "WindGustKmph": "11",
          "WindGustMiles": "7",
          "chanceoffog": "0",
          "chanceoffrost": "0",
          "chanceofhightemp": "48",
          "chanceofovercast": "34",
          "chanceofrain": "0",
          "chanceofremdry": "93",
          "chanceofsnow": "0",
          "chanceofsunshine": "86",
          "chanceofthunder": "0",
          "chanceofwindy": "0",
          "cloudcover": "12",
          "humidity": "52",
          "precipInches": "0.0",
          "precipMM": "0.0",
          "pressure": "1016",
          "pressureInches": "30",
          "tempC": "31",
          "tempF": "87",
          "time": "1200",
          "uvIndex": "8",
          "visibility": "10",
          "visibilityMiles": "6",
          "weatherCode": "116",
          "weatherDesc": [
           {
            "value": "Partly cloudy"
           }
          ],
          "weatherIconUrl": [
           {
            "value": "http://cdn.worldweatheronline.net/images/wsymbols01_png_64/wsymbol_0002_sunny_intervals.png"
           }
          ],
          "winddir16Point": "ESE",
          "winddirDegree": "108",
          "windspeedKmph": "9",
          "windspeedMiles": "6"
         },
         {
          "DewPointC": "18",
          "DewPointF": "65",
          "FeelsLikeC": "34",
          "FeelsLikeF": "92",
          "HeatIndexC": "34",
          "HeatIndexF": "92",
          "WindChillC": "32",
          "WindChillF": "90",
          "WindGustKmph": "13",
          "WindGustMiles": "8",
          "chanceoffog": "0",
          "chanceoffrost": "0",
          "chanceofhightemp": "50",
          "chanceofovercast": "36",
          "chanceofrain": "0",
          "chanceofremdry": "92",
          "chanceofsnow": "0",
          "chanceofsunshine": "87",
          "chanceofthunder": "0",
          "chanceofwindy": "0",
          "cloudcover": "11",
          "humidity": "44",
          "precipInches": "0.0",
          "precipMM": "0.0",
          "pressure": "1016",
          "pressureInches": "30",
          "tempC": "32",
          "tempF": "90",
          "time": "1300",
          "uvIndex": "8",
          "visibility": "10",
          "visibilityMiles": "6",
          "weatherCode": "116",
          "weatherDesc": [
           {
            "value": "Partly cloudy"
           }
          ],
          "weatherIconUrl": [
           {
            "value": "http://cdn.worldweatheronline.net/images/wsymbols01_png_64/wsymbol_0002_sunny_intervals.png"
           }
          ],
          "winddir16Point": "ESE",
          "winddirDegree": "115",
          "windspeedKmph": "11",
          "windspeedMiles": "7"
         },
         {
          "DewPointC": "18",
          "DewPointF": "65",
          "FeelsLikeC": "34",
          "FeelsLikeF": "94",
          "HeatIndexC": "34",
          "HeatIndexF": "94",
          "WindChillC": "33",
          "WindChillF": "91",
          "WindGustKmph": "14",
          "WindGustMiles": "9",
          "chanceoffog": "0",
          "chanceoffrost": "0",
          "chanceofhightemp": "50",
          "chanceofovercast": "39",
          "chanceofrain": "0",
          "chanceofremdry": "92",
          "chanceofsnow": "0",
          "chanceofsunshine": "88",
          "chanceofthunder": "0",
          "chanceofwindy": "0",
          "cloudcover": "25",
          "humidity": "43",
          "precipInches": "0.0",
          "precipMM": "0.0",
          "pressure": "1015",
          "pressureInches": "30",
          "tempC": "33",
          "tempF": "91",
          "time": "1400",
          "uvIndex": "8",
          "visibility": "10",
          "visibilityMiles": "6",
          "weatherCode": "116",
          "weatherDesc": [
           {
            "value": "Partly cloudy"
           }
          ],
          "weatherIconUrl": [
           {
            "value": "http://cdn.worldweatheronline.net/images/wsymbols01_png_64/wsymbol_0002_sunny_intervals.png"
           }
          ],
          "winddir16Point": "ESE",
          "winddirDegree": "110",
          "windspeedKmph": "13",
          "windspeedMiles": "8"
         },
         {
          "DewPointC": "18",
          "DewPointF": "65",
          "FeelsLikeC": "35",
          "FeelsLikeF": "95",
          "HeatIndexC": "35",
          "HeatIndexF": "95",
          "WindChillC": "33",
          "WindChillF": "92",
          "WindGustKmph": "16",
          "WindGustMiles": "10",
          "chanceoffog": "0",
          "chanceoffrost": "0",
          "chanceofhightemp": "50",
          "chanceofovercast": "43",
          "chanceofrain": "0",
          "chanceofremdry": "93",
          "chanceofsnow": "0",
          "chanceofsunshine": "88",
          "chanceofthunder": "0",
          "chanceofwindy": "0",
          "cloudcover": "38",
          "humidity": "42",
          "precipInches": "0.0",
          "precipMM": "0.0",
          "pressure": "1014",
          "pressureInches": "30",
          "tempC": "33",
          "tempF": "92",
          "time": "1500",
          "uvIndex": "8",
          "visibility": "10",
          "visibilityMiles": "6",
          "weatherCode": "116",
          "weatherDesc": [
           {
            "value": "Partly cloudy"
           }
          ],
          "weatherIconUrl": [
           {
            "value": "http://cdn.worldweatheronline.net/images/wsymbols01_png_64/wsymbol_0002_sunny_intervals.png"
           }
          ],
          "winddir16Point": "ESE",
          "winddirDegree": "106",
          "windspeedKmph": "14",
          "windspeedMiles": "9"
         },
         {
          "DewPointC": "18",
          "DewPointF": "65",
          "FeelsLikeC": "36",
          "FeelsLikeF": "96",
          "HeatIndexC": "36",
          "HeatIndexF": "96",
          "WindChillC": "34",
          "WindChillF": "92",
          "WindGustKmph": "17",
          "WindGustMiles": "11",
          "chanceoffog": "0",
          "chanceoffrost": "0",
          "chanceofhightemp": "50",
          "chanceofovercast": "46",
          "chanceofrain": "0",
          "chanceofremdry": "93",
          "chanceofsnow": "0",
          "chanceofsunshine": "89",
          "chanceofthunder": "0",
          "chanceofwindy": "0",
          "cloudcover": "52",
          "humidity": "41",
          "precipInches": "0.0",
          "precipMM": "0.0",
          "pressure": "1013",
          "pressureInches": "30",
          "tempC": "34",
          "tempF": "92",
          "time": "1600",
          "uvIndex": "8",
          "visibility": "10",
          "visibilityMiles": "6",
          "weatherCode": "116",
          "weatherDesc": [
           {
            "value": "Partly cloudy"
           }
          ],
          "weatherIconUrl": [
           {
            "value": "http://cdn.worldweatheronline.net/images/wsymbols01_png_64/wsymbol_0002_sunny_intervals.png"
           }
          ],
          "winddir16Point": "E",
          "winddirDegree": "101",
          "windspeedKmph": "15",
          "windspeedMiles": "9"
         },
         {
          "DewPointC": "19",
          "DewPointF": "66",
          "FeelsLikeC": "35",
          "FeelsLikeF": "94",
          "HeatIndexC": "35",
          "HeatIndexF": "94",
          "WindChillC": "33",
          "WindChillF": "91",
          "WindGustKmph": "18",
          "WindGustMiles": "11",
          "chanceoffog": "0",
          "chanceoffrost": "0",
          "chanceofhightemp": "50",
          "chanceofovercast": "57",
          "chanceofrain": "0",
          "chanceofremdry": "89",
          "chanceofsnow": "0",
          "chanceofsunshine": "64",
          "chanceofthunder": "0",
          "chanceofwindy": "0",
          "cloudcover": "60",
          "humidity": "44",
          "precipInches": "0.0",
          "precipMM": "0.0",
          "pressure": "1013",
          "pressureInches": "30",
          "tempC": "33",
          "tempF": "91",
          "time": "1700",
          "uvIndex": "7",
          "visibility": "10",
          "visibilityMiles": "6",
          "weatherCode": "119",
          "weatherDesc": [
           {
            "value": "Cloudy"
           }
          ],
          "weatherIconUrl": [
           {
            "value": "http://cdn.worldweatheronline.net/images/wsymbols01_png_64/wsymbol_0003_white_cloud.png"
           }
          ],
          "winddir16Point": "ESE",
          "winddirDegree": "101",
          "windspeedKmph": "15",
          "windspeedMiles": "9"
         },
         {
          "DewPointC": "19",
          "DewPointF": "67",
          "FeelsLikeC": "34",
          "FeelsLikeF": "93",
          "HeatIndexC": "34",
          "HeatIndexF": "93",
          "WindChillC": "32",
          "WindChillF": "89",
          "WindGustKmph": "19",
          "WindGustMiles": "12",
          "chanceoffog": "0",
          "chanceoffrost": "0",
          "chanceofhightemp": "50",
          "chanceofovercast": "69",
          "chanceofrain": "0",
          "chanceofremdry": "84",
          "chanceofsnow": "0",
          "chanceofsunshine": "39",
          "chanceofthunder": "0",
          "chanceofwindy": "0",
          "cloudcover": "68",
          "humidity": "48",
          "precipInches": "0.0",
          "precipMM": "0.0",
          "pressure": "1014",
          "pressureInches": "30",
          "tempC": "32",
          "tempF": "89",
          "time": "1800",
          "uvIndex": "8",
          "visibility": "10",
          "visibilityMiles": "6",
          "weatherCode": "116",
          "weatherDesc": [
           {
            "value": "Partly cloudy"
           }
          ],
          "weatherIconUrl": [
           {
            "value": "http://cdn.worldweatheronline.net/images/wsymbols01_png_64/wsymbol_0002_sunny_intervals.png"
           }
          ],
          "winddir16Point": "ESE",
          "winddirDegree": "101",
          "windspeedKmph": "15",
          "windspeedMiles": "9"
         },
         {
          "DewPointC": "20",
          "DewPointF": "67",
          "FeelsLikeC": "33",
          "FeelsLikeF": "91",
          "HeatIndexC": "33",
          "HeatIndexF": "91",
          "WindChillC": "31",
          "WindChillF": "87",
          "WindGustKmph": "21",
          "WindGustMiles": "13",
          "chanceoffog": "0",
          "chanceoffrost": "0",
          "chanceofhightemp": "50",
          "chanceofovercast": "80",
          "chanceofrain": "0",
          "chanceofremdry": "80",
          "chanceofsnow": "0",
          "chanceofsunshine": "14",
          "chanceofthunder": "0",
          "chanceofwindy": "0",
          "cloudcover": "76",
          "humidity": "52",
          "precipInches": "0.0",
          "precipMM": "0.0",
          "pressure": "1014",
          "pressureInches": "30",
          "tempC": "31",
          "tempF": "87",
          "time": "1900",
          "uvIndex": "7",
          "visibility": "10",
          "visibilityMiles": "6",
          "weatherCode": "119",
          "weatherDesc": [
           {
            "value": "Cloudy"
           }
          ],
          "weatherIconUrl": [
           {
            "value": "http://cdn.worldweatheronline.net/images/wsymbols01_png_64/wsymbol_0003_white_cloud.png"
           }
          ],
          "winddir16Point": "ESE",
          "winddirDegree": "101",
          "windspeedKmph": "14",
          "windspeedMiles": "9"
         },
         {
          "DewPointC": "20",
          "DewPointF": "68",
          "FeelsLikeC": "32",
          "FeelsLikeF": "89",
          "HeatIndexC": "32",
          "HeatIndexF": "89",
          "WindChillC": "30",
          "WindChillF": "85",
          "WindGustKmph": "21",
          "WindGustMiles": "13",
          "chanceoffog": "0",
          "chanceoffrost": "0",
          "chanceofhightemp": "49",
          "chanceofovercast": "81",
          "chanceofrain": "25",
          "chanceofremdry": "53",
          "chanceofsnow": "0",
          "chanceofsunshine": "9",
          "chanceofthunder": "0",
          "chanceofwindy": "0",
          "cloudcover": "77",
          "humidity": "55",
          "precipInches": "0.0",
          "precipMM": "0.5",
          "pressure": "1015",
          "pressureInches": "30",
          "tempC": "30",
          "tempF": "85",
          "time": "2000",
          "uvIndex": "0",
          "visibility": "10",
          "visibilityMiles": "6",
          "weatherCode": "176",
          "weatherDesc": [
           {
            "value": "Patchy rain possible"
           }
          ],
          "weatherIconUrl": [
           {
            "value": "http://cdn.worldweatheronline.net/images/wsymbols01_png_64/wsymbol_0025_light_rain_showers_night.png"
           }
          ],
          "winddir16Point": "ESE",
          "winddirDegree": "103",
          "windspeedKmph": "14",
          "windspeedMiles": "9"
         },
         {
          "DewPointC": "20",
          "DewPointF": "68",
          "FeelsLikeC": "31",
          "FeelsLikeF": "88",
          "HeatIndexC": "31",
          "HeatIndexF": "88",
          "WindChillC": "29",
          "WindChillF": "84",
          "WindGustKmph": "21",
          "WindGustMiles": "13",
          "chanceoffog": "0",
          "chanceoffrost": "0",
          "chanceofhightemp": "48",
          "chanceofovercast": "82",
          "chanceofrain": "51",
          "chanceofremdry": "27",
          "chanceofsnow": "0",
          "chanceofsunshine": "5",
          "chanceofthunder": "0",
          "chanceofwindy": "0",
          "cloudcover": "77",
          "humidity": "59",
          "precipInches": "0.0",
          "precipMM": "1.1",
          "pressure": "1015",
          "pressureInches": "30",
          "tempC": "29",
          "tempF": "84",
          "time": "2100",
          "uvIndex": "0",
          "visibility": "9",
          "visibilityMiles": "5",
          "weatherCode": "119",
          "weatherDesc": [
           {
            "value": "Cloudy"
           }
          ],
          "weatherIconUrl": [
           {
            "value": "http://cdn.worldweatheronline.net/images/wsymbols01_png_64/wsymbol_0004_black_low_cloud.png"
           }
          ],
          "winddir16Point": "ESE",
          "winddirDegree": "105",
          "windspeedKmph": "13",
          "windspeedMiles": "8"
         },
         {
          "DewPointC": "20",
          "DewPointF": "68",
          "FeelsLikeC": "30",
          "FeelsLikeF": "86",
          "HeatIndexC": "30",
          "HeatIndexF": "86",
          "WindChillC": "28",
          "WindChillF": "82",
          "WindGustKmph": "21",
          "WindGustMiles": "13",
          "chanceoffog": "0",
          "chanceoffrost": "0",
          "chanceofhightemp": "48",
          "chanceofovercast": "83",
          "chanceofrain": "76",
          "chanceofremdry": "0",
          "chanceofsnow": "0",
          "chanceofsunshine": "0",
          "chanceofthunder": "0",
          "chanceofwindy": "0",
          "cloudcover": "78",
          "humidity": "62",
          "precipInches": "0.1",
          "precipMM": "1.6",
          "pressure": "1016",
          "pressureInches": "30",
          "tempC": "28",
          "tempF": "82",
          "time": "2200",
          "uvIndex": "0",
          "visibility": "9",
          "visibilityMiles": "5",
          "weatherCode": "176",
          "weatherDesc": [
           {
            "value": "Patchy rain possible"
           }
          ],
          "weatherIconUrl": [
           {
            "value": "http://cdn.worldweatheronline.net/images/wsymbols01_png_64/wsymbol_0025_light_rain_showers_night.png"
           }
          ],
          "winddir16Point": "ESE",
          "winddirDegree": "107",
          "windspeedKmph": "13",
          "windspeedMiles": "8"
         },
         {
          "DewPointC": "20",
          "DewPointF": "68",
          "FeelsLikeC": "29",
          "FeelsLikeF": "84",
          "HeatIndexC": "29",
          "HeatIndexF": "84",
          "WindChillC": "27",
          "WindChillF": "81",
          "WindGustKmph": "19",
          "WindGustMiles": "12",
          "chanceoffog": "0",
          "chanceoffrost": "0",
          "chanceofhightemp": "42",
          "chanceofovercast": "87",
          "chanceofrain": "75",
          "chanceofremdry": "0",
          "chanceofsnow": "0",
          "chanceofsunshine": "0",
          "chanceofthunder": "0",
          "chanceofwindy": "0",
          "cloudcover": "77",
          "humidity": "65",
          "precipInches": "0.1",
          "precipMM": "1.6",
          "pressure": "1016",
          "pressureInches": "30",
          "tempC": "27",
          "tempF": "81",
          "time": "2300",
          "uvIndex": "0",
          "visibility": "9",
          "visibilityMiles": "5",
          "weatherCode": "176",
          "weatherDesc": [
           {
            "value": "Patchy rain possible"
           }
          ],
          "weatherIconUrl": [
           {
            "value": "http://cdn.worldweatheronline.net/images/wsymbols01_png_64/wsymbol_0025_light_rain_showers_night.png"
           }
          ],
          "winddir16Point": "ESE",
          "winddirDegree": "123",
          "windspeedKmph": "12",
          "windspeedMiles": "7"
         }
        ],
        "maxtempC": "34",
        "maxtempF": "92",
        "mintempC": "24",
        "mintempF": "74",
        "sunHour": "10.2",
        "totalSnow_cm": "0.0",
        "uvIndex": "7"
       },
       {
        "astronomy": [
         {
          "moon_illumination": "34",
          "moon_phase": "Waxing Crescent",
          "moonrise": "01:37 PM",
          "moonset": "No moonset",
          "sunrise": "07:26 AM",
          "sunset": "07:13 PM"
         }
        ],
        "avgtempC": "28",
        "avgtempF": "82",
        "date": "2019-10-04",
        "hourly": [
         {
          "DewPointC": "20",
          "DewPointF": "68",
          "FeelsLikeC": "28",
          "FeelsLikeF": "83",
          "HeatIndexC": "28",
          "HeatIndexF": "83",
          "WindChillC": "27",
          "WindChillF": "80",
          "WindGustKmph": "17",
          "WindGustMiles": "11",
          "chanceoffog": "0",
          "chanceoffrost": "0",
          "chanceofhightemp": "36",
          "chanceofovercast": "90",
          "chanceofrain": "74",
          "chanceofremdry": "0",
          "chanceofsnow": "0",
          "chanceofsunshine": "0",
          "chanceofthunder": "0",
          "chanceofwindy": "0",
          "cloudcover": "76",
          "humidity": "69",
          "precipInches": "0.1",
          "precipMM": "1.6",
          "pressure": "1016",
          "pressureInches": "30",
          "tempC": "27",
          "tempF": "80",
          "time": "0",
          "uvIndex": "0",
          "visibility": "9",
          "visibilityMiles": "5",
          "weatherCode": "176",
          "weatherDesc": [
           {
            "value": "Patchy rain possible"
           }
          ],
          "weatherIconUrl": [
           {
            "value": "http://cdn.worldweatheronline.net/images/wsymbols01_png_64/wsymbol_0025_light_rain_showers_night.png"
           }
          ],
          "winddir16Point": "SE",
          "winddirDegree": "138",
          "windspeedKmph": "11",
          "windspeedMiles": "7"
         },
         {
          "DewPointC": "20",
          "DewPointF": "68",
          "FeelsLikeC": "28",
          "FeelsLikeF": "82",
          "HeatIndexC": "28",
          "HeatIndexF": "82",
          "WindChillC": "26",
          "WindChillF": "78",
          "WindGustKmph": "16",
          "WindGustMiles": "10",
          "chanceoffog": "0",
          "chanceoffrost": "0",
          "chanceofhightemp": "30",
          "chanceofovercast": "94",
          "chanceofrain": "73",
          "chanceofremdry": "0",
          "chanceofsnow": "0",
          "chanceofsunshine": "0",
          "chanceofthunder": "0",
          "chanceofwindy": "0",
          "cloudcover": "75",
          "humidity": "72",
          "precipInches": "0.1",
          "precipMM": "1.6",
          "pressure": "1016",
          "pressureInches": "30",
          "tempC": "26",
          "tempF": "78",
          "time": "100",
          "uvIndex": "0",
          "visibility": "9",
          "visibilityMiles": "5",
          "weatherCode": "176",
          "weatherDesc": [
           {
            "value": "Patchy rain possible"
           }
          ],
          "weatherIconUrl": [
           {
            "value": "http://cdn.worldweatheronline.net/images/wsymbols01_png_64/wsymbol_0025_light_rain_showers_night.png"
           }
          ],
          "winddir16Point": "SSE",
          "winddirDegree": "153",
          "windspeedKmph": "10",
          "windspeedMiles": "6"
         },
         {
          "DewPointC": "20",
          "DewPointF": "68",
          "FeelsLikeC": "27",
          "FeelsLikeF": "81",
          "HeatIndexC": "27",
          "HeatIndexF": "81",
          "WindChillC": "25",
          "WindChillF": "78",
          "WindGustKmph": "14",
          "WindGustMiles": "9",
          "chanceoffog": "0",
          "chanceoffrost": "0",
          "chanceofhightemp": "25",
          "chanceofovercast": "75",
          "chanceofrain": "49",
          "chanceofremdry": "31",
          "chanceofsnow": "0",
          "chanceofsunshine": "23",
          "chanceofthunder": "0",
          "chanceofwindy": "0",
          "cloudcover": "58",
          "humidity": "71",
          "precipInches": "0.0",
          "precipMM": "1.1",
          "pressure": "1016",
          "pressureInches": "30",
          "tempC": "25",
          "tempF": "78",
          "time": "200",
          "uvIndex": "0",
          "visibility": "9",
          "visibilityMiles": "5",
          "weatherCode": "116",
          "weatherDesc": [
           {
            "value": "Partly cloudy"
           }
          ],
          "weatherIconUrl": [
           {
            "value": "http://cdn.worldweatheronline.net/images/wsymbols01_png_64/wsymbol_0004_black_low_cloud.png"
           }
          ],
          "winddir16Point": "SSE",
          "winddirDegree": "160",
          "windspeedKmph": "9",
          "windspeedMiles": "6"
         },
         {
          "DewPointC": "20",
          "DewPointF": "67",
          "FeelsLikeC": "27",
          "FeelsLikeF": "80",
          "HeatIndexC": "27",
          "HeatIndexF": "80",
          "WindChillC": "25",
          "WindChillF": "77",
          "WindGustKmph": "13",
          "WindGustMiles": "8",
          "chanceoffog": "0",
          "chanceoffrost": "0",
          "chanceofhightemp": "20",
          "chanceofovercast": "56",
          "chanceofrain": "24",
          "chanceofremdry": "63",
          "chanceofsnow": "0",
          "chanceofsunshine": "47",
          "chanceofthunder": "0",
          "chanceofwindy": "0",
          "cloudcover": "41",
          "humidity": "71",
          "precipInches": "0.0",
          "precipMM": "0.5",
          "pressure": "1016",
          "pressureInches": "30",
          "tempC": "25",
          "tempF": "77",
          "time": "300",
          "uvIndex": "0",
          "visibility": "10",
          "visibilityMiles": "6",
          "weatherCode": "176",
          "weatherDesc": [
           {
            "value": "Patchy rain possible"
           }
          ],
          "weatherIconUrl": [
           {
            "value": "http://cdn.worldweatheronline.net/images/wsymbols01_png_64/wsymbol_0025_light_rain_showers_night.png"
           }
          ],
          "winddir16Point": "SSE",
          "winddirDegree": "167",
          "windspeedKmph": "8",
          "windspeedMiles": "5"
         },
         {
          "DewPointC": "19",
          "DewPointF": "66",
          "FeelsLikeC": "27",
          "FeelsLikeF": "80",
          "HeatIndexC": "27",
          "HeatIndexF": "80",
          "WindChillC": "25",
          "WindChillF": "77",
          "WindGustKmph": "11",
          "WindGustMiles": "7",
          "chanceoffog": "0",
          "chanceoffrost": "0",
          "chanceofhightemp": "15",
          "chanceofovercast": "37",
          "chanceofrain": "0",
          "chanceofremdry": "94",
          "chanceofsnow": "0",
          "chanceofsunshine": "70",
          "chanceofthunder": "0",
          "chanceofwindy": "0",
          "cloudcover": "24",
          "humidity": "70",
          "precipInches": "0.0",
          "precipMM": "0.0",
          "pressure": "1016",
          "pressureInches": "30",
          "tempC": "25",
          "tempF": "77",
          "time": "400",
          "uvIndex": "0",
          "visibility": "10",
          "visibilityMiles": "6",
          "weatherCode": "116",
          "weatherDesc": [
           {
            "value": "Partly cloudy"
           }
          ],
          "weatherIconUrl": [
           {
            "value": "http://cdn.worldweatheronline.net/images/wsymbols01_png_64/wsymbol_0004_black_low_cloud.png"
           }
          ],
          "winddir16Point": "S",
          "winddirDegree": "173",
          "windspeedKmph": "7",
          "windspeedMiles": "4"
         },
         {
          "DewPointC": "19",
          "DewPointF": "67",
          "FeelsLikeC": "27",
          "FeelsLikeF": "80",
          "HeatIndexC": "27",
          "HeatIndexF": "80",
          "WindChillC": "25",
          "WindChillF": "77",
          "WindGustKmph": "8",
          "WindGustMiles": "5",
          "chanceoffog": "0",
          "chanceoffrost": "0",
          "chanceofhightemp": "15",
          "chanceofovercast": "37",
          "chanceofrain": "0",
          "chanceofremdry": "90",
          "chanceofsnow": "0",
          "chanceofsunshine": "71",
          "chanceofthunder": "0",
          "chanceofwindy": "0",
          "cloudcover": "22",
          "humidity": "71",
          "precipInches": "0.0",
          "precipMM": "0.0",
          "pressure": "1016",
          "pressureInches": "30",
          "tempC": "25",
          "tempF": "77",
          "time": "500",
          "uvIndex": "0",
          "visibility": "10",
          "visibilityMiles": "6",
          "weatherCode": "116",
          "weatherDesc": [
           {
            "value": "Partly cloudy"
           }
          ],
          "weatherIconUrl": [
           {
            "value": "http://cdn.worldweatheronline.net/images/wsymbols01_png_64/wsymbol_0004_black_low_cloud.png"
           }
          ],
          "winddir16Point": "S",
          "winddirDegree": "187",
          "windspeedKmph": "5",
          "windspeedMiles": "3"
         },
         {
          "DewPointC": "20",
          "DewPointF": "67",
          "FeelsLikeC": "26",
          "FeelsLikeF": "80",
          "HeatIndexC": "26",
          "HeatIndexF": "80",
          "WindChillC": "25",
          "WindChillF": "77",
          "WindGustKmph": "5",
          "WindGustMiles": "3",
          "chanceoffog": "0",
          "chanceoffrost": "0",
          "chanceofhightemp": "15",
          "chanceofovercast": "37",
          "chanceofrain": "0",
          "chanceofremdry": "87",
          "chanceofsnow": "0",
          "chanceofsunshine": "73",
          "chanceofthunder": "0",
          "chanceofwindy": "0",
          "cloudcover": "20",
          "humidity": "73",
          "precipInches": "0.0",
          "precipMM": "0.0",
          "pressure": "1017",
          "pressureInches": "30",
          "tempC": "25",
          "tempF": "77",
          "time": "600",
          "uvIndex": "0",
          "visibility": "10",
          "visibilityMiles": "6",
          "weatherCode": "116",
          "weatherDesc": [
           {
            "value": "Partly cloudy"
           }
          ],
          "weatherIconUrl": [
           {
            "value": "http://cdn.worldweatheronline.net/images/wsymbols01_png_64/wsymbol_0004_black_low_cloud.png"
           }
          ],
          "winddir16Point": "SSW",
          "winddirDegree": "200",
          "windspeedKmph": "4",
          "windspeedMiles": "2"
         },
         {
          "DewPointC": "20",
          "DewPointF": "67",
          "FeelsLikeC": "26",
          "FeelsLikeF": "80",
          "HeatIndexC": "26",
          "HeatIndexF": "80",
          "WindChillC": "25",
          "WindChillF": "76",
          "WindGustKmph": "3",
          "WindGustMiles": "2",
          "chanceoffog": "0",
          "chanceoffrost": "0",
          "chanceofhightemp": "15",
          "chanceofovercast": "37",
          "chanceofrain": "0",
          "chanceofremdry": "83",
          "chanceofsnow": "0",
          "chanceofsunshine": "74",
          "chanceofthunder": "0",
          "chanceofwindy": "0",
          "cloudcover": "17",
          "humidity": "74",
          "precipInches": "0.0",
          "precipMM": "0.0",
          "pressure": "1017",
          "pressureInches": "31",
          "tempC": "25",
          "tempF": "76",
          "time": "700",
          "uvIndex": "0",
          "visibility": "10",
          "visibilityMiles": "6",
          "weatherCode": "116",
          "weatherDesc": [
           {
            "value": "Partly cloudy"
           }
          ],
          "weatherIconUrl": [
           {
            "value": "http://cdn.worldweatheronline.net/images/wsymbols01_png_64/wsymbol_0004_black_low_cloud.png"
           }
          ],
          "winddir16Point": "SSW",
          "winddirDegree": "214",
          "windspeedKmph": "2",
          "windspeedMiles": "1"
         },
         {
          "DewPointC": "20",
          "DewPointF": "67",
          "FeelsLikeC": "28",
          "FeelsLikeF": "82",
          "HeatIndexC": "28",
          "HeatIndexF": "82",
          "WindChillC": "26",
          "WindChillF": "78",
          "WindGustKmph": "4",
          "WindGustMiles": "2",
          "chanceoffog": "0",
          "chanceoffrost": "0",
          "chanceofhightemp": "26",
          "chanceofovercast": "39",
          "chanceofrain": "0",
          "chanceofremdry": "82",
          "chanceofsnow": "0",
          "chanceofsunshine": "73",
          "chanceofthunder": "0",
          "chanceofwindy": "0",
          "cloudcover": "19",
          "humidity": "69",
          "precipInches": "0.0",
          "precipMM": "0.0",
          "pressure": "1017",
          "pressureInches": "31",
          "tempC": "26",
          "tempF": "78",
          "time": "800",
          "uvIndex": "7",
          "visibility": "10",
          "visibilityMiles": "6",
          "weatherCode": "116",
          "weatherDesc": [
           {
            "value": "Partly cloudy"
           }
          ],
          "weatherIconUrl": [
           {
            "value": "http://cdn.worldweatheronline.net/images/wsymbols01_png_64/wsymbol_0002_sunny_intervals.png"
           }
          ],
          "winddir16Point": "SSE",
          "winddirDegree": "162",
          "windspeedKmph": "3",
          "windspeedMiles": "2"
         },
         {
          "DewPointC": "20",
          "DewPointF": "67",
          "FeelsLikeC": "29",
          "FeelsLikeF": "84",
          "HeatIndexC": "29",
          "HeatIndexF": "84",
          "WindChillC": "27",
          "WindChillF": "81",
          "WindGustKmph": "5",
          "WindGustMiles": "3",
          "chanceoffog": "0",
          "chanceoffrost": "0",
          "chanceofhightemp": "37",
          "chanceofovercast": "40",
          "chanceofrain": "0",
          "chanceofremdry": "82",
          "chanceofsnow": "0",
          "chanceofsunshine": "71",
          "chanceofthunder": "0",
          "chanceofwindy": "0",
          "cloudcover": "21",
          "humidity": "64",
          "precipInches": "0.0",
          "precipMM": "0.0",
          "pressure": "1017",
          "pressureInches": "31",
          "tempC": "27",
          "tempF": "81",
          "time": "900",
          "uvIndex": "7",
          "visibility": "10",
          "visibilityMiles": "6",
          "weatherCode": "116",
          "weatherDesc": [
           {
            "value": "Partly cloudy"
           }
          ],
          "weatherIconUrl": [
           {
            "value": "http://cdn.worldweatheronline.net/images/wsymbols01_png_64/wsymbol_0002_sunny_intervals.png"
           }
          ],
          "winddir16Point": "ESE",
          "winddirDegree": "110",
          "windspeedKmph": "4",
          "windspeedMiles": "2"
         },
         {
          "DewPointC": "19",
          "DewPointF": "67",
          "FeelsLikeC": "30",
          "FeelsLikeF": "86",
          "HeatIndexC": "30",
          "HeatIndexF": "86",
          "WindChillC": "28",
          "WindChillF": "83",
          "WindGustKmph": "6",
          "WindGustMiles": "4",
          "chanceoffog": "0",
          "chanceoffrost": "0",
          "chanceofhightemp": "48",
          "chanceofovercast": "42",
          "chanceofrain": "0",
          "chanceofremdry": "81",
          "chanceofsnow": "0",
          "chanceofsunshine": "70",
          "chanceofthunder": "0",
          "chanceofwindy": "0",
          "cloudcover": "23",
          "humidity": "59",
          "precipInches": "0.0",
          "precipMM": "0.0",
          "pressure": "1018",
          "pressureInches": "31",
          "tempC": "28",
          "tempF": "83",
          "time": "1000",
          "uvIndex": "7",
          "visibility": "10",
          "visibilityMiles": "6",
          "weatherCode": "116",
          "weatherDesc": [
           {
            "value": "Partly cloudy"
           }
          ],
          "weatherIconUrl": [
           {
            "value": "http://cdn.worldweatheronline.net/images/wsymbols01_png_64/wsymbol_0002_sunny_intervals.png"
           }
          ],
          "winddir16Point": "ENE",
          "winddirDegree": "58",
          "windspeedKmph": "5",
          "windspeedMiles": "3"
         },
         {
          "DewPointC": "19",
          "DewPointF": "66",
          "FeelsLikeC": "31",
          "FeelsLikeF": "88",
          "HeatIndexC": "31",
          "HeatIndexF": "88",
          "WindChillC": "29",
          "WindChillF": "85",
          "WindGustKmph": "6",
          "WindGustMiles": "4",
          "chanceoffog": "0",
          "chanceoffrost": "0",
          "chanceofhightemp": "48",
          "chanceofovercast": "55",
          "chanceofrain": "0",
          "chanceofremdry": "83",
          "chanceofsnow": "0",
          "chanceofsunshine": "51",
          "chanceofthunder": "0",
          "chanceofwindy": "0",
          "cloudcover": "37",
          "humidity": "55",
          "precipInches": "0.0",
          "precipMM": "0.0",
          "pressure": "1017",
          "pressureInches": "31",
          "tempC": "29",
          "tempF": "85",
          "time": "1100",
          "uvIndex": "6",
          "visibility": "10",
          "visibilityMiles": "6",
          "weatherCode": "119",
          "weatherDesc": [
           {
            "value": "Cloudy"
           }
          ],
          "weatherIconUrl": [
           {
            "value": "http://cdn.worldweatheronline.net/images/wsymbols01_png_64/wsymbol_0003_white_cloud.png"
           }
          ],
          "winddir16Point": "ENE",
          "winddirDegree": "73",
          "windspeedKmph": "6",
          "windspeedMiles": "4"
         },
         {
          "DewPointC": "19",
          "DewPointF": "66",
          "FeelsLikeC": "32",
          "FeelsLikeF": "90",
          "HeatIndexC": "32",
          "HeatIndexF": "90",
          "WindChillC": "31",
          "WindChillF": "87",
          "WindGustKmph": "7",
          "WindGustMiles": "4",
          "chanceoffog": "0",
          "chanceoffrost": "0",
          "chanceofhightemp": "49",
          "chanceofovercast": "68",
          "chanceofrain": "0",
          "chanceofremdry": "85",
          "chanceofsnow": "0",
          "chanceofsunshine": "33",
          "chanceofthunder": "0",
          "chanceofwindy": "0",
          "cloudcover": "52",
          "humidity": "50",
          "precipInches": "0.0",
          "precipMM": "0.0",
          "pressure": "1017",
          "pressureInches": "31",
          "tempC": "31",
          "tempF": "87",
          "time": "1200",
          "uvIndex": "8",
          "visibility": "10",
          "visibilityMiles": "6",
          "weatherCode": "116",
          "weatherDesc": [
           {
            "value": "Partly cloudy"
           }
          ],
          "weatherIconUrl": [
           {
            "value": "http://cdn.worldweatheronline.net/images/wsymbols01_png_64/wsymbol_0002_sunny_intervals.png"
           }
          ],
          "winddir16Point": "E",
          "winddirDegree": "88",
          "windspeedKmph": "6",
          "windspeedMiles": "4"
         },
         {
          "DewPointC": "19",
          "DewPointF": "65",
          "FeelsLikeC": "34",
          "FeelsLikeF": "92",
          "HeatIndexC": "34",
          "HeatIndexF": "92",
          "WindChillC": "32",
          "WindChillF": "89",
          "WindGustKmph": "8",
          "WindGustMiles": "5",
          "chanceoffog": "0",
          "chanceoffrost": "0",
          "chanceofhightemp": "50",
          "chanceofovercast": "81",
          "chanceofrain": "0",
          "chanceofremdry": "87",
          "chanceofsnow": "0",
          "chanceofsunshine": "14",
          "chanceofthunder": "0",
          "chanceofwindy": "0",
          "cloudcover": "67",
          "humidity": "46",
          "precipInches": "0.0",
          "precipMM": "0.0",
          "pressure": "1017",
          "pressureInches": "30",
          "tempC": "32",
          "tempF": "89",
          "time": "1300",
          "uvIndex": "7",
          "visibility": "10",
          "visibilityMiles": "6",
          "weatherCode": "119",
          "weatherDesc": [
           {
            "value": "Cloudy"
           }
          ],
          "weatherIconUrl": [
           {
            "value": "http://cdn.worldweatheronline.net/images/wsymbols01_png_64/wsymbol_0003_white_cloud.png"
           }
          ],
          "winddir16Point": "ESE",
          "winddirDegree": "103",
          "windspeedKmph": "7",
          "windspeedMiles": "4"
         },
         {
          "DewPointC": "18",
          "DewPointF": "65",
          "FeelsLikeC": "34",
          "FeelsLikeF": "92",
          "HeatIndexC": "34",
          "HeatIndexF": "92",
          "WindChillC": "32",
          "WindChillF": "89",
          "WindGustKmph": "8",
          "WindGustMiles": "5",
          "chanceoffog": "0",
          "chanceoffrost": "0",
          "chanceofhightemp": "50",
          "chanceofovercast": "83",
          "chanceofrain": "0",
          "chanceofremdry": "85",
          "chanceofsnow": "0",
          "chanceofsunshine": "14",
          "chanceofthunder": "0",
          "chanceofwindy": "0",
          "cloudcover": "78",
          "humidity": "45",
          "precipInches": "0.0",
          "precipMM": "0.0",
          "pressure": "1016",
          "pressureInches": "30",
          "tempC": "32",
          "tempF": "89",
          "time": "1400",
          "uvIndex": "7",
          "visibility": "10",
          "visibilityMiles": "6",
          "weatherCode": "122",
          "weatherDesc": [
           {
            "value": "Overcast"
           }
          ],
          "weatherIconUrl": [
           {
            "value": "http://cdn.worldweatheronline.net/images/wsymbols01_png_64/wsymbol_0004_black_low_cloud.png"
           }
          ],
          "winddir16Point": "ESE",
          "winddirDegree": "114",
          "windspeedKmph": "7",
          "windspeedMiles": "4"
         },
         {
          "DewPointC": "18",
          "DewPointF": "65",
          "FeelsLikeC": "34",
          "FeelsLikeF": "92",
          "HeatIndexC": "34",
          "HeatIndexF": "92",
          "WindChillC": "32",
          "WindChillF": "89",
          "WindGustKmph": "9",
          "WindGustMiles": "5",
          "chanceoffog": "0",
          "chanceoffrost": "0",
          "chanceofhightemp": "50",
          "chanceofovercast": "85",
          "chanceofrain": "0",
          "chanceofremdry": "82",
          "chanceofsnow": "0",
          "chanceofsunshine": "13",
          "chanceofthunder": "0",
          "chanceofwindy": "0",
          "cloudcover": "89",
          "humidity": "45",
          "precipInches": "0.0",
          "precipMM": "0.0",
          "pressure": "1015",
          "pressureInches": "30",
          "tempC": "32",
          "tempF": "89",
          "time": "1500",
          "uvIndex": "7",
          "visibility": "10",
          "visibilityMiles": "6",
          "weatherCode": "119",
          "weatherDesc": [
           {
            "value": "Cloudy"
           }
          ],
          "weatherIconUrl": [
           {
            "value": "http://cdn.worldweatheronline.net/images/wsymbols01_png_64/wsymbol_0003_white_cloud.png"
           }
          ],
          "winddir16Point": "SE",
          "winddirDegree": "125",
          "windspeedKmph": "8",
          "windspeedMiles": "5"
         },
         {
          "DewPointC": "18",
          "DewPointF": "65",
          "FeelsLikeC": "33",
          "FeelsLikeF": "92",
          "HeatIndexC": "33",
          "HeatIndexF": "92",
          "WindChillC": "32",
          "WindChillF": "89",
          "WindGustKmph": "9",
          "WindGustMiles": "6",
          "chanceoffog": "0",
          "chanceoffrost": "0",
          "chanceofhightemp": "50",
          "chanceofovercast": "87",
          "chanceofrain": "0",
          "chanceofremdry": "80",
          "chanceofsnow": "0",
          "chanceofsunshine": "13",
          "chanceofthunder": "0",
          "chanceofwindy": "0",
          "cloudcover": "100",
          "humidity": "44",
          "precipInches": "0.0",
          "precipMM": "0.0",
          "pressure": "1014",
          "pressureInches": "30",
          "tempC": "32",
          "tempF": "89",
          "time": "1600",
          "uvIndex": "7",
          "visibility": "10",
          "visibilityMiles": "6",
          "weatherCode": "122",
          "weatherDesc": [
           {
            "value": "Overcast"
           }
          ],
          "weatherIconUrl": [
           {
            "value": "http://cdn.worldweatheronline.net/images/wsymbols01_png_64/wsymbol_0004_black_low_cloud.png"
           }
          ],
          "winddir16Point": "SE",
          "winddirDegree": "136",
          "windspeedKmph": "8",
          "windspeedMiles": "5"
         },
         {
          "DewPointC": "18",
          "DewPointF": "65",
          "FeelsLikeC": "33",
          "FeelsLikeF": "91",
          "HeatIndexC": "33",
          "HeatIndexF": "91",
          "WindChillC": "31",
          "WindChillF": "88",
          "WindGustKmph": "12",
          "WindGustMiles": "8",
          "chanceoffog": "0",
          "chanceoffrost": "0",
          "chanceofhightemp": "50",
          "chanceofovercast": "73",
          "chanceofrain": "0",
          "chanceofremdry": "85",
          "chanceofsnow": "0",
          "chanceofsunshine": "34",
          "chanceofthunder": "0",
          "chanceofwindy": "0",
          "cloudcover": "85",
          "humidity": "47",
          "precipInches": "0.0",
          "precipMM": "0.0",
          "pressure": "1014",
          "pressureInches": "30",
          "tempC": "31",
          "tempF": "88",
          "time": "1700",
          "uvIndex": "8",
          "visibility": "10",
          "visibilityMiles": "6",
          "weatherCode": "116",
          "weatherDesc": [
           {
            "value": "Partly cloudy"
           }
          ],
          "weatherIconUrl": [
           {
            "value": "http://cdn.worldweatheronline.net/images/wsymbols01_png_64/wsymbol_0002_sunny_intervals.png"
           }
          ],
          "winddir16Point": "SE",
          "winddirDegree": "136",
          "windspeedKmph": "10",
          "windspeedMiles": "6"
         },
         {
          "DewPointC": "19",
          "DewPointF": "65",
          "FeelsLikeC": "32",
          "FeelsLikeF": "90",
          "HeatIndexC": "32",
          "HeatIndexF": "90",
          "WindChillC": "31",
          "WindChillF": "87",
          "WindGustKmph": "15",
          "WindGustMiles": "9",
          "chanceoffog": "0",
          "chanceoffrost": "0",
          "chanceofhightemp": "50",
          "chanceofovercast": "58",
          "chanceofrain": "0",
          "chanceofremdry": "89",
          "chanceofsnow": "0",
          "chanceofsunshine": "55",
          "chanceofthunder": "0",
          "chanceofwindy": "0",
          "cloudcover": "70",
          "humidity": "49",
          "precipInches": "0.0",
          "precipMM": "0.0",
          "pressure": "1014",
          "pressureInches": "30",
          "tempC": "31",
          "tempF": "87",
          "time": "1800",
          "uvIndex": "7",
          "visibility": "10",
          "visibilityMiles": "6",
          "weatherCode": "122",
          "weatherDesc": [
           {
            "value": "Overcast"
           }
          ],
          "weatherIconUrl": [
           {
            "value": "http://cdn.worldweatheronline.net/images/wsymbols01_png_64/wsymbol_0004_black_low_cloud.png"
           }
          ],
          "winddir16Point": "SE",
          "winddirDegree": "136",
          "windspeedKmph": "11",
          "windspeedMiles": "7"
         },
         {
          "DewPointC": "19",
          "DewPointF": "66",
          "FeelsLikeC": "32",
          "FeelsLikeF": "89",
          "HeatIndexC": "32",
          "HeatIndexF": "89",
          "WindChillC": "30",
          "WindChillF": "86",
          "WindGustKmph": "18",
          "WindGustMiles": "11",
          "chanceoffog": "0",
          "chanceoffrost": "0",
          "chanceofhightemp": "50",
          "chanceofovercast": "44",
          "chanceofrain": "0",
          "chanceofremdry": "94",
          "chanceofsnow": "0",
          "chanceofsunshine": "76",
          "chanceofthunder": "0",
          "chanceofwindy": "0",
          "cloudcover": "54",
          "humidity": "52",
          "precipInches": "0.0",
          "precipMM": "0.0",
          "pressure": "1014",
          "pressureInches": "30",
          "tempC": "30",
          "tempF": "86",
          "time": "1900",
          "uvIndex": "7",
          "visibility": "10",
          "visibilityMiles": "6",
          "weatherCode": "116",
          "weatherDesc": [
           {
            "value": "Partly cloudy"
           }
          ],
          "weatherIconUrl": [
           {
            "value": "http://cdn.worldweatheronline.net/images/wsymbols01_png_64/wsymbol_0002_sunny_intervals.png"
           }
          ],
          "winddir16Point": "SE",
          "winddirDegree": "136",
          "windspeedKmph": "13",
          "windspeedMiles": "8"
         },
         {
          "DewPointC": "19",
          "DewPointF": "67",
          "FeelsLikeC": "31",
          "FeelsLikeF": "87",
          "HeatIndexC": "31",
          "HeatIndexF": "87",
          "WindChillC": "29",
          "WindChillF": "84",
          "WindGustKmph": "19",
          "WindGustMiles": "12",
          "chanceoffog": "0",
          "chanceoffrost": "0",
          "chanceofhightemp": "48",
          "chanceofovercast": "60",
          "chanceofrain": "22",
          "chanceofremdry": "63",
          "chanceofsnow": "0",
          "chanceofsunshine": "51",
          "chanceofthunder": "0",
          "chanceofwindy": "0",
          "cloudcover": "53",
          "humidity": "56",
          "precipInches": "0.0",
          "precipMM": "0.0",
          "pressure": "1015",
          "pressureInches": "30",
          "tempC": "29",
          "tempF": "84",
          "time": "2000",
          "uvIndex": "0",
          "visibility": "10",
          "visibilityMiles": "6",
          "weatherCode": "176",
          "weatherDesc": [
           {
            "value": "Patchy rain possible"
           }
          ],
          "weatherIconUrl": [
           {
            "value": "http://cdn.worldweatheronline.net/images/wsymbols01_png_64/wsymbol_0025_light_rain_showers_night.png"
           }
          ],
          "winddir16Point": "SE",
          "winddirDegree": "131",
          "windspeedKmph": "13",
          "windspeedMiles": "8"
         },
         {
          "DewPointC": "20",
          "DewPointF": "67",
          "FeelsLikeC": "30",
          "FeelsLikeF": "86",
          "HeatIndexC": "30",
          "HeatIndexF": "86",
          "WindChillC": "28",
          "WindChillF": "83",
          "WindGustKmph": "21",
          "WindGustMiles": "13",
          "chanceoffog": "0",
          "chanceoffrost": "0",
          "chanceofhightemp": "47",
          "chanceofovercast": "77",
          "chanceofrain": "45",
          "chanceofremdry": "31",
          "chanceofsnow": "0",
          "chanceofsunshine": "25",
          "chanceofthunder": "0",
          "chanceofwindy": "0",
          "cloudcover": "52",
          "humidity": "60",
          "precipInches": "0.0",
          "precipMM": "0.1",
          "pressure": "1015",
          "pressureInches": "30",
          "tempC": "28",
          "tempF": "83",
          "time": "2100",
          "uvIndex": "0",
          "visibility": "10",
          "visibilityMiles": "6",
          "weatherCode": "116",
          "weatherDesc": [
           {
            "value": "Partly cloudy"
           }
          ],
          "weatherIconUrl": [
           {
            "value": "http://cdn.worldweatheronline.net/images/wsymbols01_png_64/wsymbol_0004_black_low_cloud.png"
           }
          ],
          "winddir16Point": "SE",
          "winddirDegree": "125",
          "windspeedKmph": "13",
          "windspeedMiles": "8"
         },
         {
          "DewPointC": "20",
          "DewPointF": "68",
          "FeelsLikeC": "29",
          "FeelsLikeF": "84",
          "HeatIndexC": "29",
          "HeatIndexF": "84",
          "WindChillC": "27",
          "WindChillF": "81",
          "WindGustKmph": "22",
          "WindGustMiles": "14",
          "chanceoffog": "0",
          "chanceoffrost": "0",
          "chanceofhightemp": "45",
          "chanceofovercast": "93",
          "chanceofrain": "67",
          "chanceofremdry": "0",
          "chanceofsnow": "0",
          "chanceofsunshine": "0",
          "chanceofthunder": "0",
          "chanceofwindy": "0",
          "cloudcover": "50",
          "humidity": "64",
          "precipInches": "0.0",
          "precipMM": "0.1",
          "pressure": "1016",
          "pressureInches": "30",
          "tempC": "27",
          "tempF": "81",
          "time": "2200",
          "uvIndex": "0",
          "visibility": "10",
          "visibilityMiles": "6",
          "weatherCode": "176",
          "weatherDesc": [
           {
            "value": "Patchy rain possible"
           }
          ],
          "weatherIconUrl": [
           {
            "value": "http://cdn.worldweatheronline.net/images/wsymbols01_png_64/wsymbol_0025_light_rain_showers_night.png"
           }
          ],
          "winddir16Point": "ESE",
          "winddirDegree": "119",
          "windspeedKmph": "14",
          "windspeedMiles": "9"
         },
         {
          "DewPointC": "20",
          "DewPointF": "68",
          "FeelsLikeC": "28",
          "FeelsLikeF": "83",
          "HeatIndexC": "28",
          "HeatIndexF": "83",
          "WindChillC": "27",
          "WindChillF": "80",
          "WindGustKmph": "21",
          "WindGustMiles": "13",
          "chanceoffog": "0",
          "chanceoffrost": "0",
          "chanceofhightemp": "40",
          "chanceofovercast": "89",
          "chanceofrain": "70",
          "chanceofremdry": "0",
          "chanceofsnow": "0",
          "chanceofsunshine": "0",
          "chanceofthunder": "0",
          "chanceofwindy": "0",
          "cloudcover": "59",
          "humidity": "67",
          "precipInches": "0.0",
          "precipMM": "0.1",
          "pressure": "1016",
          "pressureInches": "30",
          "tempC": "27",
          "tempF": "80",
          "time": "2300",
          "uvIndex": "0",
          "visibility": "10",
          "visibilityMiles": "6",
          "weatherCode": "176",
          "weatherDesc": [
           {
            "value": "Patchy rain possible"
           }
          ],
          "weatherIconUrl": [
           {
            "value": "http://cdn.worldweatheronline.net/images/wsymbols01_png_64/wsymbol_0025_light_rain_showers_night.png"
           }
          ],
          "winddir16Point": "SE",
          "winddirDegree": "136",
          "windspeedKmph": "13",
          "windspeedMiles": "8"
         }
        ],
        "maxtempC": "32",
        "maxtempF": "89",
        "mintempC": "25",
        "mintempF": "76",
        "sunHour": "8.8",
        "totalSnow_cm": "0.0",
        "uvIndex": "6"
       },
       {
        "astronomy": [
         {
          "moon_illumination": "41",
          "moon_phase": "First Quarter",
          "moonrise": "02:30 PM",
          "moonset": "12:05 AM",
          "sunrise": "07:27 AM",
          "sunset": "07:12 PM"
         }
        ],
        "avgtempC": "27",
        "avgtempF": "81",
        "date": "2019-10-05",
        "hourly": [
         {
          "DewPointC": "20",
          "DewPointF": "68",
          "FeelsLikeC": "28",
          "FeelsLikeF": "82",
          "HeatIndexC": "28",
          "HeatIndexF": "82",
          "WindChillC": "26",
          "WindChillF": "78",
          "WindGustKmph": "19",
          "WindGustMiles": "12",
          "chanceoffog": "0",
          "chanceoffrost": "0",
          "chanceofhightemp": "35",
          "chanceofovercast": "84",
          "chanceofrain": "74",
          "chanceofremdry": "0",
          "chanceofsnow": "0",
          "chanceofsunshine": "0",
          "chanceofthunder": "0",
          "chanceofwindy": "0",
          "cloudcover": "68",
          "humidity": "70",
          "precipInches": "0.0",
          "precipMM": "0.1",
          "pressure": "1016",
          "pressureInches": "30",
          "tempC": "26",
          "tempF": "78",
          "time": "0",
          "uvIndex": "0",
          "visibility": "10",
          "visibilityMiles": "6",
          "weatherCode": "176",
          "weatherDesc": [
           {
            "value": "Patchy rain possible"
           }
          ],
          "weatherIconUrl": [
           {
            "value": "http://cdn.worldweatheronline.net/images/wsymbols01_png_64/wsymbol_0025_light_rain_showers_night.png"
           }
          ],
          "winddir16Point": "SSE",
          "winddirDegree": "153",
          "windspeedKmph": "12",
          "windspeedMiles": "8"
         },
         {
          "DewPointC": "20",
          "DewPointF": "68",
          "FeelsLikeC": "27",
          "FeelsLikeF": "80",
          "HeatIndexC": "27",
          "HeatIndexF": "80",
          "WindChillC": "25",
          "WindChillF": "77",
          "WindGustKmph": "18",
          "WindGustMiles": "11",
          "chanceoffog": "0",
          "chanceoffrost": "0",
          "chanceofhightemp": "30",
          "chanceofovercast": "80",
          "chanceofrain": "77",
          "chanceofremdry": "0",
          "chanceofsnow": "0",
          "chanceofsunshine": "0",
          "chanceofthunder": "0",
          "chanceofwindy": "0",
          "cloudcover": "76",
          "humidity": "74",
          "precipInches": "0.0",
          "precipMM": "0.1",
          "pressure": "1016",
          "pressureInches": "30",
          "tempC": "25",
          "tempF": "77",
          "time": "100",
          "uvIndex": "0",
          "visibility": "10",
          "visibilityMiles": "6",
          "weatherCode": "176",
          "weatherDesc": [
           {
            "value": "Patchy rain possible"
           }
          ],
          "weatherIconUrl": [
           {
            "value": "http://cdn.worldweatheronline.net/images/wsymbols01_png_64/wsymbol_0025_light_rain_showers_night.png"
           }
          ],
          "winddir16Point": "S",
          "winddirDegree": "170",
          "windspeedKmph": "12",
          "windspeedMiles": "7"
         },
         {
          "DewPointC": "20",
          "DewPointF": "68",
          "FeelsLikeC": "27",
          "FeelsLikeF": "80",
          "HeatIndexC": "27",
          "HeatIndexF": "80",
          "WindChillC": "25",
          "WindChillF": "77",
          "WindGustKmph": "17",
          "WindGustMiles": "11",
          "chanceoffog": "0",
          "chanceoffrost": "0",
          "chanceofhightemp": "25",
          "chanceofovercast": "64",
          "chanceofrain": "51",
          "chanceofremdry": "28",
          "chanceofsnow": "0",
          "chanceofsunshine": "29",
          "chanceofthunder": "0",
          "chanceofwindy": "0",
          "cloudcover": "58",
          "humidity": "75",
          "precipInches": "0.0",
          "precipMM": "0.1",
          "pressure": "1016",
          "pressureInches": "30",
          "tempC": "25",
          "tempF": "77",
          "time": "200",
          "uvIndex": "0",
          "visibility": "10",
          "visibilityMiles": "6",
          "weatherCode": "116",
          "weatherDesc": [
           {
            "value": "Partly cloudy"
           }
          ],
          "weatherIconUrl": [
           {
            "value": "http://cdn.worldweatheronline.net/images/wsymbols01_png_64/wsymbol_0004_black_low_cloud.png"
           }
          ],
          "winddir16Point": "S",
          "winddirDegree": "179",
          "windspeedKmph": "11",
          "windspeedMiles": "7"
         },
         {
          "DewPointC": "20",
          "DewPointF": "68",
          "FeelsLikeC": "26",
          "FeelsLikeF": "79",
          "HeatIndexC": "26",
          "HeatIndexF": "79",
          "WindChillC": "24",
          "WindChillF": "76",
          "WindGustKmph": "17",
          "WindGustMiles": "10",
          "chanceoffog": "0",
          "chanceoffrost": "0",
          "chanceofhightemp": "20",
          "chanceofovercast": "48",
          "chanceofrain": "26",
          "chanceofremdry": "56",
          "chanceofsnow": "0",
          "chanceofsunshine": "58",
          "chanceofthunder": "0",
          "chanceofwindy": "0",
          "cloudcover": "41",
          "humidity": "76",
          "precipInches": "0.0",
          "precipMM": "0.0",
          "pressure": "1016",
          "pressureInches": "30",
          "tempC": "24",
          "tempF": "76",
          "time": "300",
          "uvIndex": "0",
          "visibility": "10",
          "visibilityMiles": "6",
          "weatherCode": "176",
          "weatherDesc": [
           {
            "value": "Patchy rain possible"
           }
          ],
          "weatherIconUrl": [
           {
            "value": "http://cdn.worldweatheronline.net/images/wsymbols01_png_64/wsymbol_0025_light_rain_showers_night.png"
           }
          ],
          "winddir16Point": "S",
          "winddirDegree": "188",
          "windspeedKmph": "10",
          "windspeedMiles": "6"
         },
         {
          "DewPointC": "20",
          "DewPointF": "67",
          "FeelsLikeC": "26",
          "FeelsLikeF": "79",
          "HeatIndexC": "26",
          "HeatIndexF": "79",
          "WindChillC": "24",
          "WindChillF": "75",
          "WindGustKmph": "16",
          "WindGustMiles": "10",
          "chanceoffog": "0",
          "chanceoffrost": "0",
          "chanceofhightemp": "15",
          "chanceofovercast": "32",
          "chanceofrain": "0",
          "chanceofremdry": "84",
          "chanceofsnow": "0",
          "chanceofsunshine": "87",
          "chanceofthunder": "0",
          "chanceofwindy": "0",
          "cloudcover": "23",
          "humidity": "77",
          "precipInches": "0.0",
          "precipMM": "0.0",
          "pressure": "1016",
          "pressureInches": "30",
          "tempC": "24",
          "tempF": "75",
          "time": "400",
          "uvIndex": "0",
          "visibility": "10",
          "visibilityMiles": "6",
          "weatherCode": "116",
          "weatherDesc": [
           {
            "value": "Partly cloudy"
           }
          ],
          "weatherIconUrl": [
           {
            "value": "http://cdn.worldweatheronline.net/images/wsymbols01_png_64/wsymbol_0004_black_low_cloud.png"
           }
          ],
          "winddir16Point": "SSW",
          "winddirDegree": "198",
          "windspeedKmph": "10",
          "windspeedMiles": "6"
         },
         {
          "DewPointC": "20",
          "DewPointF": "68",
          "FeelsLikeC": "26",
          "FeelsLikeF": "78",
          "HeatIndexC": "26",
          "HeatIndexF": "78",
          "WindChillC": "24",
          "WindChillF": "75",
          "WindGustKmph": "14",
          "WindGustMiles": "9",
          "chanceoffog": "0",
          "chanceoffrost": "0",
          "chanceofhightemp": "13",
          "chanceofovercast": "34",
          "chanceofrain": "0",
          "chanceofremdry": "87",
          "chanceofsnow": "0",
          "chanceofsunshine": "84",
          "chanceofthunder": "0",
          "chanceofwindy": "0",
          "cloudcover": "19",
          "humidity": "78",
          "precipInches": "0.0",
          "precipMM": "0.0",
          "pressure": "1015",
          "pressureInches": "30",
          "tempC": "24",
          "tempF": "75",
          "time": "500",
          "uvIndex": "0",
          "visibility": "10",
          "visibilityMiles": "6",
          "weatherCode": "116",
          "weatherDesc": [
           {
            "value": "Partly cloudy"
           }
          ],
          "weatherIconUrl": [
           {
            "value": "http://cdn.worldweatheronline.net/images/wsymbols01_png_64/wsymbol_0004_black_low_cloud.png"
           }
          ],
          "winddir16Point": "SSW",
          "winddirDegree": "199",
          "windspeedKmph": "9",
          "windspeedMiles": "6"
         },
         {
          "DewPointC": "20",
          "DewPointF": "68",
          "FeelsLikeC": "26",
          "FeelsLikeF": "78",
          "HeatIndexC": "26",
          "HeatIndexF": "78",
          "WindChillC": "24",
          "WindChillF": "75",
          "WindGustKmph": "12",
          "WindGustMiles": "7",
          "chanceoffog": "0",
          "chanceoffrost": "0",
          "chanceofhightemp": "12",
          "chanceofovercast": "37",
          "chanceofrain": "0",
          "chanceofremdry": "89",
          "chanceofsnow": "0",
          "chanceofsunshine": "80",
          "chanceofthunder": "0",
          "chanceofwindy": "0",
          "cloudcover": "15",
          "humidity": "79",
          "precipInches": "0.0",
          "precipMM": "0.0",
          "pressure": "1015",
          "pressureInches": "30",
          "tempC": "24",
          "tempF": "75",
          "time": "600",
          "uvIndex": "0",
          "visibility": "10",
          "visibilityMiles": "6",
          "weatherCode": "116",
          "weatherDesc": [
           {
            "value": "Partly cloudy"
           }
          ],
          "weatherIconUrl": [
           {
            "value": "http://cdn.worldweatheronline.net/images/wsymbols01_png_64/wsymbol_0004_black_low_cloud.png"
           }
          ],
          "winddir16Point": "SSW",
          "winddirDegree": "200",
          "windspeedKmph": "8",
          "windspeedMiles": "5"
         },
         {
          "DewPointC": "20",
          "DewPointF": "68",
          "FeelsLikeC": "26",
          "FeelsLikeF": "78",
          "HeatIndexC": "26",
          "HeatIndexF": "78",
          "WindChillC": "24",
          "WindChillF": "75",
          "WindGustKmph": "10",
          "WindGustMiles": "6",
          "chanceoffog": "0",
          "chanceoffrost": "0",
          "chanceofhightemp": "10",
          "chanceofovercast": "39",
          "chanceofrain": "0",
          "chanceofremdry": "92",
          "chanceofsnow": "0",
          "chanceofsunshine": "77",
          "chanceofthunder": "0",
          "chanceofwindy": "0",
          "cloudcover": "12",
          "humidity": "81",
          "precipInches": "0.0",
          "precipMM": "0.0",
          "pressure": "1015",
          "pressureInches": "30",
          "tempC": "24",
          "tempF": "75",
          "time": "700",
          "uvIndex": "0",
          "visibility": "10",
          "visibilityMiles": "6",
          "weatherCode": "116",
          "weatherDesc": [
           {
            "value": "Partly cloudy"
           }
          ],
          "weatherIconUrl": [
           {
            "value": "http://cdn.worldweatheronline.net/images/wsymbols01_png_64/wsymbol_0004_black_low_cloud.png"
           }
          ],
          "winddir16Point": "SSW",
          "winddirDegree": "201",
          "windspeedKmph": "6",
          "windspeedMiles": "4"
         },
         {
          "DewPointC": "20",
          "DewPointF": "68",
          "FeelsLikeC": "27",
          "FeelsLikeF": "80",
          "HeatIndexC": "27",
          "HeatIndexF": "80",
          "WindChillC": "25",
          "WindChillF": "77",
          "WindGustKmph": "10",
          "WindGustMiles": "6",
          "chanceoffog": "0",
          "chanceoffrost": "0",
          "chanceofhightemp": "20",
          "chanceofovercast": "38",
          "chanceofrain": "0",
          "chanceofremdry": "89",
          "chanceofsnow": "0",
          "chanceofsunshine": "77",
          "chanceofthunder": "0",
          "chanceofwindy": "0",
          "cloudcover": "9",
          "humidity": "74",
          "precipInches": "0.0",
          "precipMM": "0.0",
          "pressure": "1015",
          "pressureInches": "30",
          "tempC": "25",
          "tempF": "77",
          "time": "800",
          "uvIndex": "6",
          "visibility": "10",
          "visibilityMiles": "6",
          "weatherCode": "116",
          "weatherDesc": [
           {
            "value": "Partly cloudy"
           }
          ],
          "weatherIconUrl": [
           {
            "value": "http://cdn.worldweatheronline.net/images/wsymbols01_png_64/wsymbol_0002_sunny_intervals.png"
           }
          ],
          "winddir16Point": "SSW",
          "winddirDegree": "192",
          "windspeedKmph": "8",
          "windspeedMiles": "5"
         },
         {
          "DewPointC": "19",
          "DewPointF": "67",
          "FeelsLikeC": "28",
          "FeelsLikeF": "82",
          "HeatIndexC": "28",
          "HeatIndexF": "82",
          "WindChillC": "26",
          "WindChillF": "78",
          "WindGustKmph": "11",
          "WindGustMiles": "7",
          "chanceoffog": "0",
          "chanceoffrost": "0",
          "chanceofhightemp": "30",
          "chanceofovercast": "36",
          "chanceofrain": "0",
          "chanceofremdry": "87",
          "chanceofsnow": "0",
          "chanceofsunshine": "78",
          "chanceofthunder": "0",
          "chanceofwindy": "0",
          "cloudcover": "6",
          "humidity": "68",
          "precipInches": "0.0",
          "precipMM": "0.0",
          "pressure": "1015",
          "pressureInches": "30",
          "tempC": "26",
          "tempF": "78",
          "time": "900",
          "uvIndex": "7",
          "visibility": "10",
          "visibilityMiles": "6",
          "weatherCode": "116",
          "weatherDesc": [
           {
            "value": "Partly cloudy"
           }
          ],
          "weatherIconUrl": [
           {
            "value": "http://cdn.worldweatheronline.net/images/wsymbols01_png_64/wsymbol_0002_sunny_intervals.png"
           }
          ],
          "winddir16Point": "S",
          "winddirDegree": "184",
          "windspeedKmph": "9",
          "windspeedMiles": "5"
         },
         {
          "DewPointC": "19",
          "DewPointF": "66",
          "FeelsLikeC": "28",
          "FeelsLikeF": "83",
          "HeatIndexC": "28",
          "HeatIndexF": "83",
          "WindChillC": "27",
          "WindChillF": "80",
          "WindGustKmph": "11",
          "WindGustMiles": "7",
          "chanceoffog": "0",
          "chanceoffrost": "0",
          "chanceofhightemp": "40",
          "chanceofovercast": "35",
          "chanceofrain": "0",
          "chanceofremdry": "84",
          "chanceofsnow": "0",
          "chanceofsunshine": "78",
          "chanceofthunder": "0",
          "chanceofwindy": "0",
          "cloudcover": "3",
          "humidity": "62",
          "precipInches": "0.0",
          "precipMM": "0.0",
          "pressure": "1016",
          "pressureInches": "30",
          "tempC": "27",
          "tempF": "80",
          "time": "1000",
          "uvIndex": "7",
          "visibility": "10",
          "visibilityMiles": "6",
          "weatherCode": "116",
          "weatherDesc": [
           {
            "value": "Partly cloudy"
           }
          ],
          "weatherIconUrl": [
           {
            "value": "http://cdn.worldweatheronline.net/images/wsymbols01_png_64/wsymbol_0002_sunny_intervals.png"
           }
          ],
          "winddir16Point": "S",
          "winddirDegree": "175",
          "windspeedKmph": "10",
          "windspeedMiles": "6"
         },
         {
          "DewPointC": "18",
          "DewPointF": "65",
          "FeelsLikeC": "30",
          "FeelsLikeF": "85",
          "HeatIndexC": "30",
          "HeatIndexF": "85",
          "WindChillC": "28",
          "WindChillF": "83",
          "WindGustKmph": "12",
          "WindGustMiles": "8",
          "chanceoffog": "0",
          "chanceoffrost": "0",
          "chanceofhightemp": "43",
          "chanceofovercast": "37",
          "chanceofrain": "0",
          "chanceofremdry": "86",
          "chanceofsnow": "0",
          "chanceofsunshine": "76",
          "chanceofthunder": "0",
          "chanceofwindy": "0",
          "cloudcover": "4",
          "humidity": "56",
          "precipInches": "0.0",
          "precipMM": "0.0",
          "pressure": "1015",
          "pressureInches": "30",
          "tempC": "28",
          "tempF": "83",
          "time": "1100",
          "uvIndex": "7",
          "visibility": "10",
          "visibilityMiles": "6",
          "weatherCode": "116",
          "weatherDesc": [
           {
            "value": "Partly cloudy"
           }
          ],
          "weatherIconUrl": [
           {
            "value": "http://cdn.worldweatheronline.net/images/wsymbols01_png_64/wsymbol_0002_sunny_intervals.png"
           }
          ],
          "winddir16Point": "S",
          "winddirDegree": "176",
          "windspeedKmph": "10",
          "windspeedMiles": "6"
         },
         {
          "DewPointC": "17",
          "DewPointF": "63",
          "FeelsLikeC": "31",
          "FeelsLikeF": "87",
          "HeatIndexC": "31",
          "HeatIndexF": "87",
          "WindChillC": "30",
          "WindChillF": "85",
          "WindGustKmph": "13",
          "WindGustMiles": "8",
          "chanceoffog": "0",
          "chanceoffrost": "0",
          "chanceofhightemp": "46",
          "chanceofovercast": "39",
          "chanceofrain": "0",
          "chanceofremdry": "87",
          "chanceofsnow": "0",
          "chanceofsunshine": "74",
          "chanceofthunder": "0",
          "chanceofwindy": "0",
          "cloudcover": "6",
          "humidity": "49",
          "precipInches": "0.0",
          "precipMM": "0.0",
          "pressure": "1015",
          "pressureInches": "30",
          "tempC": "30",
          "tempF": "85",
          "time": "1200",
          "uvIndex": "7",
          "visibility": "10",
          "visibilityMiles": "6",
          "weatherCode": "116",
          "weatherDesc": [
           {
            "value": "Partly cloudy"
           }
          ],
          "weatherIconUrl": [
           {
            "value": "http://cdn.worldweatheronline.net/images/wsymbols01_png_64/wsymbol_0002_sunny_intervals.png"
           }
          ],
          "winddir16Point": "S",
          "winddirDegree": "176",
          "windspeedKmph": "12",
          "windspeedMiles": "7"
         },
         {
          "DewPointC": "17",
          "DewPointF": "62",
          "FeelsLikeC": "32",
          "FeelsLikeF": "89",
          "HeatIndexC": "32",
          "HeatIndexF": "89",
          "WindChillC": "31",
          "WindChillF": "87",
          "WindGustKmph": "14",
          "WindGustMiles": "9",
          "chanceoffog": "0",
          "chanceoffrost": "0",
          "chanceofhightemp": "50",
          "chanceofovercast": "41",
          "chanceofrain": "0",
          "chanceofremdry": "89",
          "chanceofsnow": "0",
          "chanceofsunshine": "72",
          "chanceofthunder": "0",
          "chanceofwindy": "0",
          "cloudcover": "7",
          "humidity": "43",
          "precipInches": "0.0",
          "precipMM": "0.0",
          "pressure": "1014",
          "pressureInches": "30",
          "tempC": "31",
          "tempF": "87",
          "time": "1300",
          "uvIndex": "8",
          "visibility": "10",
          "visibilityMiles": "6",
          "weatherCode": "116",
          "weatherDesc": [
           {
            "value": "Partly cloudy"
           }
          ],
          "weatherIconUrl": [
           {
            "value": "http://cdn.worldweatheronline.net/images/wsymbols01_png_64/wsymbol_0002_sunny_intervals.png"
           }
          ],
          "winddir16Point": "S",
          "winddirDegree": "177",
          "windspeedKmph": "12",
          "windspeedMiles": "8"
         },
         {
          "DewPointC": "16",
          "DewPointF": "61",
          "FeelsLikeC": "32",
          "FeelsLikeF": "90",
          "HeatIndexC": "32",
          "HeatIndexF": "90",
          "WindChillC": "31",
          "WindChillF": "89",
          "WindGustKmph": "14",
          "WindGustMiles": "9",
          "chanceoffog": "0",
          "chanceoffrost": "0",
          "chanceofhightemp": "50",
          "chanceofovercast": "42",
          "chanceofrain": "0",
          "chanceofremdry": "88",
          "chanceofsnow": "0",
          "chanceofsunshine": "76",
          "chanceofthunder": "0",
          "chanceofwindy": "0",
          "cloudcover": "13",
          "humidity": "41",
          "precipInches": "0.0",
          "precipMM": "0.0",
          "pressure": "1013",
          "pressureInches": "30",
          "tempC": "31",
          "tempF": "89",
          "time": "1400",
          "uvIndex": "8",
          "visibility": "10",
          "visibilityMiles": "6",
          "weatherCode": "116",
          "weatherDesc": [
           {
            "value": "Partly cloudy"
           }
          ],
          "weatherIconUrl": [
           {
            "value": "http://cdn.worldweatheronline.net/images/wsymbols01_png_64/wsymbol_0002_sunny_intervals.png"
           }
          ],
          "winddir16Point": "S",
          "winddirDegree": "177",
          "windspeedKmph": "13",
          "windspeedMiles": "8"
         },
         {
          "DewPointC": "16",
          "DewPointF": "61",
          "FeelsLikeC": "33",
          "FeelsLikeF": "91",
          "HeatIndexC": "33",
          "HeatIndexF": "91",
          "WindChillC": "32",
          "WindChillF": "90",
          "WindGustKmph": "14",
          "WindGustMiles": "9",
          "chanceoffog": "0",
          "chanceoffrost": "0",
          "chanceofhightemp": "50",
          "chanceofovercast": "42",
          "chanceofrain": "0",
          "chanceofremdry": "87",
          "chanceofsnow": "0",
          "chanceofsunshine": "81",
          "chanceofthunder": "0",
          "chanceofwindy": "0",
          "cloudcover": "19",
          "humidity": "39",
          "precipInches": "0.0",
          "precipMM": "0.0",
          "pressure": "1012",
          "pressureInches": "30",
          "tempC": "32",
          "tempF": "90",
          "time": "1500",
          "uvIndex": "8",
          "visibility": "10",
          "visibilityMiles": "6",
          "weatherCode": "116",
          "weatherDesc": [
           {
            "value": "Partly cloudy"
           }
          ],
          "weatherIconUrl": [
           {
            "value": "http://cdn.worldweatheronline.net/images/wsymbols01_png_64/wsymbol_0002_sunny_intervals.png"
           }
          ],
          "winddir16Point": "S",
          "winddirDegree": "177",
          "windspeedKmph": "13",
          "windspeedMiles": "8"
         },
         {
          "DewPointC": "16",
          "DewPointF": "60",
          "FeelsLikeC": "33",
          "FeelsLikeF": "92",
          "HeatIndexC": "33",
          "HeatIndexF": "92",
          "WindChillC": "33",
          "WindChillF": "91",
          "WindGustKmph": "15",
          "WindGustMiles": "9",
          "chanceoffog": "0",
          "chanceoffrost": "0",
          "chanceofhightemp": "50",
          "chanceofovercast": "43",
          "chanceofrain": "0",
          "chanceofremdry": "86",
          "chanceofsnow": "0",
          "chanceofsunshine": "85",
          "chanceofthunder": "0",
          "chanceofwindy": "0",
          "cloudcover": "26",
          "humidity": "37",
          "precipInches": "0.0",
          "precipMM": "0.0",
          "pressure": "1011",
          "pressureInches": "30",
          "tempC": "33",
          "tempF": "91",
          "time": "1600",
          "uvIndex": "8",
          "visibility": "10",
          "visibilityMiles": "6",
          "weatherCode": "116",
          "weatherDesc": [
           {
            "value": "Partly cloudy"
           }
          ],
          "weatherIconUrl": [
           {
            "value": "http://cdn.worldweatheronline.net/images/wsymbols01_png_64/wsymbol_0002_sunny_intervals.png"
           }
          ],
          "winddir16Point": "S",
          "winddirDegree": "177",
          "windspeedKmph": "13",
          "windspeedMiles": "8"
         },
         {
          "DewPointC": "16",
          "DewPointF": "61",
          "FeelsLikeC": "32",
          "FeelsLikeF": "90",
          "HeatIndexC": "32",
          "HeatIndexF": "90",
          "WindChillC": "32",
          "WindChillF": "89",
          "WindGustKmph": "17",
          "WindGustMiles": "10",
          "chanceoffog": "0",
          "chanceoffrost": "0",
          "chanceofhightemp": "50",
          "chanceofovercast": "42",
          "chanceofrain": "0",
          "chanceofremdry": "87",
          "chanceofsnow": "0",
          "chanceofsunshine": "85",
          "chanceofthunder": "0",
          "chanceofwindy": "0",
          "cloudcover": "25",
          "humidity": "40",
          "precipInches": "0.0",
          "precipMM": "0.0",
          "pressure": "1011",
          "pressureInches": "30",
          "tempC": "32",
          "tempF": "89",
          "time": "1700",
          "uvIndex": "8",
          "visibility": "10",
          "visibilityMiles": "6",
          "weatherCode": "116",
          "weatherDesc": [
           {
            "value": "Partly cloudy"
           }
          ],
          "weatherIconUrl": [
           {
            "value": "http://cdn.worldweatheronline.net/images/wsymbols01_png_64/wsymbol_0002_sunny_intervals.png"
           }
          ],
          "winddir16Point": "SSE",
          "winddirDegree": "168",
          "windspeedKmph": "13",
          "windspeedMiles": "8"
         },
         {
          "DewPointC": "17",
          "DewPointF": "62",
          "FeelsLikeC": "31",
          "FeelsLikeF": "88",
          "HeatIndexC": "31",
          "HeatIndexF": "88",
          "WindChillC": "31",
          "WindChillF": "87",
          "WindGustKmph": "18",
          "WindGustMiles": "11",
          "chanceoffog": "0",
          "chanceoffrost": "0",
          "chanceofhightemp": "50",
          "chanceofovercast": "41",
          "chanceofrain": "0",
          "chanceofremdry": "89",
          "chanceofsnow": "0",
          "chanceofsunshine": "84",
          "chanceofthunder": "0",
          "chanceofwindy": "0",
          "cloudcover": "24",
          "humidity": "43",
          "precipInches": "0.0",
          "precipMM": "0.0",
          "pressure": "1011",
          "pressureInches": "30",
          "tempC": "31",
          "tempF": "87",
          "time": "1800",
          "uvIndex": "8",
          "visibility": "10",
          "visibilityMiles": "6",
          "weatherCode": "116",
          "weatherDesc": [
           {
            "value": "Partly cloudy"
           }
          ],
          "weatherIconUrl": [
           {
            "value": "http://cdn.worldweatheronline.net/images/wsymbols01_png_64/wsymbol_0002_sunny_intervals.png"
           }
          ],
          "winddir16Point": "SSE",
          "winddirDegree": "160",
          "windspeedKmph": "14",
          "windspeedMiles": "9"
         },
         {
          "DewPointC": "17",
          "DewPointF": "63",
          "FeelsLikeC": "30",
          "FeelsLikeF": "87",
          "HeatIndexC": "30",
          "HeatIndexF": "87",
          "WindChillC": "30",
          "WindChillF": "85",
          "WindGustKmph": "20",
          "WindGustMiles": "13",
          "chanceoffog": "0",
          "chanceoffrost": "0",
          "chanceofhightemp": "50",
          "chanceofovercast": "40",
          "chanceofrain": "0",
          "chanceofremdry": "90",
          "chanceofsnow": "0",
          "chanceofsunshine": "84",
          "chanceofthunder": "0",
          "chanceofwindy": "0",
          "cloudcover": "23",
          "humidity": "47",
          "precipInches": "0.0",
          "precipMM": "0.0",
          "pressure": "1011",
          "pressureInches": "30",
          "tempC": "30",
          "tempF": "85",
          "time": "1900",
          "uvIndex": "7",
          "visibility": "10",
          "visibilityMiles": "6",
          "weatherCode": "116",
          "weatherDesc": [
           {
            "value": "Partly cloudy"
           }
          ],
          "weatherIconUrl": [
           {
            "value": "http://cdn.worldweatheronline.net/images/wsymbols01_png_64/wsymbol_0002_sunny_intervals.png"
           }
          ],
          "winddir16Point": "SSE",
          "winddirDegree": "151",
          "windspeedKmph": "14",
          "windspeedMiles": "9"
         },
         {
          "DewPointC": "17",
          "DewPointF": "63",
          "FeelsLikeC": "30",
          "FeelsLikeF": "85",
          "HeatIndexC": "30",
          "HeatIndexF": "85",
          "WindChillC": "29",
          "WindChillF": "83",
          "WindGustKmph": "21",
          "WindGustMiles": "13",
          "chanceoffog": "0",
          "chanceoffrost": "0",
          "chanceofhightemp": "46",
          "chanceofovercast": "42",
          "chanceofrain": "0",
          "chanceofremdry": "90",
          "chanceofsnow": "0",
          "chanceofsunshine": "82",
          "chanceofthunder": "0",
          "chanceofwindy": "0",
          "cloudcover": "18",
          "humidity": "51",
          "precipInches": "0.0",
          "precipMM": "0.0",
          "pressure": "1012",
          "pressureInches": "30",
          "tempC": "29",
          "tempF": "83",
          "time": "2000",
          "uvIndex": "0",
          "visibility": "10",
          "visibilityMiles": "6",
          "weatherCode": "116",
          "weatherDesc": [
           {
            "value": "Partly cloudy"
           }
          ],
          "weatherIconUrl": [
           {
            "value": "http://cdn.worldweatheronline.net/images/wsymbols01_png_64/wsymbol_0004_black_low_cloud.png"
           }
          ],
          "winddir16Point": "SSE",
          "winddirDegree": "152",
          "windspeedKmph": "14",
          "windspeedMiles": "9"
         },
         {
          "DewPointC": "18",
          "DewPointF": "64",
          "FeelsLikeC": "29",
          "FeelsLikeF": "83",
          "HeatIndexC": "29",
          "HeatIndexF": "83",
          "WindChillC": "28",
          "WindChillF": "82",
          "WindGustKmph": "21",
          "WindGustMiles": "13",
          "chanceoffog": "0",
          "chanceoffrost": "0",
          "chanceofhightemp": "43",
          "chanceofovercast": "45",
          "chanceofrain": "0",
          "chanceofremdry": "90",
          "chanceofsnow": "0",
          "chanceofsunshine": "80",
          "chanceofthunder": "0",
          "chanceofwindy": "0",
          "cloudcover": "13",
          "humidity": "55",
          "precipInches": "0.0",
          "precipMM": "0.0",
          "pressure": "1012",
          "pressureInches": "30",
          "tempC": "28",
          "tempF": "82",
          "time": "2100",
          "uvIndex": "0",
          "visibility": "10",
          "visibilityMiles": "6",
          "weatherCode": "116",
          "weatherDesc": [
           {
            "value": "Partly cloudy"
           }
          ],
          "weatherIconUrl": [
           {
            "value": "http://cdn.worldweatheronline.net/images/wsymbols01_png_64/wsymbol_0004_black_low_cloud.png"
           }
          ],
          "winddir16Point": "SSE",
          "winddirDegree": "154",
          "windspeedKmph": "14",
          "windspeedMiles": "9"
         },
         {
          "DewPointC": "18",
          "DewPointF": "64",
          "FeelsLikeC": "28",
          "FeelsLikeF": "82",
          "HeatIndexC": "28",
          "HeatIndexF": "82",
          "WindChillC": "27",
          "WindChillF": "80",
          "WindGustKmph": "21",
          "WindGustMiles": "13",
          "chanceoffog": "0",
          "chanceoffrost": "0",
          "chanceofhightemp": "40",
          "chanceofovercast": "47",
          "chanceofrain": "0",
          "chanceofremdry": "90",
          "chanceofsnow": "0",
          "chanceofsunshine": "78",
          "chanceofthunder": "0",
          "chanceofwindy": "0",
          "cloudcover": "8",
          "humidity": "59",
          "precipInches": "0.0",
          "precipMM": "0.0",
          "pressure": "1013",
          "pressureInches": "30",
          "tempC": "27",
          "tempF": "80",
          "time": "2200",
          "uvIndex": "0",
          "visibility": "10",
          "visibilityMiles": "6",
          "weatherCode": "116",
          "weatherDesc": [
           {
            "value": "Partly cloudy"
           }
          ],
          "weatherIconUrl": [
           {
            "value": "http://cdn.worldweatheronline.net/images/wsymbols01_png_64/wsymbol_0004_black_low_cloud.png"
           }
          ],
          "winddir16Point": "SSE",
          "winddirDegree": "155",
          "windspeedKmph": "13",
          "windspeedMiles": "8"
         },
         {
          "DewPointC": "18",
          "DewPointF": "65",
          "FeelsLikeC": "27",
          "FeelsLikeF": "81",
          "HeatIndexC": "27",
          "HeatIndexF": "81",
          "WindChillC": "26",
          "WindChillF": "78",
          "WindGustKmph": "21",
          "WindGustMiles": "13",
          "chanceoffog": "0",
          "chanceoffrost": "0",
          "chanceofhightemp": "32",
          "chanceofovercast": "44",
          "chanceofrain": "0",
          "chanceofremdry": "90",
          "chanceofsnow": "0",
          "chanceofsunshine": "75",
          "chanceofthunder": "0",
          "chanceofwindy": "0",
          "cloudcover": "7",
          "humidity": "64",
          "precipInches": "0.0",
          "precipMM": "0.0",
          "pressure": "1013",
          "pressureInches": "30",
          "tempC": "26",
          "tempF": "78",
          "time": "2300",
          "uvIndex": "0",
          "visibility": "10",
          "visibilityMiles": "6",
          "weatherCode": "116",
          "weatherDesc": [
           {
            "value": "Partly cloudy"
           }
          ],
          "weatherIconUrl": [
           {
            "value": "http://cdn.worldweatheronline.net/images/wsymbols01_png_64/wsymbol_0004_black_low_cloud.png"
           }
          ],
          "winddir16Point": "SSE",
          "winddirDegree": "163",
          "windspeedKmph": "14",
          "windspeedMiles": "9"
         }
        ],
        "maxtempC": "33",
        "maxtempF": "91",
        "mintempC": "24",
        "mintempF": "75",
        "sunHour": "0.0",
        "totalSnow_cm": "0.0",
        "uvIndex": "6"
       },
       {
        "astronomy": [
         {
          "moon_illumination": "48",
          "moon_phase": "First Quarter",
          "moonrise": "03:20 PM",
          "moonset": "12:58 AM",
          "sunrise": "07:27 AM",
          "sunset": "07:10 PM"
         }
        ],
        "avgtempC": "27",
        "avgtempF": "80",
        "date": "2019-10-06",
        "hourly": [
         {
          "DewPointC": "19",
          "DewPointF": "66",
          "FeelsLikeC": "27",
          "FeelsLikeF": "80",
          "HeatIndexC": "27",
          "HeatIndexF": "80",
          "WindChillC": "25",
          "WindChillF": "77",
          "WindGustKmph": "21",
          "WindGustMiles": "13",
          "chanceoffog": "0",
          "chanceoffrost": "0",
          "chanceofhightemp": "23",
          "chanceofovercast": "40",
          "chanceofrain": "0",
          "chanceofremdry": "90",
          "chanceofsnow": "0",
          "chanceofsunshine": "73",
          "chanceofthunder": "0",
          "chanceofwindy": "0",
          "cloudcover": "5",
          "humidity": "70",
          "precipInches": "0.0",
          "precipMM": "0.0",
          "pressure": "1013",
          "pressureInches": "30",
          "tempC": "25",
          "tempF": "77",
          "time": "0",
          "uvIndex": "0",
          "visibility": "10",
          "visibilityMiles": "6",
          "weatherCode": "116",
          "weatherDesc": [
           {
            "value": "Partly cloudy"
           }
          ],
          "weatherIconUrl": [
           {
            "value": "http://cdn.worldweatheronline.net/images/wsymbols01_png_64/wsymbol_0004_black_low_cloud.png"
           }
          ],
          "winddir16Point": "S",
          "winddirDegree": "171",
          "windspeedKmph": "14",
          "windspeedMiles": "9"
         },
         {
          "DewPointC": "20",
          "DewPointF": "67",
          "FeelsLikeC": "26",
          "FeelsLikeF": "79",
          "HeatIndexC": "26",
          "HeatIndexF": "79",
          "WindChillC": "24",
          "WindChillF": "75",
          "WindGustKmph": "21",
          "WindGustMiles": "13",
          "chanceoffog": "0",
          "chanceoffrost": "0",
          "chanceofhightemp": "15",
          "chanceofovercast": "37",
          "chanceofrain": "0",
          "chanceofremdry": "90",
          "chanceofsnow": "0",
          "chanceofsunshine": "70",
          "chanceofthunder": "0",
          "chanceofwindy": "0",
          "cloudcover": "3",
          "humidity": "75",
          "precipInches": "0.0",
          "precipMM": "0.0",
          "pressure": "1013",
          "pressureInches": "30",
          "tempC": "24",
          "tempF": "75",
          "time": "100",
          "uvIndex": "0",
          "visibility": "10",
          "visibilityMiles": "6",
          "weatherCode": "116",
          "weatherDesc": [
           {
            "value": "Partly cloudy"
           }
          ],
          "weatherIconUrl": [
           {
            "value": "http://cdn.worldweatheronline.net/images/wsymbols01_png_64/wsymbol_0004_black_low_cloud.png"
           }
          ],
          "winddir16Point": "S",
          "winddirDegree": "179",
          "windspeedKmph": "15",
          "windspeedMiles": "9"
         },
         {
          "DewPointC": "19",
          "DewPointF": "67",
          "FeelsLikeC": "26",
          "FeelsLikeF": "78",
          "HeatIndexC": "26",
          "HeatIndexF": "78",
          "WindChillC": "24",
          "WindChillF": "75",
          "WindGustKmph": "19",
          "WindGustMiles": "12",
          "chanceoffog": "0",
          "chanceoffrost": "0",
          "chanceofhightemp": "10",
          "chanceofovercast": "35",
          "chanceofrain": "0",
          "chanceofremdry": "89",
          "chanceofsnow": "0",
          "chanceofsunshine": "72",
          "chanceofthunder": "0",
          "chanceofwindy": "0",
          "cloudcover": "4",
          "humidity": "77",
          "precipInches": "0.0",
          "precipMM": "0.0",
          "pressure": "1013",
          "pressureInches": "30",
          "tempC": "24",
          "tempF": "75",
          "time": "200",
          "uvIndex": "0",
          "visibility": "10",
          "visibilityMiles": "6",
          "weatherCode": "116",
          "weatherDesc": [
           {
            "value": "Partly cloudy"
           }
          ],
          "weatherIconUrl": [
           {
            "value": "http://cdn.worldweatheronline.net/images/wsymbols01_png_64/wsymbol_0004_black_low_cloud.png"
           }
          ],
          "winddir16Point": "S",
          "winddirDegree": "182",
          "windspeedKmph": "13",
          "windspeedMiles": "8"
         },
         {
          "DewPointC": "19",
          "DewPointF": "67",
          "FeelsLikeC": "25",
          "FeelsLikeF": "77",
          "HeatIndexC": "25",
          "HeatIndexF": "77",
          "WindChillC": "23",
          "WindChillF": "74",
          "WindGustKmph": "18",
          "WindGustMiles": "11",
          "chanceoffog": "0",
          "chanceoffrost": "0",
          "chanceofhightemp": "5",
          "chanceofovercast": "32",
          "chanceofrain": "0",
          "chanceofremdry": "88",
          "chanceofsnow": "0",
          "chanceofsunshine": "73",
          "chanceofthunder": "0",
          "chanceofwindy": "0",
          "cloudcover": "4",
          "humidity": "79",
          "precipInches": "0.0",
          "precipMM": "0.0",
          "pressure": "1013",
          "pressureInches": "30",
          "tempC": "23",
          "tempF": "74",
          "time": "300",
          "uvIndex": "0",
          "visibility": "10",
          "visibilityMiles": "6",
          "weatherCode": "116",
          "weatherDesc": [
           {
            "value": "Partly cloudy"
           }
          ],
          "weatherIconUrl": [
           {
            "value": "http://cdn.worldweatheronline.net/images/wsymbols01_png_64/wsymbol_0004_black_low_cloud.png"
           }
          ],
          "winddir16Point": "S",
          "winddirDegree": "185",
          "windspeedKmph": "12",
          "windspeedMiles": "8"
         },
         {
          "DewPointC": "19",
          "DewPointF": "67",
          "FeelsLikeC": "25",
          "FeelsLikeF": "77",
          "HeatIndexC": "25",
          "HeatIndexF": "77",
          "WindChillC": "23",
          "WindChillF": "73",
          "WindGustKmph": "17",
          "WindGustMiles": "10",
          "chanceoffog": "0",
          "chanceoffrost": "0",
          "chanceofhightemp": "0",
          "chanceofovercast": "30",
          "chanceofrain": "0",
          "chanceofremdry": "87",
          "chanceofsnow": "0",
          "chanceofsunshine": "75",
          "chanceofthunder": "0",
          "chanceofwindy": "0",
          "cloudcover": "4",
          "humidity": "81",
          "precipInches": "0.0",
          "precipMM": "0.0",
          "pressure": "1012",
          "pressureInches": "30",
          "tempC": "23",
          "tempF": "73",
          "time": "400",
          "uvIndex": "0",
          "visibility": "10",
          "visibilityMiles": "6",
          "weatherCode": "116",
          "weatherDesc": [
           {
            "value": "Partly cloudy"
           }
          ],
          "weatherIconUrl": [
           {
            "value": "http://cdn.worldweatheronline.net/images/wsymbols01_png_64/wsymbol_0004_black_low_cloud.png"
           }
          ],
          "winddir16Point": "S",
          "winddirDegree": "188",
          "windspeedKmph": "11",
          "windspeedMiles": "7"
         },
         {
          "DewPointC": "20",
          "DewPointF": "67",
          "FeelsLikeC": "25",
          "FeelsLikeF": "77",
          "HeatIndexC": "25",
          "HeatIndexF": "77",
          "WindChillC": "23",
          "WindChillF": "73",
          "WindGustKmph": "14",
          "WindGustMiles": "9",
          "chanceoffog": "0",
          "chanceoffrost": "0",
          "chanceofhightemp": "0",
          "chanceofovercast": "30",
          "chanceofrain": "0",
          "chanceofremdry": "89",
          "chanceofsnow": "0",
          "chanceofsunshine": "74",
          "chanceofthunder": "0",
          "chanceofwindy": "0",
          "cloudcover": "11",
          "humidity": "83",
          "precipInches": "0.0",
          "precipMM": "0.0",
          "pressure": "1013",
          "pressureInches": "30",
          "tempC": "23",
          "tempF": "73",
          "time": "500",
          "uvIndex": "0",
          "visibility": "10",
          "visibilityMiles": "6",
          "weatherCode": "116",
          "weatherDesc": [
           {
            "value": "Partly cloudy"
           }
          ],
          "weatherIconUrl": [
           {
            "value": "http://cdn.worldweatheronline.net/images/wsymbols01_png_64/wsymbol_0004_black_low_cloud.png"
           }
          ],
          "winddir16Point": "S",
          "winddirDegree": "185",
          "windspeedKmph": "9",
          "windspeedMiles": "6"
         },
         {
          "DewPointC": "20",
          "DewPointF": "68",
          "FeelsLikeC": "25",
          "FeelsLikeF": "76",
          "HeatIndexC": "25",
          "HeatIndexF": "76",
          "WindChillC": "22",
          "WindChillF": "72",
          "WindGustKmph": "12",
          "WindGustMiles": "7",
          "chanceoffog": "0",
          "chanceoffrost": "0",
          "chanceofhightemp": "0",
          "chanceofovercast": "31",
          "chanceofrain": "0",
          "chanceofremdry": "90",
          "chanceofsnow": "0",
          "chanceofsunshine": "72",
          "chanceofthunder": "0",
          "chanceofwindy": "0",
          "cloudcover": "18",
          "humidity": "86",
          "precipInches": "0.0",
          "precipMM": "0.0",
          "pressure": "1013",
          "pressureInches": "30",
          "tempC": "22",
          "tempF": "72",
          "time": "600",
          "uvIndex": "0",
          "visibility": "10",
          "visibilityMiles": "6",
          "weatherCode": "116",
          "weatherDesc": [
           {
            "value": "Partly cloudy"
           }
          ],
          "weatherIconUrl": [
           {
            "value": "http://cdn.worldweatheronline.net/images/wsymbols01_png_64/wsymbol_0004_black_low_cloud.png"
           }
          ],
          "winddir16Point": "S",
          "winddirDegree": "182",
          "windspeedKmph": "8",
          "windspeedMiles": "5"
         },
         {
          "DewPointC": "20",
          "DewPointF": "68",
          "FeelsLikeC": "25",
          "FeelsLikeF": "76",
          "HeatIndexC": "25",
          "HeatIndexF": "76",
          "WindChillC": "22",
          "WindChillF": "72",
          "WindGustKmph": "9",
          "WindGustMiles": "6",
          "chanceoffog": "0",
          "chanceoffrost": "0",
          "chanceofhightemp": "0",
          "chanceofovercast": "31",
          "chanceofrain": "0",
          "chanceofremdry": "92",
          "chanceofsnow": "0",
          "chanceofsunshine": "71",
          "chanceofthunder": "0",
          "chanceofwindy": "0",
          "cloudcover": "25",
          "humidity": "88",
          "precipInches": "0.0",
          "precipMM": "0.0",
          "pressure": "1013",
          "pressureInches": "30",
          "tempC": "22",
          "tempF": "72",
          "time": "700",
          "uvIndex": "0",
          "visibility": "10",
          "visibilityMiles": "6",
          "weatherCode": "116",
          "weatherDesc": [
           {
            "value": "Partly cloudy"
           }
          ],
          "weatherIconUrl": [
           {
            "value": "http://cdn.worldweatheronline.net/images/wsymbols01_png_64/wsymbol_0004_black_low_cloud.png"
           }
          ],
          "winddir16Point": "S",
          "winddirDegree": "179",
          "windspeedKmph": "6",
          "windspeedMiles": "4"
         },
         {
          "DewPointC": "20",
          "DewPointF": "68",
          "FeelsLikeC": "26",
          "FeelsLikeF": "78",
          "HeatIndexC": "26",
          "HeatIndexF": "78",
          "WindChillC": "23",
          "WindChillF": "74",
          "WindGustKmph": "9",
          "WindGustMiles": "6",
          "chanceoffog": "0",
          "chanceoffrost": "0",
          "chanceofhightemp": "10",
          "chanceofovercast": "32",
          "chanceofrain": "0",
          "chanceofremdry": "89",
          "chanceofsnow": "0",
          "chanceofsunshine": "73",
          "chanceofthunder": "0",
          "chanceofwindy": "0",
          "cloudcover": "31",
          "humidity": "83",
          "precipInches": "0.0",
          "precipMM": "0.0",
          "pressure": "1013",
          "pressureInches": "30",
          "tempC": "23",
          "tempF": "74",
          "time": "800",
          "uvIndex": "6",
          "visibility": "10",
          "visibilityMiles": "6",
          "weatherCode": "116",
          "weatherDesc": [
           {
            "value": "Partly cloudy"
           }
          ],
          "weatherIconUrl": [
           {
            "value": "http://cdn.worldweatheronline.net/images/wsymbols01_png_64/wsymbol_0002_sunny_intervals.png"
           }
          ],
          "winddir16Point": "S",
          "winddirDegree": "173",
          "windspeedKmph": "7",
          "windspeedMiles": "4"
         },
         {
          "DewPointC": "20",
          "DewPointF": "69",
          "FeelsLikeC": "27",
          "FeelsLikeF": "80",
          "HeatIndexC": "27",
          "HeatIndexF": "80",
          "WindChillC": "24",
          "WindChillF": "76",
          "WindGustKmph": "9",
          "WindGustMiles": "6",
          "chanceoffog": "0",
          "chanceoffrost": "0",
          "chanceofhightemp": "20",
          "chanceofovercast": "33",
          "chanceofrain": "0",
          "chanceofremdry": "85",
          "chanceofsnow": "0",
          "chanceofsunshine": "76",
          "chanceofthunder": "0",
          "chanceofwindy": "0",
          "cloudcover": "37",
          "humidity": "78",
          "precipInches": "0.0",
          "precipMM": "0.0",
          "pressure": "1013",
          "pressureInches": "30",
          "tempC": "24",
          "tempF": "76",
          "time": "900",
          "uvIndex": "6",
          "visibility": "10",
          "visibilityMiles": "6",
          "weatherCode": "116",
          "weatherDesc": [
           {
            "value": "Partly cloudy"
           }
          ],
          "weatherIconUrl": [
           {
            "value": "http://cdn.worldweatheronline.net/images/wsymbols01_png_64/wsymbol_0002_sunny_intervals.png"
           }
          ],
          "winddir16Point": "SSE",
          "winddirDegree": "167",
          "windspeedKmph": "8",
          "windspeedMiles": "5"
         },
         {
          "DewPointC": "20",
          "DewPointF": "69",
          "FeelsLikeC": "27",
          "FeelsLikeF": "81",
          "HeatIndexC": "27",
          "HeatIndexF": "81",
          "WindChillC": "26",
          "WindChillF": "78",
          "WindGustKmph": "9",
          "WindGustMiles": "6",
          "chanceoffog": "0",
          "chanceoffrost": "0",
          "chanceofhightemp": "30",
          "chanceofovercast": "34",
          "chanceofrain": "0",
          "chanceofremdry": "82",
          "chanceofsnow": "0",
          "chanceofsunshine": "78",
          "chanceofthunder": "0",
          "chanceofwindy": "0",
          "cloudcover": "44",
          "humidity": "73",
          "precipInches": "0.0",
          "precipMM": "0.0",
          "pressure": "1013",
          "pressureInches": "30",
          "tempC": "26",
          "tempF": "78",
          "time": "1000",
          "uvIndex": "7",
          "visibility": "10",
          "visibilityMiles": "6",
          "weatherCode": "116",
          "weatherDesc": [
           {
            "value": "Partly cloudy"
           }
          ],
          "weatherIconUrl": [
           {
            "value": "http://cdn.worldweatheronline.net/images/wsymbols01_png_64/wsymbol_0002_sunny_intervals.png"
           }
          ],
          "winddir16Point": "SSE",
          "winddirDegree": "161",
          "windspeedKmph": "8",
          "windspeedMiles": "5"
         },
         {
          "DewPointC": "20",
          "DewPointF": "67",
          "FeelsLikeC": "29",
          "FeelsLikeF": "84",
          "HeatIndexC": "29",
          "HeatIndexF": "84",
          "WindChillC": "27",
          "WindChillF": "81",
          "WindGustKmph": "10",
          "WindGustMiles": "6",
          "chanceoffog": "0",
          "chanceoffrost": "0",
          "chanceofhightemp": "37",
          "chanceofovercast": "38",
          "chanceofrain": "0",
          "chanceofremdry": "81",
          "chanceofsnow": "0",
          "chanceofsunshine": "76",
          "chanceofthunder": "0",
          "chanceofwindy": "0",
          "cloudcover": "33",
          "humidity": "64",
          "precipInches": "0.0",
          "precipMM": "0.0",
          "pressure": "1013",
          "pressureInches": "30",
          "tempC": "27",
          "tempF": "81",
          "time": "1100",
          "uvIndex": "7",
          "visibility": "10",
          "visibilityMiles": "6",
          "weatherCode": "116",
          "weatherDesc": [
           {
            "value": "Partly cloudy"
           }
          ],
          "weatherIconUrl": [
           {
            "value": "http://cdn.worldweatheronline.net/images/wsymbols01_png_64/wsymbol_0002_sunny_intervals.png"
           }
          ],
          "winddir16Point": "SSE",
          "winddirDegree": "162",
          "windspeedKmph": "9",
          "windspeedMiles": "6"
         },
         {
          "DewPointC": "19",
          "DewPointF": "65",
          "FeelsLikeC": "30",
          "FeelsLikeF": "86",
          "HeatIndexC": "30",
          "HeatIndexF": "86",
          "WindChillC": "29",
          "WindChillF": "84",
          "WindGustKmph": "11",
          "WindGustMiles": "7",
          "chanceoffog": "0",
          "chanceoffrost": "0",
          "chanceofhightemp": "43",
          "chanceofovercast": "41",
          "chanceofrain": "0",
          "chanceofremdry": "81",
          "chanceofsnow": "0",
          "chanceofsunshine": "73",
          "chanceofthunder": "0",
          "chanceofwindy": "0",
          "cloudcover": "22",
          "humidity": "56",
          "precipInches": "0.0",
          "precipMM": "0.0",
          "pressure": "1013",
          "pressureInches": "30",
          "tempC": "29",
          "tempF": "84",
          "time": "1200",
          "uvIndex": "7",
          "visibility": "10",
          "visibilityMiles": "6",
          "weatherCode": "116",
          "weatherDesc": [
           {
            "value": "Partly cloudy"
           }
          ],
          "weatherIconUrl": [
           {
            "value": "http://cdn.worldweatheronline.net/images/wsymbols01_png_64/wsymbol_0002_sunny_intervals.png"
           }
          ],
          "winddir16Point": "SSE",
          "winddirDegree": "164",
          "windspeedKmph": "9",
          "windspeedMiles": "6"
         },
         {
          "DewPointC": "18",
          "DewPointF": "64",
          "FeelsLikeC": "32",
          "FeelsLikeF": "89",
          "HeatIndexC": "32",
          "HeatIndexF": "89",
          "WindChillC": "30",
          "WindChillF": "87",
          "WindGustKmph": "12",
          "WindGustMiles": "7",
          "chanceoffog": "0",
          "chanceoffrost": "0",
          "chanceofhightemp": "50",
          "chanceofovercast": "45",
          "chanceofrain": "0",
          "chanceofremdry": "80",
          "chanceofsnow": "0",
          "chanceofsunshine": "71",
          "chanceofthunder": "0",
          "chanceofwindy": "0",
          "cloudcover": "11",
          "humidity": "47",
          "precipInches": "0.0",
          "precipMM": "0.0",
          "pressure": "1012",
          "pressureInches": "30",
          "tempC": "30",
          "tempF": "87",
          "time": "1300",
          "uvIndex": "8",
          "visibility": "10",
          "visibilityMiles": "6",
          "weatherCode": "116",
          "weatherDesc": [
           {
            "value": "Partly cloudy"
           }
          ],
          "weatherIconUrl": [
           {
            "value": "http://cdn.worldweatheronline.net/images/wsymbols01_png_64/wsymbol_0002_sunny_intervals.png"
           }
          ],
          "winddir16Point": "SSE",
          "winddirDegree": "166",
          "windspeedKmph": "10",
          "windspeedMiles": "6"
         },
         {
          "DewPointC": "17",
          "DewPointF": "62",
          "FeelsLikeC": "32",
          "FeelsLikeF": "90",
          "HeatIndexC": "32",
          "HeatIndexF": "90",
          "WindChillC": "31",
          "WindChillF": "88",
          "WindGustKmph": "11",
          "WindGustMiles": "7",
          "chanceoffog": "0",
          "chanceoffrost": "0",
          "chanceofhightemp": "50",
          "chanceofovercast": "42",
          "chanceofrain": "0",
          "chanceofremdry": "82",
          "chanceofsnow": "0",
          "chanceofsunshine": "75",
          "chanceofthunder": "0",
          "chanceofwindy": "0",
          "cloudcover": "14",
          "humidity": "43",
          "precipInches": "0.0",
          "precipMM": "0.0",
          "pressure": "1011",
          "pressureInches": "30",
          "tempC": "31",
          "tempF": "88",
          "time": "1400",
          "uvIndex": "8",
          "visibility": "10",
          "visibilityMiles": "6",
          "weatherCode": "116",
          "weatherDesc": [
           {
            "value": "Partly cloudy"
           }
          ],
          "weatherIconUrl": [
           {
            "value": "http://cdn.worldweatheronline.net/images/wsymbols01_png_64/wsymbol_0002_sunny_intervals.png"
           }
          ],
          "winddir16Point": "S",
          "winddirDegree": "170",
          "windspeedKmph": "9",
          "windspeedMiles": "6"
         },
         {
          "DewPointC": "16",
          "DewPointF": "61",
          "FeelsLikeC": "33",
          "FeelsLikeF": "91",
          "HeatIndexC": "33",
          "HeatIndexF": "91",
          "WindChillC": "32",
          "WindChillF": "89",
          "WindGustKmph": "10",
          "WindGustMiles": "6",
          "chanceoffog": "0",
          "chanceoffrost": "0",
          "chanceofhightemp": "50",
          "chanceofovercast": "40",
          "chanceofrain": "0",
          "chanceofremdry": "85",
          "chanceofsnow": "0",
          "chanceofsunshine": "78",
          "chanceofthunder": "0",
          "chanceofwindy": "0",
          "cloudcover": "17",
          "humidity": "39",
          "precipInches": "0.0",
          "precipMM": "0.0",
          "pressure": "1010",
          "pressureInches": "30",
          "tempC": "32",
          "tempF": "89",
          "time": "1500",
          "uvIndex": "8",
          "visibility": "10",
          "visibilityMiles": "6",
          "weatherCode": "116",
          "weatherDesc": [
           {
            "value": "Partly cloudy"
           }
          ],
          "weatherIconUrl": [
           {
            "value": "http://cdn.worldweatheronline.net/images/wsymbols01_png_64/wsymbol_0002_sunny_intervals.png"
           }
          ],
          "winddir16Point": "S",
          "winddirDegree": "174",
          "windspeedKmph": "9",
          "windspeedMiles": "6"
         },
         {
          "DewPointC": "15",
          "DewPointF": "59",
          "FeelsLikeC": "33",
          "FeelsLikeF": "91",
          "HeatIndexC": "33",
          "HeatIndexF": "91",
          "WindChillC": "33",
          "WindChillF": "91",
          "WindGustKmph": "9",
          "WindGustMiles": "6",
          "chanceoffog": "0",
          "chanceoffrost": "0",
          "chanceofhightemp": "50",
          "chanceofovercast": "37",
          "chanceofrain": "0",
          "chanceofremdry": "87",
          "chanceofsnow": "0",
          "chanceofsunshine": "82",
          "chanceofthunder": "0",
          "chanceofwindy": "0",
          "cloudcover": "20",
          "humidity": "35",
          "precipInches": "0.0",
          "precipMM": "0.0",
          "pressure": "1009",
          "pressureInches": "30",
          "tempC": "33",
          "tempF": "91",
          "time": "1600",
          "uvIndex": "8",
          "visibility": "10",
          "visibilityMiles": "6",
          "weatherCode": "116",
          "weatherDesc": [
           {
            "value": "Partly cloudy"
           }
          ],
          "weatherIconUrl": [
           {
            "value": "http://cdn.worldweatheronline.net/images/wsymbols01_png_64/wsymbol_0002_sunny_intervals.png"
           }
          ],
          "winddir16Point": "S",
          "winddirDegree": "179",
          "windspeedKmph": "8",
          "windspeedMiles": "5"
         },
         {
          "DewPointC": "16",
          "DewPointF": "60",
          "FeelsLikeC": "32",
          "FeelsLikeF": "90",
          "HeatIndexC": "32",
          "HeatIndexF": "90",
          "WindChillC": "32",
          "WindChillF": "89",
          "WindGustKmph": "10",
          "WindGustMiles": "6",
          "chanceoffog": "0",
          "chanceoffrost": "0",
          "chanceofhightemp": "50",
          "chanceofovercast": "39",
          "chanceofrain": "0",
          "chanceofremdry": "86",
          "chanceofsnow": "0",
          "chanceofsunshine": "79",
          "chanceofthunder": "0",
          "chanceofwindy": "0",
          "cloudcover": "21",
          "humidity": "38",
          "precipInches": "0.0",
          "precipMM": "0.0",
          "pressure": "1009",
          "pressureInches": "30",
          "tempC": "32",
          "tempF": "89",
          "time": "1700",
          "uvIndex": "8",
          "visibility": "10",
          "visibilityMiles": "6",
          "weatherCode": "116",
          "weatherDesc": [
           {
            "value": "Partly cloudy"
           }
          ],
          "weatherIconUrl": [
           {
            "value": "http://cdn.worldweatheronline.net/images/wsymbols01_png_64/wsymbol_0002_sunny_intervals.png"
           }
          ],
          "winddir16Point": "S",
          "winddirDegree": "183",
          "windspeedKmph": "8",
          "windspeedMiles": "5"
         },
         {
          "DewPointC": "16",
          "DewPointF": "60",
          "FeelsLikeC": "31",
          "FeelsLikeF": "88",
          "HeatIndexC": "31",
          "HeatIndexF": "88",
          "WindChillC": "31",
          "WindChillF": "87",
          "WindGustKmph": "10",
          "WindGustMiles": "6",
          "chanceoffog": "0",
          "chanceoffrost": "0",
          "chanceofhightemp": "50",
          "chanceofovercast": "42",
          "chanceofrain": "0",
          "chanceofremdry": "85",
          "chanceofsnow": "0",
          "chanceofsunshine": "77",
          "chanceofthunder": "0",
          "chanceofwindy": "0",
          "cloudcover": "22",
          "humidity": "41",
          "precipInches": "0.0",
          "precipMM": "0.0",
          "pressure": "1010",
          "pressureInches": "30",
          "tempC": "31",
          "tempF": "87",
          "time": "1800",
          "uvIndex": "8",
          "visibility": "10",
          "visibilityMiles": "6",
          "weatherCode": "116",
          "weatherDesc": [
           {
            "value": "Partly cloudy"
           }
          ],
          "weatherIconUrl": [
           {
            "value": "http://cdn.worldweatheronline.net/images/wsymbols01_png_64/wsymbol_0002_sunny_intervals.png"
           }
          ],
          "winddir16Point": "S",
          "winddirDegree": "187",
          "windspeedKmph": "8",
          "windspeedMiles": "5"
         },
         {
          "DewPointC": "16",
          "DewPointF": "61",
          "FeelsLikeC": "30",
          "FeelsLikeF": "87",
          "HeatIndexC": "30",
          "HeatIndexF": "87",
          "WindChillC": "30",
          "WindChillF": "86",
          "WindGustKmph": "11",
          "WindGustMiles": "7",
          "chanceoffog": "0",
          "chanceoffrost": "0",
          "chanceofhightemp": "50",
          "chanceofovercast": "44",
          "chanceofrain": "0",
          "chanceofremdry": "84",
          "chanceofsnow": "0",
          "chanceofsunshine": "74",
          "chanceofthunder": "0",
          "chanceofwindy": "0",
          "cloudcover": "22",
          "humidity": "43",
          "precipInches": "0.0",
          "precipMM": "0.0",
          "pressure": "1010",
          "pressureInches": "30",
          "tempC": "30",
          "tempF": "86",
          "time": "1900",
          "uvIndex": "7",
          "visibility": "10",
          "visibilityMiles": "6",
          "weatherCode": "116",
          "weatherDesc": [
           {
            "value": "Partly cloudy"
           }
          ],
          "weatherIconUrl": [
           {
            "value": "http://cdn.worldweatheronline.net/images/wsymbols01_png_64/wsymbol_0002_sunny_intervals.png"
           }
          ],
          "winddir16Point": "S",
          "winddirDegree": "191",
          "windspeedKmph": "8",
          "windspeedMiles": "5"
         },
         {
          "DewPointC": "17",
          "DewPointF": "62",
          "FeelsLikeC": "30",
          "FeelsLikeF": "85",
          "HeatIndexC": "30",
          "HeatIndexF": "85",
          "WindChillC": "29",
          "WindChillF": "84",
          "WindGustKmph": "14",
          "WindGustMiles": "9",
          "chanceoffog": "0",
          "chanceoffrost": "0",
          "chanceofhightemp": "46",
          "chanceofovercast": "46",
          "chanceofrain": "0",
          "chanceofremdry": "86",
          "chanceofsnow": "0",
          "chanceofsunshine": "76",
          "chanceofthunder": "0",
          "chanceofwindy": "0",
          "cloudcover": "18",
          "humidity": "50",
          "precipInches": "0.0",
          "precipMM": "0.0",
          "pressure": "1010",
          "pressureInches": "30",
          "tempC": "29",
          "tempF": "84",
          "time": "2000",
          "uvIndex": "0",
          "visibility": "10",
          "visibilityMiles": "6",
          "weatherCode": "116",
          "weatherDesc": [
           {
            "value": "Partly cloudy"
           }
          ],
          "weatherIconUrl": [
           {
            "value": "http://cdn.worldweatheronline.net/images/wsymbols01_png_64/wsymbol_0004_black_low_cloud.png"
           }
          ],
          "winddir16Point": "S",
          "winddirDegree": "177",
          "windspeedKmph": "9",
          "windspeedMiles": "6"
         },
         {
          "DewPointC": "18",
          "DewPointF": "64",
          "FeelsLikeC": "29",
          "FeelsLikeF": "84",
          "HeatIndexC": "29",
          "HeatIndexF": "84",
          "WindChillC": "28",
          "WindChillF": "82",
          "WindGustKmph": "17",
          "WindGustMiles": "11",
          "chanceoffog": "0",
          "chanceoffrost": "0",
          "chanceofhightemp": "43",
          "chanceofovercast": "47",
          "chanceofrain": "0",
          "chanceofremdry": "88",
          "chanceofsnow": "0",
          "chanceofsunshine": "77",
          "chanceofthunder": "0",
          "chanceofwindy": "0",
          "cloudcover": "15",
          "humidity": "56",
          "precipInches": "0.0",
          "precipMM": "0.0",
          "pressure": "1011",
          "pressureInches": "30",
          "tempC": "28",
          "tempF": "82",
          "time": "2100",
          "uvIndex": "0",
          "visibility": "10",
          "visibilityMiles": "6",
          "weatherCode": "116",
          "weatherDesc": [
           {
            "value": "Partly cloudy"
           }
          ],
          "weatherIconUrl": [
           {
            "value": "http://cdn.worldweatheronline.net/images/wsymbols01_png_64/wsymbol_0004_black_low_cloud.png"
           }
          ],
          "winddir16Point": "SSE",
          "winddirDegree": "162",
          "windspeedKmph": "11",
          "windspeedMiles": "7"
         },
         {
          "DewPointC": "19",
          "DewPointF": "65",
          "FeelsLikeC": "28",
          "FeelsLikeF": "82",
          "HeatIndexC": "28",
          "HeatIndexF": "82",
          "WindChillC": "26",
          "WindChillF": "80",
          "WindGustKmph": "20",
          "WindGustMiles": "13",
          "chanceoffog": "0",
          "chanceoffrost": "0",
          "chanceofhightemp": "40",
          "chanceofovercast": "49",
          "chanceofrain": "0",
          "chanceofremdry": "90",
          "chanceofsnow": "0",
          "chanceofsunshine": "79",
          "chanceofthunder": "0",
          "chanceofwindy": "0",
          "cloudcover": "11",
          "humidity": "62",
          "precipInches": "0.0",
          "precipMM": "0.0",
          "pressure": "1012",
          "pressureInches": "30",
          "tempC": "26",
          "tempF": "80",
          "time": "2200",
          "uvIndex": "0",
          "visibility": "10",
          "visibilityMiles": "6",
          "weatherCode": "116",
          "weatherDesc": [
           {
            "value": "Partly cloudy"
           }
          ],
          "weatherIconUrl": [
           {
            "value": "http://cdn.worldweatheronline.net/images/wsymbols01_png_64/wsymbol_0004_black_low_cloud.png"
           }
          ],
          "winddir16Point": "SSE",
          "winddirDegree": "148",
          "windspeedKmph": "13",
          "windspeedMiles": "8"
         },
         {
          "DewPointC": "19",
          "DewPointF": "67",
          "FeelsLikeC": "27",
          "FeelsLikeF": "81",
          "HeatIndexC": "27",
          "HeatIndexF": "81",
          "WindChillC": "26",
          "WindChillF": "78",
          "WindGustKmph": "18",
          "WindGustMiles": "11",
          "chanceoffog": "0",
          "chanceoffrost": "0",
          "chanceofhightemp": "32",
          "chanceofovercast": "44",
          "chanceofrain": "0",
          "chanceofremdry": "88",
          "chanceofsnow": "0",
          "chanceofsunshine": "78",
          "chanceofthunder": "0",
          "chanceofwindy": "0",
          "cloudcover": "9",
          "humidity": "68",
          "precipInches": "0.0",
          "precipMM": "0.0",
          "pressure": "1012",
          "pressureInches": "30",
          "tempC": "26",
          "tempF": "78",
          "time": "2300",
          "uvIndex": "0",
          "visibility": "10",
          "visibilityMiles": "6",
          "weatherCode": "116",
          "weatherDesc": [
           {
            "value": "Partly cloudy"
           }
          ],
          "weatherIconUrl": [
           {
            "value": "http://cdn.worldweatheronline.net/images/wsymbols01_png_64/wsymbol_0004_black_low_cloud.png"
           }
          ],
          "winddir16Point": "SSE",
          "winddirDegree": "154",
          "windspeedKmph": "12",
          "windspeedMiles": "7"
         }
        ],
        "maxtempC": "33",
        "maxtempF": "91",
        "mintempC": "22",
        "mintempF": "72",
        "sunHour": "0.0",
        "totalSnow_cm": "0.0",
        "uvIndex": "7"
       },
       {
        "astronomy": [
         {
          "moon_illumination": "56",
          "moon_phase": "First Quarter",
          "moonrise": "04:03 PM",
          "moonset": "01:52 AM",
          "sunrise": "07:28 AM",
          "sunset": "07:09 PM"
         }
        ],
        "avgtempC": "27",
        "avgtempF": "80",
        "date": "2019-10-07",
        "hourly": [
         {
          "DewPointC": "20",
          "DewPointF": "68",
          "FeelsLikeC": "27",
          "FeelsLikeF": "80",
          "HeatIndexC": "27",
          "HeatIndexF": "80",
          "WindChillC": "25",
          "WindChillF": "77",
          "WindGustKmph": "17",
          "WindGustMiles": "11",
          "chanceoffog": "0",
          "chanceoffrost": "0",
          "chanceofhightemp": "23",
          "chanceofovercast": "38",
          "chanceofrain": "0",
          "chanceofremdry": "87",
          "chanceofsnow": "0",
          "chanceofsunshine": "76",
          "chanceofthunder": "0",
          "chanceofwindy": "0",
          "cloudcover": "7",
          "humidity": "73",
          "precipInches": "0.0",
          "precipMM": "0.0",
          "pressure": "1012",
          "pressureInches": "30",
          "tempC": "25",
          "tempF": "77",
          "time": "0",
          "uvIndex": "0",
          "visibility": "10",
          "visibilityMiles": "6",
          "weatherCode": "116",
          "weatherDesc": [
           {
            "value": "Partly cloudy"
           }
          ],
          "weatherIconUrl": [
           {
            "value": "http://cdn.worldweatheronline.net/images/wsymbols01_png_64/wsymbol_0004_black_low_cloud.png"
           }
          ],
          "winddir16Point": "SSE",
          "winddirDegree": "161",
          "windspeedKmph": "11",
          "windspeedMiles": "7"
         },
         {
          "DewPointC": "21",
          "DewPointF": "69",
          "FeelsLikeC": "26",
          "FeelsLikeF": "80",
          "HeatIndexC": "26",
          "HeatIndexF": "80",
          "WindChillC": "25",
          "WindChillF": "76",
          "WindGustKmph": "15",
          "WindGustMiles": "9",
          "chanceoffog": "0",
          "chanceoffrost": "0",
          "chanceofhightemp": "15",
          "chanceofovercast": "33",
          "chanceofrain": "0",
          "chanceofremdry": "85",
          "chanceofsnow": "0",
          "chanceofsunshine": "75",
          "chanceofthunder": "0",
          "chanceofwindy": "0",
          "cloudcover": "5",
          "humidity": "79",
          "precipInches": "0.0",
          "precipMM": "0.0",
          "pressure": "1012",
          "pressureInches": "30",
          "tempC": "25",
          "tempF": "76",
          "time": "100",
          "uvIndex": "0",
          "visibility": "10",
          "visibilityMiles": "6",
          "weatherCode": "116",
          "weatherDesc": [
           {
            "value": "Partly cloudy"
           }
          ],
          "weatherIconUrl": [
           {
            "value": "http://cdn.worldweatheronline.net/images/wsymbols01_png_64/wsymbol_0004_black_low_cloud.png"
           }
          ],
          "winddir16Point": "SSE",
          "winddirDegree": "167",
          "windspeedKmph": "10",
          "windspeedMiles": "6"
         },
         {
          "DewPointC": "21",
          "DewPointF": "69",
          "FeelsLikeC": "26",
          "FeelsLikeF": "79",
          "HeatIndexC": "26",
          "HeatIndexF": "79",
          "WindChillC": "24",
          "WindChillF": "76",
          "WindGustKmph": "13",
          "WindGustMiles": "8",
          "chanceoffog": "0",
          "chanceoffrost": "0",
          "chanceofhightemp": "15",
          "chanceofovercast": "36",
          "chanceofrain": "0",
          "chanceofremdry": "88",
          "chanceofsnow": "0",
          "chanceofsunshine": "76",
          "chanceofthunder": "0",
          "chanceofwindy": "0",
          "cloudcover": "8",
          "humidity": "80",
          "precipInches": "0.0",
          "precipMM": "0.0",
          "pressure": "1012",
          "pressureInches": "30",
          "tempC": "24",
          "tempF": "76",
          "time": "200",
          "uvIndex": "0",
          "visibility": "10",
          "visibilityMiles": "6",
          "weatherCode": "116",
          "weatherDesc": [
           {
            "value": "Partly cloudy"
           }
          ],
          "weatherIconUrl": [
           {
            "value": "http://cdn.worldweatheronline.net/images/wsymbols01_png_64/wsymbol_0004_black_low_cloud.png"
           }
          ],
          "winddir16Point": "S",
          "winddirDegree": "172",
          "windspeedKmph": "9",
          "windspeedMiles": "5"
         },
         {
          "DewPointC": "21",
          "DewPointF": "69",
          "FeelsLikeC": "26",
          "FeelsLikeF": "79",
          "HeatIndexC": "26",
          "HeatIndexF": "79",
          "WindChillC": "24",
          "WindChillF": "76",
          "WindGustKmph": "11",
          "WindGustMiles": "7",
          "chanceoffog": "0",
          "chanceoffrost": "0",
          "chanceofhightemp": "15",
          "chanceofovercast": "40",
          "chanceofrain": "0",
          "chanceofremdry": "91",
          "chanceofsnow": "0",
          "chanceofsunshine": "77",
          "chanceofthunder": "0",
          "chanceofwindy": "0",
          "cloudcover": "10",
          "humidity": "82",
          "precipInches": "0.0",
          "precipMM": "0.0",
          "pressure": "1012",
          "pressureInches": "30",
          "tempC": "24",
          "tempF": "76",
          "time": "300",
          "uvIndex": "0",
          "visibility": "10",
          "visibilityMiles": "6",
          "weatherCode": "116",
          "weatherDesc": [
           {
            "value": "Partly cloudy"
           }
          ],
          "weatherIconUrl": [
           {
            "value": "http://cdn.worldweatheronline.net/images/wsymbols01_png_64/wsymbol_0004_black_low_cloud.png"
           }
          ],
          "winddir16Point": "S",
          "winddirDegree": "176",
          "windspeedKmph": "8",
          "windspeedMiles": "5"
         },
         {
          "DewPointC": "21",
          "DewPointF": "70",
          "FeelsLikeC": "26",
          "FeelsLikeF": "79",
          "HeatIndexC": "26",
          "HeatIndexF": "79",
          "WindChillC": "24",
          "WindChillF": "75",
          "WindGustKmph": "9",
          "WindGustMiles": "6",
          "chanceoffog": "0",
          "chanceoffrost": "0",
          "chanceofhightemp": "15",
          "chanceofovercast": "43",
          "chanceofrain": "0",
          "chanceofremdry": "94",
          "chanceofsnow": "0",
          "chanceofsunshine": "78",
          "chanceofthunder": "0",
          "chanceofwindy": "0",
          "cloudcover": "12",
          "humidity": "83",
          "precipInches": "0.0",
          "precipMM": "0.0",
          "pressure": "1012",
          "pressureInches": "30",
          "tempC": "24",
          "tempF": "75",
          "time": "400",
          "uvIndex": "0",
          "visibility": "10",
          "visibilityMiles": "6",
          "weatherCode": "116",
          "weatherDesc": [
           {
            "value": "Partly cloudy"
           }
          ],
          "weatherIconUrl": [
           {
            "value": "http://cdn.worldweatheronline.net/images/wsymbols01_png_64/wsymbol_0004_black_low_cloud.png"
           }
          ],
          "winddir16Point": "S",
          "winddirDegree": "181",
          "windspeedKmph": "6",
          "windspeedMiles": "4"
         },
         {
          "DewPointC": "21",
          "DewPointF": "70",
          "FeelsLikeC": "26",
          "FeelsLikeF": "79",
          "HeatIndexC": "26",
          "HeatIndexF": "79",
          "WindChillC": "24",
          "WindChillF": "75",
          "WindGustKmph": "6",
          "WindGustMiles": "4",
          "chanceoffog": "0",
          "chanceoffrost": "0",
          "chanceofhightemp": "13",
          "chanceofovercast": "41",
          "chanceofrain": "0",
          "chanceofremdry": "92",
          "chanceofsnow": "0",
          "chanceofsunshine": "80",
          "chanceofthunder": "0",
          "chanceofwindy": "0",
          "cloudcover": "10",
          "humidity": "84",
          "precipInches": "0.0",
          "precipMM": "0.0",
          "pressure": "1012",
          "pressureInches": "30",
          "tempC": "24",
          "tempF": "75",
          "time": "500",
          "uvIndex": "0",
          "visibility": "10",
          "visibilityMiles": "6",
          "weatherCode": "116",
          "weatherDesc": [
           {
            "value": "Partly cloudy"
           }
          ],
          "weatherIconUrl": [
           {
            "value": "http://cdn.worldweatheronline.net/images/wsymbols01_png_64/wsymbol_0004_black_low_cloud.png"
           }
          ],
          "winddir16Point": "SSW",
          "winddirDegree": "206",
          "windspeedKmph": "4",
          "windspeedMiles": "3"
         },
         {
          "DewPointC": "21",
          "DewPointF": "70",
          "FeelsLikeC": "26",
          "FeelsLikeF": "79",
          "HeatIndexC": "26",
          "HeatIndexF": "79",
          "WindChillC": "24",
          "WindChillF": "75",
          "WindGustKmph": "4",
          "WindGustMiles": "2",
          "chanceoffog": "0",
          "chanceoffrost": "0",
          "chanceofhightemp": "12",
          "chanceofovercast": "38",
          "chanceofrain": "0",
          "chanceofremdry": "89",
          "chanceofsnow": "0",
          "chanceofsunshine": "82",
          "chanceofthunder": "0",
          "chanceofwindy": "0",
          "cloudcover": "8",
          "humidity": "84",
          "precipInches": "0.0",
          "precipMM": "0.0",
          "pressure": "1012",
          "pressureInches": "30",
          "tempC": "24",
          "tempF": "75",
          "time": "600",
          "uvIndex": "0",
          "visibility": "10",
          "visibilityMiles": "6",
          "weatherCode": "116",
          "weatherDesc": [
           {
            "value": "Partly cloudy"
           }
          ],
          "weatherIconUrl": [
           {
            "value": "http://cdn.worldweatheronline.net/images/wsymbols01_png_64/wsymbol_0004_black_low_cloud.png"
           }
          ],
          "winddir16Point": "SW",
          "winddirDegree": "231",
          "windspeedKmph": "3",
          "windspeedMiles": "2"
         },
         {
          "DewPointC": "21",
          "DewPointF": "70",
          "FeelsLikeC": "26",
          "FeelsLikeF": "79",
          "HeatIndexC": "26",
          "HeatIndexF": "79",
          "WindChillC": "24",
          "WindChillF": "75",
          "WindGustKmph": "1",
          "WindGustMiles": "1",
          "chanceoffog": "0",
          "chanceoffrost": "0",
          "chanceofhightemp": "10",
          "chanceofovercast": "36",
          "chanceofrain": "0",
          "chanceofremdry": "87",
          "chanceofsnow": "0",
          "chanceofsunshine": "84",
          "chanceofthunder": "0",
          "chanceofwindy": "0",
          "cloudcover": "6",
          "humidity": "85",
          "precipInches": "0.0",
          "precipMM": "0.0",
          "pressure": "1013",
          "pressureInches": "30",
          "tempC": "24",
          "tempF": "75",
          "time": "700",
          "uvIndex": "0",
          "visibility": "10",
          "visibilityMiles": "6",
          "weatherCode": "116",
          "weatherDesc": [
           {
            "value": "Partly cloudy"
           }
          ],
          "weatherIconUrl": [
           {
            "value": "http://cdn.worldweatheronline.net/images/wsymbols01_png_64/wsymbol_0004_black_low_cloud.png"
           }
          ],
          "winddir16Point": "WSW",
          "winddirDegree": "255",
          "windspeedKmph": "1",
          "windspeedMiles": "0"
         },
         {
          "DewPointC": "21",
          "DewPointF": "69",
          "FeelsLikeC": "27",
          "FeelsLikeF": "81",
          "HeatIndexC": "27",
          "HeatIndexF": "81",
          "WindChillC": "25",
          "WindChillF": "77",
          "WindGustKmph": "5",
          "WindGustMiles": "3",
          "chanceoffog": "0",
          "chanceoffrost": "0",
          "chanceofhightemp": "22",
          "chanceofovercast": "38",
          "chanceofrain": "0",
          "chanceofremdry": "89",
          "chanceofsnow": "0",
          "chanceofsunshine": "84",
          "chanceofthunder": "0",
          "chanceofwindy": "0",
          "cloudcover": "11",
          "humidity": "76",
          "precipInches": "0.0",
          "precipMM": "0.0",
          "pressure": "1014",
          "pressureInches": "30",
          "tempC": "25",
          "tempF": "77",
          "time": "800",
          "uvIndex": "7",
          "visibility": "10",
          "visibilityMiles": "6",
          "weatherCode": "116",
          "weatherDesc": [
           {
            "value": "Partly cloudy"
           }
          ],
          "weatherIconUrl": [
           {
            "value": "http://cdn.worldweatheronline.net/images/wsymbols01_png_64/wsymbol_0002_sunny_intervals.png"
           }
          ],
          "winddir16Point": "S",
          "winddirDegree": "178",
          "windspeedKmph": "4",
          "windspeedMiles": "2"
         },
         {
          "DewPointC": "20",
          "DewPointF": "68",
          "FeelsLikeC": "28",
          "FeelsLikeF": "83",
          "HeatIndexC": "28",
          "HeatIndexF": "83",
          "WindChillC": "27",
          "WindChillF": "80",
          "WindGustKmph": "8",
          "WindGustMiles": "5",
          "chanceoffog": "0",
          "chanceoffrost": "0",
          "chanceofhightemp": "33",
          "chanceofovercast": "39",
          "chanceofrain": "0",
          "chanceofremdry": "91",
          "chanceofsnow": "0",
          "chanceofsunshine": "84",
          "chanceofthunder": "0",
          "chanceofwindy": "0",
          "cloudcover": "16",
          "humidity": "68",
          "precipInches": "0.0",
          "precipMM": "0.0",
          "pressure": "1014",
          "pressureInches": "30",
          "tempC": "27",
          "tempF": "80",
          "time": "900",
          "uvIndex": "7",
          "visibility": "10",
          "visibilityMiles": "6",
          "weatherCode": "116",
          "weatherDesc": [
           {
            "value": "Partly cloudy"
           }
          ],
          "weatherIconUrl": [
           {
            "value": "http://cdn.worldweatheronline.net/images/wsymbols01_png_64/wsymbol_0002_sunny_intervals.png"
           }
          ],
          "winddir16Point": "E",
          "winddirDegree": "100",
          "windspeedKmph": "7",
          "windspeedMiles": "4"
         },
         {
          "DewPointC": "19",
          "DewPointF": "67",
          "FeelsLikeC": "30",
          "FeelsLikeF": "85",
          "HeatIndexC": "30",
          "HeatIndexF": "85",
          "WindChillC": "28",
          "WindChillF": "82",
          "WindGustKmph": "12",
          "WindGustMiles": "7",
          "chanceoffog": "0",
          "chanceoffrost": "0",
          "chanceofhightemp": "45",
          "chanceofovercast": "41",
          "chanceofrain": "0",
          "chanceofremdry": "93",
          "chanceofsnow": "0",
          "chanceofsunshine": "84",
          "chanceofthunder": "0",
          "chanceofwindy": "0",
          "cloudcover": "21",
          "humidity": "59",
          "precipInches": "0.0",
          "precipMM": "0.0",
          "pressure": "1015",
          "pressureInches": "30",
          "tempC": "28",
          "tempF": "82",
          "time": "1000",
          "uvIndex": "7",
          "visibility": "10",
          "visibilityMiles": "6",
          "weatherCode": "116",
          "weatherDesc": [
           {
            "value": "Partly cloudy"
           }
          ],
          "weatherIconUrl": [
           {
            "value": "http://cdn.worldweatheronline.net/images/wsymbols01_png_64/wsymbol_0002_sunny_intervals.png"
           }
          ],
          "winddir16Point": "NNE",
          "winddirDegree": "22",
          "windspeedKmph": "10",
          "windspeedMiles": "6"
         },
         {
          "DewPointC": "19",
          "DewPointF": "66",
          "FeelsLikeC": "31",
          "FeelsLikeF": "87",
          "HeatIndexC": "31",
          "HeatIndexF": "87",
          "WindChillC": "29",
          "WindChillF": "84",
          "WindGustKmph": "16",
          "WindGustMiles": "10",
          "chanceoffog": "0",
          "chanceoffrost": "0",
          "chanceofhightemp": "47",
          "chanceofovercast": "39",
          "chanceofrain": "0",
          "chanceofremdry": "93",
          "chanceofsnow": "0",
          "chanceofsunshine": "82",
          "chanceofthunder": "0",
          "chanceofwindy": "0",
          "cloudcover": "30",
          "humidity": "55",
          "precipInches": "0.0",
          "precipMM": "0.0",
          "pressure": "1015",
          "pressureInches": "30",
          "tempC": "29",
          "tempF": "84",
          "time": "1100",
          "uvIndex": "7",
          "visibility": "10",
          "visibilityMiles": "6",
          "weatherCode": "116",
          "weatherDesc": [
           {
            "value": "Partly cloudy"
           }
          ],
          "weatherIconUrl": [
           {
            "value": "http://cdn.worldweatheronline.net/images/wsymbols01_png_64/wsymbol_0002_sunny_intervals.png"
           }
          ],
          "winddir16Point": "NNE",
          "winddirDegree": "23",
          "windspeedKmph": "14",
          "windspeedMiles": "9"
         },
         {
          "DewPointC": "19",
          "DewPointF": "66",
          "FeelsLikeC": "32",
          "FeelsLikeF": "89",
          "HeatIndexC": "32",
          "HeatIndexF": "89",
          "WindChillC": "30",
          "WindChillF": "86",
          "WindGustKmph": "20",
          "WindGustMiles": "13",
          "chanceoffog": "0",
          "chanceoffrost": "0",
          "chanceofhightemp": "48",
          "chanceofovercast": "38",
          "chanceofrain": "0",
          "chanceofremdry": "93",
          "chanceofsnow": "0",
          "chanceofsunshine": "80",
          "chanceofthunder": "0",
          "chanceofwindy": "0",
          "cloudcover": "39",
          "humidity": "52",
          "precipInches": "0.0",
          "precipMM": "0.0",
          "pressure": "1015",
          "pressureInches": "30",
          "tempC": "30",
          "tempF": "86",
          "time": "1200",
          "uvIndex": "7",
          "visibility": "10",
          "visibilityMiles": "6",
          "weatherCode": "116",
          "weatherDesc": [
           {
            "value": "Partly cloudy"
           }
          ],
          "weatherIconUrl": [
           {
            "value": "http://cdn.worldweatheronline.net/images/wsymbols01_png_64/wsymbol_0002_sunny_intervals.png"
           }
          ],
          "winddir16Point": "NNE",
          "winddirDegree": "23",
          "windspeedKmph": "17",
          "windspeedMiles": "11"
         },
         {
          "DewPointC": "19",
          "DewPointF": "65",
          "FeelsLikeC": "33",
          "FeelsLikeF": "91",
          "HeatIndexC": "33",
          "HeatIndexF": "91",
          "WindChillC": "31",
          "WindChillF": "88",
          "WindGustKmph": "24",
          "WindGustMiles": "15",
          "chanceoffog": "0",
          "chanceoffrost": "0",
          "chanceofhightemp": "50",
          "chanceofovercast": "36",
          "chanceofrain": "0",
          "chanceofremdry": "93",
          "chanceofsnow": "0",
          "chanceofsunshine": "78",
          "chanceofthunder": "0",
          "chanceofwindy": "0",
          "cloudcover": "48",
          "humidity": "48",
          "precipInches": "0.0",
          "precipMM": "0.0",
          "pressure": "1015",
          "pressureInches": "30",
          "tempC": "31",
          "tempF": "88",
          "time": "1300",
          "uvIndex": "8",
          "visibility": "10",
          "visibilityMiles": "6",
          "weatherCode": "116",
          "weatherDesc": [
           {
            "value": "Partly cloudy"
           }
          ],
          "weatherIconUrl": [
           {
            "value": "http://cdn.worldweatheronline.net/images/wsymbols01_png_64/wsymbol_0002_sunny_intervals.png"
           }
          ],
          "winddir16Point": "NNE",
          "winddirDegree": "23",
          "windspeedKmph": "21",
          "windspeedMiles": "13"
         },
         {
          "DewPointC": "19",
          "DewPointF": "65",
          "FeelsLikeC": "32",
          "FeelsLikeF": "90",
          "HeatIndexC": "32",
          "HeatIndexF": "90",
          "WindChillC": "31",
          "WindChillF": "87",
          "WindGustKmph": "25",
          "WindGustMiles": "16",
          "chanceoffog": "0",
          "chanceoffrost": "0",
          "chanceofhightemp": "50",
          "chanceofovercast": "51",
          "chanceofrain": "25",
          "chanceofremdry": "62",
          "chanceofsnow": "0",
          "chanceofsunshine": "52",
          "chanceofthunder": "0",
          "chanceofwindy": "0",
          "cloudcover": "50",
          "humidity": "49",
          "precipInches": "0.0",
          "precipMM": "0.1",
          "pressure": "1014",
          "pressureInches": "30",
          "tempC": "31",
          "tempF": "87",
          "time": "1400",
          "uvIndex": "7",
          "visibility": "10",
          "visibilityMiles": "6",
          "weatherCode": "353",
          "weatherDesc": [
           {
            "value": "Light rain shower"
           }
          ],
          "weatherIconUrl": [
           {
            "value": "http://cdn.worldweatheronline.net/images/wsymbols01_png_64/wsymbol_0009_light_rain_showers.png"
           }
          ],
          "winddir16Point": "NNE",
          "winddirDegree": "23",
          "windspeedKmph": "22",
          "windspeedMiles": "13"
         },
         {
          "DewPointC": "19",
          "DewPointF": "65",
          "FeelsLikeC": "32",
          "FeelsLikeF": "89",
          "HeatIndexC": "32",
          "HeatIndexF": "89",
          "WindChillC": "30",
          "WindChillF": "86",
          "WindGustKmph": "26",
          "WindGustMiles": "16",
          "chanceoffog": "0",
          "chanceoffrost": "0",
          "chanceofhightemp": "50",
          "chanceofovercast": "66",
          "chanceofrain": "50",
          "chanceofremdry": "31",
          "chanceofsnow": "0",
          "chanceofsunshine": "26",
          "chanceofthunder": "0",
          "chanceofwindy": "0",
          "cloudcover": "52",
          "humidity": "50",
          "precipInches": "0.0",
          "precipMM": "0.1",
          "pressure": "1014",
          "pressureInches": "30",
          "tempC": "30",
          "tempF": "86",
          "time": "1500",
          "uvIndex": "8",
          "visibility": "10",
          "visibilityMiles": "6",
          "weatherCode": "116",
          "weatherDesc": [
           {
            "value": "Partly cloudy"
           }
          ],
          "weatherIconUrl": [
           {
            "value": "http://cdn.worldweatheronline.net/images/wsymbols01_png_64/wsymbol_0002_sunny_intervals.png"
           }
          ],
          "winddir16Point": "NNE",
          "winddirDegree": "22",
          "windspeedKmph": "23",
          "windspeedMiles": "14"
         },
         {
          "DewPointC": "19",
          "DewPointF": "65",
          "FeelsLikeC": "31",
          "FeelsLikeF": "88",
          "HeatIndexC": "31",
          "HeatIndexF": "88",
          "WindChillC": "30",
          "WindChillF": "85",
          "WindGustKmph": "27",
          "WindGustMiles": "17",
          "chanceoffog": "0",
          "chanceoffrost": "0",
          "chanceofhightemp": "50",
          "chanceofovercast": "81",
          "chanceofrain": "75",
          "chanceofremdry": "0",
          "chanceofsnow": "0",
          "chanceofsunshine": "0",
          "chanceofthunder": "0",
          "chanceofwindy": "0",
          "cloudcover": "53",
          "humidity": "51",
          "precipInches": "0.0",
          "precipMM": "0.2",
          "pressure": "1013",
          "pressureInches": "30",
          "tempC": "30",
          "tempF": "85",
          "time": "1600",
          "uvIndex": "6",
          "visibility": "10",
          "visibilityMiles": "6",
          "weatherCode": "353",
          "weatherDesc": [
           {
            "value": "Light rain shower"
           }
          ],
          "weatherIconUrl": [
           {
            "value": "http://cdn.worldweatheronline.net/images/wsymbols01_png_64/wsymbol_0009_light_rain_showers.png"
           }
          ],
          "winddir16Point": "NNE",
          "winddirDegree": "21",
          "windspeedKmph": "23",
          "windspeedMiles": "15"
         },
         {
          "DewPointC": "18",
          "DewPointF": "65",
          "FeelsLikeC": "30",
          "FeelsLikeF": "87",
          "HeatIndexC": "30",
          "HeatIndexF": "87",
          "WindChillC": "29",
          "WindChillF": "84",
          "WindGustKmph": "27",
          "WindGustMiles": "17",
          "chanceoffog": "0",
          "chanceoffrost": "0",
          "chanceofhightemp": "48",
          "chanceofovercast": "81",
          "chanceofrain": "73",
          "chanceofremdry": "0",
          "chanceofsnow": "0",
          "chanceofsunshine": "0",
          "chanceofthunder": "0",
          "chanceofwindy": "0",
          "cloudcover": "62",
          "humidity": "52",
          "precipInches": "0.0",
          "precipMM": "0.2",
          "pressure": "1013",
          "pressureInches": "30",
          "tempC": "29",
          "tempF": "84",
          "time": "1700",
          "uvIndex": "6",
          "visibility": "10",
          "visibilityMiles": "6",
          "weatherCode": "176",
          "weatherDesc": [
           {
            "value": "Patchy rain possible"
           }
          ],
          "weatherIconUrl": [
           {
            "value": "http://cdn.worldweatheronline.net/images/wsymbols01_png_64/wsymbol_0009_light_rain_showers.png"
           }
          ],
          "winddir16Point": "NNE",
          "winddirDegree": "24",
          "windspeedKmph": "22",
          "windspeedMiles": "14"
         },
         {
          "DewPointC": "18",
          "DewPointF": "64",
          "FeelsLikeC": "30",
          "FeelsLikeF": "85",
          "HeatIndexC": "30",
          "HeatIndexF": "85",
          "WindChillC": "28",
          "WindChillF": "83",
          "WindGustKmph": "27",
          "WindGustMiles": "17",
          "chanceoffog": "0",
          "chanceoffrost": "0",
          "chanceofhightemp": "47",
          "chanceofovercast": "82",
          "chanceofrain": "72",
          "chanceofremdry": "0",
          "chanceofsnow": "0",
          "chanceofsunshine": "0",
          "chanceofthunder": "0",
          "chanceofwindy": "0",
          "cloudcover": "70",
          "humidity": "54",
          "precipInches": "0.0",
          "precipMM": "0.3",
          "pressure": "1014",
          "pressureInches": "30",
          "tempC": "28",
          "tempF": "83",
          "time": "1800",
          "uvIndex": "6",
          "visibility": "9",
          "visibilityMiles": "5",
          "weatherCode": "353",
          "weatherDesc": [
           {
            "value": "Light rain shower"
           }
          ],
          "weatherIconUrl": [
           {
            "value": "http://cdn.worldweatheronline.net/images/wsymbols01_png_64/wsymbol_0009_light_rain_showers.png"
           }
          ],
          "winddir16Point": "NNE",
          "winddirDegree": "26",
          "windspeedKmph": "22",
          "windspeedMiles": "13"
         },
         {
          "DewPointC": "18",
          "DewPointF": "64",
          "FeelsLikeC": "29",
          "FeelsLikeF": "83",
          "HeatIndexC": "29",
          "HeatIndexF": "83",
          "WindChillC": "28",
          "WindChillF": "82",
          "WindGustKmph": "26",
          "WindGustMiles": "16",
          "chanceoffog": "0",
          "chanceoffrost": "0",
          "chanceofhightemp": "45",
          "chanceofovercast": "82",
          "chanceofrain": "70",
          "chanceofremdry": "0",
          "chanceofsnow": "0",
          "chanceofsunshine": "0",
          "chanceofthunder": "0",
          "chanceofwindy": "0",
          "cloudcover": "79",
          "humidity": "55",
          "precipInches": "0.0",
          "precipMM": "0.3",
          "pressure": "1014",
          "pressureInches": "30",
          "tempC": "28",
          "tempF": "82",
          "time": "1900",
          "uvIndex": "6",
          "visibility": "9",
          "visibilityMiles": "5",
          "weatherCode": "176",
          "weatherDesc": [
           {
            "value": "Patchy rain possible"
           }
          ],
          "weatherIconUrl": [
           {
            "value": "http://cdn.worldweatheronline.net/images/wsymbols01_png_64/wsymbol_0009_light_rain_showers.png"
           }
          ],
          "winddir16Point": "NNE",
          "winddirDegree": "28",
          "windspeedKmph": "21",
          "windspeedMiles": "13"
         },
         {
          "DewPointC": "17",
          "DewPointF": "62",
          "FeelsLikeC": "28",
          "FeelsLikeF": "82",
          "HeatIndexC": "28",
          "HeatIndexF": "82",
          "WindChillC": "27",
          "WindChillF": "80",
          "WindGustKmph": "27",
          "WindGustMiles": "17",
          "chanceoffog": "0",
          "chanceoffrost": "0",
          "chanceofhightemp": "35",
          "chanceofovercast": "69",
          "chanceofrain": "47",
          "chanceofremdry": "28",
          "chanceofsnow": "0",
          "chanceofsunshine": "26",
          "chanceofthunder": "0",
          "chanceofwindy": "0",
          "cloudcover": "59",
          "humidity": "55",
          "precipInches": "0.0",
          "precipMM": "0.2",
          "pressure": "1015",
          "pressureInches": "30",
          "tempC": "27",
          "tempF": "80",
          "time": "2000",
          "uvIndex": "0",
          "visibility": "9",
          "visibilityMiles": "5",
          "weatherCode": "116",
          "weatherDesc": [
           {
            "value": "Partly cloudy"
           }
          ],
          "weatherIconUrl": [
           {
            "value": "http://cdn.worldweatheronline.net/images/wsymbols01_png_64/wsymbol_0004_black_low_cloud.png"
           }
          ],
          "winddir16Point": "NNE",
          "winddirDegree": "27",
          "windspeedKmph": "21",
          "windspeedMiles": "13"
         },
         {
          "DewPointC": "16",
          "DewPointF": "60",
          "FeelsLikeC": "27",
          "FeelsLikeF": "80",
          "HeatIndexC": "27",
          "HeatIndexF": "80",
          "WindChillC": "25",
          "WindChillF": "78",
          "WindGustKmph": "28",
          "WindGustMiles": "17",
          "chanceoffog": "0",
          "chanceoffrost": "0",
          "chanceofhightemp": "25",
          "chanceofovercast": "57",
          "chanceofrain": "23",
          "chanceofremdry": "56",
          "chanceofsnow": "0",
          "chanceofsunshine": "51",
          "chanceofthunder": "0",
          "chanceofwindy": "0",
          "cloudcover": "39",
          "humidity": "54",
          "precipInches": "0.0",
          "precipMM": "0.1",
          "pressure": "1016",
          "pressureInches": "30",
          "tempC": "25",
          "tempF": "78",
          "time": "2100",
          "uvIndex": "0",
          "visibility": "10",
          "visibilityMiles": "6",
          "weatherCode": "176",
          "weatherDesc": [
           {
            "value": "Patchy rain possible"
           }
          ],
          "weatherIconUrl": [
           {
            "value": "http://cdn.worldweatheronline.net/images/wsymbols01_png_64/wsymbol_0025_light_rain_showers_night.png"
           }
          ],
          "winddir16Point": "NNE",
          "winddirDegree": "25",
          "windspeedKmph": "22",
          "windspeedMiles": "13"
         },
         {
          "DewPointC": "15",
          "DewPointF": "58",
          "FeelsLikeC": "26",
          "FeelsLikeF": "78",
          "HeatIndexC": "26",
          "HeatIndexF": "78",
          "WindChillC": "24",
          "WindChillF": "76",
          "WindGustKmph": "28",
          "WindGustMiles": "18",
          "chanceoffog": "0",
          "chanceoffrost": "0",
          "chanceofhightemp": "15",
          "chanceofovercast": "44",
          "chanceofrain": "0",
          "chanceofremdry": "84",
          "chanceofsnow": "0",
          "chanceofsunshine": "77",
          "chanceofthunder": "0",
          "chanceofwindy": "0",
          "cloudcover": "19",
          "humidity": "54",
          "precipInches": "0.0",
          "precipMM": "0.0",
          "pressure": "1017",
          "pressureInches": "31",
          "tempC": "24",
          "tempF": "76",
          "time": "2200",
          "uvIndex": "0",
          "visibility": "10",
          "visibilityMiles": "6",
          "weatherCode": "116",
          "weatherDesc": [
           {
            "value": "Partly cloudy"
           }
          ],
          "weatherIconUrl": [
           {
            "value": "http://cdn.worldweatheronline.net/images/wsymbols01_png_64/wsymbol_0004_black_low_cloud.png"
           }
          ],
          "winddir16Point": "NNE",
          "winddirDegree": "24",
          "windspeedKmph": "22",
          "windspeedMiles": "14"
         },
         {
          "DewPointC": "14",
          "DewPointF": "58",
          "FeelsLikeC": "25",
          "FeelsLikeF": "78",
          "HeatIndexC": "25",
          "HeatIndexF": "78",
          "WindChillC": "24",
          "WindChillF": "74",
          "WindGustKmph": "27",
          "WindGustMiles": "17",
          "chanceoffog": "0",
          "chanceoffrost": "0",
          "chanceofhightemp": "10",
          "chanceofovercast": "44",
          "chanceofrain": "0",
          "chanceofremdry": "87",
          "chanceofsnow": "0",
          "chanceofsunshine": "76",
          "chanceofthunder": "0",
          "chanceofwindy": "0",
          "cloudcover": "22",
          "humidity": "56",
          "precipInches": "0.0",
          "precipMM": "0.0",
          "pressure": "1017",
          "pressureInches": "31",
          "tempC": "24",
          "tempF": "74",
          "time": "2300",
          "uvIndex": "0",
          "visibility": "10",
          "visibilityMiles": "6",
          "weatherCode": "116",
          "weatherDesc": [
           {
            "value": "Partly cloudy"
           }
          ],
          "weatherIconUrl": [
           {
            "value": "http://cdn.worldweatheronline.net/images/wsymbols01_png_64/wsymbol_0004_black_low_cloud.png"
           }
          ],
          "winddir16Point": "NNE",
          "winddirDegree": "24",
          "windspeedKmph": "21",
          "windspeedMiles": "13"
         }
        ],
        "maxtempC": "31",
        "maxtempF": "88",
        "mintempC": "24",
        "mintempF": "75",
        "sunHour": "0.0",
        "totalSnow_cm": "0.0",
        "uvIndex": "7"
       },
       {
        "astronomy": [
         {
          "moon_illumination": "63",
          "moon_phase": "First Quarter",
          "moonrise": "04:42 PM",
          "moonset": "02:46 AM",
          "sunrise": "07:29 AM",
          "sunset": "07:08 PM"
         }
        ],
        "avgtempC": "21",
        "avgtempF": "69",
        "date": "2019-10-08",
        "hourly": [
         {
          "DewPointC": "14",
          "DewPointF": "58",
          "FeelsLikeC": "25",
          "FeelsLikeF": "77",
          "HeatIndexC": "25",
          "HeatIndexF": "77",
          "WindChillC": "23",
          "WindChillF": "73",
          "WindGustKmph": "26",
          "WindGustMiles": "16",
          "chanceoffog": "0",
          "chanceoffrost": "0",
          "chanceofhightemp": "5",
          "chanceofovercast": "43",
          "chanceofrain": "0",
          "chanceofremdry": "90",
          "chanceofsnow": "0",
          "chanceofsunshine": "74",
          "chanceofthunder": "0",
          "chanceofwindy": "0",
          "cloudcover": "25",
          "humidity": "58",
          "precipInches": "0.0",
          "precipMM": "0.0",
          "pressure": "1017",
          "pressureInches": "31",
          "tempC": "23",
          "tempF": "73",
          "time": "0",
          "uvIndex": "0",
          "visibility": "10",
          "visibilityMiles": "6",
          "weatherCode": "116",
          "weatherDesc": [
           {
            "value": "Partly cloudy"
           }
          ],
          "weatherIconUrl": [
           {
            "value": "http://cdn.worldweatheronline.net/images/wsymbols01_png_64/wsymbol_0004_black_low_cloud.png"
           }
          ],
          "winddir16Point": "NNE",
          "winddirDegree": "25",
          "windspeedKmph": "20",
          "windspeedMiles": "13"
         },
         {
          "DewPointC": "14",
          "DewPointF": "57",
          "FeelsLikeC": "25",
          "FeelsLikeF": "76",
          "HeatIndexC": "25",
          "HeatIndexF": "76",
          "WindChillC": "22",
          "WindChillF": "72",
          "WindGustKmph": "24",
          "WindGustMiles": "15",
          "chanceoffog": "0",
          "chanceoffrost": "0",
          "chanceofhightemp": "0",
          "chanceofovercast": "43",
          "chanceofrain": "0",
          "chanceofremdry": "93",
          "chanceofsnow": "0",
          "chanceofsunshine": "73",
          "chanceofthunder": "0",
          "chanceofwindy": "0",
          "cloudcover": "28",
          "humidity": "60",
          "precipInches": "0.0",
          "precipMM": "0.0",
          "pressure": "1017",
          "pressureInches": "31",
          "tempC": "22",
          "tempF": "72",
          "time": "100",
          "uvIndex": "0",
          "visibility": "10",
          "visibilityMiles": "6",
          "weatherCode": "116",
          "weatherDesc": [
           {
            "value": "Partly cloudy"
           }
          ],
          "weatherIconUrl": [
           {
            "value": "http://cdn.worldweatheronline.net/images/wsymbols01_png_64/wsymbol_0004_black_low_cloud.png"
           }
          ],
          "winddir16Point": "NNE",
          "winddirDegree": "25",
          "windspeedKmph": "19",
          "windspeedMiles": "12"
         },
         {
          "DewPointC": "15",
          "DewPointF": "58",
          "FeelsLikeC": "22",
          "FeelsLikeF": "71",
          "HeatIndexC": "25",
          "HeatIndexF": "76",
          "WindChillC": "22",
          "WindChillF": "71",
          "WindGustKmph": "24",
          "WindGustMiles": "15",
          "chanceoffog": "0",
          "chanceoffrost": "0",
          "chanceofhightemp": "0",
          "chanceofovercast": "39",
          "chanceofrain": "0",
          "chanceofremdry": "89",
          "chanceofsnow": "0",
          "chanceofsunshine": "75",
          "chanceofthunder": "0",
          "chanceofwindy": "0",
          "cloudcover": "33",
          "humidity": "64",
          "precipInches": "0.0",
          "precipMM": "0.0",
          "pressure": "1017",
          "pressureInches": "31",
          "tempC": "22",
          "tempF": "71",
          "time": "200",
          "uvIndex": "0",
          "visibility": "10",
          "visibilityMiles": "6",
          "weatherCode": "116",
          "weatherDesc": [
           {
            "value": "Partly cloudy"
           }
          ],
          "weatherIconUrl": [
           {
            "value": "http://cdn.worldweatheronline.net/images/wsymbols01_png_64/wsymbol_0004_black_low_cloud.png"
           }
          ],
          "winddir16Point": "NNE",
          "winddirDegree": "32",
          "windspeedKmph": "19",
          "windspeedMiles": "12"
         },
         {
          "DewPointC": "15",
          "DewPointF": "60",
          "FeelsLikeC": "22",
          "FeelsLikeF": "71",
          "HeatIndexC": "25",
          "HeatIndexF": "76",
          "WindChillC": "22",
          "WindChillF": "71",
          "WindGustKmph": "23",
          "WindGustMiles": "14",
          "chanceoffog": "0",
          "chanceoffrost": "0",
          "chanceofhightemp": "0",
          "chanceofovercast": "36",
          "chanceofrain": "0",
          "chanceofremdry": "85",
          "chanceofsnow": "0",
          "chanceofsunshine": "76",
          "chanceofthunder": "0",
          "chanceofwindy": "0",
          "cloudcover": "39",
          "humidity": "67",
          "precipInches": "0.0",
          "precipMM": "0.0",
          "pressure": "1017",
          "pressureInches": "30",
          "tempC": "22",
          "tempF": "71",
          "time": "300",
          "uvIndex": "0",
          "visibility": "10",
          "visibilityMiles": "6",
          "weatherCode": "116",
          "weatherDesc": [
           {
            "value": "Partly cloudy"
           }
          ],
          "weatherIconUrl": [
           {
            "value": "http://cdn.worldweatheronline.net/images/wsymbols01_png_64/wsymbol_0004_black_low_cloud.png"
           }
          ],
          "winddir16Point": "NE",
          "winddirDegree": "39",
          "windspeedKmph": "18",
          "windspeedMiles": "11"
         },
         {
          "DewPointC": "16",
          "DewPointF": "61",
          "FeelsLikeC": "21",
          "FeelsLikeF": "71",
          "HeatIndexC": "24",
          "HeatIndexF": "76",
          "WindChillC": "21",
          "WindChillF": "71",
          "WindGustKmph": "22",
          "WindGustMiles": "14",
          "chanceoffog": "0",
          "chanceoffrost": "0",
          "chanceofhightemp": "0",
          "chanceofovercast": "32",
          "chanceofrain": "0",
          "chanceofremdry": "81",
          "chanceofsnow": "0",
          "chanceofsunshine": "78",
          "chanceofthunder": "0",
          "chanceofwindy": "0",
          "cloudcover": "44",
          "humidity": "71",
          "precipInches": "0.0",
          "precipMM": "0.0",
          "pressure": "1016",
          "pressureInches": "30",
          "tempC": "21",
          "tempF": "71",
          "time": "400",
          "uvIndex": "0",
          "visibility": "10",
          "visibilityMiles": "6",
          "weatherCode": "116",
          "weatherDesc": [
           {
            "value": "Partly cloudy"
           }
          ],
          "weatherIconUrl": [
           {
            "value": "http://cdn.worldweatheronline.net/images/wsymbols01_png_64/wsymbol_0004_black_low_cloud.png"
           }
          ],
          "winddir16Point": "NE",
          "winddirDegree": "45",
          "windspeedKmph": "18",
          "windspeedMiles": "11"
         },
         {
          "DewPointC": "16",
          "DewPointF": "60",
          "FeelsLikeC": "21",
          "FeelsLikeF": "70",
          "HeatIndexC": "23",
          "HeatIndexF": "74",
          "WindChillC": "21",
          "WindChillF": "70",
          "WindGustKmph": "22",
          "WindGustMiles": "14",
          "chanceoffog": "0",
          "chanceoffrost": "0",
          "chanceofhightemp": "0",
          "chanceofovercast": "49",
          "chanceofrain": "0",
          "chanceofremdry": "81",
          "chanceofsnow": "0",
          "chanceofsunshine": "54",
          "chanceofthunder": "0",
          "chanceofwindy": "0",
          "cloudcover": "58",
          "humidity": "70",
          "precipInches": "0.0",
          "precipMM": "0.0",
          "pressure": "1016",
          "pressureInches": "30",
          "tempC": "21",
          "tempF": "70",
          "time": "500",
          "uvIndex": "0",
          "visibility": "10",
          "visibilityMiles": "6",
          "weatherCode": "119",
          "weatherDesc": [
           {
            "value": "Cloudy"
           }
          ],
          "weatherIconUrl": [
           {
            "value": "http://cdn.worldweatheronline.net/images/wsymbols01_png_64/wsymbol_0004_black_low_cloud.png"
           }
          ],
          "winddir16Point": "NE",
          "winddirDegree": "45",
          "windspeedKmph": "18",
          "windspeedMiles": "11"
         },
         {
          "DewPointC": "15",
          "DewPointF": "59",
          "FeelsLikeC": "21",
          "FeelsLikeF": "69",
          "HeatIndexC": "22",
          "HeatIndexF": "71",
          "WindChillC": "21",
          "WindChillF": "69",
          "WindGustKmph": "22",
          "WindGustMiles": "13",
          "chanceoffog": "0",
          "chanceoffrost": "0",
          "chanceofhightemp": "0",
          "chanceofovercast": "66",
          "chanceofrain": "0",
          "chanceofremdry": "82",
          "chanceofsnow": "0",
          "chanceofsunshine": "29",
          "chanceofthunder": "0",
          "chanceofwindy": "0",
          "cloudcover": "72",
          "humidity": "70",
          "precipInches": "0.0",
          "precipMM": "0.0",
          "pressure": "1017",
          "pressureInches": "31",
          "tempC": "21",
          "tempF": "69",
          "time": "600",
          "uvIndex": "0",
          "visibility": "10",
          "visibilityMiles": "6",
          "weatherCode": "116",
          "weatherDesc": [
           {
            "value": "Partly cloudy"
           }
          ],
          "weatherIconUrl": [
           {
            "value": "http://cdn.worldweatheronline.net/images/wsymbols01_png_64/wsymbol_0004_black_low_cloud.png"
           }
          ],
          "winddir16Point": "NE",
          "winddirDegree": "45",
          "windspeedKmph": "18",
          "windspeedMiles": "11"
         },
         {
          "DewPointC": "15",
          "DewPointF": "58",
          "FeelsLikeC": "21",
          "FeelsLikeF": "69",
          "HeatIndexC": "21",
          "HeatIndexF": "69",
          "WindChillC": "21",
          "WindChillF": "69",
          "WindGustKmph": "22",
          "WindGustMiles": "13",
          "chanceoffog": "0",
          "chanceoffrost": "0",
          "chanceofhightemp": "0",
          "chanceofovercast": "83",
          "chanceofrain": "0",
          "chanceofremdry": "82",
          "chanceofsnow": "0",
          "chanceofsunshine": "5",
          "chanceofthunder": "0",
          "chanceofwindy": "0",
          "cloudcover": "87",
          "humidity": "69",
          "precipInches": "0.0",
          "precipMM": "0.0",
          "pressure": "1017",
          "pressureInches": "31",
          "tempC": "21",
          "tempF": "69",
          "time": "700",
          "uvIndex": "0",
          "visibility": "10",
          "visibilityMiles": "6",
          "weatherCode": "119",
          "weatherDesc": [
           {
            "value": "Cloudy"
           }
          ],
          "weatherIconUrl": [
           {
            "value": "http://cdn.worldweatheronline.net/images/wsymbols01_png_64/wsymbol_0004_black_low_cloud.png"
           }
          ],
          "winddir16Point": "NE",
          "winddirDegree": "45",
          "windspeedKmph": "18",
          "windspeedMiles": "11"
         },
         {
          "DewPointC": "15",
          "DewPointF": "58",
          "FeelsLikeC": "21",
          "FeelsLikeF": "69",
          "HeatIndexC": "21",
          "HeatIndexF": "69",
          "WindChillC": "21",
          "WindChillF": "69",
          "WindGustKmph": "22",
          "WindGustMiles": "13",
          "chanceoffog": "0",
          "chanceoffrost": "0",
          "chanceofhightemp": "0",
          "chanceofovercast": "84",
          "chanceofrain": "25",
          "chanceofremdry": "55",
          "chanceofsnow": "0",
          "chanceofsunshine": "3",
          "chanceofthunder": "0",
          "chanceofwindy": "0",
          "cloudcover": "88",
          "humidity": "69",
          "precipInches": "0.0",
          "precipMM": "0.1",
          "pressure": "1017",
          "pressureInches": "31",
          "tempC": "21",
          "tempF": "69",
          "time": "800",
          "uvIndex": "5",
          "visibility": "10",
          "visibilityMiles": "6",
          "weatherCode": "353",
          "weatherDesc": [
           {
            "value": "Light rain shower"
           }
          ],
          "weatherIconUrl": [
           {
            "value": "http://cdn.worldweatheronline.net/images/wsymbols01_png_64/wsymbol_0009_light_rain_showers.png"
           }
          ],
          "winddir16Point": "NE",
          "winddirDegree": "47",
          "windspeedKmph": "18",
          "windspeedMiles": "11"
         },
         {
          "DewPointC": "15",
          "DewPointF": "59",
          "FeelsLikeC": "21",
          "FeelsLikeF": "69",
          "HeatIndexC": "21",
          "HeatIndexF": "69",
          "WindChillC": "21",
          "WindChillF": "69",
          "WindGustKmph": "22",
          "WindGustMiles": "13",
          "chanceoffog": "0",
          "chanceoffrost": "0",
          "chanceofhightemp": "0",
          "chanceofovercast": "85",
          "chanceofrain": "50",
          "chanceofremdry": "27",
          "chanceofsnow": "0",
          "chanceofsunshine": "2",
          "chanceofthunder": "0",
          "chanceofwindy": "0",
          "cloudcover": "90",
          "humidity": "68",
          "precipInches": "0.0",
          "precipMM": "0.3",
          "pressure": "1018",
          "pressureInches": "31",
          "tempC": "21",
          "tempF": "69",
          "time": "900",
          "uvIndex": "5",
          "visibility": "10",
          "visibilityMiles": "6",
          "weatherCode": "119",
          "weatherDesc": [
           {
            "value": "Cloudy"
           }
          ],
          "weatherIconUrl": [
           {
            "value": "http://cdn.worldweatheronline.net/images/wsymbols01_png_64/wsymbol_0003_white_cloud.png"
           }
          ],
          "winddir16Point": "NE",
          "winddirDegree": "49",
          "windspeedKmph": "18",
          "windspeedMiles": "11"
         },
         {
          "DewPointC": "15",
          "DewPointF": "59",
          "FeelsLikeC": "21",
          "FeelsLikeF": "70",
          "HeatIndexC": "21",
          "HeatIndexF": "70",
          "WindChillC": "21",
          "WindChillF": "70",
          "WindGustKmph": "22",
          "WindGustMiles": "13",
          "chanceoffog": "0",
          "chanceoffrost": "0",
          "chanceofhightemp": "0",
          "chanceofovercast": "86",
          "chanceofrain": "75",
          "chanceofremdry": "0",
          "chanceofsnow": "0",
          "chanceofsunshine": "0",
          "chanceofthunder": "0",
          "chanceofwindy": "0",
          "cloudcover": "92",
          "humidity": "68",
          "precipInches": "0.0",
          "precipMM": "0.4",
          "pressure": "1018",
          "pressureInches": "31",
          "tempC": "21",
          "tempF": "70",
          "time": "1000",
          "uvIndex": "5",
          "visibility": "10",
          "visibilityMiles": "6",
          "weatherCode": "353",
          "weatherDesc": [
           {
            "value": "Light rain shower"
           }
          ],
          "weatherIconUrl": [
           {
            "value": "http://cdn.worldweatheronline.net/images/wsymbols01_png_64/wsymbol_0009_light_rain_showers.png"
           }
          ],
          "winddir16Point": "NE",
          "winddirDegree": "52",
          "windspeedKmph": "18",
          "windspeedMiles": "11"
         },
         {
          "DewPointC": "15",
          "DewPointF": "59",
          "FeelsLikeC": "22",
          "FeelsLikeF": "71",
          "HeatIndexC": "22",
          "HeatIndexF": "72",
          "WindChillC": "22",
          "WindChillF": "71",
          "WindGustKmph": "23",
          "WindGustMiles": "15",
          "chanceoffog": "0",
          "chanceoffrost": "0",
          "chanceofhightemp": "0",
          "chanceofovercast": "85",
          "chanceofrain": "79",
          "chanceofremdry": "0",
          "chanceofsnow": "0",
          "chanceofsunshine": "0",
          "chanceofthunder": "0",
          "chanceofwindy": "0",
          "cloudcover": "95",
          "humidity": "66",
          "precipInches": "0.0",
          "precipMM": "1.0",
          "pressure": "1018",
          "pressureInches": "31",
          "tempC": "22",
          "tempF": "71",
          "time": "1100",
          "uvIndex": "5",
          "visibility": "10",
          "visibilityMiles": "6",
          "weatherCode": "353",
          "weatherDesc": [
           {
            "value": "Light rain shower"
           }
          ],
          "weatherIconUrl": [
           {
            "value": "http://cdn.worldweatheronline.net/images/wsymbols01_png_64/wsymbol_0009_light_rain_showers.png"
           }
          ],
          "winddir16Point": "NE",
          "winddirDegree": "51",
          "windspeedKmph": "18",
          "windspeedMiles": "11"
         },
         {
          "DewPointC": "15",
          "DewPointF": "59",
          "FeelsLikeC": "24",
          "FeelsLikeF": "74",
          "HeatIndexC": "24",
          "HeatIndexF": "74",
          "WindChillC": "22",
          "WindChillF": "72",
          "WindGustKmph": "25",
          "WindGustMiles": "16",
          "chanceoffog": "0",
          "chanceoffrost": "0",
          "chanceofhightemp": "0",
          "chanceofovercast": "83",
          "chanceofrain": "82",
          "chanceofremdry": "0",
          "chanceofsnow": "0",
          "chanceofsunshine": "0",
          "chanceofthunder": "0",
          "chanceofwindy": "0",
          "cloudcover": "97",
          "humidity": "63",
          "precipInches": "0.1",
          "precipMM": "1.7",
          "pressure": "1018",
          "pressureInches": "31",
          "tempC": "22",
          "tempF": "72",
          "time": "1200",
          "uvIndex": "5",
          "visibility": "10",
          "visibilityMiles": "6",
          "weatherCode": "353",
          "weatherDesc": [
           {
            "value": "Light rain shower"
           }
          ],
          "weatherIconUrl": [
           {
            "value": "http://cdn.worldweatheronline.net/images/wsymbols01_png_64/wsymbol_0009_light_rain_showers.png"
           }
          ],
          "winddir16Point": "NE",
          "winddirDegree": "50",
          "windspeedKmph": "18",
          "windspeedMiles": "11"
         },
         {
          "DewPointC": "15",
          "DewPointF": "59",
          "FeelsLikeC": "25",
          "FeelsLikeF": "77",
          "HeatIndexC": "25",
          "HeatIndexF": "77",
          "WindChillC": "23",
          "WindChillF": "73",
          "WindGustKmph": "27",
          "WindGustMiles": "17",
          "chanceoffog": "0",
          "chanceoffrost": "0",
          "chanceofhightemp": "0",
          "chanceofovercast": "82",
          "chanceofrain": "86",
          "chanceofremdry": "0",
          "chanceofsnow": "0",
          "chanceofsunshine": "0",
          "chanceofthunder": "0",
          "chanceofwindy": "0",
          "cloudcover": "100",
          "humidity": "61",
          "precipInches": "0.1",
          "precipMM": "2.3",
          "pressure": "1018",
          "pressureInches": "31",
          "tempC": "23",
          "tempF": "73",
          "time": "1300",
          "uvIndex": "5",
          "visibility": "10",
          "visibilityMiles": "6",
          "weatherCode": "353",
          "weatherDesc": [
           {
            "value": "Light rain shower"
           }
          ],
          "weatherIconUrl": [
           {
            "value": "http://cdn.worldweatheronline.net/images/wsymbols01_png_64/wsymbol_0009_light_rain_showers.png"
           }
          ],
          "winddir16Point": "NE",
          "winddirDegree": "49",
          "windspeedKmph": "18",
          "windspeedMiles": "11"
         },
         {
          "DewPointC": "15",
          "DewPointF": "58",
          "FeelsLikeC": "24",
          "FeelsLikeF": "74",
          "HeatIndexC": "24",
          "HeatIndexF": "74",
          "WindChillC": "22",
          "WindChillF": "72",
          "WindGustKmph": "28",
          "WindGustMiles": "17",
          "chanceoffog": "0",
          "chanceoffrost": "0",
          "chanceofhightemp": "0",
          "chanceofovercast": "81",
          "chanceofrain": "86",
          "chanceofremdry": "0",
          "chanceofsnow": "0",
          "chanceofsunshine": "0",
          "chanceofthunder": "0",
          "chanceofwindy": "0",
          "cloudcover": "99",
          "humidity": "62",
          "precipInches": "0.1",
          "precipMM": "1.9",
          "pressure": "1017",
          "pressureInches": "31",
          "tempC": "22",
          "tempF": "72",
          "time": "1400",
          "uvIndex": "5",
          "visibility": "10",
          "visibilityMiles": "6",
          "weatherCode": "353",
          "weatherDesc": [
           {
            "value": "Light rain shower"
           }
          ],
          "weatherIconUrl": [
           {
            "value": "http://cdn.worldweatheronline.net/images/wsymbols01_png_64/wsymbol_0009_light_rain_showers.png"
           }
          ],
          "winddir16Point": "NE",
          "winddirDegree": "42",
          "windspeedKmph": "19",
          "windspeedMiles": "12"
         },
         {
          "DewPointC": "14",
          "DewPointF": "58",
          "FeelsLikeC": "22",
          "FeelsLikeF": "71",
          "HeatIndexC": "22",
          "HeatIndexF": "72",
          "WindChillC": "22",
          "WindChillF": "71",
          "WindGustKmph": "29",
          "WindGustMiles": "18",
          "chanceoffog": "0",
          "chanceoffrost": "0",
          "chanceofhightemp": "0",
          "chanceofovercast": "81",
          "chanceofrain": "85",
          "chanceofremdry": "0",
          "chanceofsnow": "0",
          "chanceofsunshine": "0",
          "chanceofthunder": "0",
          "chanceofwindy": "0",
          "cloudcover": "98",
          "humidity": "63",
          "precipInches": "0.1",
          "precipMM": "1.6",
          "pressure": "1017",
          "pressureInches": "31",
          "tempC": "22",
          "tempF": "71",
          "time": "1500",
          "uvIndex": "5",
          "visibility": "10",
          "visibilityMiles": "6",
          "weatherCode": "353",
          "weatherDesc": [
           {
            "value": "Light rain shower"
           }
          ],
          "weatherIconUrl": [
           {
            "value": "http://cdn.worldweatheronline.net/images/wsymbols01_png_64/wsymbol_0009_light_rain_showers.png"
           }
          ],
          "winddir16Point": "NE",
          "winddirDegree": "35",
          "windspeedKmph": "21",
          "windspeedMiles": "13"
         },
         {
          "DewPointC": "14",
          "DewPointF": "57",
          "FeelsLikeC": "21",
          "FeelsLikeF": "70",
          "HeatIndexC": "21",
          "HeatIndexF": "70",
          "WindChillC": "21",
          "WindChillF": "70",
          "WindGustKmph": "30",
          "WindGustMiles": "19",
          "chanceoffog": "0",
          "chanceoffrost": "0",
          "chanceofhightemp": "0",
          "chanceofovercast": "80",
          "chanceofrain": "85",
          "chanceofremdry": "0",
          "chanceofsnow": "0",
          "chanceofsunshine": "0",
          "chanceofthunder": "0",
          "chanceofwindy": "0",
          "cloudcover": "97",
          "humidity": "64",
          "precipInches": "0.0",
          "precipMM": "1.2",
          "pressure": "1017",
          "pressureInches": "30",
          "tempC": "21",
          "tempF": "70",
          "time": "1600",
          "uvIndex": "5",
          "visibility": "10",
          "visibilityMiles": "6",
          "weatherCode": "353",
          "weatherDesc": [
           {
            "value": "Light rain shower"
           }
          ],
          "weatherIconUrl": [
           {
            "value": "http://cdn.worldweatheronline.net/images/wsymbols01_png_64/wsymbol_0009_light_rain_showers.png"
           }
          ],
          "winddir16Point": "NNE",
          "winddirDegree": "28",
          "windspeedKmph": "22",
          "windspeedMiles": "14"
         },
         {
          "DewPointC": "14",
          "DewPointF": "57",
          "FeelsLikeC": "20",
          "FeelsLikeF": "68",
          "HeatIndexC": "20",
          "HeatIndexF": "68",
          "WindChillC": "20",
          "WindChillF": "68",
          "WindGustKmph": "31",
          "WindGustMiles": "19",
          "chanceoffog": "0",
          "chanceoffrost": "0",
          "chanceofhightemp": "0",
          "chanceofovercast": "82",
          "chanceofrain": "83",
          "chanceofremdry": "0",
          "chanceofsnow": "0",
          "chanceofsunshine": "0",
          "chanceofthunder": "0",
          "chanceofwindy": "0",
          "cloudcover": "90",
          "humidity": "68",
          "precipInches": "0.0",
          "precipMM": "1.1",
          "pressure": "1017",
          "pressureInches": "30",
          "tempC": "20",
          "tempF": "68",
          "time": "1700",
          "uvIndex": "5",
          "visibility": "10",
          "visibilityMiles": "6",
          "weatherCode": "353",
          "weatherDesc": [
           {
            "value": "Light rain shower"
           }
          ],
          "weatherIconUrl": [
           {
            "value": "http://cdn.worldweatheronline.net/images/wsymbols01_png_64/wsymbol_0009_light_rain_showers.png"
           }
          ],
          "winddir16Point": "NNE",
          "winddirDegree": "30",
          "windspeedKmph": "23",
          "windspeedMiles": "14"
         },
         {
          "DewPointC": "14",
          "DewPointF": "58",
          "FeelsLikeC": "20",
          "FeelsLikeF": "67",
          "HeatIndexC": "20",
          "HeatIndexF": "67",
          "WindChillC": "20",
          "WindChillF": "67",
          "WindGustKmph": "32",
          "WindGustMiles": "20",
          "chanceoffog": "0",
          "chanceoffrost": "0",
          "chanceofhightemp": "0",
          "chanceofovercast": "84",
          "chanceofrain": "81",
          "chanceofremdry": "0",
          "chanceofsnow": "0",
          "chanceofsunshine": "0",
          "chanceofthunder": "0",
          "chanceofwindy": "0",
          "cloudcover": "83",
          "humidity": "72",
          "precipInches": "0.0",
          "precipMM": "1.1",
          "pressure": "1017",
          "pressureInches": "30",
          "tempC": "20",
          "tempF": "67",
          "time": "1800",
          "uvIndex": "4",
          "visibility": "10",
          "visibilityMiles": "6",
          "weatherCode": "353",
          "weatherDesc": [
           {
            "value": "Light rain shower"
           }
          ],
          "weatherIconUrl": [
           {
            "value": "http://cdn.worldweatheronline.net/images/wsymbols01_png_64/wsymbol_0009_light_rain_showers.png"
           }
          ],
          "winddir16Point": "NNE",
          "winddirDegree": "32",
          "windspeedKmph": "23",
          "windspeedMiles": "14"
         },
         {
          "DewPointC": "15",
          "DewPointF": "58",
          "FeelsLikeC": "19",
          "FeelsLikeF": "66",
          "HeatIndexC": "19",
          "HeatIndexF": "66",
          "WindChillC": "19",
          "WindChillF": "66",
          "WindGustKmph": "33",
          "WindGustMiles": "21",
          "chanceoffog": "0",
          "chanceoffrost": "0",
          "chanceofhightemp": "0",
          "chanceofovercast": "86",
          "chanceofrain": "79",
          "chanceofremdry": "0",
          "chanceofsnow": "0",
          "chanceofsunshine": "0",
          "chanceofthunder": "0",
          "chanceofwindy": "0",
          "cloudcover": "76",
          "humidity": "76",
          "precipInches": "0.0",
          "precipMM": "1.0",
          "pressure": "1017",
          "pressureInches": "30",
          "tempC": "19",
          "tempF": "66",
          "time": "1900",
          "uvIndex": "4",
          "visibility": "10",
          "visibilityMiles": "6",
          "weatherCode": "353",
          "weatherDesc": [
           {
            "value": "Light rain shower"
           }
          ],
          "weatherIconUrl": [
           {
            "value": "http://cdn.worldweatheronline.net/images/wsymbols01_png_64/wsymbol_0009_light_rain_showers.png"
           }
          ],
          "winddir16Point": "NE",
          "winddirDegree": "35",
          "windspeedKmph": "23",
          "windspeedMiles": "14"
         },
         {
          "DewPointC": "15",
          "DewPointF": "58",
          "FeelsLikeC": "19",
          "FeelsLikeF": "66",
          "HeatIndexC": "19",
          "HeatIndexF": "66",
          "WindChillC": "19",
          "WindChillF": "66",
          "WindGustKmph": "34",
          "WindGustMiles": "21",
          "chanceoffog": "0",
          "chanceoffrost": "0",
          "chanceofhightemp": "0",
          "chanceofovercast": "87",
          "chanceofrain": "81",
          "chanceofremdry": "0",
          "chanceofsnow": "0",
          "chanceofsunshine": "0",
          "chanceofthunder": "0",
          "chanceofwindy": "0",
          "cloudcover": "84",
          "humidity": "77",
          "precipInches": "0.1",
          "precipMM": "1.7",
          "pressure": "1017",
          "pressureInches": "31",
          "tempC": "19",
          "tempF": "66",
          "time": "2000",
          "uvIndex": "0",
          "visibility": "9",
          "visibilityMiles": "5",
          "weatherCode": "356",
          "weatherDesc": [
           {
            "value": "Moderate or heavy rain shower"
           }
          ],
          "weatherIconUrl": [
           {
            "value": "http://cdn.worldweatheronline.net/images/wsymbols01_png_64/wsymbol_0026_heavy_rain_showers_night.png"
           }
          ],
          "winddir16Point": "NE",
          "winddirDegree": "34",
          "windspeedKmph": "23",
          "windspeedMiles": "14"
         },
         {
          "DewPointC": "15",
          "DewPointF": "58",
          "FeelsLikeC": "19",
          "FeelsLikeF": "66",
          "HeatIndexC": "19",
          "HeatIndexF": "66",
          "WindChillC": "19",
          "WindChillF": "66",
          "WindGustKmph": "35",
          "WindGustMiles": "22",
          "chanceoffog": "0",
          "chanceoffrost": "0",
          "chanceofhightemp": "0",
          "chanceofovercast": "89",
          "chanceofrain": "84",
          "chanceofremdry": "0",
          "chanceofsnow": "0",
          "chanceofsunshine": "0",
          "chanceofthunder": "0",
          "chanceofwindy": "0",
          "cloudcover": "92",
          "humidity": "77",
          "precipInches": "0.1",
          "precipMM": "2.3",
          "pressure": "1018",
          "pressureInches": "31",
          "tempC": "19",
          "tempF": "66",
          "time": "2100",
          "uvIndex": "0",
          "visibility": "8",
          "visibilityMiles": "4",
          "weatherCode": "353",
          "weatherDesc": [
           {
            "value": "Light rain shower"
           }
          ],
          "weatherIconUrl": [
           {
            "value": "http://cdn.worldweatheronline.net/images/wsymbols01_png_64/wsymbol_0025_light_rain_showers_night.png"
           }
          ],
          "winddir16Point": "NNE",
          "winddirDegree": "34",
          "windspeedKmph": "23",
          "windspeedMiles": "14"
         },
         {
          "DewPointC": "15",
          "DewPointF": "58",
          "FeelsLikeC": "19",
          "FeelsLikeF": "65",
          "HeatIndexC": "19",
          "HeatIndexF": "65",
          "WindChillC": "19",
          "WindChillF": "65",
          "WindGustKmph": "36",
          "WindGustMiles": "22",
          "chanceoffog": "0",
          "chanceoffrost": "0",
          "chanceofhightemp": "0",
          "chanceofovercast": "90",
          "chanceofrain": "86",
          "chanceofremdry": "0",
          "chanceofsnow": "0",
          "chanceofsunshine": "0",
          "chanceofthunder": "0",
          "chanceofwindy": "0",
          "cloudcover": "100",
          "humidity": "77",
          "precipInches": "0.1",
          "precipMM": "3.0",
          "pressure": "1018",
          "pressureInches": "31",
          "tempC": "19",
          "tempF": "65",
          "time": "2200",
          "uvIndex": "0",
          "visibility": "7",
          "visibilityMiles": "4",
          "weatherCode": "356",
          "weatherDesc": [
           {
            "value": "Moderate or heavy rain shower"
           }
          ],
          "weatherIconUrl": [
           {
            "value": "http://cdn.worldweatheronline.net/images/wsymbols01_png_64/wsymbol_0026_heavy_rain_showers_night.png"
           }
          ],
          "winddir16Point": "NNE",
          "winddirDegree": "33",
          "windspeedKmph": "22",
          "windspeedMiles": "14"
         },
         {
          "DewPointC": "14",
          "DewPointF": "58",
          "FeelsLikeC": "18",
          "FeelsLikeF": "64",
          "HeatIndexC": "18",
          "HeatIndexF": "64",
          "WindChillC": "18",
          "WindChillF": "64",
          "WindGustKmph": "38",
          "WindGustMiles": "24",
          "chanceoffog": "0",
          "chanceoffrost": "0",
          "chanceofhightemp": "0",
          "chanceofovercast": "90",
          "chanceofrain": "78",
          "chanceofremdry": "0",
          "chanceofsnow": "0",
          "chanceofsunshine": "0",
          "chanceofthunder": "0",
          "chanceofwindy": "0",
          "cloudcover": "99",
          "humidity": "81",
          "precipInches": "0.3",
          "precipMM": "7.3",
          "pressure": "1018",
          "pressureInches": "31",
          "tempC": "18",
          "tempF": "64",
          "time": "2300",
          "uvIndex": "0",
          "visibility": "6",
          "visibilityMiles": "3",
          "weatherCode": "308",
          "weatherDesc": [
           {
            "value": "Heavy rain"
           }
          ],
          "weatherIconUrl": [
           {
            "value": "http://cdn.worldweatheronline.net/images/wsymbols01_png_64/wsymbol_0034_cloudy_with_heavy_rain_night.png"
           }
          ],
          "winddir16Point": "NE",
          "winddirDegree": "40",
          "windspeedKmph": "23",
          "windspeedMiles": "15"
         }
        ],
        "maxtempC": "23",
        "maxtempF": "73",
        "mintempC": "19",
        "mintempF": "65",
        "sunHour": "0.0",
        "totalSnow_cm": "0.0",
        "uvIndex": "6"
       },
       {
        "astronomy": [
         {
          "moon_illumination": "70",
          "moon_phase": "Waxing Gibbous",
          "moonrise": "05:18 PM",
          "moonset": "03:40 AM",
          "sunrise": "07:29 AM",
          "sunset": "07:07 PM"
         }
        ],
        "avgtempC": "17",
        "avgtempF": "62",
        "date": "2019-10-09",
        "hourly": [
         {
          "DewPointC": "14",
          "DewPointF": "57",
          "FeelsLikeC": "16",
          "FeelsLikeF": "62",
          "HeatIndexC": "16",
          "HeatIndexF": "62",
          "WindChillC": "16",
          "WindChillF": "62",
          "WindGustKmph": "41",
          "WindGustMiles": "25",
          "chanceoffog": "0",
          "chanceoffrost": "0",
          "chanceofhightemp": "0",
          "chanceofovercast": "90",
          "chanceofrain": "71",
          "chanceofremdry": "0",
          "chanceofsnow": "0",
          "chanceofsunshine": "0",
          "chanceofthunder": "0",
          "chanceofwindy": "0",
          "cloudcover": "99",
          "humidity": "85",
          "precipInches": "0.5",
          "precipMM": "11.6",
          "pressure": "1018",
          "pressureInches": "31",
          "tempC": "16",
          "tempF": "62",
          "time": "0",
          "uvIndex": "0",
          "visibility": "6",
          "visibilityMiles": "3",
          "weatherCode": "356",
          "weatherDesc": [
           {
            "value": "Moderate or heavy rain shower"
           }
          ],
          "weatherIconUrl": [
           {
            "value": "http://cdn.worldweatheronline.net/images/wsymbols01_png_64/wsymbol_0026_heavy_rain_showers_night.png"
           }
          ],
          "winddir16Point": "NE",
          "winddirDegree": "46",
          "windspeedKmph": "24",
          "windspeedMiles": "15"
         },
         {
          "DewPointC": "14",
          "DewPointF": "56",
          "FeelsLikeC": "15",
          "FeelsLikeF": "60",
          "HeatIndexC": "15",
          "HeatIndexF": "60",
          "WindChillC": "15",
          "WindChillF": "60",
          "WindGustKmph": "43",
          "WindGustMiles": "27",
          "chanceoffog": "0",
          "chanceoffrost": "0",
          "chanceofhightemp": "0",
          "chanceofovercast": "90",
          "chanceofrain": "63",
          "chanceofremdry": "0",
          "chanceofsnow": "0",
          "chanceofsunshine": "0",
          "chanceofthunder": "0",
          "chanceofwindy": "0",
          "cloudcover": "98",
          "humidity": "89",
          "precipInches": "0.6",
          "precipMM": "15.9",
          "pressure": "1018",
          "pressureInches": "31",
          "tempC": "15",
          "tempF": "60",
          "time": "100",
          "uvIndex": "0",
          "visibility": "5",
          "visibilityMiles": "3",
          "weatherCode": "308",
          "weatherDesc": [
           {
            "value": "Heavy rain"
           }
          ],
          "weatherIconUrl": [
           {
            "value": "http://cdn.worldweatheronline.net/images/wsymbols01_png_64/wsymbol_0034_cloudy_with_heavy_rain_night.png"
           }
          ],
          "winddir16Point": "NE",
          "winddirDegree": "52",
          "windspeedKmph": "25",
          "windspeedMiles": "16"
         },
         {
          "DewPointC": "13",
          "DewPointF": "56",
          "FeelsLikeC": "15",
          "FeelsLikeF": "60",
          "HeatIndexC": "15",
          "HeatIndexF": "60",
          "WindChillC": "15",
          "WindChillF": "60",
          "WindGustKmph": "37",
          "WindGustMiles": "23",
          "chanceoffog": "0",
          "chanceoffrost": "0",
          "chanceofhightemp": "0",
          "chanceofovercast": "87",
          "chanceofrain": "65",
          "chanceofremdry": "0",
          "chanceofsnow": "0",
          "chanceofsunshine": "0",
          "chanceofthunder": "0",
          "chanceofwindy": "0",
          "cloudcover": "99",
          "humidity": "88",
          "precipInches": "0.5",
          "precipMM": "12.3",
          "pressure": "1018",
          "pressureInches": "31",
          "tempC": "15",
          "tempF": "60",
          "time": "200",
          "uvIndex": "0",
          "visibility": "6",
          "visibilityMiles": "3",
          "weatherCode": "302",
          "weatherDesc": [
           {
            "value": "Moderate rain"
           }
          ],
          "weatherIconUrl": [
           {
            "value": "http://cdn.worldweatheronline.net/images/wsymbols01_png_64/wsymbol_0034_cloudy_with_heavy_rain_night.png"
           }
          ],
          "winddir16Point": "NE",
          "winddirDegree": "46",
          "windspeedKmph": "24",
          "windspeedMiles": "15"
         },
         {
          "DewPointC": "13",
          "DewPointF": "56",
          "FeelsLikeC": "15",
          "FeelsLikeF": "60",
          "HeatIndexC": "15",
          "HeatIndexF": "60",
          "WindChillC": "15",
          "WindChillF": "60",
          "WindGustKmph": "31",
          "WindGustMiles": "19",
          "chanceoffog": "0",
          "chanceoffrost": "0",
          "chanceofhightemp": "0",
          "chanceofovercast": "85",
          "chanceofrain": "68",
          "chanceofremdry": "0",
          "chanceofsnow": "0",
          "chanceofsunshine": "0",
          "chanceofthunder": "0",
          "chanceofwindy": "0",
          "cloudcover": "99",
          "humidity": "87",
          "precipInches": "0.3",
          "precipMM": "8.8",
          "pressure": "1018",
          "pressureInches": "31",
          "tempC": "15",
          "tempF": "60",
          "time": "300",
          "uvIndex": "0",
          "visibility": "6",
          "visibilityMiles": "3",
          "weatherCode": "308",
          "weatherDesc": [
           {
            "value": "Heavy rain"
           }
          ],
          "weatherIconUrl": [
           {
            "value": "http://cdn.worldweatheronline.net/images/wsymbols01_png_64/wsymbol_0034_cloudy_with_heavy_rain_night.png"
           }
          ],
          "winddir16Point": "NE",
          "winddirDegree": "41",
          "windspeedKmph": "22",
          "windspeedMiles": "14"
         },
         {
          "DewPointC": "13",
          "DewPointF": "56",
          "FeelsLikeC": "16",
          "FeelsLikeF": "60",
          "HeatIndexC": "16",
          "HeatIndexF": "60",
          "WindChillC": "16",
          "WindChillF": "60",
          "WindGustKmph": "26",
          "WindGustMiles": "16",
          "chanceoffog": "0",
          "chanceoffrost": "0",
          "chanceofhightemp": "0",
          "chanceofovercast": "82",
          "chanceofrain": "70",
          "chanceofremdry": "0",
          "chanceofsnow": "0",
          "chanceofsunshine": "0",
          "chanceofthunder": "0",
          "chanceofwindy": "0",
          "cloudcover": "100",
          "humidity": "86",
          "precipInches": "0.2",
          "precipMM": "5.2",
          "pressure": "1018",
          "pressureInches": "31",
          "tempC": "16",
          "tempF": "60",
          "time": "400",
          "uvIndex": "0",
          "visibility": "7",
          "visibilityMiles": "4",
          "weatherCode": "302",
          "weatherDesc": [
           {
            "value": "Moderate rain"
           }
          ],
          "weatherIconUrl": [
           {
            "value": "http://cdn.worldweatheronline.net/images/wsymbols01_png_64/wsymbol_0034_cloudy_with_heavy_rain_night.png"
           }
          ],
          "winddir16Point": "NE",
          "winddirDegree": "35",
          "windspeedKmph": "21",
          "windspeedMiles": "13"
         },
         {
          "DewPointC": "13",
          "DewPointF": "56",
          "FeelsLikeC": "16",
          "FeelsLikeF": "60",
          "HeatIndexC": "16",
          "HeatIndexF": "60",
          "WindChillC": "16",
          "WindChillF": "60",
          "WindGustKmph": "24",
          "WindGustMiles": "15",
          "chanceoffog": "0",
          "chanceoffrost": "0",
          "chanceofhightemp": "0",
          "chanceofovercast": "84",
          "chanceofrain": "67",
          "chanceofremdry": "0",
          "chanceofsnow": "0",
          "chanceofsunshine": "0",
          "chanceofthunder": "0",
          "chanceofwindy": "0",
          "cloudcover": "100",
          "humidity": "86",
          "precipInches": "0.2",
          "precipMM": "5.4",
          "pressure": "1018",
          "pressureInches": "31",
          "tempC": "16",
          "tempF": "60",
          "time": "500",
          "uvIndex": "0",
          "visibility": "7",
          "visibilityMiles": "4",
          "weatherCode": "302",
          "weatherDesc": [
           {
            "value": "Moderate rain"
           }
          ],
          "weatherIconUrl": [
           {
            "value": "http://cdn.worldweatheronline.net/images/wsymbols01_png_64/wsymbol_0034_cloudy_with_heavy_rain_night.png"
           }
          ],
          "winddir16Point": "NE",
          "winddirDegree": "34",
          "windspeedKmph": "20",
          "windspeedMiles": "13"
         },
         {
          "DewPointC": "13",
          "DewPointF": "56",
          "FeelsLikeC": "15",
          "FeelsLikeF": "60",
          "HeatIndexC": "15",
          "HeatIndexF": "60",
          "WindChillC": "15",
          "WindChillF": "60",
          "WindGustKmph": "24",
          "WindGustMiles": "15",
          "chanceoffog": "0",
          "chanceoffrost": "0",
          "chanceofhightemp": "0",
          "chanceofovercast": "86",
          "chanceofrain": "64",
          "chanceofremdry": "0",
          "chanceofsnow": "0",
          "chanceofsunshine": "0",
          "chanceofthunder": "0",
          "chanceofwindy": "0",
          "cloudcover": "100",
          "humidity": "86",
          "precipInches": "0.2",
          "precipMM": "5.7",
          "pressure": "1018",
          "pressureInches": "31",
          "tempC": "15",
          "tempF": "60",
          "time": "600",
          "uvIndex": "0",
          "visibility": "7",
          "visibilityMiles": "4",
          "weatherCode": "302",
          "weatherDesc": [
           {
            "value": "Moderate rain"
           }
          ],
          "weatherIconUrl": [
           {
            "value": "http://cdn.worldweatheronline.net/images/wsymbols01_png_64/wsymbol_0034_cloudy_with_heavy_rain_night.png"
           }
          ],
          "winddir16Point": "NNE",
          "winddirDegree": "33",
          "windspeedKmph": "19",
          "windspeedMiles": "12"
         },
         {
          "DewPointC": "13",
          "DewPointF": "56",
          "FeelsLikeC": "15",
          "FeelsLikeF": "60",
          "HeatIndexC": "15",
          "HeatIndexF": "60",
          "WindChillC": "15",
          "WindChillF": "60",
          "WindGustKmph": "23",
          "WindGustMiles": "14",
          "chanceoffog": "0",
          "chanceoffrost": "0",
          "chanceofhightemp": "0",
          "chanceofovercast": "88",
          "chanceofrain": "61",
          "chanceofremdry": "0",
          "chanceofsnow": "0",
          "chanceofsunshine": "0",
          "chanceofthunder": "0",
          "chanceofwindy": "0",
          "cloudcover": "100",
          "humidity": "86",
          "precipInches": "0.2",
          "precipMM": "5.9",
          "pressure": "1018",
          "pressureInches": "31",
          "tempC": "15",
          "tempF": "60",
          "time": "700",
          "uvIndex": "0",
          "visibility": "7",
          "visibilityMiles": "4",
          "weatherCode": "302",
          "weatherDesc": [
           {
            "value": "Moderate rain"
           }
          ],
          "weatherIconUrl": [
           {
            "value": "http://cdn.worldweatheronline.net/images/wsymbols01_png_64/wsymbol_0034_cloudy_with_heavy_rain_night.png"
           }
          ],
          "winddir16Point": "NNE",
          "winddirDegree": "33",
          "windspeedKmph": "18",
          "windspeedMiles": "11"
         },
         {
          "DewPointC": "13",
          "DewPointF": "56",
          "FeelsLikeC": "16",
          "FeelsLikeF": "60",
          "HeatIndexC": "16",
          "HeatIndexF": "60",
          "WindChillC": "16",
          "WindChillF": "60",
          "WindGustKmph": "22",
          "WindGustMiles": "13",
          "chanceoffog": "0",
          "chanceoffrost": "0",
          "chanceofhightemp": "0",
          "chanceofovercast": "86",
          "chanceofrain": "41",
          "chanceofremdry": "27",
          "chanceofsnow": "0",
          "chanceofsunshine": "3",
          "chanceofthunder": "0",
          "chanceofwindy": "0",
          "cloudcover": "100",
          "humidity": "85",
          "precipInches": "0.2",
          "precipMM": "3.9",
          "pressure": "1018",
          "pressureInches": "31",
          "tempC": "16",
          "tempF": "60",
          "time": "800",
          "uvIndex": "4",
          "visibility": "8",
          "visibilityMiles": "4",
          "weatherCode": "122",
          "weatherDesc": [
           {
            "value": "Overcast"
           }
          ],
          "weatherIconUrl": [
           {
            "value": "http://cdn.worldweatheronline.net/images/wsymbols01_png_64/wsymbol_0004_black_low_cloud.png"
           }
          ],
          "winddir16Point": "NNE",
          "winddirDegree": "32",
          "windspeedKmph": "18",
          "windspeedMiles": "11"
         },
         {
          "DewPointC": "13",
          "DewPointF": "56",
          "FeelsLikeC": "16",
          "FeelsLikeF": "61",
          "HeatIndexC": "16",
          "HeatIndexF": "61",
          "WindChillC": "16",
          "WindChillF": "61",
          "WindGustKmph": "21",
          "WindGustMiles": "13",
          "chanceoffog": "0",
          "chanceoffrost": "0",
          "chanceofhightemp": "0",
          "chanceofovercast": "85",
          "chanceofrain": "20",
          "chanceofremdry": "55",
          "chanceofsnow": "0",
          "chanceofsunshine": "5",
          "chanceofthunder": "0",
          "chanceofwindy": "0",
          "cloudcover": "100",
          "humidity": "84",
          "precipInches": "0.1",
          "precipMM": "2.0",
          "pressure": "1019",
          "pressureInches": "31",
          "tempC": "16",
          "tempF": "61",
          "time": "900",
          "uvIndex": "4",
          "visibility": "9",
          "visibilityMiles": "5",
          "weatherCode": "302",
          "weatherDesc": [
           {
            "value": "Moderate rain"
           }
          ],
          "weatherIconUrl": [
           {
            "value": "http://cdn.worldweatheronline.net/images/wsymbols01_png_64/wsymbol_0018_cloudy_with_heavy_rain.png"
           }
          ],
          "winddir16Point": "NNE",
          "winddirDegree": "31",
          "windspeedKmph": "17",
          "windspeedMiles": "11"
         },
         {
          "DewPointC": "14",
          "DewPointF": "56",
          "FeelsLikeC": "16",
          "FeelsLikeF": "62",
          "HeatIndexC": "16",
          "HeatIndexF": "62",
          "WindChillC": "16",
          "WindChillF": "62",
          "WindGustKmph": "19",
          "WindGustMiles": "12",
          "chanceoffog": "0",
          "chanceoffrost": "0",
          "chanceofhightemp": "0",
          "chanceofovercast": "83",
          "chanceofrain": "0",
          "chanceofremdry": "82",
          "chanceofsnow": "0",
          "chanceofsunshine": "8",
          "chanceofthunder": "0",
          "chanceofwindy": "0",
          "cloudcover": "100",
          "humidity": "83",
          "precipInches": "0.0",
          "precipMM": "0.0",
          "pressure": "1019",
          "pressureInches": "31",
          "tempC": "16",
          "tempF": "62",
          "time": "1000",
          "uvIndex": "4",
          "visibility": "10",
          "visibilityMiles": "6",
          "weatherCode": "122",
          "weatherDesc": [
           {
            "value": "Overcast"
           }
          ],
          "weatherIconUrl": [
           {
            "value": "http://cdn.worldweatheronline.net/images/wsymbols01_png_64/wsymbol_0004_black_low_cloud.png"
           }
          ],
          "winddir16Point": "NNE",
          "winddirDegree": "29",
          "windspeedKmph": "17",
          "windspeedMiles": "11"
         },
         {
          "DewPointC": "14",
          "DewPointF": "56",
          "FeelsLikeC": "17",
          "FeelsLikeF": "63",
          "HeatIndexC": "17",
          "HeatIndexF": "63",
          "WindChillC": "17",
          "WindChillF": "63",
          "WindGustKmph": "19",
          "WindGustMiles": "12",
          "chanceoffog": "0",
          "chanceoffrost": "0",
          "chanceofhightemp": "0",
          "chanceofovercast": "84",
          "chanceofrain": "0",
          "chanceofremdry": "81",
          "chanceofsnow": "0",
          "chanceofsunshine": "9",
          "chanceofthunder": "0",
          "chanceofwindy": "0",
          "cloudcover": "100",
          "humidity": "81",
          "precipInches": "0.0",
          "precipMM": "0.0",
          "pressure": "1019",
          "pressureInches": "31",
          "tempC": "17",
          "tempF": "63",
          "time": "1100",
          "uvIndex": "4",
          "visibility": "10",
          "visibilityMiles": "6",
          "weatherCode": "122",
          "weatherDesc": [
           {
            "value": "Overcast"
           }
          ],
          "weatherIconUrl": [
           {
            "value": "http://cdn.worldweatheronline.net/images/wsymbols01_png_64/wsymbol_0004_black_low_cloud.png"
           }
          ],
          "winddir16Point": "NNE",
          "winddirDegree": "29",
          "windspeedKmph": "17",
          "windspeedMiles": "11"
         },
         {
          "DewPointC": "14",
          "DewPointF": "57",
          "FeelsLikeC": "18",
          "FeelsLikeF": "64",
          "HeatIndexC": "18",
          "HeatIndexF": "64",
          "WindChillC": "18",
          "WindChillF": "64",
          "WindGustKmph": "19",
          "WindGustMiles": "12",
          "chanceoffog": "0",
          "chanceoffrost": "0",
          "chanceofhightemp": "0",
          "chanceofovercast": "84",
          "chanceofrain": "0",
          "chanceofremdry": "81",
          "chanceofsnow": "0",
          "chanceofsunshine": "11",
          "chanceofthunder": "0",
          "chanceofwindy": "0",
          "cloudcover": "100",
          "humidity": "78",
          "precipInches": "0.0",
          "precipMM": "0.0",
          "pressure": "1019",
          "pressureInches": "31",
          "tempC": "18",
          "tempF": "64",
          "time": "1200",
          "uvIndex": "4",
          "visibility": "10",
          "visibilityMiles": "6",
          "weatherCode": "122",
          "weatherDesc": [
           {
            "value": "Overcast"
           }
          ],
          "weatherIconUrl": [
           {
            "value": "http://cdn.worldweatheronline.net/images/wsymbols01_png_64/wsymbol_0004_black_low_cloud.png"
           }
          ],
          "winddir16Point": "NNE",
          "winddirDegree": "29",
          "windspeedKmph": "17",
          "windspeedMiles": "10"
         },
         {
          "DewPointC": "14",
          "DewPointF": "57",
          "FeelsLikeC": "18",
          "FeelsLikeF": "65",
          "HeatIndexC": "18",
          "HeatIndexF": "65",
          "WindChillC": "18",
          "WindChillF": "65",
          "WindGustKmph": "19",
          "WindGustMiles": "12",
          "chanceoffog": "0",
          "chanceoffrost": "0",
          "chanceofhightemp": "0",
          "chanceofovercast": "85",
          "chanceofrain": "0",
          "chanceofremdry": "80",
          "chanceofsnow": "0",
          "chanceofsunshine": "12",
          "chanceofthunder": "0",
          "chanceofwindy": "0",
          "cloudcover": "100",
          "humidity": "76",
          "precipInches": "0.0",
          "precipMM": "0.0",
          "pressure": "1019",
          "pressureInches": "31",
          "tempC": "18",
          "tempF": "65",
          "time": "1300",
          "uvIndex": "4",
          "visibility": "10",
          "visibilityMiles": "6",
          "weatherCode": "122",
          "weatherDesc": [
           {
            "value": "Overcast"
           }
          ],
          "weatherIconUrl": [
           {
            "value": "http://cdn.worldweatheronline.net/images/wsymbols01_png_64/wsymbol_0004_black_low_cloud.png"
           }
          ],
          "winddir16Point": "NNE",
          "winddirDegree": "29",
          "windspeedKmph": "17",
          "windspeedMiles": "10"
         },
         {
          "DewPointC": "14",
          "DewPointF": "57",
          "FeelsLikeC": "19",
          "FeelsLikeF": "66",
          "HeatIndexC": "19",
          "HeatIndexF": "66",
          "WindChillC": "19",
          "WindChillF": "66",
          "WindGustKmph": "19",
          "WindGustMiles": "12",
          "chanceoffog": "0",
          "chanceoffrost": "0",
          "chanceofhightemp": "0",
          "chanceofovercast": "87",
          "chanceofrain": "0",
          "chanceofremdry": "81",
          "chanceofsnow": "0",
          "chanceofsunshine": "13",
          "chanceofthunder": "0",
          "chanceofwindy": "0",
          "cloudcover": "100",
          "humidity": "74",
          "precipInches": "0.0",
          "precipMM": "0.0",
          "pressure": "1018",
          "pressureInches": "31",
          "tempC": "19",
          "tempF": "66",
          "time": "1400",
          "uvIndex": "4",
          "visibility": "10",
          "visibilityMiles": "6",
          "weatherCode": "122",
          "weatherDesc": [
           {
            "value": "Overcast"
           }
          ],
          "weatherIconUrl": [
           {
            "value": "http://cdn.worldweatheronline.net/images/wsymbols01_png_64/wsymbol_0004_black_low_cloud.png"
           }
          ],
          "winddir16Point": "NNE",
          "winddirDegree": "30",
          "windspeedKmph": "16",
          "windspeedMiles": "10"
         },
         {
          "DewPointC": "14",
          "DewPointF": "58",
          "FeelsLikeC": "19",
          "FeelsLikeF": "67",
          "HeatIndexC": "19",
          "HeatIndexF": "67",
          "WindChillC": "19",
          "WindChillF": "67",
          "WindGustKmph": "19",
          "WindGustMiles": "12",
          "chanceoffog": "0",
          "chanceoffrost": "0",
          "chanceofhightemp": "0",
          "chanceofovercast": "88",
          "chanceofrain": "0",
          "chanceofremdry": "81",
          "chanceofsnow": "0",
          "chanceofsunshine": "15",
          "chanceofthunder": "0",
          "chanceofwindy": "0",
          "cloudcover": "100",
          "humidity": "73",
          "precipInches": "0.0",
          "precipMM": "0.0",
          "pressure": "1017",
          "pressureInches": "31",
          "tempC": "19",
          "tempF": "67",
          "time": "1500",
          "uvIndex": "4",
          "visibility": "10",
          "visibilityMiles": "6",
          "weatherCode": "122",
          "weatherDesc": [
           {
            "value": "Overcast"
           }
          ],
          "weatherIconUrl": [
           {
            "value": "http://cdn.worldweatheronline.net/images/wsymbols01_png_64/wsymbol_0004_black_low_cloud.png"
           }
          ],
          "winddir16Point": "NNE",
          "winddirDegree": "32",
          "windspeedKmph": "16",
          "windspeedMiles": "10"
         },
         {
          "DewPointC": "14",
          "DewPointF": "58",
          "FeelsLikeC": "20",
          "FeelsLikeF": "67",
          "HeatIndexC": "20",
          "HeatIndexF": "67",
          "WindChillC": "20",
          "WindChillF": "67",
          "WindGustKmph": "18",
          "WindGustMiles": "11",
          "chanceoffog": "0",
          "chanceoffrost": "0",
          "chanceofhightemp": "0",
          "chanceofovercast": "90",
          "chanceofrain": "0",
          "chanceofremdry": "82",
          "chanceofsnow": "0",
          "chanceofsunshine": "16",
          "chanceofthunder": "0",
          "chanceofwindy": "0",
          "cloudcover": "100",
          "humidity": "71",
          "precipInches": "0.0",
          "precipMM": "0.0",
          "pressure": "1016",
          "pressureInches": "30",
          "tempC": "20",
          "tempF": "67",
          "time": "1600",
          "uvIndex": "4",
          "visibility": "10",
          "visibilityMiles": "6",
          "weatherCode": "122",
          "weatherDesc": [
           {
            "value": "Overcast"
           }
          ],
          "weatherIconUrl": [
           {
            "value": "http://cdn.worldweatheronline.net/images/wsymbols01_png_64/wsymbol_0004_black_low_cloud.png"
           }
          ],
          "winddir16Point": "NNE",
          "winddirDegree": "34",
          "windspeedKmph": "16",
          "windspeedMiles": "10"
         },
         {
          "DewPointC": "14",
          "DewPointF": "58",
          "FeelsLikeC": "20",
          "FeelsLikeF": "67",
          "HeatIndexC": "20",
          "HeatIndexF": "67",
          "WindChillC": "20",
          "WindChillF": "67",
          "WindGustKmph": "17",
          "WindGustMiles": "11",
          "chanceoffog": "0",
          "chanceoffrost": "0",
          "chanceofhightemp": "0",
          "chanceofovercast": "88",
          "chanceofrain": "0",
          "chanceofremdry": "83",
          "chanceofsnow": "0",
          "chanceofsunshine": "15",
          "chanceofthunder": "0",
          "chanceofwindy": "0",
          "cloudcover": "96",
          "humidity": "72",
          "precipInches": "0.0",
          "precipMM": "0.0",
          "pressure": "1016",
          "pressureInches": "30",
          "tempC": "20",
          "tempF": "67",
          "time": "1700",
          "uvIndex": "4",
          "visibility": "10",
          "visibilityMiles": "6",
          "weatherCode": "119",
          "weatherDesc": [
           {
            "value": "Cloudy"
           }
          ],
          "weatherIconUrl": [
           {
            "value": "http://cdn.worldweatheronline.net/images/wsymbols01_png_64/wsymbol_0003_white_cloud.png"
           }
          ],
          "winddir16Point": "NE",
          "winddirDegree": "40",
          "windspeedKmph": "14",
          "windspeedMiles": "9"
         },
         {
          "DewPointC": "15",
          "DewPointF": "58",
          "FeelsLikeC": "20",
          "FeelsLikeF": "67",
          "HeatIndexC": "20",
          "HeatIndexF": "67",
          "WindChillC": "20",
          "WindChillF": "67",
          "WindGustKmph": "16",
          "WindGustMiles": "10",
          "chanceoffog": "0",
          "chanceoffrost": "0",
          "chanceofhightemp": "0",
          "chanceofovercast": "86",
          "chanceofrain": "0",
          "chanceofremdry": "84",
          "chanceofsnow": "0",
          "chanceofsunshine": "13",
          "chanceofthunder": "0",
          "chanceofwindy": "0",
          "cloudcover": "91",
          "humidity": "73",
          "precipInches": "0.0",
          "precipMM": "0.0",
          "pressure": "1016",
          "pressureInches": "30",
          "tempC": "20",
          "tempF": "67",
          "time": "1800",
          "uvIndex": "4",
          "visibility": "10",
          "visibilityMiles": "6",
          "weatherCode": "122",
          "weatherDesc": [
           {
            "value": "Overcast"
           }
          ],
          "weatherIconUrl": [
           {
            "value": "http://cdn.worldweatheronline.net/images/wsymbols01_png_64/wsymbol_0004_black_low_cloud.png"
           }
          ],
          "winddir16Point": "NE",
          "winddirDegree": "45",
          "windspeedKmph": "13",
          "windspeedMiles": "8"
         },
         {
          "DewPointC": "15",
          "DewPointF": "58",
          "FeelsLikeC": "19",
          "FeelsLikeF": "67",
          "HeatIndexC": "19",
          "HeatIndexF": "67",
          "WindChillC": "19",
          "WindChillF": "67",
          "WindGustKmph": "15",
          "WindGustMiles": "9",
          "chanceoffog": "0",
          "chanceoffrost": "0",
          "chanceofhightemp": "0",
          "chanceofovercast": "84",
          "chanceofrain": "0",
          "chanceofremdry": "85",
          "chanceofsnow": "0",
          "chanceofsunshine": "12",
          "chanceofthunder": "0",
          "chanceofwindy": "0",
          "cloudcover": "87",
          "humidity": "73",
          "precipInches": "0.0",
          "precipMM": "0.0",
          "pressure": "1016",
          "pressureInches": "30",
          "tempC": "19",
          "tempF": "67",
          "time": "1900",
          "uvIndex": "4",
          "visibility": "10",
          "visibilityMiles": "6",
          "weatherCode": "119",
          "weatherDesc": [
           {
            "value": "Cloudy"
           }
          ],
          "weatherIconUrl": [
           {
            "value": "http://cdn.worldweatheronline.net/images/wsymbols01_png_64/wsymbol_0003_white_cloud.png"
           }
          ],
          "winddir16Point": "NE",
          "winddirDegree": "51",
          "windspeedKmph": "11",
          "windspeedMiles": "7"
         },
         {
          "DewPointC": "13",
          "DewPointF": "56",
          "FeelsLikeC": "18",
          "FeelsLikeF": "65",
          "HeatIndexC": "19",
          "HeatIndexF": "66",
          "WindChillC": "18",
          "WindChillF": "65",
          "WindGustKmph": "17",
          "WindGustMiles": "11",
          "chanceoffog": "0",
          "chanceoffrost": "0",
          "chanceofhightemp": "0",
          "chanceofovercast": "68",
          "chanceofrain": "0",
          "chanceofremdry": "85",
          "chanceofsnow": "0",
          "chanceofsunshine": "37",
          "chanceofthunder": "0",
          "chanceofwindy": "0",
          "cloudcover": "61",
          "humidity": "65",
          "precipInches": "0.0",
          "precipMM": "0.0",
          "pressure": "1016",
          "pressureInches": "30",
          "tempC": "18",
          "tempF": "65",
          "time": "2000",
          "uvIndex": "0",
          "visibility": "10",
          "visibilityMiles": "6",
          "weatherCode": "116",
          "weatherDesc": [
           {
            "value": "Partly cloudy"
           }
          ],
          "weatherIconUrl": [
           {
            "value": "http://cdn.worldweatheronline.net/images/wsymbols01_png_64/wsymbol_0004_black_low_cloud.png"
           }
          ],
          "winddir16Point": "ENE",
          "winddirDegree": "72",
          "windspeedKmph": "12",
          "windspeedMiles": "7"
         },
         {
          "DewPointC": "12",
          "DewPointF": "54",
          "FeelsLikeC": "17",
          "FeelsLikeF": "62",
          "HeatIndexC": "18",
          "HeatIndexF": "65",
          "WindChillC": "17",
          "WindChillF": "62",
          "WindGustKmph": "19",
          "WindGustMiles": "12",
          "chanceoffog": "0",
          "chanceoffrost": "0",
          "chanceofhightemp": "0",
          "chanceofovercast": "53",
          "chanceofrain": "0",
          "chanceofremdry": "84",
          "chanceofsnow": "0",
          "chanceofsunshine": "62",
          "chanceofthunder": "0",
          "chanceofwindy": "0",
          "cloudcover": "35",
          "humidity": "56",
          "precipInches": "0.0",
          "precipMM": "0.0",
          "pressure": "1016",
          "pressureInches": "30",
          "tempC": "17",
          "tempF": "62",
          "time": "2100",
          "uvIndex": "0",
          "visibility": "10",
          "visibilityMiles": "6",
          "weatherCode": "119",
          "weatherDesc": [
           {
            "value": "Cloudy"
           }
          ],
          "weatherIconUrl": [
           {
            "value": "http://cdn.worldweatheronline.net/images/wsymbols01_png_64/wsymbol_0004_black_low_cloud.png"
           }
          ],
          "winddir16Point": "E",
          "winddirDegree": "93",
          "windspeedKmph": "12",
          "windspeedMiles": "8"
         },
         {
          "DewPointC": "11",
          "DewPointF": "52",
          "FeelsLikeC": "15",
          "FeelsLikeF": "60",
          "HeatIndexC": "17",
          "HeatIndexF": "63",
          "WindChillC": "15",
          "WindChillF": "60",
          "WindGustKmph": "21",
          "WindGustMiles": "13",
          "chanceoffog": "0",
          "chanceoffrost": "0",
          "chanceofhightemp": "0",
          "chanceofovercast": "37",
          "chanceofrain": "0",
          "chanceofremdry": "84",
          "chanceofsnow": "0",
          "chanceofsunshine": "87",
          "chanceofthunder": "0",
          "chanceofwindy": "0",
          "cloudcover": "9",
          "humidity": "48",
          "precipInches": "0.0",
          "precipMM": "0.0",
          "pressure": "1016",
          "pressureInches": "30",
          "tempC": "15",
          "tempF": "60",
          "time": "2200",
          "uvIndex": "0",
          "visibility": "10",
          "visibilityMiles": "6",
          "weatherCode": "116",
          "weatherDesc": [
           {
            "value": "Partly cloudy"
           }
          ],
          "weatherIconUrl": [
           {
            "value": "http://cdn.worldweatheronline.net/images/wsymbols01_png_64/wsymbol_0004_black_low_cloud.png"
           }
          ],
          "winddir16Point": "ESE",
          "winddirDegree": "113",
          "windspeedKmph": "13",
          "windspeedMiles": "8"
         },
         {
          "DewPointC": "12",
          "DewPointF": "53",
          "FeelsLikeC": "17",
          "FeelsLikeF": "63",
          "HeatIndexC": "20",
          "HeatIndexF": "67",
          "WindChillC": "17",
          "WindChillF": "63",
          "WindGustKmph": "19",
          "WindGustMiles": "12",
          "chanceoffog": "0",
          "chanceoffrost": "0",
          "chanceofhightemp": "0",
          "chanceofovercast": "39",
          "chanceofrain": "0",
          "chanceofremdry": "85",
          "chanceofsnow": "0",
          "chanceofsunshine": "85",
          "chanceofthunder": "0",
          "chanceofwindy": "0",
          "cloudcover": "10",
          "humidity": "51",
          "precipInches": "0.0",
          "precipMM": "0.0",
          "pressure": "1017",
          "pressureInches": "30",
          "tempC": "17",
          "tempF": "63",
          "time": "2300",
          "uvIndex": "0",
          "visibility": "10",
          "visibilityMiles": "6",
          "weatherCode": "116",
          "weatherDesc": [
           {
            "value": "Partly cloudy"
           }
          ],
          "weatherIconUrl": [
           {
            "value": "http://cdn.worldweatheronline.net/images/wsymbols01_png_64/wsymbol_0004_black_low_cloud.png"
           }
          ],
          "winddir16Point": "ESE",
          "winddirDegree": "124",
          "windspeedKmph": "11",
          "windspeedMiles": "7"
         }
        ],
        "maxtempC": "20",
        "maxtempF": "67",
        "mintempC": "15",
        "mintempF": "60",
        "sunHour": "0.0",
        "totalSnow_cm": "0.0",
        "uvIndex": "4"
       }
      ],
      "text/plain": [
       "<IPython.core.display.JSON object>"
      ]
     },
     "execution_count": 110,
     "metadata": {
      "application/json": {
       "expanded": false,
       "root": "root"
      }
     },
     "output_type": "execute_result"
    }
   ],
   "source": [
    "JSON(cont['data']['weather'])"
   ]
  },
  {
   "cell_type": "code",
   "execution_count": 111,
   "metadata": {},
   "outputs": [
    {
     "data": {
      "application/json": {
       "data": {
        "ClimateAverages": [
         {
          "month": [
           {
            "absMaxTemp": "17.18061",
            "absMaxTemp_F": "62.9",
            "avgDailyRainfall": "0.68",
            "avgMinTemp": "5.5",
            "avgMinTemp_F": "41.9",
            "index": "1",
            "name": "January"
           },
           {
            "absMaxTemp": "21.35143",
            "absMaxTemp_F": "70.4",
            "avgDailyRainfall": "0.57",
            "avgMinTemp": "8.0",
            "avgMinTemp_F": "46.4",
            "index": "2",
            "name": "February"
           },
           {
            "absMaxTemp": "22.84835",
            "absMaxTemp_F": "73.1",
            "avgDailyRainfall": "1.00",
            "avgMinTemp": "11.2",
            "avgMinTemp_F": "52.1",
            "index": "3",
            "name": "March"
           },
           {
            "absMaxTemp": "28.34097",
            "absMaxTemp_F": "83.0",
            "avgDailyRainfall": "1.14",
            "avgMinTemp": "14.7",
            "avgMinTemp_F": "58.5",
            "index": "4",
            "name": "April"
           },
           {
            "absMaxTemp": "30.79329",
            "absMaxTemp_F": "87.4",
            "avgDailyRainfall": "2.16",
            "avgMinTemp": "18.8",
            "avgMinTemp_F": "65.8",
            "index": "5",
            "name": "May"
           },
           {
            "absMaxTemp": "35.4842",
            "absMaxTemp_F": "95.9",
            "avgDailyRainfall": "1.32",
            "avgMinTemp": "22.4",
            "avgMinTemp_F": "72.4",
            "index": "6",
            "name": "June"
           },
           {
            "absMaxTemp": "37.02329",
            "absMaxTemp_F": "98.6",
            "avgDailyRainfall": "0.93",
            "avgMinTemp": "23.5",
            "avgMinTemp_F": "74.2",
            "index": "7",
            "name": "July"
           },
           {
            "absMaxTemp": "37.49451",
            "absMaxTemp_F": "99.5",
            "avgDailyRainfall": "1.27",
            "avgMinTemp": "24.0",
            "avgMinTemp_F": "75.3",
            "index": "8",
            "name": "August"
           },
           {
            "absMaxTemp": "33.70523",
            "absMaxTemp_F": "92.7",
            "avgDailyRainfall": "1.97",
            "avgMinTemp": "21.6",
            "avgMinTemp_F": "70.8",
            "index": "9",
            "name": "September"
           },
           {
            "absMaxTemp": "28.50868",
            "absMaxTemp_F": "83.3",
            "avgDailyRainfall": "1.43",
            "avgMinTemp": "16.0",
            "avgMinTemp_F": "60.8",
            "index": "10",
            "name": "October"
           },
           {
            "absMaxTemp": "22.83637",
            "absMaxTemp_F": "73.1",
            "avgDailyRainfall": "0.81",
            "avgMinTemp": "10.8",
            "avgMinTemp_F": "51.5",
            "index": "11",
            "name": "November"
           },
           {
            "absMaxTemp": "18.22343",
            "absMaxTemp_F": "64.8",
            "avgDailyRainfall": "0.97",
            "avgMinTemp": "7.0",
            "avgMinTemp_F": "44.7",
            "index": "12",
            "name": "December"
           }
          ]
         }
        ],
        "current_condition": [
         {
          "FeelsLikeC": "38",
          "FeelsLikeF": "101",
          "cloudcover": "25",
          "humidity": "34",
          "observation_time": "07:37 PM",
          "precipInches": "0.0",
          "precipMM": "0.0",
          "pressure": "1015",
          "pressureInches": "30",
          "temp_C": "36",
          "temp_F": "97",
          "uvIndex": 9,
          "visibility": "16",
          "visibilityMiles": "9",
          "weatherCode": "116",
          "weatherDesc": [
           {
            "value": "Partly cloudy"
           }
          ],
          "weatherIconUrl": [
           {
            "value": "http://cdn.worldweatheronline.net/images/wsymbols01_png_64/wsymbol_0002_sunny_intervals.png"
           }
          ],
          "winddir16Point": "SSE",
          "winddirDegree": "157",
          "windspeedKmph": "0",
          "windspeedMiles": "0"
         }
        ],
        "request": [
         {
          "query": "Lat 30.31 and Lon -97.72",
          "type": "LatLon"
         }
        ],
        "weather": [
         {
          "astronomy": [
           {
            "moon_illumination": "19",
            "moon_phase": "Waxing Crescent",
            "moonrise": "11:35 AM",
            "moonset": "10:28 PM",
            "sunrise": "07:25 AM",
            "sunset": "07:15 PM"
           }
          ],
          "avgtempC": "27",
          "avgtempF": "81",
          "date": "2019-10-02",
          "hourly": [
           {
            "DewPointC": "22",
            "DewPointF": "71",
            "FeelsLikeC": "27",
            "FeelsLikeF": "81",
            "HeatIndexC": "27",
            "HeatIndexF": "81",
            "WindChillC": "25",
            "WindChillF": "77",
            "WindGustKmph": "23",
            "WindGustMiles": "14",
            "chanceoffog": "0",
            "chanceoffrost": "0",
            "chanceofhightemp": "23",
            "chanceofovercast": "83",
            "chanceofrain": "65",
            "chanceofremdry": "0",
            "chanceofsnow": "0",
            "chanceofsunshine": "0",
            "chanceofthunder": "0",
            "chanceofwindy": "0",
            "cloudcover": "65",
            "humidity": "82",
            "precipInches": "0.0",
            "precipMM": "0.1",
            "pressure": "1014",
            "pressureInches": "30",
            "tempC": "25",
            "tempF": "77",
            "time": "0",
            "uvIndex": "0",
            "visibility": "10",
            "visibilityMiles": "6",
            "weatherCode": "176",
            "weatherDesc": [
             {
              "value": "Patchy rain possible"
             }
            ],
            "weatherIconUrl": [
             {
              "value": "http://cdn.worldweatheronline.net/images/wsymbols01_png_64/wsymbol_0025_light_rain_showers_night.png"
             }
            ],
            "winddir16Point": "SSE",
            "winddirDegree": "153",
            "windspeedKmph": "16",
            "windspeedMiles": "10"
           },
           {
            "DewPointC": "22",
            "DewPointF": "71",
            "FeelsLikeC": "27",
            "FeelsLikeF": "80",
            "HeatIndexC": "27",
            "HeatIndexF": "80",
            "WindChillC": "24",
            "WindChillF": "76",
            "WindGustKmph": "22",
            "WindGustMiles": "13",
            "chanceoffog": "0",
            "chanceoffrost": "0",
            "chanceofhightemp": "15",
            "chanceofovercast": "84",
            "chanceofrain": "63",
            "chanceofremdry": "0",
            "chanceofsnow": "0",
            "chanceofsunshine": "0",
            "chanceofthunder": "0",
            "chanceofwindy": "0",
            "cloudcover": "72",
            "humidity": "85",
            "precipInches": "0.0",
            "precipMM": "0.1",
            "pressure": "1015",
            "pressureInches": "30",
            "tempC": "24",
            "tempF": "76",
            "time": "100",
            "uvIndex": "0",
            "visibility": "10",
            "visibilityMiles": "6",
            "weatherCode": "176",
            "weatherDesc": [
             {
              "value": "Patchy rain possible"
             }
            ],
            "weatherIconUrl": [
             {
              "value": "http://cdn.worldweatheronline.net/images/wsymbols01_png_64/wsymbol_0025_light_rain_showers_night.png"
             }
            ],
            "winddir16Point": "SSE",
            "winddirDegree": "155",
            "windspeedKmph": "15",
            "windspeedMiles": "9"
           },
           {
            "DewPointC": "22",
            "DewPointF": "71",
            "FeelsLikeC": "26",
            "FeelsLikeF": "79",
            "HeatIndexC": "26",
            "HeatIndexF": "79",
            "WindChillC": "24",
            "WindChillF": "75",
            "WindGustKmph": "21",
            "WindGustMiles": "13",
            "chanceoffog": "0",
            "chanceoffrost": "0",
            "chanceofhightemp": "13",
            "chanceofovercast": "72",
            "chanceofrain": "42",
            "chanceofremdry": "28",
            "chanceofsnow": "0",
            "chanceofsunshine": "24",
            "chanceofthunder": "0",
            "chanceofwindy": "0",
            "cloudcover": "68",
            "humidity": "87",
            "precipInches": "0.0",
            "precipMM": "0.1",
            "pressure": "1014",
            "pressureInches": "30",
            "tempC": "24",
            "tempF": "75",
            "time": "200",
            "uvIndex": "0",
            "visibility": "10",
            "visibilityMiles": "6",
            "weatherCode": "116",
            "weatherDesc": [
             {
              "value": "Partly cloudy"
             }
            ],
            "weatherIconUrl": [
             {
              "value": "http://cdn.worldweatheronline.net/images/wsymbols01_png_64/wsymbol_0004_black_low_cloud.png"
             }
            ],
            "winddir16Point": "SSE",
            "winddirDegree": "157",
            "windspeedKmph": "14",
            "windspeedMiles": "9"
           },
           {
            "DewPointC": "22",
            "DewPointF": "71",
            "FeelsLikeC": "26",
            "FeelsLikeF": "79",
            "HeatIndexC": "26",
            "HeatIndexF": "79",
            "WindChillC": "24",
            "WindChillF": "75",
            "WindGustKmph": "19",
            "WindGustMiles": "12",
            "chanceoffog": "0",
            "chanceoffrost": "0",
            "chanceofhightemp": "12",
            "chanceofovercast": "59",
            "chanceofrain": "21",
            "chanceofremdry": "55",
            "chanceofsnow": "0",
            "chanceofsunshine": "49",
            "chanceofthunder": "0",
            "chanceofwindy": "0",
            "cloudcover": "64",
            "humidity": "88",
            "precipInches": "0.0",
            "precipMM": "0.0",
            "pressure": "1014",
            "pressureInches": "30",
            "tempC": "24",
            "tempF": "75",
            "time": "300",
            "uvIndex": "0",
            "visibility": "10",
            "visibilityMiles": "6",
            "weatherCode": "176",
            "weatherDesc": [
             {
              "value": "Patchy rain possible"
             }
            ],
            "weatherIconUrl": [
             {
              "value": "http://cdn.worldweatheronline.net/images/wsymbols01_png_64/wsymbol_0025_light_rain_showers_night.png"
             }
            ],
            "winddir16Point": "SSE",
            "winddirDegree": "158",
            "windspeedKmph": "13",
            "windspeedMiles": "8"
           },
           {
            "DewPointC": "22",
            "DewPointF": "71",
            "FeelsLikeC": "26",
            "FeelsLikeF": "78",
            "HeatIndexC": "26",
            "HeatIndexF": "78",
            "WindChillC": "23",
            "WindChillF": "74",
            "WindGustKmph": "18",
            "WindGustMiles": "11",
            "chanceoffog": "0",
            "chanceoffrost": "0",
            "chanceofhightemp": "10",
            "chanceofovercast": "47",
            "chanceofrain": "0",
            "chanceofremdry": "83",
            "chanceofsnow": "0",
            "chanceofsunshine": "73",
            "chanceofthunder": "0",
            "chanceofwindy": "0",
            "cloudcover": "60",
            "humidity": "90",
            "precipInches": "0.0",
            "precipMM": "0.0",
            "pressure": "1014",
            "pressureInches": "30",
            "tempC": "23",
            "tempF": "74",
            "time": "400",
            "uvIndex": "0",
            "visibility": "10",
            "visibilityMiles": "6",
            "weatherCode": "116",
            "weatherDesc": [
             {
              "value": "Partly cloudy"
             }
            ],
            "weatherIconUrl": [
             {
              "value": "http://cdn.worldweatheronline.net/images/wsymbols01_png_64/wsymbol_0004_black_low_cloud.png"
             }
            ],
            "winddir16Point": "SSE",
            "winddirDegree": "160",
            "windspeedKmph": "12",
            "windspeedMiles": "7"
           },
           {
            "DewPointC": "22",
            "DewPointF": "71",
            "FeelsLikeC": "26",
            "FeelsLikeF": "78",
            "HeatIndexC": "26",
            "HeatIndexF": "78",
            "WindChillC": "23",
            "WindChillF": "74",
            "WindGustKmph": "16",
            "WindGustMiles": "10",
            "chanceoffog": "0",
            "chanceoffrost": "0",
            "chanceofhightemp": "10",
            "chanceofovercast": "46",
            "chanceofrain": "0",
            "chanceofremdry": "84",
            "chanceofsnow": "0",
            "chanceofsunshine": "78",
            "chanceofthunder": "0",
            "chanceofwindy": "0",
            "cloudcover": "55",
            "humidity": "91",
            "precipInches": "0.0",
            "precipMM": "0.0",
            "pressure": "1014",
            "pressureInches": "30",
            "tempC": "23",
            "tempF": "74",
            "time": "500",
            "uvIndex": "0",
            "visibility": "10",
            "visibilityMiles": "6",
            "weatherCode": "116",
            "weatherDesc": [
             {
              "value": "Partly cloudy"
             }
            ],
            "weatherIconUrl": [
             {
              "value": "http://cdn.worldweatheronline.net/images/wsymbols01_png_64/wsymbol_0004_black_low_cloud.png"
             }
            ],
            "winddir16Point": "SSE",
            "winddirDegree": "156",
            "windspeedKmph": "11",
            "windspeedMiles": "7"
           },
           {
            "DewPointC": "22",
            "DewPointF": "71",
            "FeelsLikeC": "26",
            "FeelsLikeF": "78",
            "HeatIndexC": "26",
            "HeatIndexF": "78",
            "WindChillC": "23",
            "WindChillF": "74",
            "WindGustKmph": "14",
            "WindGustMiles": "9",
            "chanceoffog": "0",
            "chanceoffrost": "0",
            "chanceofhightemp": "10",
            "chanceofovercast": "45",
            "chanceofrain": "0",
            "chanceofremdry": "86",
            "chanceofsnow": "0",
            "chanceofsunshine": "82",
            "chanceofthunder": "0",
            "chanceofwindy": "0",
            "cloudcover": "49",
            "humidity": "91",
            "precipInches": "0.0",
            "precipMM": "0.0",
            "pressure": "1014",
            "pressureInches": "30",
            "tempC": "23",
            "tempF": "74",
            "time": "600",
            "uvIndex": "0",
            "visibility": "10",
            "visibilityMiles": "6",
            "weatherCode": "116",
            "weatherDesc": [
             {
              "value": "Partly cloudy"
             }
            ],
            "weatherIconUrl": [
             {
              "value": "http://cdn.worldweatheronline.net/images/wsymbols01_png_64/wsymbol_0004_black_low_cloud.png"
             }
            ],
            "winddir16Point": "SSE",
            "winddirDegree": "153",
            "windspeedKmph": "9",
            "windspeedMiles": "6"
           },
           {
            "DewPointC": "22",
            "DewPointF": "71",
            "FeelsLikeC": "25",
            "FeelsLikeF": "78",
            "HeatIndexC": "25",
            "HeatIndexF": "78",
            "WindChillC": "23",
            "WindChillF": "74",
            "WindGustKmph": "13",
            "WindGustMiles": "8",
            "chanceoffog": "0",
            "chanceoffrost": "0",
            "chanceofhightemp": "10",
            "chanceofovercast": "44",
            "chanceofrain": "0",
            "chanceofremdry": "87",
            "chanceofsnow": "0",
            "chanceofsunshine": "87",
            "chanceofthunder": "0",
            "chanceofwindy": "0",
            "cloudcover": "44",
            "humidity": "92",
            "precipInches": "0.0",
            "precipMM": "0.0",
            "pressure": "1014",
            "pressureInches": "30",
            "tempC": "23",
            "tempF": "74",
            "time": "700",
            "uvIndex": "0",
            "visibility": "10",
            "visibilityMiles": "6",
            "weatherCode": "116",
            "weatherDesc": [
             {
              "value": "Partly cloudy"
             }
            ],
            "weatherIconUrl": [
             {
              "value": "http://cdn.worldweatheronline.net/images/wsymbols01_png_64/wsymbol_0004_black_low_cloud.png"
             }
            ],
            "winddir16Point": "SSE",
            "winddirDegree": "150",
            "windspeedKmph": "8",
            "windspeedMiles": "5"
           },
           {
            "DewPointC": "22",
            "DewPointF": "71",
            "FeelsLikeC": "27",
            "FeelsLikeF": "80",
            "HeatIndexC": "27",
            "HeatIndexF": "80",
            "WindChillC": "24",
            "WindChillF": "76",
            "WindGustKmph": "12",
            "WindGustMiles": "8",
            "chanceoffog": "0",
            "chanceoffrost": "0",
            "chanceofhightemp": "20",
            "chanceofovercast": "42",
            "chanceofrain": "0",
            "chanceofremdry": "88",
            "chanceofsnow": "0",
            "chanceofsunshine": "86",
            "chanceofthunder": "0",
            "chanceofwindy": "0",
            "cloudcover": "48",
            "humidity": "86",
            "precipInches": "0.0",
            "precipMM": "0.0",
            "pressure": "1015",
            "pressureInches": "30",
            "tempC": "24",
            "tempF": "76",
            "time": "800",
            "uvIndex": "6",
            "visibility": "10",
            "visibilityMiles": "6",
            "weatherCode": "116",
            "weatherDesc": [
             {
              "value": "Partly cloudy"
             }
            ],
            "weatherIconUrl": [
             {
              "value": "http://cdn.worldweatheronline.net/images/wsymbols01_png_64/wsymbol_0002_sunny_intervals.png"
             }
            ],
            "winddir16Point": "SSE",
            "winddirDegree": "151",
            "windspeedKmph": "9",
            "windspeedMiles": "6"
           },
           {
            "DewPointC": "22",
            "DewPointF": "71",
            "FeelsLikeC": "28",
            "FeelsLikeF": "82",
            "HeatIndexC": "28",
            "HeatIndexF": "82",
            "WindChillC": "26",
            "WindChillF": "78",
            "WindGustKmph": "12",
            "WindGustMiles": "7",
            "chanceoffog": "0",
            "chanceoffrost": "0",
            "chanceofhightemp": "30",
            "chanceofovercast": "39",
            "chanceofrain": "0",
            "chanceofremdry": "88",
            "chanceofsnow": "0",
            "chanceofsunshine": "84",
            "chanceofthunder": "0",
            "chanceofwindy": "0",
            "cloudcover": "52",
            "humidity": "80",
            "precipInches": "0.0",
            "precipMM": "0.0",
            "pressure": "1015",
            "pressureInches": "30",
            "tempC": "26",
            "tempF": "78",
            "time": "900",
            "uvIndex": "7",
            "visibility": "10",
            "visibilityMiles": "6",
            "weatherCode": "116",
            "weatherDesc": [
             {
              "value": "Partly cloudy"
             }
            ],
            "weatherIconUrl": [
             {
              "value": "http://cdn.worldweatheronline.net/images/wsymbols01_png_64/wsymbol_0002_sunny_intervals.png"
             }
            ],
            "winddir16Point": "SSE",
            "winddirDegree": "153",
            "windspeedKmph": "9",
            "windspeedMiles": "6"
           },
           {
            "DewPointC": "22",
            "DewPointF": "71",
            "FeelsLikeC": "29",
            "FeelsLikeF": "84",
            "HeatIndexC": "29",
            "HeatIndexF": "84",
            "WindChillC": "27",
            "WindChillF": "80",
            "WindGustKmph": "12",
            "WindGustMiles": "7",
            "chanceoffog": "0",
            "chanceoffrost": "0",
            "chanceofhightemp": "40",
            "chanceofovercast": "37",
            "chanceofrain": "0",
            "chanceofremdry": "89",
            "chanceofsnow": "0",
            "chanceofsunshine": "83",
            "chanceofthunder": "0",
            "chanceofwindy": "0",
            "cloudcover": "55",
            "humidity": "73",
            "precipInches": "0.0",
            "precipMM": "0.0",
            "pressure": "1016",
            "pressureInches": "30",
            "tempC": "27",
            "tempF": "80",
            "time": "1000",
            "uvIndex": "7",
            "visibility": "10",
            "visibilityMiles": "6",
            "weatherCode": "116",
            "weatherDesc": [
             {
              "value": "Partly cloudy"
             }
            ],
            "weatherIconUrl": [
             {
              "value": "http://cdn.worldweatheronline.net/images/wsymbols01_png_64/wsymbol_0002_sunny_intervals.png"
             }
            ],
            "winddir16Point": "SSE",
            "winddirDegree": "155",
            "windspeedKmph": "10",
            "windspeedMiles": "6"
           },
           {
            "DewPointC": "21",
            "DewPointF": "70",
            "FeelsLikeC": "31",
            "FeelsLikeF": "87",
            "HeatIndexC": "31",
            "HeatIndexF": "87",
            "WindChillC": "28",
            "WindChillF": "83",
            "WindGustKmph": "12",
            "WindGustMiles": "7",
            "chanceoffog": "0",
            "chanceoffrost": "0",
            "chanceofhightemp": "43",
            "chanceofovercast": "53",
            "chanceofrain": "0",
            "chanceofremdry": "89",
            "chanceofsnow": "0",
            "chanceofsunshine": "60",
            "chanceofthunder": "0",
            "chanceofwindy": "0",
            "cloudcover": "59",
            "humidity": "67",
            "precipInches": "0.0",
            "precipMM": "0.0",
            "pressure": "1015",
            "pressureInches": "30",
            "tempC": "28",
            "tempF": "83",
            "time": "1100",
            "uvIndex": "6",
            "visibility": "10",
            "visibilityMiles": "6",
            "weatherCode": "119",
            "weatherDesc": [
             {
              "value": "Cloudy"
             }
            ],
            "weatherIconUrl": [
             {
              "value": "http://cdn.worldweatheronline.net/images/wsymbols01_png_64/wsymbol_0003_white_cloud.png"
             }
            ],
            "winddir16Point": "SSE",
            "winddirDegree": "157",
            "windspeedKmph": "10",
            "windspeedMiles": "6"
           },
           {
            "DewPointC": "21",
            "DewPointF": "69",
            "FeelsLikeC": "32",
            "FeelsLikeF": "90",
            "HeatIndexC": "32",
            "HeatIndexF": "90",
            "WindChillC": "30",
            "WindChillF": "85",
            "WindGustKmph": "13",
            "WindGustMiles": "8",
            "chanceoffog": "0",
            "chanceoffrost": "0",
            "chanceofhightemp": "46",
            "chanceofovercast": "69",
            "chanceofrain": "0",
            "chanceofremdry": "90",
            "chanceofsnow": "0",
            "chanceofsunshine": "38",
            "chanceofthunder": "0",
            "chanceofwindy": "0",
            "cloudcover": "63",
            "humidity": "60",
            "precipInches": "0.0",
            "precipMM": "0.0",
            "pressure": "1015",
            "pressureInches": "30",
            "tempC": "30",
            "tempF": "85",
            "time": "1200",
            "uvIndex": "7",
            "visibility": "10",
            "visibilityMiles": "6",
            "weatherCode": "116",
            "weatherDesc": [
             {
              "value": "Partly cloudy"
             }
            ],
            "weatherIconUrl": [
             {
              "value": "http://cdn.worldweatheronline.net/images/wsymbols01_png_64/wsymbol_0002_sunny_intervals.png"
             }
            ],
            "winddir16Point": "SSE",
            "winddirDegree": "159",
            "windspeedKmph": "11",
            "windspeedMiles": "7"
           },
           {
            "DewPointC": "20",
            "DewPointF": "68",
            "FeelsLikeC": "34",
            "FeelsLikeF": "92",
            "HeatIndexC": "34",
            "HeatIndexF": "92",
            "WindChillC": "31",
            "WindChillF": "88",
            "WindGustKmph": "13",
            "WindGustMiles": "8",
            "chanceoffog": "0",
            "chanceoffrost": "0",
            "chanceofhightemp": "50",
            "chanceofovercast": "85",
            "chanceofrain": "0",
            "chanceofremdry": "90",
            "chanceofsnow": "0",
            "chanceofsunshine": "15",
            "chanceofthunder": "0",
            "chanceofwindy": "0",
            "cloudcover": "67",
            "humidity": "53",
            "precipInches": "0.0",
            "precipMM": "0.0",
            "pressure": "1014",
            "pressureInches": "30",
            "tempC": "31",
            "tempF": "88",
            "time": "1300",
            "uvIndex": "7",
            "visibility": "10",
            "visibilityMiles": "6",
            "weatherCode": "119",
            "weatherDesc": [
             {
              "value": "Cloudy"
             }
            ],
            "weatherIconUrl": [
             {
              "value": "http://cdn.worldweatheronline.net/images/wsymbols01_png_64/wsymbol_0003_white_cloud.png"
             }
            ],
            "winddir16Point": "SSE",
            "winddirDegree": "160",
            "windspeedKmph": "11",
            "windspeedMiles": "7"
           },
           {
            "DewPointC": "20",
            "DewPointF": "69",
            "FeelsLikeC": "34",
            "FeelsLikeF": "93",
            "HeatIndexC": "34",
            "HeatIndexF": "93",
            "WindChillC": "31",
            "WindChillF": "88",
            "WindGustKmph": "14",
            "WindGustMiles": "9",
            "chanceoffog": "0",
            "chanceoffrost": "0",
            "chanceofhightemp": "50",
            "chanceofovercast": "85",
            "chanceofrain": "0",
            "chanceofremdry": "87",
            "chanceofsnow": "0",
            "chanceofsunshine": "14",
            "chanceofthunder": "0",
            "chanceofwindy": "0",
            "cloudcover": "73",
            "humidity": "52",
            "precipInches": "0.0",
            "precipMM": "0.0",
            "pressure": "1013",
            "pressureInches": "30",
            "tempC": "31",
            "tempF": "88",
            "time": "1400",
            "uvIndex": "7",
            "visibility": "10",
            "visibilityMiles": "6",
            "weatherCode": "119",
            "weatherDesc": [
             {
              "value": "Cloudy"
             }
            ],
            "weatherIconUrl": [
             {
              "value": "http://cdn.worldweatheronline.net/images/wsymbols01_png_64/wsymbol_0003_white_cloud.png"
             }
            ],
            "winddir16Point": "SSE",
            "winddirDegree": "152",
            "windspeedKmph": "12",
            "windspeedMiles": "7"
           },
           {
            "DewPointC": "20",
            "DewPointF": "69",
            "FeelsLikeC": "34",
            "FeelsLikeF": "94",
            "HeatIndexC": "34",
            "HeatIndexF": "94",
            "WindChillC": "32",
            "WindChillF": "89",
            "WindGustKmph": "14",
            "WindGustMiles": "9",
            "chanceoffog": "0",
            "chanceoffrost": "0",
            "chanceofhightemp": "50",
            "chanceofovercast": "85",
            "chanceofrain": "0",
            "chanceofremdry": "83",
            "chanceofsnow": "0",
            "chanceofsunshine": "12",
            "chanceofthunder": "0",
            "chanceofwindy": "0",
            "cloudcover": "78",
            "humidity": "52",
            "precipInches": "0.0",
            "precipMM": "0.0",
            "pressure": "1013",
            "pressureInches": "30",
            "tempC": "32",
            "tempF": "89",
            "time": "1500",
            "uvIndex": "7",
            "visibility": "10",
            "visibilityMiles": "6",
            "weatherCode": "119",
            "weatherDesc": [
             {
              "value": "Cloudy"
             }
            ],
            "weatherIconUrl": [
             {
              "value": "http://cdn.worldweatheronline.net/images/wsymbols01_png_64/wsymbol_0003_white_cloud.png"
             }
            ],
            "winddir16Point": "SE",
            "winddirDegree": "143",
            "windspeedKmph": "12",
            "windspeedMiles": "8"
           },
           {
            "DewPointC": "20",
            "DewPointF": "69",
            "FeelsLikeC": "35",
            "FeelsLikeF": "94",
            "HeatIndexC": "35",
            "HeatIndexF": "94",
            "WindChillC": "32",
            "WindChillF": "89",
            "WindGustKmph": "15",
            "WindGustMiles": "9",
            "chanceoffog": "0",
            "chanceoffrost": "0",
            "chanceofhightemp": "50",
            "chanceofovercast": "85",
            "chanceofrain": "0",
            "chanceofremdry": "80",
            "chanceofsnow": "0",
            "chanceofsunshine": "11",
            "chanceofthunder": "0",
            "chanceofwindy": "0",
            "cloudcover": "84",
            "humidity": "51",
            "precipInches": "0.0",
            "precipMM": "0.0",
            "pressure": "1012",
            "pressureInches": "30",
            "tempC": "32",
            "tempF": "89",
            "time": "1600",
            "uvIndex": "7",
            "visibility": "10",
            "visibilityMiles": "6",
            "weatherCode": "119",
            "weatherDesc": [
             {
              "value": "Cloudy"
             }
            ],
            "weatherIconUrl": [
             {
              "value": "http://cdn.worldweatheronline.net/images/wsymbols01_png_64/wsymbol_0003_white_cloud.png"
             }
            ],
            "winddir16Point": "SE",
            "winddirDegree": "134",
            "windspeedKmph": "13",
            "windspeedMiles": "8"
           },
           {
            "DewPointC": "20",
            "DewPointF": "68",
            "FeelsLikeC": "34",
            "FeelsLikeF": "93",
            "HeatIndexC": "34",
            "HeatIndexF": "93",
            "WindChillC": "31",
            "WindChillF": "88",
            "WindGustKmph": "15",
            "WindGustMiles": "10",
            "chanceoffog": "0",
            "chanceoffrost": "0",
            "chanceofhightemp": "50",
            "chanceofovercast": "84",
            "chanceofrain": "21",
            "chanceofremdry": "53",
            "chanceofsnow": "0",
            "chanceofsunshine": "7",
            "chanceofthunder": "0",
            "chanceofwindy": "0",
            "cloudcover": "80",
            "humidity": "52",
            "precipInches": "0.0",
            "precipMM": "0.0",
            "pressure": "1012",
            "pressureInches": "30",
            "tempC": "31",
            "tempF": "88",
            "time": "1700",
            "uvIndex": "7",
            "visibility": "10",
            "visibilityMiles": "6",
            "weatherCode": "176",
            "weatherDesc": [
             {
              "value": "Patchy rain possible"
             }
            ],
            "weatherIconUrl": [
             {
              "value": "http://cdn.worldweatheronline.net/images/wsymbols01_png_64/wsymbol_0009_light_rain_showers.png"
             }
            ],
            "winddir16Point": "SE",
            "winddirDegree": "140",
            "windspeedKmph": "12",
            "windspeedMiles": "8"
           },
           {
            "DewPointC": "20",
            "DewPointF": "68",
            "FeelsLikeC": "33",
            "FeelsLikeF": "91",
            "HeatIndexC": "33",
            "HeatIndexF": "91",
            "WindChillC": "31",
            "WindChillF": "87",
            "WindGustKmph": "16",
            "WindGustMiles": "10",
            "chanceoffog": "0",
            "chanceoffrost": "0",
            "chanceofhightemp": "50",
            "chanceofovercast": "84",
            "chanceofrain": "41",
            "chanceofremdry": "27",
            "chanceofsnow": "0",
            "chanceofsunshine": "4",
            "chanceofthunder": "0",
            "chanceofwindy": "0",
            "cloudcover": "75",
            "humidity": "52",
            "precipInches": "0.0",
            "precipMM": "0.1",
            "pressure": "1011",
            "pressureInches": "30",
            "tempC": "31",
            "tempF": "87",
            "time": "1800",
            "uvIndex": "7",
            "visibility": "10",
            "visibilityMiles": "6",
            "weatherCode": "119",
            "weatherDesc": [
             {
              "value": "Cloudy"
             }
            ],
            "weatherIconUrl": [
             {
              "value": "http://cdn.worldweatheronline.net/images/wsymbols01_png_64/wsymbol_0003_white_cloud.png"
             }
            ],
            "winddir16Point": "SE",
            "winddirDegree": "145",
            "windspeedKmph": "12",
            "windspeedMiles": "7"
           },
           {
            "DewPointC": "20",
            "DewPointF": "67",
            "FeelsLikeC": "32",
            "FeelsLikeF": "90",
            "HeatIndexC": "32",
            "HeatIndexF": "90",
            "WindChillC": "30",
            "WindChillF": "86",
            "WindGustKmph": "17",
            "WindGustMiles": "10",
            "chanceoffog": "0",
            "chanceoffrost": "0",
            "chanceofhightemp": "50",
            "chanceofovercast": "83",
            "chanceofrain": "62",
            "chanceofremdry": "0",
            "chanceofsnow": "0",
            "chanceofsunshine": "0",
            "chanceofthunder": "0",
            "chanceofwindy": "0",
            "cloudcover": "71",
            "humidity": "53",
            "precipInches": "0.0",
            "precipMM": "0.1",
            "pressure": "1011",
            "pressureInches": "30",
            "tempC": "30",
            "tempF": "86",
            "time": "1900",
            "uvIndex": "7",
            "visibility": "10",
            "visibilityMiles": "6",
            "weatherCode": "176",
            "weatherDesc": [
             {
              "value": "Patchy rain possible"
             }
            ],
            "weatherIconUrl": [
             {
              "value": "http://cdn.worldweatheronline.net/images/wsymbols01_png_64/wsymbol_0009_light_rain_showers.png"
             }
            ],
            "winddir16Point": "SSE",
            "winddirDegree": "151",
            "windspeedKmph": "11",
            "windspeedMiles": "7"
           },
           {
            "DewPointC": "20",
            "DewPointF": "67",
            "FeelsLikeC": "31",
            "FeelsLikeF": "88",
            "HeatIndexC": "31",
            "HeatIndexF": "88",
            "WindChillC": "29",
            "WindChillF": "84",
            "WindGustKmph": "18",
            "WindGustMiles": "11",
            "chanceoffog": "0",
            "chanceoffrost": "0",
            "chanceofhightemp": "48",
            "chanceofovercast": "71",
            "chanceofrain": "41",
            "chanceofremdry": "31",
            "chanceofsnow": "0",
            "chanceofsunshine": "24",
            "chanceofthunder": "0",
            "chanceofwindy": "0",
            "cloudcover": "48",
            "humidity": "57",
            "precipInches": "0.0",
            "precipMM": "0.1",
            "pressure": "1012",
            "pressureInches": "30",
            "tempC": "29",
            "tempF": "84",
            "time": "2000",
            "uvIndex": "0",
            "visibility": "10",
            "visibilityMiles": "6",
            "weatherCode": "116",
            "weatherDesc": [
             {
              "value": "Partly cloudy"
             }
            ],
            "weatherIconUrl": [
             {
              "value": "http://cdn.worldweatheronline.net/images/wsymbols01_png_64/wsymbol_0004_black_low_cloud.png"
             }
            ],
            "winddir16Point": "SSE",
            "winddirDegree": "149",
            "windspeedKmph": "12",
            "windspeedMiles": "7"
           },
           {
            "DewPointC": "20",
            "DewPointF": "67",
            "FeelsLikeC": "30",
            "FeelsLikeF": "86",
            "HeatIndexC": "30",
            "HeatIndexF": "86",
            "WindChillC": "28",
            "WindChillF": "83",
            "WindGustKmph": "19",
            "WindGustMiles": "12",
            "chanceoffog": "0",
            "chanceoffrost": "0",
            "chanceofhightemp": "47",
            "chanceofovercast": "59",
            "chanceofrain": "21",
            "chanceofremdry": "63",
            "chanceofsnow": "0",
            "chanceofsunshine": "47",
            "chanceofthunder": "0",
            "chanceofwindy": "0",
            "cloudcover": "26",
            "humidity": "60",
            "precipInches": "0.0",
            "precipMM": "0.0",
            "pressure": "1013",
            "pressureInches": "30",
            "tempC": "28",
            "tempF": "83",
            "time": "2100",
            "uvIndex": "0",
            "visibility": "10",
            "visibilityMiles": "6",
            "weatherCode": "176",
            "weatherDesc": [
             {
              "value": "Patchy rain possible"
             }
            ],
            "weatherIconUrl": [
             {
              "value": "http://cdn.worldweatheronline.net/images/wsymbols01_png_64/wsymbol_0025_light_rain_showers_night.png"
             }
            ],
            "winddir16Point": "SSE",
            "winddirDegree": "148",
            "windspeedKmph": "12",
            "windspeedMiles": "7"
           },
           {
            "DewPointC": "20",
            "DewPointF": "67",
            "FeelsLikeC": "29",
            "FeelsLikeF": "84",
            "HeatIndexC": "29",
            "HeatIndexF": "84",
            "WindChillC": "27",
            "WindChillF": "81",
            "WindGustKmph": "20",
            "WindGustMiles": "13",
            "chanceoffog": "0",
            "chanceoffrost": "0",
            "chanceofhightemp": "45",
            "chanceofovercast": "47",
            "chanceofrain": "0",
            "chanceofremdry": "94",
            "chanceofsnow": "0",
            "chanceofsunshine": "71",
            "chanceofthunder": "0",
            "chanceofwindy": "0",
            "cloudcover": "3",
            "humidity": "64",
            "precipInches": "0.0",
            "precipMM": "0.0",
            "pressure": "1014",
            "pressureInches": "30",
            "tempC": "27",
            "tempF": "81",
            "time": "2200",
            "uvIndex": "0",
            "visibility": "10",
            "visibilityMiles": "6",
            "weatherCode": "116",
            "weatherDesc": [
             {
              "value": "Partly cloudy"
             }
            ],
            "weatherIconUrl": [
             {
              "value": "http://cdn.worldweatheronline.net/images/wsymbols01_png_64/wsymbol_0004_black_low_cloud.png"
             }
            ],
            "winddir16Point": "SSE",
            "winddirDegree": "146",
            "windspeedKmph": "12",
            "windspeedMiles": "7"
           },
           {
            "DewPointC": "21",
            "DewPointF": "69",
            "FeelsLikeC": "28",
            "FeelsLikeF": "83",
            "HeatIndexC": "28",
            "HeatIndexF": "83",
            "WindChillC": "26",
            "WindChillF": "80",
            "WindGustKmph": "20",
            "WindGustMiles": "12",
            "chanceoffog": "0",
            "chanceoffrost": "0",
            "chanceofhightemp": "35",
            "chanceofovercast": "47",
            "chanceofrain": "0",
            "chanceofremdry": "92",
            "chanceofsnow": "0",
            "chanceofsunshine": "75",
            "chanceofthunder": "0",
            "chanceofwindy": "0",
            "cloudcover": "22",
            "humidity": "70",
            "precipInches": "0.0",
            "precipMM": "0.0",
            "pressure": "1014",
            "pressureInches": "30",
            "tempC": "26",
            "tempF": "80",
            "time": "2300",
            "uvIndex": "0",
            "visibility": "10",
            "visibilityMiles": "6",
            "weatherCode": "116",
            "weatherDesc": [
             {
              "value": "Partly cloudy"
             }
            ],
            "weatherIconUrl": [
             {
              "value": "http://cdn.worldweatheronline.net/images/wsymbols01_png_64/wsymbol_0004_black_low_cloud.png"
             }
            ],
            "winddir16Point": "SSE",
            "winddirDegree": "155",
            "windspeedKmph": "12",
            "windspeedMiles": "8"
           }
          ],
          "maxtempC": "32",
          "maxtempF": "89",
          "mintempC": "23",
          "mintempF": "74",
          "sunHour": "7.4",
          "totalSnow_cm": "0.0",
          "uvIndex": "6"
         },
         {
          "astronomy": [
           {
            "moon_illumination": "27",
            "moon_phase": "Waxing Crescent",
            "moonrise": "12:37 PM",
            "moonset": "11:16 PM",
            "sunrise": "07:26 AM",
            "sunset": "07:14 PM"
           }
          ],
          "avgtempC": "28",
          "avgtempF": "82",
          "date": "2019-10-03",
          "hourly": [
           {
            "DewPointC": "21",
            "DewPointF": "70",
            "FeelsLikeC": "28",
            "FeelsLikeF": "82",
            "HeatIndexC": "28",
            "HeatIndexF": "82",
            "WindChillC": "26",
            "WindChillF": "78",
            "WindGustKmph": "19",
            "WindGustMiles": "12",
            "chanceoffog": "0",
            "chanceoffrost": "0",
            "chanceofhightemp": "25",
            "chanceofovercast": "47",
            "chanceofrain": "0",
            "chanceofremdry": "91",
            "chanceofsnow": "0",
            "chanceofsunshine": "79",
            "chanceofthunder": "0",
            "chanceofwindy": "0",
            "cloudcover": "41",
            "humidity": "77",
            "precipInches": "0.0",
            "precipMM": "0.0",
            "pressure": "1014",
            "pressureInches": "30",
            "tempC": "26",
            "tempF": "78",
            "time": "0",
            "uvIndex": "0",
            "visibility": "10",
            "visibilityMiles": "6",
            "weatherCode": "116",
            "weatherDesc": [
             {
              "value": "Partly cloudy"
             }
            ],
            "weatherIconUrl": [
             {
              "value": "http://cdn.worldweatheronline.net/images/wsymbols01_png_64/wsymbol_0004_black_low_cloud.png"
             }
            ],
            "winddir16Point": "SSE",
            "winddirDegree": "163",
            "windspeedKmph": "12",
            "windspeedMiles": "8"
           },
           {
            "DewPointC": "22",
            "DewPointF": "72",
            "FeelsLikeC": "27",
            "FeelsLikeF": "81",
            "HeatIndexC": "27",
            "HeatIndexF": "81",
            "WindChillC": "25",
            "WindChillF": "77",
            "WindGustKmph": "19",
            "WindGustMiles": "12",
            "chanceoffog": "0",
            "chanceoffrost": "0",
            "chanceofhightemp": "15",
            "chanceofovercast": "47",
            "chanceofrain": "0",
            "chanceofremdry": "89",
            "chanceofsnow": "0",
            "chanceofsunshine": "83",
            "chanceofthunder": "0",
            "chanceofwindy": "0",
            "cloudcover": "60",
            "humidity": "84",
            "precipInches": "0.0",
            "precipMM": "0.0",
            "pressure": "1014",
            "pressureInches": "30",
            "tempC": "25",
            "tempF": "77",
            "time": "100",
            "uvIndex": "0",
            "visibility": "10",
            "visibilityMiles": "6",
            "weatherCode": "116",
            "weatherDesc": [
             {
              "value": "Partly cloudy"
             }
            ],
            "weatherIconUrl": [
             {
              "value": "http://cdn.worldweatheronline.net/images/wsymbols01_png_64/wsymbol_0004_black_low_cloud.png"
             }
            ],
            "winddir16Point": "S",
            "winddirDegree": "171",
            "windspeedKmph": "13",
            "windspeedMiles": "8"
           },
           {
            "DewPointC": "22",
            "DewPointF": "72",
            "FeelsLikeC": "27",
            "FeelsLikeF": "81",
            "HeatIndexC": "27",
            "HeatIndexF": "81",
            "WindChillC": "25",
            "WindChillF": "76",
            "WindGustKmph": "15",
            "WindGustMiles": "10",
            "chanceoffog": "0",
            "chanceoffrost": "0",
            "chanceofhightemp": "15",
            "chanceofovercast": "42",
            "chanceofrain": "0",
            "chanceofremdry": "88",
            "chanceofsnow": "0",
            "chanceofsunshine": "84",
            "chanceofthunder": "0",
            "chanceofwindy": "0",
            "cloudcover": "52",
            "humidity": "86",
            "precipInches": "0.0",
            "precipMM": "0.0",
            "pressure": "1015",
            "pressureInches": "30",
            "tempC": "25",
            "tempF": "76",
            "time": "200",
            "uvIndex": "0",
            "visibility": "10",
            "visibilityMiles": "6",
            "weatherCode": "116",
            "weatherDesc": [
             {
              "value": "Partly cloudy"
             }
            ],
            "weatherIconUrl": [
             {
              "value": "http://cdn.worldweatheronline.net/images/wsymbols01_png_64/wsymbol_0004_black_low_cloud.png"
             }
            ],
            "winddir16Point": "S",
            "winddirDegree": "171",
            "windspeedKmph": "10",
            "windspeedMiles": "6"
           },
           {
            "DewPointC": "22",
            "DewPointF": "72",
            "FeelsLikeC": "27",
            "FeelsLikeF": "80",
            "HeatIndexC": "27",
            "HeatIndexF": "80",
            "WindChillC": "24",
            "WindChillF": "76",
            "WindGustKmph": "12",
            "WindGustMiles": "8",
            "chanceoffog": "0",
            "chanceoffrost": "0",
            "chanceofhightemp": "15",
            "chanceofovercast": "36",
            "chanceofrain": "0",
            "chanceofremdry": "86",
            "chanceofsnow": "0",
            "chanceofsunshine": "85",
            "chanceofthunder": "0",
            "chanceofwindy": "0",
            "cloudcover": "44",
            "humidity": "87",
            "precipInches": "0.0",
            "precipMM": "0.0",
            "pressure": "1015",
            "pressureInches": "30",
            "tempC": "24",
            "tempF": "76",
            "time": "300",
            "uvIndex": "0",
            "visibility": "10",
            "visibilityMiles": "6",
            "weatherCode": "116",
            "weatherDesc": [
             {
              "value": "Partly cloudy"
             }
            ],
            "weatherIconUrl": [
             {
              "value": "http://cdn.worldweatheronline.net/images/wsymbols01_png_64/wsymbol_0004_black_low_cloud.png"
             }
            ],
            "winddir16Point": "S",
            "winddirDegree": "171",
            "windspeedKmph": "8",
            "windspeedMiles": "5"
           },
           {
            "DewPointC": "22",
            "DewPointF": "72",
            "FeelsLikeC": "27",
            "FeelsLikeF": "80",
            "HeatIndexC": "27",
            "HeatIndexF": "80",
            "WindChillC": "24",
            "WindChillF": "76",
            "WindGustKmph": "9",
            "WindGustMiles": "6",
            "chanceoffog": "0",
            "chanceoffrost": "0",
            "chanceofhightemp": "15",
            "chanceofovercast": "31",
            "chanceofrain": "0",
            "chanceofremdry": "85",
            "chanceofsnow": "0",
            "chanceofsunshine": "86",
            "chanceofthunder": "0",
            "chanceofwindy": "0",
            "cloudcover": "35",
            "humidity": "89",
            "precipInches": "0.0",
            "precipMM": "0.0",
            "pressure": "1015",
            "pressureInches": "30",
            "tempC": "24",
            "tempF": "76",
            "time": "400",
            "uvIndex": "0",
            "visibility": "10",
            "visibilityMiles": "6",
            "weatherCode": "116",
            "weatherDesc": [
             {
              "value": "Partly cloudy"
             }
            ],
            "weatherIconUrl": [
             {
              "value": "http://cdn.worldweatheronline.net/images/wsymbols01_png_64/wsymbol_0004_black_low_cloud.png"
             }
            ],
            "winddir16Point": "S",
            "winddirDegree": "171",
            "windspeedKmph": "6",
            "windspeedMiles": "4"
           },
           {
            "DewPointC": "22",
            "DewPointF": "72",
            "FeelsLikeC": "26",
            "FeelsLikeF": "79",
            "HeatIndexC": "26",
            "HeatIndexF": "79",
            "WindChillC": "24",
            "WindChillF": "75",
            "WindGustKmph": "8",
            "WindGustMiles": "5",
            "chanceoffog": "0",
            "chanceoffrost": "0",
            "chanceofhightemp": "13",
            "chanceofovercast": "36",
            "chanceofrain": "0",
            "chanceofremdry": "84",
            "chanceofsnow": "0",
            "chanceofsunshine": "85",
            "chanceofthunder": "0",
            "chanceofwindy": "0",
            "cloudcover": "40",
            "humidity": "89",
            "precipInches": "0.0",
            "precipMM": "0.0",
            "pressure": "1015",
            "pressureInches": "30",
            "tempC": "24",
            "tempF": "75",
            "time": "500",
            "uvIndex": "0",
            "visibility": "10",
            "visibilityMiles": "6",
            "weatherCode": "116",
            "weatherDesc": [
             {
              "value": "Partly cloudy"
             }
            ],
            "weatherIconUrl": [
             {
              "value": "http://cdn.worldweatheronline.net/images/wsymbols01_png_64/wsymbol_0004_black_low_cloud.png"
             }
            ],
            "winddir16Point": "SSE",
            "winddirDegree": "159",
            "windspeedKmph": "5",
            "windspeedMiles": "3"
           },
           {
            "DewPointC": "22",
            "DewPointF": "72",
            "FeelsLikeC": "26",
            "FeelsLikeF": "79",
            "HeatIndexC": "26",
            "HeatIndexF": "79",
            "WindChillC": "24",
            "WindChillF": "75",
            "WindGustKmph": "7",
            "WindGustMiles": "4",
            "chanceoffog": "0",
            "chanceoffrost": "0",
            "chanceofhightemp": "12",
            "chanceofovercast": "40",
            "chanceofrain": "0",
            "chanceofremdry": "82",
            "chanceofsnow": "0",
            "chanceofsunshine": "85",
            "chanceofthunder": "0",
            "chanceofwindy": "0",
            "cloudcover": "45",
            "humidity": "90",
            "precipInches": "0.0",
            "precipMM": "0.0",
            "pressure": "1015",
            "pressureInches": "30",
            "tempC": "24",
            "tempF": "75",
            "time": "600",
            "uvIndex": "0",
            "visibility": "10",
            "visibilityMiles": "6",
            "weatherCode": "116",
            "weatherDesc": [
             {
              "value": "Partly cloudy"
             }
            ],
            "weatherIconUrl": [
             {
              "value": "http://cdn.worldweatheronline.net/images/wsymbols01_png_64/wsymbol_0004_black_low_cloud.png"
             }
            ],
            "winddir16Point": "SSE",
            "winddirDegree": "147",
            "windspeedKmph": "5",
            "windspeedMiles": "3"
           },
           {
            "DewPointC": "22",
            "DewPointF": "72",
            "FeelsLikeC": "26",
            "FeelsLikeF": "79",
            "HeatIndexC": "26",
            "HeatIndexF": "79",
            "WindChillC": "24",
            "WindChillF": "74",
            "WindGustKmph": "6",
            "WindGustMiles": "4",
            "chanceoffog": "0",
            "chanceoffrost": "0",
            "chanceofhightemp": "10",
            "chanceofovercast": "45",
            "chanceofrain": "0",
            "chanceofremdry": "81",
            "chanceofsnow": "0",
            "chanceofsunshine": "84",
            "chanceofthunder": "0",
            "chanceofwindy": "0",
            "cloudcover": "50",
            "humidity": "91",
            "precipInches": "0.0",
            "precipMM": "0.0",
            "pressure": "1015",
            "pressureInches": "30",
            "tempC": "24",
            "tempF": "74",
            "time": "700",
            "uvIndex": "0",
            "visibility": "10",
            "visibilityMiles": "6",
            "weatherCode": "116",
            "weatherDesc": [
             {
              "value": "Partly cloudy"
             }
            ],
            "weatherIconUrl": [
             {
              "value": "http://cdn.worldweatheronline.net/images/wsymbols01_png_64/wsymbol_0004_black_low_cloud.png"
             }
            ],
            "winddir16Point": "SE",
            "winddirDegree": "135",
            "windspeedKmph": "4",
            "windspeedMiles": "2"
           },
           {
            "DewPointC": "22",
            "DewPointF": "71",
            "FeelsLikeC": "27",
            "FeelsLikeF": "81",
            "HeatIndexC": "27",
            "HeatIndexF": "81",
            "WindChillC": "25",
            "WindChillF": "77",
            "WindGustKmph": "6",
            "WindGustMiles": "4",
            "chanceoffog": "0",
            "chanceoffrost": "0",
            "chanceofhightemp": "22",
            "chanceofovercast": "40",
            "chanceofrain": "0",
            "chanceofremdry": "85",
            "chanceofsnow": "0",
            "chanceofsunshine": "84",
            "chanceofthunder": "0",
            "chanceofwindy": "0",
            "cloudcover": "38",
            "humidity": "83",
            "precipInches": "0.0",
            "precipMM": "0.0",
            "pressure": "1016",
            "pressureInches": "30",
            "tempC": "25",
            "tempF": "77",
            "time": "800",
            "uvIndex": "6",
            "visibility": "10",
            "visibilityMiles": "6",
            "weatherCode": "116",
            "weatherDesc": [
             {
              "value": "Partly cloudy"
             }
            ],
            "weatherIconUrl": [
             {
              "value": "http://cdn.worldweatheronline.net/images/wsymbols01_png_64/wsymbol_0002_sunny_intervals.png"
             }
            ],
            "winddir16Point": "ESE",
            "winddirDegree": "122",
            "windspeedKmph": "5",
            "windspeedMiles": "3"
           },
           {
            "DewPointC": "21",
            "DewPointF": "71",
            "FeelsLikeC": "28",
            "FeelsLikeF": "83",
            "HeatIndexC": "28",
            "HeatIndexF": "83",
            "WindChillC": "26",
            "WindChillF": "79",
            "WindGustKmph": "6",
            "WindGustMiles": "4",
            "chanceoffog": "0",
            "chanceoffrost": "0",
            "chanceofhightemp": "33",
            "chanceofovercast": "36",
            "chanceofrain": "0",
            "chanceofremdry": "90",
            "chanceofsnow": "0",
            "chanceofsunshine": "84",
            "chanceofthunder": "0",
            "chanceofwindy": "0",
            "cloudcover": "25",
            "humidity": "76",
            "precipInches": "0.0",
            "precipMM": "0.0",
            "pressure": "1016",
            "pressureInches": "30",
            "tempC": "26",
            "tempF": "79",
            "time": "900",
            "uvIndex": "7",
            "visibility": "10",
            "visibilityMiles": "6",
            "weatherCode": "116",
            "weatherDesc": [
             {
              "value": "Partly cloudy"
             }
            ],
            "weatherIconUrl": [
             {
              "value": "http://cdn.worldweatheronline.net/images/wsymbols01_png_64/wsymbol_0002_sunny_intervals.png"
             }
            ],
            "winddir16Point": "ESE",
            "winddirDegree": "109",
            "windspeedKmph": "5",
            "windspeedMiles": "3"
           },
           {
            "DewPointC": "21",
            "DewPointF": "70",
            "FeelsLikeC": "30",
            "FeelsLikeF": "85",
            "HeatIndexC": "30",
            "HeatIndexF": "85",
            "WindChillC": "27",
            "WindChillF": "81",
            "WindGustKmph": "6",
            "WindGustMiles": "4",
            "chanceoffog": "0",
            "chanceoffrost": "0",
            "chanceofhightemp": "45",
            "chanceofovercast": "31",
            "chanceofrain": "0",
            "chanceofremdry": "94",
            "chanceofsnow": "0",
            "chanceofsunshine": "84",
            "chanceofthunder": "0",
            "chanceofwindy": "0",
            "cloudcover": "13",
            "humidity": "68",
            "precipInches": "0.0",
            "precipMM": "0.0",
            "pressure": "1017",
            "pressureInches": "30",
            "tempC": "27",
            "tempF": "81",
            "time": "1000",
            "uvIndex": "7",
            "visibility": "10",
            "visibilityMiles": "6",
            "weatherCode": "116",
            "weatherDesc": [
             {
              "value": "Partly cloudy"
             }
            ],
            "weatherIconUrl": [
             {
              "value": "http://cdn.worldweatheronline.net/images/wsymbols01_png_64/wsymbol_0002_sunny_intervals.png"
             }
            ],
            "winddir16Point": "E",
            "winddirDegree": "96",
            "windspeedKmph": "6",
            "windspeedMiles": "4"
           },
           {
            "DewPointC": "20",
            "DewPointF": "68",
            "FeelsLikeC": "31",
            "FeelsLikeF": "88",
            "HeatIndexC": "31",
            "HeatIndexF": "88",
            "WindChillC": "29",
            "WindChillF": "84",
            "WindGustKmph": "9",
            "WindGustMiles": "5",
            "chanceoffog": "0",
            "chanceoffrost": "0",
            "chanceofhightemp": "47",
            "chanceofovercast": "33",
            "chanceofrain": "0",
            "chanceofremdry": "93",
            "chanceofsnow": "0",
            "chanceofsunshine": "85",
            "chanceofthunder": "0",
            "chanceofwindy": "0",
            "cloudcover": "12",
            "humidity": "60",
            "precipInches": "0.0",
            "precipMM": "0.0",
            "pressure": "1016",
            "pressureInches": "30",
            "tempC": "29",
            "tempF": "84",
            "time": "1100",
            "uvIndex": "7",
            "visibility": "10",
            "visibilityMiles": "6",
            "weatherCode": "116",
            "weatherDesc": [
             {
              "value": "Partly cloudy"
             }
            ],
            "weatherIconUrl": [
             {
              "value": "http://cdn.worldweatheronline.net/images/wsymbols01_png_64/wsymbol_0002_sunny_intervals.png"
             }
            ],
            "winddir16Point": "ESE",
            "winddirDegree": "102",
            "windspeedKmph": "8",
            "windspeedMiles": "5"
           },
           {
            "DewPointC": "19",
            "DewPointF": "66",
            "FeelsLikeC": "32",
            "FeelsLikeF": "90",
            "HeatIndexC": "32",
            "HeatIndexF": "90",
            "WindChillC": "31",
            "WindChillF": "87",
            "WindGustKmph": "11",
            "WindGustMiles": "7",
            "chanceoffog": "0",
            "chanceoffrost": "0",
            "chanceofhightemp": "48",
            "chanceofovercast": "34",
            "chanceofrain": "0",
            "chanceofremdry": "93",
            "chanceofsnow": "0",
            "chanceofsunshine": "86",
            "chanceofthunder": "0",
            "chanceofwindy": "0",
            "cloudcover": "12",
            "humidity": "52",
            "precipInches": "0.0",
            "precipMM": "0.0",
            "pressure": "1016",
            "pressureInches": "30",
            "tempC": "31",
            "tempF": "87",
            "time": "1200",
            "uvIndex": "8",
            "visibility": "10",
            "visibilityMiles": "6",
            "weatherCode": "116",
            "weatherDesc": [
             {
              "value": "Partly cloudy"
             }
            ],
            "weatherIconUrl": [
             {
              "value": "http://cdn.worldweatheronline.net/images/wsymbols01_png_64/wsymbol_0002_sunny_intervals.png"
             }
            ],
            "winddir16Point": "ESE",
            "winddirDegree": "108",
            "windspeedKmph": "9",
            "windspeedMiles": "6"
           },
           {
            "DewPointC": "18",
            "DewPointF": "65",
            "FeelsLikeC": "34",
            "FeelsLikeF": "92",
            "HeatIndexC": "34",
            "HeatIndexF": "92",
            "WindChillC": "32",
            "WindChillF": "90",
            "WindGustKmph": "13",
            "WindGustMiles": "8",
            "chanceoffog": "0",
            "chanceoffrost": "0",
            "chanceofhightemp": "50",
            "chanceofovercast": "36",
            "chanceofrain": "0",
            "chanceofremdry": "92",
            "chanceofsnow": "0",
            "chanceofsunshine": "87",
            "chanceofthunder": "0",
            "chanceofwindy": "0",
            "cloudcover": "11",
            "humidity": "44",
            "precipInches": "0.0",
            "precipMM": "0.0",
            "pressure": "1016",
            "pressureInches": "30",
            "tempC": "32",
            "tempF": "90",
            "time": "1300",
            "uvIndex": "8",
            "visibility": "10",
            "visibilityMiles": "6",
            "weatherCode": "116",
            "weatherDesc": [
             {
              "value": "Partly cloudy"
             }
            ],
            "weatherIconUrl": [
             {
              "value": "http://cdn.worldweatheronline.net/images/wsymbols01_png_64/wsymbol_0002_sunny_intervals.png"
             }
            ],
            "winddir16Point": "ESE",
            "winddirDegree": "115",
            "windspeedKmph": "11",
            "windspeedMiles": "7"
           },
           {
            "DewPointC": "18",
            "DewPointF": "65",
            "FeelsLikeC": "34",
            "FeelsLikeF": "94",
            "HeatIndexC": "34",
            "HeatIndexF": "94",
            "WindChillC": "33",
            "WindChillF": "91",
            "WindGustKmph": "14",
            "WindGustMiles": "9",
            "chanceoffog": "0",
            "chanceoffrost": "0",
            "chanceofhightemp": "50",
            "chanceofovercast": "39",
            "chanceofrain": "0",
            "chanceofremdry": "92",
            "chanceofsnow": "0",
            "chanceofsunshine": "88",
            "chanceofthunder": "0",
            "chanceofwindy": "0",
            "cloudcover": "25",
            "humidity": "43",
            "precipInches": "0.0",
            "precipMM": "0.0",
            "pressure": "1015",
            "pressureInches": "30",
            "tempC": "33",
            "tempF": "91",
            "time": "1400",
            "uvIndex": "8",
            "visibility": "10",
            "visibilityMiles": "6",
            "weatherCode": "116",
            "weatherDesc": [
             {
              "value": "Partly cloudy"
             }
            ],
            "weatherIconUrl": [
             {
              "value": "http://cdn.worldweatheronline.net/images/wsymbols01_png_64/wsymbol_0002_sunny_intervals.png"
             }
            ],
            "winddir16Point": "ESE",
            "winddirDegree": "110",
            "windspeedKmph": "13",
            "windspeedMiles": "8"
           },
           {
            "DewPointC": "18",
            "DewPointF": "65",
            "FeelsLikeC": "35",
            "FeelsLikeF": "95",
            "HeatIndexC": "35",
            "HeatIndexF": "95",
            "WindChillC": "33",
            "WindChillF": "92",
            "WindGustKmph": "16",
            "WindGustMiles": "10",
            "chanceoffog": "0",
            "chanceoffrost": "0",
            "chanceofhightemp": "50",
            "chanceofovercast": "43",
            "chanceofrain": "0",
            "chanceofremdry": "93",
            "chanceofsnow": "0",
            "chanceofsunshine": "88",
            "chanceofthunder": "0",
            "chanceofwindy": "0",
            "cloudcover": "38",
            "humidity": "42",
            "precipInches": "0.0",
            "precipMM": "0.0",
            "pressure": "1014",
            "pressureInches": "30",
            "tempC": "33",
            "tempF": "92",
            "time": "1500",
            "uvIndex": "8",
            "visibility": "10",
            "visibilityMiles": "6",
            "weatherCode": "116",
            "weatherDesc": [
             {
              "value": "Partly cloudy"
             }
            ],
            "weatherIconUrl": [
             {
              "value": "http://cdn.worldweatheronline.net/images/wsymbols01_png_64/wsymbol_0002_sunny_intervals.png"
             }
            ],
            "winddir16Point": "ESE",
            "winddirDegree": "106",
            "windspeedKmph": "14",
            "windspeedMiles": "9"
           },
           {
            "DewPointC": "18",
            "DewPointF": "65",
            "FeelsLikeC": "36",
            "FeelsLikeF": "96",
            "HeatIndexC": "36",
            "HeatIndexF": "96",
            "WindChillC": "34",
            "WindChillF": "92",
            "WindGustKmph": "17",
            "WindGustMiles": "11",
            "chanceoffog": "0",
            "chanceoffrost": "0",
            "chanceofhightemp": "50",
            "chanceofovercast": "46",
            "chanceofrain": "0",
            "chanceofremdry": "93",
            "chanceofsnow": "0",
            "chanceofsunshine": "89",
            "chanceofthunder": "0",
            "chanceofwindy": "0",
            "cloudcover": "52",
            "humidity": "41",
            "precipInches": "0.0",
            "precipMM": "0.0",
            "pressure": "1013",
            "pressureInches": "30",
            "tempC": "34",
            "tempF": "92",
            "time": "1600",
            "uvIndex": "8",
            "visibility": "10",
            "visibilityMiles": "6",
            "weatherCode": "116",
            "weatherDesc": [
             {
              "value": "Partly cloudy"
             }
            ],
            "weatherIconUrl": [
             {
              "value": "http://cdn.worldweatheronline.net/images/wsymbols01_png_64/wsymbol_0002_sunny_intervals.png"
             }
            ],
            "winddir16Point": "E",
            "winddirDegree": "101",
            "windspeedKmph": "15",
            "windspeedMiles": "9"
           },
           {
            "DewPointC": "19",
            "DewPointF": "66",
            "FeelsLikeC": "35",
            "FeelsLikeF": "94",
            "HeatIndexC": "35",
            "HeatIndexF": "94",
            "WindChillC": "33",
            "WindChillF": "91",
            "WindGustKmph": "18",
            "WindGustMiles": "11",
            "chanceoffog": "0",
            "chanceoffrost": "0",
            "chanceofhightemp": "50",
            "chanceofovercast": "57",
            "chanceofrain": "0",
            "chanceofremdry": "89",
            "chanceofsnow": "0",
            "chanceofsunshine": "64",
            "chanceofthunder": "0",
            "chanceofwindy": "0",
            "cloudcover": "60",
            "humidity": "44",
            "precipInches": "0.0",
            "precipMM": "0.0",
            "pressure": "1013",
            "pressureInches": "30",
            "tempC": "33",
            "tempF": "91",
            "time": "1700",
            "uvIndex": "7",
            "visibility": "10",
            "visibilityMiles": "6",
            "weatherCode": "119",
            "weatherDesc": [
             {
              "value": "Cloudy"
             }
            ],
            "weatherIconUrl": [
             {
              "value": "http://cdn.worldweatheronline.net/images/wsymbols01_png_64/wsymbol_0003_white_cloud.png"
             }
            ],
            "winddir16Point": "ESE",
            "winddirDegree": "101",
            "windspeedKmph": "15",
            "windspeedMiles": "9"
           },
           {
            "DewPointC": "19",
            "DewPointF": "67",
            "FeelsLikeC": "34",
            "FeelsLikeF": "93",
            "HeatIndexC": "34",
            "HeatIndexF": "93",
            "WindChillC": "32",
            "WindChillF": "89",
            "WindGustKmph": "19",
            "WindGustMiles": "12",
            "chanceoffog": "0",
            "chanceoffrost": "0",
            "chanceofhightemp": "50",
            "chanceofovercast": "69",
            "chanceofrain": "0",
            "chanceofremdry": "84",
            "chanceofsnow": "0",
            "chanceofsunshine": "39",
            "chanceofthunder": "0",
            "chanceofwindy": "0",
            "cloudcover": "68",
            "humidity": "48",
            "precipInches": "0.0",
            "precipMM": "0.0",
            "pressure": "1014",
            "pressureInches": "30",
            "tempC": "32",
            "tempF": "89",
            "time": "1800",
            "uvIndex": "8",
            "visibility": "10",
            "visibilityMiles": "6",
            "weatherCode": "116",
            "weatherDesc": [
             {
              "value": "Partly cloudy"
             }
            ],
            "weatherIconUrl": [
             {
              "value": "http://cdn.worldweatheronline.net/images/wsymbols01_png_64/wsymbol_0002_sunny_intervals.png"
             }
            ],
            "winddir16Point": "ESE",
            "winddirDegree": "101",
            "windspeedKmph": "15",
            "windspeedMiles": "9"
           },
           {
            "DewPointC": "20",
            "DewPointF": "67",
            "FeelsLikeC": "33",
            "FeelsLikeF": "91",
            "HeatIndexC": "33",
            "HeatIndexF": "91",
            "WindChillC": "31",
            "WindChillF": "87",
            "WindGustKmph": "21",
            "WindGustMiles": "13",
            "chanceoffog": "0",
            "chanceoffrost": "0",
            "chanceofhightemp": "50",
            "chanceofovercast": "80",
            "chanceofrain": "0",
            "chanceofremdry": "80",
            "chanceofsnow": "0",
            "chanceofsunshine": "14",
            "chanceofthunder": "0",
            "chanceofwindy": "0",
            "cloudcover": "76",
            "humidity": "52",
            "precipInches": "0.0",
            "precipMM": "0.0",
            "pressure": "1014",
            "pressureInches": "30",
            "tempC": "31",
            "tempF": "87",
            "time": "1900",
            "uvIndex": "7",
            "visibility": "10",
            "visibilityMiles": "6",
            "weatherCode": "119",
            "weatherDesc": [
             {
              "value": "Cloudy"
             }
            ],
            "weatherIconUrl": [
             {
              "value": "http://cdn.worldweatheronline.net/images/wsymbols01_png_64/wsymbol_0003_white_cloud.png"
             }
            ],
            "winddir16Point": "ESE",
            "winddirDegree": "101",
            "windspeedKmph": "14",
            "windspeedMiles": "9"
           },
           {
            "DewPointC": "20",
            "DewPointF": "68",
            "FeelsLikeC": "32",
            "FeelsLikeF": "89",
            "HeatIndexC": "32",
            "HeatIndexF": "89",
            "WindChillC": "30",
            "WindChillF": "85",
            "WindGustKmph": "21",
            "WindGustMiles": "13",
            "chanceoffog": "0",
            "chanceoffrost": "0",
            "chanceofhightemp": "49",
            "chanceofovercast": "81",
            "chanceofrain": "25",
            "chanceofremdry": "53",
            "chanceofsnow": "0",
            "chanceofsunshine": "9",
            "chanceofthunder": "0",
            "chanceofwindy": "0",
            "cloudcover": "77",
            "humidity": "55",
            "precipInches": "0.0",
            "precipMM": "0.5",
            "pressure": "1015",
            "pressureInches": "30",
            "tempC": "30",
            "tempF": "85",
            "time": "2000",
            "uvIndex": "0",
            "visibility": "10",
            "visibilityMiles": "6",
            "weatherCode": "176",
            "weatherDesc": [
             {
              "value": "Patchy rain possible"
             }
            ],
            "weatherIconUrl": [
             {
              "value": "http://cdn.worldweatheronline.net/images/wsymbols01_png_64/wsymbol_0025_light_rain_showers_night.png"
             }
            ],
            "winddir16Point": "ESE",
            "winddirDegree": "103",
            "windspeedKmph": "14",
            "windspeedMiles": "9"
           },
           {
            "DewPointC": "20",
            "DewPointF": "68",
            "FeelsLikeC": "31",
            "FeelsLikeF": "88",
            "HeatIndexC": "31",
            "HeatIndexF": "88",
            "WindChillC": "29",
            "WindChillF": "84",
            "WindGustKmph": "21",
            "WindGustMiles": "13",
            "chanceoffog": "0",
            "chanceoffrost": "0",
            "chanceofhightemp": "48",
            "chanceofovercast": "82",
            "chanceofrain": "51",
            "chanceofremdry": "27",
            "chanceofsnow": "0",
            "chanceofsunshine": "5",
            "chanceofthunder": "0",
            "chanceofwindy": "0",
            "cloudcover": "77",
            "humidity": "59",
            "precipInches": "0.0",
            "precipMM": "1.1",
            "pressure": "1015",
            "pressureInches": "30",
            "tempC": "29",
            "tempF": "84",
            "time": "2100",
            "uvIndex": "0",
            "visibility": "9",
            "visibilityMiles": "5",
            "weatherCode": "119",
            "weatherDesc": [
             {
              "value": "Cloudy"
             }
            ],
            "weatherIconUrl": [
             {
              "value": "http://cdn.worldweatheronline.net/images/wsymbols01_png_64/wsymbol_0004_black_low_cloud.png"
             }
            ],
            "winddir16Point": "ESE",
            "winddirDegree": "105",
            "windspeedKmph": "13",
            "windspeedMiles": "8"
           },
           {
            "DewPointC": "20",
            "DewPointF": "68",
            "FeelsLikeC": "30",
            "FeelsLikeF": "86",
            "HeatIndexC": "30",
            "HeatIndexF": "86",
            "WindChillC": "28",
            "WindChillF": "82",
            "WindGustKmph": "21",
            "WindGustMiles": "13",
            "chanceoffog": "0",
            "chanceoffrost": "0",
            "chanceofhightemp": "48",
            "chanceofovercast": "83",
            "chanceofrain": "76",
            "chanceofremdry": "0",
            "chanceofsnow": "0",
            "chanceofsunshine": "0",
            "chanceofthunder": "0",
            "chanceofwindy": "0",
            "cloudcover": "78",
            "humidity": "62",
            "precipInches": "0.1",
            "precipMM": "1.6",
            "pressure": "1016",
            "pressureInches": "30",
            "tempC": "28",
            "tempF": "82",
            "time": "2200",
            "uvIndex": "0",
            "visibility": "9",
            "visibilityMiles": "5",
            "weatherCode": "176",
            "weatherDesc": [
             {
              "value": "Patchy rain possible"
             }
            ],
            "weatherIconUrl": [
             {
              "value": "http://cdn.worldweatheronline.net/images/wsymbols01_png_64/wsymbol_0025_light_rain_showers_night.png"
             }
            ],
            "winddir16Point": "ESE",
            "winddirDegree": "107",
            "windspeedKmph": "13",
            "windspeedMiles": "8"
           },
           {
            "DewPointC": "20",
            "DewPointF": "68",
            "FeelsLikeC": "29",
            "FeelsLikeF": "84",
            "HeatIndexC": "29",
            "HeatIndexF": "84",
            "WindChillC": "27",
            "WindChillF": "81",
            "WindGustKmph": "19",
            "WindGustMiles": "12",
            "chanceoffog": "0",
            "chanceoffrost": "0",
            "chanceofhightemp": "42",
            "chanceofovercast": "87",
            "chanceofrain": "75",
            "chanceofremdry": "0",
            "chanceofsnow": "0",
            "chanceofsunshine": "0",
            "chanceofthunder": "0",
            "chanceofwindy": "0",
            "cloudcover": "77",
            "humidity": "65",
            "precipInches": "0.1",
            "precipMM": "1.6",
            "pressure": "1016",
            "pressureInches": "30",
            "tempC": "27",
            "tempF": "81",
            "time": "2300",
            "uvIndex": "0",
            "visibility": "9",
            "visibilityMiles": "5",
            "weatherCode": "176",
            "weatherDesc": [
             {
              "value": "Patchy rain possible"
             }
            ],
            "weatherIconUrl": [
             {
              "value": "http://cdn.worldweatheronline.net/images/wsymbols01_png_64/wsymbol_0025_light_rain_showers_night.png"
             }
            ],
            "winddir16Point": "ESE",
            "winddirDegree": "123",
            "windspeedKmph": "12",
            "windspeedMiles": "7"
           }
          ],
          "maxtempC": "34",
          "maxtempF": "92",
          "mintempC": "24",
          "mintempF": "74",
          "sunHour": "10.2",
          "totalSnow_cm": "0.0",
          "uvIndex": "7"
         },
         {
          "astronomy": [
           {
            "moon_illumination": "34",
            "moon_phase": "Waxing Crescent",
            "moonrise": "01:37 PM",
            "moonset": "No moonset",
            "sunrise": "07:26 AM",
            "sunset": "07:13 PM"
           }
          ],
          "avgtempC": "28",
          "avgtempF": "82",
          "date": "2019-10-04",
          "hourly": [
           {
            "DewPointC": "20",
            "DewPointF": "68",
            "FeelsLikeC": "28",
            "FeelsLikeF": "83",
            "HeatIndexC": "28",
            "HeatIndexF": "83",
            "WindChillC": "27",
            "WindChillF": "80",
            "WindGustKmph": "17",
            "WindGustMiles": "11",
            "chanceoffog": "0",
            "chanceoffrost": "0",
            "chanceofhightemp": "36",
            "chanceofovercast": "90",
            "chanceofrain": "74",
            "chanceofremdry": "0",
            "chanceofsnow": "0",
            "chanceofsunshine": "0",
            "chanceofthunder": "0",
            "chanceofwindy": "0",
            "cloudcover": "76",
            "humidity": "69",
            "precipInches": "0.1",
            "precipMM": "1.6",
            "pressure": "1016",
            "pressureInches": "30",
            "tempC": "27",
            "tempF": "80",
            "time": "0",
            "uvIndex": "0",
            "visibility": "9",
            "visibilityMiles": "5",
            "weatherCode": "176",
            "weatherDesc": [
             {
              "value": "Patchy rain possible"
             }
            ],
            "weatherIconUrl": [
             {
              "value": "http://cdn.worldweatheronline.net/images/wsymbols01_png_64/wsymbol_0025_light_rain_showers_night.png"
             }
            ],
            "winddir16Point": "SE",
            "winddirDegree": "138",
            "windspeedKmph": "11",
            "windspeedMiles": "7"
           },
           {
            "DewPointC": "20",
            "DewPointF": "68",
            "FeelsLikeC": "28",
            "FeelsLikeF": "82",
            "HeatIndexC": "28",
            "HeatIndexF": "82",
            "WindChillC": "26",
            "WindChillF": "78",
            "WindGustKmph": "16",
            "WindGustMiles": "10",
            "chanceoffog": "0",
            "chanceoffrost": "0",
            "chanceofhightemp": "30",
            "chanceofovercast": "94",
            "chanceofrain": "73",
            "chanceofremdry": "0",
            "chanceofsnow": "0",
            "chanceofsunshine": "0",
            "chanceofthunder": "0",
            "chanceofwindy": "0",
            "cloudcover": "75",
            "humidity": "72",
            "precipInches": "0.1",
            "precipMM": "1.6",
            "pressure": "1016",
            "pressureInches": "30",
            "tempC": "26",
            "tempF": "78",
            "time": "100",
            "uvIndex": "0",
            "visibility": "9",
            "visibilityMiles": "5",
            "weatherCode": "176",
            "weatherDesc": [
             {
              "value": "Patchy rain possible"
             }
            ],
            "weatherIconUrl": [
             {
              "value": "http://cdn.worldweatheronline.net/images/wsymbols01_png_64/wsymbol_0025_light_rain_showers_night.png"
             }
            ],
            "winddir16Point": "SSE",
            "winddirDegree": "153",
            "windspeedKmph": "10",
            "windspeedMiles": "6"
           },
           {
            "DewPointC": "20",
            "DewPointF": "68",
            "FeelsLikeC": "27",
            "FeelsLikeF": "81",
            "HeatIndexC": "27",
            "HeatIndexF": "81",
            "WindChillC": "25",
            "WindChillF": "78",
            "WindGustKmph": "14",
            "WindGustMiles": "9",
            "chanceoffog": "0",
            "chanceoffrost": "0",
            "chanceofhightemp": "25",
            "chanceofovercast": "75",
            "chanceofrain": "49",
            "chanceofremdry": "31",
            "chanceofsnow": "0",
            "chanceofsunshine": "23",
            "chanceofthunder": "0",
            "chanceofwindy": "0",
            "cloudcover": "58",
            "humidity": "71",
            "precipInches": "0.0",
            "precipMM": "1.1",
            "pressure": "1016",
            "pressureInches": "30",
            "tempC": "25",
            "tempF": "78",
            "time": "200",
            "uvIndex": "0",
            "visibility": "9",
            "visibilityMiles": "5",
            "weatherCode": "116",
            "weatherDesc": [
             {
              "value": "Partly cloudy"
             }
            ],
            "weatherIconUrl": [
             {
              "value": "http://cdn.worldweatheronline.net/images/wsymbols01_png_64/wsymbol_0004_black_low_cloud.png"
             }
            ],
            "winddir16Point": "SSE",
            "winddirDegree": "160",
            "windspeedKmph": "9",
            "windspeedMiles": "6"
           },
           {
            "DewPointC": "20",
            "DewPointF": "67",
            "FeelsLikeC": "27",
            "FeelsLikeF": "80",
            "HeatIndexC": "27",
            "HeatIndexF": "80",
            "WindChillC": "25",
            "WindChillF": "77",
            "WindGustKmph": "13",
            "WindGustMiles": "8",
            "chanceoffog": "0",
            "chanceoffrost": "0",
            "chanceofhightemp": "20",
            "chanceofovercast": "56",
            "chanceofrain": "24",
            "chanceofremdry": "63",
            "chanceofsnow": "0",
            "chanceofsunshine": "47",
            "chanceofthunder": "0",
            "chanceofwindy": "0",
            "cloudcover": "41",
            "humidity": "71",
            "precipInches": "0.0",
            "precipMM": "0.5",
            "pressure": "1016",
            "pressureInches": "30",
            "tempC": "25",
            "tempF": "77",
            "time": "300",
            "uvIndex": "0",
            "visibility": "10",
            "visibilityMiles": "6",
            "weatherCode": "176",
            "weatherDesc": [
             {
              "value": "Patchy rain possible"
             }
            ],
            "weatherIconUrl": [
             {
              "value": "http://cdn.worldweatheronline.net/images/wsymbols01_png_64/wsymbol_0025_light_rain_showers_night.png"
             }
            ],
            "winddir16Point": "SSE",
            "winddirDegree": "167",
            "windspeedKmph": "8",
            "windspeedMiles": "5"
           },
           {
            "DewPointC": "19",
            "DewPointF": "66",
            "FeelsLikeC": "27",
            "FeelsLikeF": "80",
            "HeatIndexC": "27",
            "HeatIndexF": "80",
            "WindChillC": "25",
            "WindChillF": "77",
            "WindGustKmph": "11",
            "WindGustMiles": "7",
            "chanceoffog": "0",
            "chanceoffrost": "0",
            "chanceofhightemp": "15",
            "chanceofovercast": "37",
            "chanceofrain": "0",
            "chanceofremdry": "94",
            "chanceofsnow": "0",
            "chanceofsunshine": "70",
            "chanceofthunder": "0",
            "chanceofwindy": "0",
            "cloudcover": "24",
            "humidity": "70",
            "precipInches": "0.0",
            "precipMM": "0.0",
            "pressure": "1016",
            "pressureInches": "30",
            "tempC": "25",
            "tempF": "77",
            "time": "400",
            "uvIndex": "0",
            "visibility": "10",
            "visibilityMiles": "6",
            "weatherCode": "116",
            "weatherDesc": [
             {
              "value": "Partly cloudy"
             }
            ],
            "weatherIconUrl": [
             {
              "value": "http://cdn.worldweatheronline.net/images/wsymbols01_png_64/wsymbol_0004_black_low_cloud.png"
             }
            ],
            "winddir16Point": "S",
            "winddirDegree": "173",
            "windspeedKmph": "7",
            "windspeedMiles": "4"
           },
           {
            "DewPointC": "19",
            "DewPointF": "67",
            "FeelsLikeC": "27",
            "FeelsLikeF": "80",
            "HeatIndexC": "27",
            "HeatIndexF": "80",
            "WindChillC": "25",
            "WindChillF": "77",
            "WindGustKmph": "8",
            "WindGustMiles": "5",
            "chanceoffog": "0",
            "chanceoffrost": "0",
            "chanceofhightemp": "15",
            "chanceofovercast": "37",
            "chanceofrain": "0",
            "chanceofremdry": "90",
            "chanceofsnow": "0",
            "chanceofsunshine": "71",
            "chanceofthunder": "0",
            "chanceofwindy": "0",
            "cloudcover": "22",
            "humidity": "71",
            "precipInches": "0.0",
            "precipMM": "0.0",
            "pressure": "1016",
            "pressureInches": "30",
            "tempC": "25",
            "tempF": "77",
            "time": "500",
            "uvIndex": "0",
            "visibility": "10",
            "visibilityMiles": "6",
            "weatherCode": "116",
            "weatherDesc": [
             {
              "value": "Partly cloudy"
             }
            ],
            "weatherIconUrl": [
             {
              "value": "http://cdn.worldweatheronline.net/images/wsymbols01_png_64/wsymbol_0004_black_low_cloud.png"
             }
            ],
            "winddir16Point": "S",
            "winddirDegree": "187",
            "windspeedKmph": "5",
            "windspeedMiles": "3"
           },
           {
            "DewPointC": "20",
            "DewPointF": "67",
            "FeelsLikeC": "26",
            "FeelsLikeF": "80",
            "HeatIndexC": "26",
            "HeatIndexF": "80",
            "WindChillC": "25",
            "WindChillF": "77",
            "WindGustKmph": "5",
            "WindGustMiles": "3",
            "chanceoffog": "0",
            "chanceoffrost": "0",
            "chanceofhightemp": "15",
            "chanceofovercast": "37",
            "chanceofrain": "0",
            "chanceofremdry": "87",
            "chanceofsnow": "0",
            "chanceofsunshine": "73",
            "chanceofthunder": "0",
            "chanceofwindy": "0",
            "cloudcover": "20",
            "humidity": "73",
            "precipInches": "0.0",
            "precipMM": "0.0",
            "pressure": "1017",
            "pressureInches": "30",
            "tempC": "25",
            "tempF": "77",
            "time": "600",
            "uvIndex": "0",
            "visibility": "10",
            "visibilityMiles": "6",
            "weatherCode": "116",
            "weatherDesc": [
             {
              "value": "Partly cloudy"
             }
            ],
            "weatherIconUrl": [
             {
              "value": "http://cdn.worldweatheronline.net/images/wsymbols01_png_64/wsymbol_0004_black_low_cloud.png"
             }
            ],
            "winddir16Point": "SSW",
            "winddirDegree": "200",
            "windspeedKmph": "4",
            "windspeedMiles": "2"
           },
           {
            "DewPointC": "20",
            "DewPointF": "67",
            "FeelsLikeC": "26",
            "FeelsLikeF": "80",
            "HeatIndexC": "26",
            "HeatIndexF": "80",
            "WindChillC": "25",
            "WindChillF": "76",
            "WindGustKmph": "3",
            "WindGustMiles": "2",
            "chanceoffog": "0",
            "chanceoffrost": "0",
            "chanceofhightemp": "15",
            "chanceofovercast": "37",
            "chanceofrain": "0",
            "chanceofremdry": "83",
            "chanceofsnow": "0",
            "chanceofsunshine": "74",
            "chanceofthunder": "0",
            "chanceofwindy": "0",
            "cloudcover": "17",
            "humidity": "74",
            "precipInches": "0.0",
            "precipMM": "0.0",
            "pressure": "1017",
            "pressureInches": "31",
            "tempC": "25",
            "tempF": "76",
            "time": "700",
            "uvIndex": "0",
            "visibility": "10",
            "visibilityMiles": "6",
            "weatherCode": "116",
            "weatherDesc": [
             {
              "value": "Partly cloudy"
             }
            ],
            "weatherIconUrl": [
             {
              "value": "http://cdn.worldweatheronline.net/images/wsymbols01_png_64/wsymbol_0004_black_low_cloud.png"
             }
            ],
            "winddir16Point": "SSW",
            "winddirDegree": "214",
            "windspeedKmph": "2",
            "windspeedMiles": "1"
           },
           {
            "DewPointC": "20",
            "DewPointF": "67",
            "FeelsLikeC": "28",
            "FeelsLikeF": "82",
            "HeatIndexC": "28",
            "HeatIndexF": "82",
            "WindChillC": "26",
            "WindChillF": "78",
            "WindGustKmph": "4",
            "WindGustMiles": "2",
            "chanceoffog": "0",
            "chanceoffrost": "0",
            "chanceofhightemp": "26",
            "chanceofovercast": "39",
            "chanceofrain": "0",
            "chanceofremdry": "82",
            "chanceofsnow": "0",
            "chanceofsunshine": "73",
            "chanceofthunder": "0",
            "chanceofwindy": "0",
            "cloudcover": "19",
            "humidity": "69",
            "precipInches": "0.0",
            "precipMM": "0.0",
            "pressure": "1017",
            "pressureInches": "31",
            "tempC": "26",
            "tempF": "78",
            "time": "800",
            "uvIndex": "7",
            "visibility": "10",
            "visibilityMiles": "6",
            "weatherCode": "116",
            "weatherDesc": [
             {
              "value": "Partly cloudy"
             }
            ],
            "weatherIconUrl": [
             {
              "value": "http://cdn.worldweatheronline.net/images/wsymbols01_png_64/wsymbol_0002_sunny_intervals.png"
             }
            ],
            "winddir16Point": "SSE",
            "winddirDegree": "162",
            "windspeedKmph": "3",
            "windspeedMiles": "2"
           },
           {
            "DewPointC": "20",
            "DewPointF": "67",
            "FeelsLikeC": "29",
            "FeelsLikeF": "84",
            "HeatIndexC": "29",
            "HeatIndexF": "84",
            "WindChillC": "27",
            "WindChillF": "81",
            "WindGustKmph": "5",
            "WindGustMiles": "3",
            "chanceoffog": "0",
            "chanceoffrost": "0",
            "chanceofhightemp": "37",
            "chanceofovercast": "40",
            "chanceofrain": "0",
            "chanceofremdry": "82",
            "chanceofsnow": "0",
            "chanceofsunshine": "71",
            "chanceofthunder": "0",
            "chanceofwindy": "0",
            "cloudcover": "21",
            "humidity": "64",
            "precipInches": "0.0",
            "precipMM": "0.0",
            "pressure": "1017",
            "pressureInches": "31",
            "tempC": "27",
            "tempF": "81",
            "time": "900",
            "uvIndex": "7",
            "visibility": "10",
            "visibilityMiles": "6",
            "weatherCode": "116",
            "weatherDesc": [
             {
              "value": "Partly cloudy"
             }
            ],
            "weatherIconUrl": [
             {
              "value": "http://cdn.worldweatheronline.net/images/wsymbols01_png_64/wsymbol_0002_sunny_intervals.png"
             }
            ],
            "winddir16Point": "ESE",
            "winddirDegree": "110",
            "windspeedKmph": "4",
            "windspeedMiles": "2"
           },
           {
            "DewPointC": "19",
            "DewPointF": "67",
            "FeelsLikeC": "30",
            "FeelsLikeF": "86",
            "HeatIndexC": "30",
            "HeatIndexF": "86",
            "WindChillC": "28",
            "WindChillF": "83",
            "WindGustKmph": "6",
            "WindGustMiles": "4",
            "chanceoffog": "0",
            "chanceoffrost": "0",
            "chanceofhightemp": "48",
            "chanceofovercast": "42",
            "chanceofrain": "0",
            "chanceofremdry": "81",
            "chanceofsnow": "0",
            "chanceofsunshine": "70",
            "chanceofthunder": "0",
            "chanceofwindy": "0",
            "cloudcover": "23",
            "humidity": "59",
            "precipInches": "0.0",
            "precipMM": "0.0",
            "pressure": "1018",
            "pressureInches": "31",
            "tempC": "28",
            "tempF": "83",
            "time": "1000",
            "uvIndex": "7",
            "visibility": "10",
            "visibilityMiles": "6",
            "weatherCode": "116",
            "weatherDesc": [
             {
              "value": "Partly cloudy"
             }
            ],
            "weatherIconUrl": [
             {
              "value": "http://cdn.worldweatheronline.net/images/wsymbols01_png_64/wsymbol_0002_sunny_intervals.png"
             }
            ],
            "winddir16Point": "ENE",
            "winddirDegree": "58",
            "windspeedKmph": "5",
            "windspeedMiles": "3"
           },
           {
            "DewPointC": "19",
            "DewPointF": "66",
            "FeelsLikeC": "31",
            "FeelsLikeF": "88",
            "HeatIndexC": "31",
            "HeatIndexF": "88",
            "WindChillC": "29",
            "WindChillF": "85",
            "WindGustKmph": "6",
            "WindGustMiles": "4",
            "chanceoffog": "0",
            "chanceoffrost": "0",
            "chanceofhightemp": "48",
            "chanceofovercast": "55",
            "chanceofrain": "0",
            "chanceofremdry": "83",
            "chanceofsnow": "0",
            "chanceofsunshine": "51",
            "chanceofthunder": "0",
            "chanceofwindy": "0",
            "cloudcover": "37",
            "humidity": "55",
            "precipInches": "0.0",
            "precipMM": "0.0",
            "pressure": "1017",
            "pressureInches": "31",
            "tempC": "29",
            "tempF": "85",
            "time": "1100",
            "uvIndex": "6",
            "visibility": "10",
            "visibilityMiles": "6",
            "weatherCode": "119",
            "weatherDesc": [
             {
              "value": "Cloudy"
             }
            ],
            "weatherIconUrl": [
             {
              "value": "http://cdn.worldweatheronline.net/images/wsymbols01_png_64/wsymbol_0003_white_cloud.png"
             }
            ],
            "winddir16Point": "ENE",
            "winddirDegree": "73",
            "windspeedKmph": "6",
            "windspeedMiles": "4"
           },
           {
            "DewPointC": "19",
            "DewPointF": "66",
            "FeelsLikeC": "32",
            "FeelsLikeF": "90",
            "HeatIndexC": "32",
            "HeatIndexF": "90",
            "WindChillC": "31",
            "WindChillF": "87",
            "WindGustKmph": "7",
            "WindGustMiles": "4",
            "chanceoffog": "0",
            "chanceoffrost": "0",
            "chanceofhightemp": "49",
            "chanceofovercast": "68",
            "chanceofrain": "0",
            "chanceofremdry": "85",
            "chanceofsnow": "0",
            "chanceofsunshine": "33",
            "chanceofthunder": "0",
            "chanceofwindy": "0",
            "cloudcover": "52",
            "humidity": "50",
            "precipInches": "0.0",
            "precipMM": "0.0",
            "pressure": "1017",
            "pressureInches": "31",
            "tempC": "31",
            "tempF": "87",
            "time": "1200",
            "uvIndex": "8",
            "visibility": "10",
            "visibilityMiles": "6",
            "weatherCode": "116",
            "weatherDesc": [
             {
              "value": "Partly cloudy"
             }
            ],
            "weatherIconUrl": [
             {
              "value": "http://cdn.worldweatheronline.net/images/wsymbols01_png_64/wsymbol_0002_sunny_intervals.png"
             }
            ],
            "winddir16Point": "E",
            "winddirDegree": "88",
            "windspeedKmph": "6",
            "windspeedMiles": "4"
           },
           {
            "DewPointC": "19",
            "DewPointF": "65",
            "FeelsLikeC": "34",
            "FeelsLikeF": "92",
            "HeatIndexC": "34",
            "HeatIndexF": "92",
            "WindChillC": "32",
            "WindChillF": "89",
            "WindGustKmph": "8",
            "WindGustMiles": "5",
            "chanceoffog": "0",
            "chanceoffrost": "0",
            "chanceofhightemp": "50",
            "chanceofovercast": "81",
            "chanceofrain": "0",
            "chanceofremdry": "87",
            "chanceofsnow": "0",
            "chanceofsunshine": "14",
            "chanceofthunder": "0",
            "chanceofwindy": "0",
            "cloudcover": "67",
            "humidity": "46",
            "precipInches": "0.0",
            "precipMM": "0.0",
            "pressure": "1017",
            "pressureInches": "30",
            "tempC": "32",
            "tempF": "89",
            "time": "1300",
            "uvIndex": "7",
            "visibility": "10",
            "visibilityMiles": "6",
            "weatherCode": "119",
            "weatherDesc": [
             {
              "value": "Cloudy"
             }
            ],
            "weatherIconUrl": [
             {
              "value": "http://cdn.worldweatheronline.net/images/wsymbols01_png_64/wsymbol_0003_white_cloud.png"
             }
            ],
            "winddir16Point": "ESE",
            "winddirDegree": "103",
            "windspeedKmph": "7",
            "windspeedMiles": "4"
           },
           {
            "DewPointC": "18",
            "DewPointF": "65",
            "FeelsLikeC": "34",
            "FeelsLikeF": "92",
            "HeatIndexC": "34",
            "HeatIndexF": "92",
            "WindChillC": "32",
            "WindChillF": "89",
            "WindGustKmph": "8",
            "WindGustMiles": "5",
            "chanceoffog": "0",
            "chanceoffrost": "0",
            "chanceofhightemp": "50",
            "chanceofovercast": "83",
            "chanceofrain": "0",
            "chanceofremdry": "85",
            "chanceofsnow": "0",
            "chanceofsunshine": "14",
            "chanceofthunder": "0",
            "chanceofwindy": "0",
            "cloudcover": "78",
            "humidity": "45",
            "precipInches": "0.0",
            "precipMM": "0.0",
            "pressure": "1016",
            "pressureInches": "30",
            "tempC": "32",
            "tempF": "89",
            "time": "1400",
            "uvIndex": "7",
            "visibility": "10",
            "visibilityMiles": "6",
            "weatherCode": "122",
            "weatherDesc": [
             {
              "value": "Overcast"
             }
            ],
            "weatherIconUrl": [
             {
              "value": "http://cdn.worldweatheronline.net/images/wsymbols01_png_64/wsymbol_0004_black_low_cloud.png"
             }
            ],
            "winddir16Point": "ESE",
            "winddirDegree": "114",
            "windspeedKmph": "7",
            "windspeedMiles": "4"
           },
           {
            "DewPointC": "18",
            "DewPointF": "65",
            "FeelsLikeC": "34",
            "FeelsLikeF": "92",
            "HeatIndexC": "34",
            "HeatIndexF": "92",
            "WindChillC": "32",
            "WindChillF": "89",
            "WindGustKmph": "9",
            "WindGustMiles": "5",
            "chanceoffog": "0",
            "chanceoffrost": "0",
            "chanceofhightemp": "50",
            "chanceofovercast": "85",
            "chanceofrain": "0",
            "chanceofremdry": "82",
            "chanceofsnow": "0",
            "chanceofsunshine": "13",
            "chanceofthunder": "0",
            "chanceofwindy": "0",
            "cloudcover": "89",
            "humidity": "45",
            "precipInches": "0.0",
            "precipMM": "0.0",
            "pressure": "1015",
            "pressureInches": "30",
            "tempC": "32",
            "tempF": "89",
            "time": "1500",
            "uvIndex": "7",
            "visibility": "10",
            "visibilityMiles": "6",
            "weatherCode": "119",
            "weatherDesc": [
             {
              "value": "Cloudy"
             }
            ],
            "weatherIconUrl": [
             {
              "value": "http://cdn.worldweatheronline.net/images/wsymbols01_png_64/wsymbol_0003_white_cloud.png"
             }
            ],
            "winddir16Point": "SE",
            "winddirDegree": "125",
            "windspeedKmph": "8",
            "windspeedMiles": "5"
           },
           {
            "DewPointC": "18",
            "DewPointF": "65",
            "FeelsLikeC": "33",
            "FeelsLikeF": "92",
            "HeatIndexC": "33",
            "HeatIndexF": "92",
            "WindChillC": "32",
            "WindChillF": "89",
            "WindGustKmph": "9",
            "WindGustMiles": "6",
            "chanceoffog": "0",
            "chanceoffrost": "0",
            "chanceofhightemp": "50",
            "chanceofovercast": "87",
            "chanceofrain": "0",
            "chanceofremdry": "80",
            "chanceofsnow": "0",
            "chanceofsunshine": "13",
            "chanceofthunder": "0",
            "chanceofwindy": "0",
            "cloudcover": "100",
            "humidity": "44",
            "precipInches": "0.0",
            "precipMM": "0.0",
            "pressure": "1014",
            "pressureInches": "30",
            "tempC": "32",
            "tempF": "89",
            "time": "1600",
            "uvIndex": "7",
            "visibility": "10",
            "visibilityMiles": "6",
            "weatherCode": "122",
            "weatherDesc": [
             {
              "value": "Overcast"
             }
            ],
            "weatherIconUrl": [
             {
              "value": "http://cdn.worldweatheronline.net/images/wsymbols01_png_64/wsymbol_0004_black_low_cloud.png"
             }
            ],
            "winddir16Point": "SE",
            "winddirDegree": "136",
            "windspeedKmph": "8",
            "windspeedMiles": "5"
           },
           {
            "DewPointC": "18",
            "DewPointF": "65",
            "FeelsLikeC": "33",
            "FeelsLikeF": "91",
            "HeatIndexC": "33",
            "HeatIndexF": "91",
            "WindChillC": "31",
            "WindChillF": "88",
            "WindGustKmph": "12",
            "WindGustMiles": "8",
            "chanceoffog": "0",
            "chanceoffrost": "0",
            "chanceofhightemp": "50",
            "chanceofovercast": "73",
            "chanceofrain": "0",
            "chanceofremdry": "85",
            "chanceofsnow": "0",
            "chanceofsunshine": "34",
            "chanceofthunder": "0",
            "chanceofwindy": "0",
            "cloudcover": "85",
            "humidity": "47",
            "precipInches": "0.0",
            "precipMM": "0.0",
            "pressure": "1014",
            "pressureInches": "30",
            "tempC": "31",
            "tempF": "88",
            "time": "1700",
            "uvIndex": "8",
            "visibility": "10",
            "visibilityMiles": "6",
            "weatherCode": "116",
            "weatherDesc": [
             {
              "value": "Partly cloudy"
             }
            ],
            "weatherIconUrl": [
             {
              "value": "http://cdn.worldweatheronline.net/images/wsymbols01_png_64/wsymbol_0002_sunny_intervals.png"
             }
            ],
            "winddir16Point": "SE",
            "winddirDegree": "136",
            "windspeedKmph": "10",
            "windspeedMiles": "6"
           },
           {
            "DewPointC": "19",
            "DewPointF": "65",
            "FeelsLikeC": "32",
            "FeelsLikeF": "90",
            "HeatIndexC": "32",
            "HeatIndexF": "90",
            "WindChillC": "31",
            "WindChillF": "87",
            "WindGustKmph": "15",
            "WindGustMiles": "9",
            "chanceoffog": "0",
            "chanceoffrost": "0",
            "chanceofhightemp": "50",
            "chanceofovercast": "58",
            "chanceofrain": "0",
            "chanceofremdry": "89",
            "chanceofsnow": "0",
            "chanceofsunshine": "55",
            "chanceofthunder": "0",
            "chanceofwindy": "0",
            "cloudcover": "70",
            "humidity": "49",
            "precipInches": "0.0",
            "precipMM": "0.0",
            "pressure": "1014",
            "pressureInches": "30",
            "tempC": "31",
            "tempF": "87",
            "time": "1800",
            "uvIndex": "7",
            "visibility": "10",
            "visibilityMiles": "6",
            "weatherCode": "122",
            "weatherDesc": [
             {
              "value": "Overcast"
             }
            ],
            "weatherIconUrl": [
             {
              "value": "http://cdn.worldweatheronline.net/images/wsymbols01_png_64/wsymbol_0004_black_low_cloud.png"
             }
            ],
            "winddir16Point": "SE",
            "winddirDegree": "136",
            "windspeedKmph": "11",
            "windspeedMiles": "7"
           },
           {
            "DewPointC": "19",
            "DewPointF": "66",
            "FeelsLikeC": "32",
            "FeelsLikeF": "89",
            "HeatIndexC": "32",
            "HeatIndexF": "89",
            "WindChillC": "30",
            "WindChillF": "86",
            "WindGustKmph": "18",
            "WindGustMiles": "11",
            "chanceoffog": "0",
            "chanceoffrost": "0",
            "chanceofhightemp": "50",
            "chanceofovercast": "44",
            "chanceofrain": "0",
            "chanceofremdry": "94",
            "chanceofsnow": "0",
            "chanceofsunshine": "76",
            "chanceofthunder": "0",
            "chanceofwindy": "0",
            "cloudcover": "54",
            "humidity": "52",
            "precipInches": "0.0",
            "precipMM": "0.0",
            "pressure": "1014",
            "pressureInches": "30",
            "tempC": "30",
            "tempF": "86",
            "time": "1900",
            "uvIndex": "7",
            "visibility": "10",
            "visibilityMiles": "6",
            "weatherCode": "116",
            "weatherDesc": [
             {
              "value": "Partly cloudy"
             }
            ],
            "weatherIconUrl": [
             {
              "value": "http://cdn.worldweatheronline.net/images/wsymbols01_png_64/wsymbol_0002_sunny_intervals.png"
             }
            ],
            "winddir16Point": "SE",
            "winddirDegree": "136",
            "windspeedKmph": "13",
            "windspeedMiles": "8"
           },
           {
            "DewPointC": "19",
            "DewPointF": "67",
            "FeelsLikeC": "31",
            "FeelsLikeF": "87",
            "HeatIndexC": "31",
            "HeatIndexF": "87",
            "WindChillC": "29",
            "WindChillF": "84",
            "WindGustKmph": "19",
            "WindGustMiles": "12",
            "chanceoffog": "0",
            "chanceoffrost": "0",
            "chanceofhightemp": "48",
            "chanceofovercast": "60",
            "chanceofrain": "22",
            "chanceofremdry": "63",
            "chanceofsnow": "0",
            "chanceofsunshine": "51",
            "chanceofthunder": "0",
            "chanceofwindy": "0",
            "cloudcover": "53",
            "humidity": "56",
            "precipInches": "0.0",
            "precipMM": "0.0",
            "pressure": "1015",
            "pressureInches": "30",
            "tempC": "29",
            "tempF": "84",
            "time": "2000",
            "uvIndex": "0",
            "visibility": "10",
            "visibilityMiles": "6",
            "weatherCode": "176",
            "weatherDesc": [
             {
              "value": "Patchy rain possible"
             }
            ],
            "weatherIconUrl": [
             {
              "value": "http://cdn.worldweatheronline.net/images/wsymbols01_png_64/wsymbol_0025_light_rain_showers_night.png"
             }
            ],
            "winddir16Point": "SE",
            "winddirDegree": "131",
            "windspeedKmph": "13",
            "windspeedMiles": "8"
           },
           {
            "DewPointC": "20",
            "DewPointF": "67",
            "FeelsLikeC": "30",
            "FeelsLikeF": "86",
            "HeatIndexC": "30",
            "HeatIndexF": "86",
            "WindChillC": "28",
            "WindChillF": "83",
            "WindGustKmph": "21",
            "WindGustMiles": "13",
            "chanceoffog": "0",
            "chanceoffrost": "0",
            "chanceofhightemp": "47",
            "chanceofovercast": "77",
            "chanceofrain": "45",
            "chanceofremdry": "31",
            "chanceofsnow": "0",
            "chanceofsunshine": "25",
            "chanceofthunder": "0",
            "chanceofwindy": "0",
            "cloudcover": "52",
            "humidity": "60",
            "precipInches": "0.0",
            "precipMM": "0.1",
            "pressure": "1015",
            "pressureInches": "30",
            "tempC": "28",
            "tempF": "83",
            "time": "2100",
            "uvIndex": "0",
            "visibility": "10",
            "visibilityMiles": "6",
            "weatherCode": "116",
            "weatherDesc": [
             {
              "value": "Partly cloudy"
             }
            ],
            "weatherIconUrl": [
             {
              "value": "http://cdn.worldweatheronline.net/images/wsymbols01_png_64/wsymbol_0004_black_low_cloud.png"
             }
            ],
            "winddir16Point": "SE",
            "winddirDegree": "125",
            "windspeedKmph": "13",
            "windspeedMiles": "8"
           },
           {
            "DewPointC": "20",
            "DewPointF": "68",
            "FeelsLikeC": "29",
            "FeelsLikeF": "84",
            "HeatIndexC": "29",
            "HeatIndexF": "84",
            "WindChillC": "27",
            "WindChillF": "81",
            "WindGustKmph": "22",
            "WindGustMiles": "14",
            "chanceoffog": "0",
            "chanceoffrost": "0",
            "chanceofhightemp": "45",
            "chanceofovercast": "93",
            "chanceofrain": "67",
            "chanceofremdry": "0",
            "chanceofsnow": "0",
            "chanceofsunshine": "0",
            "chanceofthunder": "0",
            "chanceofwindy": "0",
            "cloudcover": "50",
            "humidity": "64",
            "precipInches": "0.0",
            "precipMM": "0.1",
            "pressure": "1016",
            "pressureInches": "30",
            "tempC": "27",
            "tempF": "81",
            "time": "2200",
            "uvIndex": "0",
            "visibility": "10",
            "visibilityMiles": "6",
            "weatherCode": "176",
            "weatherDesc": [
             {
              "value": "Patchy rain possible"
             }
            ],
            "weatherIconUrl": [
             {
              "value": "http://cdn.worldweatheronline.net/images/wsymbols01_png_64/wsymbol_0025_light_rain_showers_night.png"
             }
            ],
            "winddir16Point": "ESE",
            "winddirDegree": "119",
            "windspeedKmph": "14",
            "windspeedMiles": "9"
           },
           {
            "DewPointC": "20",
            "DewPointF": "68",
            "FeelsLikeC": "28",
            "FeelsLikeF": "83",
            "HeatIndexC": "28",
            "HeatIndexF": "83",
            "WindChillC": "27",
            "WindChillF": "80",
            "WindGustKmph": "21",
            "WindGustMiles": "13",
            "chanceoffog": "0",
            "chanceoffrost": "0",
            "chanceofhightemp": "40",
            "chanceofovercast": "89",
            "chanceofrain": "70",
            "chanceofremdry": "0",
            "chanceofsnow": "0",
            "chanceofsunshine": "0",
            "chanceofthunder": "0",
            "chanceofwindy": "0",
            "cloudcover": "59",
            "humidity": "67",
            "precipInches": "0.0",
            "precipMM": "0.1",
            "pressure": "1016",
            "pressureInches": "30",
            "tempC": "27",
            "tempF": "80",
            "time": "2300",
            "uvIndex": "0",
            "visibility": "10",
            "visibilityMiles": "6",
            "weatherCode": "176",
            "weatherDesc": [
             {
              "value": "Patchy rain possible"
             }
            ],
            "weatherIconUrl": [
             {
              "value": "http://cdn.worldweatheronline.net/images/wsymbols01_png_64/wsymbol_0025_light_rain_showers_night.png"
             }
            ],
            "winddir16Point": "SE",
            "winddirDegree": "136",
            "windspeedKmph": "13",
            "windspeedMiles": "8"
           }
          ],
          "maxtempC": "32",
          "maxtempF": "89",
          "mintempC": "25",
          "mintempF": "76",
          "sunHour": "8.8",
          "totalSnow_cm": "0.0",
          "uvIndex": "6"
         },
         {
          "astronomy": [
           {
            "moon_illumination": "41",
            "moon_phase": "First Quarter",
            "moonrise": "02:30 PM",
            "moonset": "12:05 AM",
            "sunrise": "07:27 AM",
            "sunset": "07:12 PM"
           }
          ],
          "avgtempC": "27",
          "avgtempF": "81",
          "date": "2019-10-05",
          "hourly": [
           {
            "DewPointC": "20",
            "DewPointF": "68",
            "FeelsLikeC": "28",
            "FeelsLikeF": "82",
            "HeatIndexC": "28",
            "HeatIndexF": "82",
            "WindChillC": "26",
            "WindChillF": "78",
            "WindGustKmph": "19",
            "WindGustMiles": "12",
            "chanceoffog": "0",
            "chanceoffrost": "0",
            "chanceofhightemp": "35",
            "chanceofovercast": "84",
            "chanceofrain": "74",
            "chanceofremdry": "0",
            "chanceofsnow": "0",
            "chanceofsunshine": "0",
            "chanceofthunder": "0",
            "chanceofwindy": "0",
            "cloudcover": "68",
            "humidity": "70",
            "precipInches": "0.0",
            "precipMM": "0.1",
            "pressure": "1016",
            "pressureInches": "30",
            "tempC": "26",
            "tempF": "78",
            "time": "0",
            "uvIndex": "0",
            "visibility": "10",
            "visibilityMiles": "6",
            "weatherCode": "176",
            "weatherDesc": [
             {
              "value": "Patchy rain possible"
             }
            ],
            "weatherIconUrl": [
             {
              "value": "http://cdn.worldweatheronline.net/images/wsymbols01_png_64/wsymbol_0025_light_rain_showers_night.png"
             }
            ],
            "winddir16Point": "SSE",
            "winddirDegree": "153",
            "windspeedKmph": "12",
            "windspeedMiles": "8"
           },
           {
            "DewPointC": "20",
            "DewPointF": "68",
            "FeelsLikeC": "27",
            "FeelsLikeF": "80",
            "HeatIndexC": "27",
            "HeatIndexF": "80",
            "WindChillC": "25",
            "WindChillF": "77",
            "WindGustKmph": "18",
            "WindGustMiles": "11",
            "chanceoffog": "0",
            "chanceoffrost": "0",
            "chanceofhightemp": "30",
            "chanceofovercast": "80",
            "chanceofrain": "77",
            "chanceofremdry": "0",
            "chanceofsnow": "0",
            "chanceofsunshine": "0",
            "chanceofthunder": "0",
            "chanceofwindy": "0",
            "cloudcover": "76",
            "humidity": "74",
            "precipInches": "0.0",
            "precipMM": "0.1",
            "pressure": "1016",
            "pressureInches": "30",
            "tempC": "25",
            "tempF": "77",
            "time": "100",
            "uvIndex": "0",
            "visibility": "10",
            "visibilityMiles": "6",
            "weatherCode": "176",
            "weatherDesc": [
             {
              "value": "Patchy rain possible"
             }
            ],
            "weatherIconUrl": [
             {
              "value": "http://cdn.worldweatheronline.net/images/wsymbols01_png_64/wsymbol_0025_light_rain_showers_night.png"
             }
            ],
            "winddir16Point": "S",
            "winddirDegree": "170",
            "windspeedKmph": "12",
            "windspeedMiles": "7"
           },
           {
            "DewPointC": "20",
            "DewPointF": "68",
            "FeelsLikeC": "27",
            "FeelsLikeF": "80",
            "HeatIndexC": "27",
            "HeatIndexF": "80",
            "WindChillC": "25",
            "WindChillF": "77",
            "WindGustKmph": "17",
            "WindGustMiles": "11",
            "chanceoffog": "0",
            "chanceoffrost": "0",
            "chanceofhightemp": "25",
            "chanceofovercast": "64",
            "chanceofrain": "51",
            "chanceofremdry": "28",
            "chanceofsnow": "0",
            "chanceofsunshine": "29",
            "chanceofthunder": "0",
            "chanceofwindy": "0",
            "cloudcover": "58",
            "humidity": "75",
            "precipInches": "0.0",
            "precipMM": "0.1",
            "pressure": "1016",
            "pressureInches": "30",
            "tempC": "25",
            "tempF": "77",
            "time": "200",
            "uvIndex": "0",
            "visibility": "10",
            "visibilityMiles": "6",
            "weatherCode": "116",
            "weatherDesc": [
             {
              "value": "Partly cloudy"
             }
            ],
            "weatherIconUrl": [
             {
              "value": "http://cdn.worldweatheronline.net/images/wsymbols01_png_64/wsymbol_0004_black_low_cloud.png"
             }
            ],
            "winddir16Point": "S",
            "winddirDegree": "179",
            "windspeedKmph": "11",
            "windspeedMiles": "7"
           },
           {
            "DewPointC": "20",
            "DewPointF": "68",
            "FeelsLikeC": "26",
            "FeelsLikeF": "79",
            "HeatIndexC": "26",
            "HeatIndexF": "79",
            "WindChillC": "24",
            "WindChillF": "76",
            "WindGustKmph": "17",
            "WindGustMiles": "10",
            "chanceoffog": "0",
            "chanceoffrost": "0",
            "chanceofhightemp": "20",
            "chanceofovercast": "48",
            "chanceofrain": "26",
            "chanceofremdry": "56",
            "chanceofsnow": "0",
            "chanceofsunshine": "58",
            "chanceofthunder": "0",
            "chanceofwindy": "0",
            "cloudcover": "41",
            "humidity": "76",
            "precipInches": "0.0",
            "precipMM": "0.0",
            "pressure": "1016",
            "pressureInches": "30",
            "tempC": "24",
            "tempF": "76",
            "time": "300",
            "uvIndex": "0",
            "visibility": "10",
            "visibilityMiles": "6",
            "weatherCode": "176",
            "weatherDesc": [
             {
              "value": "Patchy rain possible"
             }
            ],
            "weatherIconUrl": [
             {
              "value": "http://cdn.worldweatheronline.net/images/wsymbols01_png_64/wsymbol_0025_light_rain_showers_night.png"
             }
            ],
            "winddir16Point": "S",
            "winddirDegree": "188",
            "windspeedKmph": "10",
            "windspeedMiles": "6"
           },
           {
            "DewPointC": "20",
            "DewPointF": "67",
            "FeelsLikeC": "26",
            "FeelsLikeF": "79",
            "HeatIndexC": "26",
            "HeatIndexF": "79",
            "WindChillC": "24",
            "WindChillF": "75",
            "WindGustKmph": "16",
            "WindGustMiles": "10",
            "chanceoffog": "0",
            "chanceoffrost": "0",
            "chanceofhightemp": "15",
            "chanceofovercast": "32",
            "chanceofrain": "0",
            "chanceofremdry": "84",
            "chanceofsnow": "0",
            "chanceofsunshine": "87",
            "chanceofthunder": "0",
            "chanceofwindy": "0",
            "cloudcover": "23",
            "humidity": "77",
            "precipInches": "0.0",
            "precipMM": "0.0",
            "pressure": "1016",
            "pressureInches": "30",
            "tempC": "24",
            "tempF": "75",
            "time": "400",
            "uvIndex": "0",
            "visibility": "10",
            "visibilityMiles": "6",
            "weatherCode": "116",
            "weatherDesc": [
             {
              "value": "Partly cloudy"
             }
            ],
            "weatherIconUrl": [
             {
              "value": "http://cdn.worldweatheronline.net/images/wsymbols01_png_64/wsymbol_0004_black_low_cloud.png"
             }
            ],
            "winddir16Point": "SSW",
            "winddirDegree": "198",
            "windspeedKmph": "10",
            "windspeedMiles": "6"
           },
           {
            "DewPointC": "20",
            "DewPointF": "68",
            "FeelsLikeC": "26",
            "FeelsLikeF": "78",
            "HeatIndexC": "26",
            "HeatIndexF": "78",
            "WindChillC": "24",
            "WindChillF": "75",
            "WindGustKmph": "14",
            "WindGustMiles": "9",
            "chanceoffog": "0",
            "chanceoffrost": "0",
            "chanceofhightemp": "13",
            "chanceofovercast": "34",
            "chanceofrain": "0",
            "chanceofremdry": "87",
            "chanceofsnow": "0",
            "chanceofsunshine": "84",
            "chanceofthunder": "0",
            "chanceofwindy": "0",
            "cloudcover": "19",
            "humidity": "78",
            "precipInches": "0.0",
            "precipMM": "0.0",
            "pressure": "1015",
            "pressureInches": "30",
            "tempC": "24",
            "tempF": "75",
            "time": "500",
            "uvIndex": "0",
            "visibility": "10",
            "visibilityMiles": "6",
            "weatherCode": "116",
            "weatherDesc": [
             {
              "value": "Partly cloudy"
             }
            ],
            "weatherIconUrl": [
             {
              "value": "http://cdn.worldweatheronline.net/images/wsymbols01_png_64/wsymbol_0004_black_low_cloud.png"
             }
            ],
            "winddir16Point": "SSW",
            "winddirDegree": "199",
            "windspeedKmph": "9",
            "windspeedMiles": "6"
           },
           {
            "DewPointC": "20",
            "DewPointF": "68",
            "FeelsLikeC": "26",
            "FeelsLikeF": "78",
            "HeatIndexC": "26",
            "HeatIndexF": "78",
            "WindChillC": "24",
            "WindChillF": "75",
            "WindGustKmph": "12",
            "WindGustMiles": "7",
            "chanceoffog": "0",
            "chanceoffrost": "0",
            "chanceofhightemp": "12",
            "chanceofovercast": "37",
            "chanceofrain": "0",
            "chanceofremdry": "89",
            "chanceofsnow": "0",
            "chanceofsunshine": "80",
            "chanceofthunder": "0",
            "chanceofwindy": "0",
            "cloudcover": "15",
            "humidity": "79",
            "precipInches": "0.0",
            "precipMM": "0.0",
            "pressure": "1015",
            "pressureInches": "30",
            "tempC": "24",
            "tempF": "75",
            "time": "600",
            "uvIndex": "0",
            "visibility": "10",
            "visibilityMiles": "6",
            "weatherCode": "116",
            "weatherDesc": [
             {
              "value": "Partly cloudy"
             }
            ],
            "weatherIconUrl": [
             {
              "value": "http://cdn.worldweatheronline.net/images/wsymbols01_png_64/wsymbol_0004_black_low_cloud.png"
             }
            ],
            "winddir16Point": "SSW",
            "winddirDegree": "200",
            "windspeedKmph": "8",
            "windspeedMiles": "5"
           },
           {
            "DewPointC": "20",
            "DewPointF": "68",
            "FeelsLikeC": "26",
            "FeelsLikeF": "78",
            "HeatIndexC": "26",
            "HeatIndexF": "78",
            "WindChillC": "24",
            "WindChillF": "75",
            "WindGustKmph": "10",
            "WindGustMiles": "6",
            "chanceoffog": "0",
            "chanceoffrost": "0",
            "chanceofhightemp": "10",
            "chanceofovercast": "39",
            "chanceofrain": "0",
            "chanceofremdry": "92",
            "chanceofsnow": "0",
            "chanceofsunshine": "77",
            "chanceofthunder": "0",
            "chanceofwindy": "0",
            "cloudcover": "12",
            "humidity": "81",
            "precipInches": "0.0",
            "precipMM": "0.0",
            "pressure": "1015",
            "pressureInches": "30",
            "tempC": "24",
            "tempF": "75",
            "time": "700",
            "uvIndex": "0",
            "visibility": "10",
            "visibilityMiles": "6",
            "weatherCode": "116",
            "weatherDesc": [
             {
              "value": "Partly cloudy"
             }
            ],
            "weatherIconUrl": [
             {
              "value": "http://cdn.worldweatheronline.net/images/wsymbols01_png_64/wsymbol_0004_black_low_cloud.png"
             }
            ],
            "winddir16Point": "SSW",
            "winddirDegree": "201",
            "windspeedKmph": "6",
            "windspeedMiles": "4"
           },
           {
            "DewPointC": "20",
            "DewPointF": "68",
            "FeelsLikeC": "27",
            "FeelsLikeF": "80",
            "HeatIndexC": "27",
            "HeatIndexF": "80",
            "WindChillC": "25",
            "WindChillF": "77",
            "WindGustKmph": "10",
            "WindGustMiles": "6",
            "chanceoffog": "0",
            "chanceoffrost": "0",
            "chanceofhightemp": "20",
            "chanceofovercast": "38",
            "chanceofrain": "0",
            "chanceofremdry": "89",
            "chanceofsnow": "0",
            "chanceofsunshine": "77",
            "chanceofthunder": "0",
            "chanceofwindy": "0",
            "cloudcover": "9",
            "humidity": "74",
            "precipInches": "0.0",
            "precipMM": "0.0",
            "pressure": "1015",
            "pressureInches": "30",
            "tempC": "25",
            "tempF": "77",
            "time": "800",
            "uvIndex": "6",
            "visibility": "10",
            "visibilityMiles": "6",
            "weatherCode": "116",
            "weatherDesc": [
             {
              "value": "Partly cloudy"
             }
            ],
            "weatherIconUrl": [
             {
              "value": "http://cdn.worldweatheronline.net/images/wsymbols01_png_64/wsymbol_0002_sunny_intervals.png"
             }
            ],
            "winddir16Point": "SSW",
            "winddirDegree": "192",
            "windspeedKmph": "8",
            "windspeedMiles": "5"
           },
           {
            "DewPointC": "19",
            "DewPointF": "67",
            "FeelsLikeC": "28",
            "FeelsLikeF": "82",
            "HeatIndexC": "28",
            "HeatIndexF": "82",
            "WindChillC": "26",
            "WindChillF": "78",
            "WindGustKmph": "11",
            "WindGustMiles": "7",
            "chanceoffog": "0",
            "chanceoffrost": "0",
            "chanceofhightemp": "30",
            "chanceofovercast": "36",
            "chanceofrain": "0",
            "chanceofremdry": "87",
            "chanceofsnow": "0",
            "chanceofsunshine": "78",
            "chanceofthunder": "0",
            "chanceofwindy": "0",
            "cloudcover": "6",
            "humidity": "68",
            "precipInches": "0.0",
            "precipMM": "0.0",
            "pressure": "1015",
            "pressureInches": "30",
            "tempC": "26",
            "tempF": "78",
            "time": "900",
            "uvIndex": "7",
            "visibility": "10",
            "visibilityMiles": "6",
            "weatherCode": "116",
            "weatherDesc": [
             {
              "value": "Partly cloudy"
             }
            ],
            "weatherIconUrl": [
             {
              "value": "http://cdn.worldweatheronline.net/images/wsymbols01_png_64/wsymbol_0002_sunny_intervals.png"
             }
            ],
            "winddir16Point": "S",
            "winddirDegree": "184",
            "windspeedKmph": "9",
            "windspeedMiles": "5"
           },
           {
            "DewPointC": "19",
            "DewPointF": "66",
            "FeelsLikeC": "28",
            "FeelsLikeF": "83",
            "HeatIndexC": "28",
            "HeatIndexF": "83",
            "WindChillC": "27",
            "WindChillF": "80",
            "WindGustKmph": "11",
            "WindGustMiles": "7",
            "chanceoffog": "0",
            "chanceoffrost": "0",
            "chanceofhightemp": "40",
            "chanceofovercast": "35",
            "chanceofrain": "0",
            "chanceofremdry": "84",
            "chanceofsnow": "0",
            "chanceofsunshine": "78",
            "chanceofthunder": "0",
            "chanceofwindy": "0",
            "cloudcover": "3",
            "humidity": "62",
            "precipInches": "0.0",
            "precipMM": "0.0",
            "pressure": "1016",
            "pressureInches": "30",
            "tempC": "27",
            "tempF": "80",
            "time": "1000",
            "uvIndex": "7",
            "visibility": "10",
            "visibilityMiles": "6",
            "weatherCode": "116",
            "weatherDesc": [
             {
              "value": "Partly cloudy"
             }
            ],
            "weatherIconUrl": [
             {
              "value": "http://cdn.worldweatheronline.net/images/wsymbols01_png_64/wsymbol_0002_sunny_intervals.png"
             }
            ],
            "winddir16Point": "S",
            "winddirDegree": "175",
            "windspeedKmph": "10",
            "windspeedMiles": "6"
           },
           {
            "DewPointC": "18",
            "DewPointF": "65",
            "FeelsLikeC": "30",
            "FeelsLikeF": "85",
            "HeatIndexC": "30",
            "HeatIndexF": "85",
            "WindChillC": "28",
            "WindChillF": "83",
            "WindGustKmph": "12",
            "WindGustMiles": "8",
            "chanceoffog": "0",
            "chanceoffrost": "0",
            "chanceofhightemp": "43",
            "chanceofovercast": "37",
            "chanceofrain": "0",
            "chanceofremdry": "86",
            "chanceofsnow": "0",
            "chanceofsunshine": "76",
            "chanceofthunder": "0",
            "chanceofwindy": "0",
            "cloudcover": "4",
            "humidity": "56",
            "precipInches": "0.0",
            "precipMM": "0.0",
            "pressure": "1015",
            "pressureInches": "30",
            "tempC": "28",
            "tempF": "83",
            "time": "1100",
            "uvIndex": "7",
            "visibility": "10",
            "visibilityMiles": "6",
            "weatherCode": "116",
            "weatherDesc": [
             {
              "value": "Partly cloudy"
             }
            ],
            "weatherIconUrl": [
             {
              "value": "http://cdn.worldweatheronline.net/images/wsymbols01_png_64/wsymbol_0002_sunny_intervals.png"
             }
            ],
            "winddir16Point": "S",
            "winddirDegree": "176",
            "windspeedKmph": "10",
            "windspeedMiles": "6"
           },
           {
            "DewPointC": "17",
            "DewPointF": "63",
            "FeelsLikeC": "31",
            "FeelsLikeF": "87",
            "HeatIndexC": "31",
            "HeatIndexF": "87",
            "WindChillC": "30",
            "WindChillF": "85",
            "WindGustKmph": "13",
            "WindGustMiles": "8",
            "chanceoffog": "0",
            "chanceoffrost": "0",
            "chanceofhightemp": "46",
            "chanceofovercast": "39",
            "chanceofrain": "0",
            "chanceofremdry": "87",
            "chanceofsnow": "0",
            "chanceofsunshine": "74",
            "chanceofthunder": "0",
            "chanceofwindy": "0",
            "cloudcover": "6",
            "humidity": "49",
            "precipInches": "0.0",
            "precipMM": "0.0",
            "pressure": "1015",
            "pressureInches": "30",
            "tempC": "30",
            "tempF": "85",
            "time": "1200",
            "uvIndex": "7",
            "visibility": "10",
            "visibilityMiles": "6",
            "weatherCode": "116",
            "weatherDesc": [
             {
              "value": "Partly cloudy"
             }
            ],
            "weatherIconUrl": [
             {
              "value": "http://cdn.worldweatheronline.net/images/wsymbols01_png_64/wsymbol_0002_sunny_intervals.png"
             }
            ],
            "winddir16Point": "S",
            "winddirDegree": "176",
            "windspeedKmph": "12",
            "windspeedMiles": "7"
           },
           {
            "DewPointC": "17",
            "DewPointF": "62",
            "FeelsLikeC": "32",
            "FeelsLikeF": "89",
            "HeatIndexC": "32",
            "HeatIndexF": "89",
            "WindChillC": "31",
            "WindChillF": "87",
            "WindGustKmph": "14",
            "WindGustMiles": "9",
            "chanceoffog": "0",
            "chanceoffrost": "0",
            "chanceofhightemp": "50",
            "chanceofovercast": "41",
            "chanceofrain": "0",
            "chanceofremdry": "89",
            "chanceofsnow": "0",
            "chanceofsunshine": "72",
            "chanceofthunder": "0",
            "chanceofwindy": "0",
            "cloudcover": "7",
            "humidity": "43",
            "precipInches": "0.0",
            "precipMM": "0.0",
            "pressure": "1014",
            "pressureInches": "30",
            "tempC": "31",
            "tempF": "87",
            "time": "1300",
            "uvIndex": "8",
            "visibility": "10",
            "visibilityMiles": "6",
            "weatherCode": "116",
            "weatherDesc": [
             {
              "value": "Partly cloudy"
             }
            ],
            "weatherIconUrl": [
             {
              "value": "http://cdn.worldweatheronline.net/images/wsymbols01_png_64/wsymbol_0002_sunny_intervals.png"
             }
            ],
            "winddir16Point": "S",
            "winddirDegree": "177",
            "windspeedKmph": "12",
            "windspeedMiles": "8"
           },
           {
            "DewPointC": "16",
            "DewPointF": "61",
            "FeelsLikeC": "32",
            "FeelsLikeF": "90",
            "HeatIndexC": "32",
            "HeatIndexF": "90",
            "WindChillC": "31",
            "WindChillF": "89",
            "WindGustKmph": "14",
            "WindGustMiles": "9",
            "chanceoffog": "0",
            "chanceoffrost": "0",
            "chanceofhightemp": "50",
            "chanceofovercast": "42",
            "chanceofrain": "0",
            "chanceofremdry": "88",
            "chanceofsnow": "0",
            "chanceofsunshine": "76",
            "chanceofthunder": "0",
            "chanceofwindy": "0",
            "cloudcover": "13",
            "humidity": "41",
            "precipInches": "0.0",
            "precipMM": "0.0",
            "pressure": "1013",
            "pressureInches": "30",
            "tempC": "31",
            "tempF": "89",
            "time": "1400",
            "uvIndex": "8",
            "visibility": "10",
            "visibilityMiles": "6",
            "weatherCode": "116",
            "weatherDesc": [
             {
              "value": "Partly cloudy"
             }
            ],
            "weatherIconUrl": [
             {
              "value": "http://cdn.worldweatheronline.net/images/wsymbols01_png_64/wsymbol_0002_sunny_intervals.png"
             }
            ],
            "winddir16Point": "S",
            "winddirDegree": "177",
            "windspeedKmph": "13",
            "windspeedMiles": "8"
           },
           {
            "DewPointC": "16",
            "DewPointF": "61",
            "FeelsLikeC": "33",
            "FeelsLikeF": "91",
            "HeatIndexC": "33",
            "HeatIndexF": "91",
            "WindChillC": "32",
            "WindChillF": "90",
            "WindGustKmph": "14",
            "WindGustMiles": "9",
            "chanceoffog": "0",
            "chanceoffrost": "0",
            "chanceofhightemp": "50",
            "chanceofovercast": "42",
            "chanceofrain": "0",
            "chanceofremdry": "87",
            "chanceofsnow": "0",
            "chanceofsunshine": "81",
            "chanceofthunder": "0",
            "chanceofwindy": "0",
            "cloudcover": "19",
            "humidity": "39",
            "precipInches": "0.0",
            "precipMM": "0.0",
            "pressure": "1012",
            "pressureInches": "30",
            "tempC": "32",
            "tempF": "90",
            "time": "1500",
            "uvIndex": "8",
            "visibility": "10",
            "visibilityMiles": "6",
            "weatherCode": "116",
            "weatherDesc": [
             {
              "value": "Partly cloudy"
             }
            ],
            "weatherIconUrl": [
             {
              "value": "http://cdn.worldweatheronline.net/images/wsymbols01_png_64/wsymbol_0002_sunny_intervals.png"
             }
            ],
            "winddir16Point": "S",
            "winddirDegree": "177",
            "windspeedKmph": "13",
            "windspeedMiles": "8"
           },
           {
            "DewPointC": "16",
            "DewPointF": "60",
            "FeelsLikeC": "33",
            "FeelsLikeF": "92",
            "HeatIndexC": "33",
            "HeatIndexF": "92",
            "WindChillC": "33",
            "WindChillF": "91",
            "WindGustKmph": "15",
            "WindGustMiles": "9",
            "chanceoffog": "0",
            "chanceoffrost": "0",
            "chanceofhightemp": "50",
            "chanceofovercast": "43",
            "chanceofrain": "0",
            "chanceofremdry": "86",
            "chanceofsnow": "0",
            "chanceofsunshine": "85",
            "chanceofthunder": "0",
            "chanceofwindy": "0",
            "cloudcover": "26",
            "humidity": "37",
            "precipInches": "0.0",
            "precipMM": "0.0",
            "pressure": "1011",
            "pressureInches": "30",
            "tempC": "33",
            "tempF": "91",
            "time": "1600",
            "uvIndex": "8",
            "visibility": "10",
            "visibilityMiles": "6",
            "weatherCode": "116",
            "weatherDesc": [
             {
              "value": "Partly cloudy"
             }
            ],
            "weatherIconUrl": [
             {
              "value": "http://cdn.worldweatheronline.net/images/wsymbols01_png_64/wsymbol_0002_sunny_intervals.png"
             }
            ],
            "winddir16Point": "S",
            "winddirDegree": "177",
            "windspeedKmph": "13",
            "windspeedMiles": "8"
           },
           {
            "DewPointC": "16",
            "DewPointF": "61",
            "FeelsLikeC": "32",
            "FeelsLikeF": "90",
            "HeatIndexC": "32",
            "HeatIndexF": "90",
            "WindChillC": "32",
            "WindChillF": "89",
            "WindGustKmph": "17",
            "WindGustMiles": "10",
            "chanceoffog": "0",
            "chanceoffrost": "0",
            "chanceofhightemp": "50",
            "chanceofovercast": "42",
            "chanceofrain": "0",
            "chanceofremdry": "87",
            "chanceofsnow": "0",
            "chanceofsunshine": "85",
            "chanceofthunder": "0",
            "chanceofwindy": "0",
            "cloudcover": "25",
            "humidity": "40",
            "precipInches": "0.0",
            "precipMM": "0.0",
            "pressure": "1011",
            "pressureInches": "30",
            "tempC": "32",
            "tempF": "89",
            "time": "1700",
            "uvIndex": "8",
            "visibility": "10",
            "visibilityMiles": "6",
            "weatherCode": "116",
            "weatherDesc": [
             {
              "value": "Partly cloudy"
             }
            ],
            "weatherIconUrl": [
             {
              "value": "http://cdn.worldweatheronline.net/images/wsymbols01_png_64/wsymbol_0002_sunny_intervals.png"
             }
            ],
            "winddir16Point": "SSE",
            "winddirDegree": "168",
            "windspeedKmph": "13",
            "windspeedMiles": "8"
           },
           {
            "DewPointC": "17",
            "DewPointF": "62",
            "FeelsLikeC": "31",
            "FeelsLikeF": "88",
            "HeatIndexC": "31",
            "HeatIndexF": "88",
            "WindChillC": "31",
            "WindChillF": "87",
            "WindGustKmph": "18",
            "WindGustMiles": "11",
            "chanceoffog": "0",
            "chanceoffrost": "0",
            "chanceofhightemp": "50",
            "chanceofovercast": "41",
            "chanceofrain": "0",
            "chanceofremdry": "89",
            "chanceofsnow": "0",
            "chanceofsunshine": "84",
            "chanceofthunder": "0",
            "chanceofwindy": "0",
            "cloudcover": "24",
            "humidity": "43",
            "precipInches": "0.0",
            "precipMM": "0.0",
            "pressure": "1011",
            "pressureInches": "30",
            "tempC": "31",
            "tempF": "87",
            "time": "1800",
            "uvIndex": "8",
            "visibility": "10",
            "visibilityMiles": "6",
            "weatherCode": "116",
            "weatherDesc": [
             {
              "value": "Partly cloudy"
             }
            ],
            "weatherIconUrl": [
             {
              "value": "http://cdn.worldweatheronline.net/images/wsymbols01_png_64/wsymbol_0002_sunny_intervals.png"
             }
            ],
            "winddir16Point": "SSE",
            "winddirDegree": "160",
            "windspeedKmph": "14",
            "windspeedMiles": "9"
           },
           {
            "DewPointC": "17",
            "DewPointF": "63",
            "FeelsLikeC": "30",
            "FeelsLikeF": "87",
            "HeatIndexC": "30",
            "HeatIndexF": "87",
            "WindChillC": "30",
            "WindChillF": "85",
            "WindGustKmph": "20",
            "WindGustMiles": "13",
            "chanceoffog": "0",
            "chanceoffrost": "0",
            "chanceofhightemp": "50",
            "chanceofovercast": "40",
            "chanceofrain": "0",
            "chanceofremdry": "90",
            "chanceofsnow": "0",
            "chanceofsunshine": "84",
            "chanceofthunder": "0",
            "chanceofwindy": "0",
            "cloudcover": "23",
            "humidity": "47",
            "precipInches": "0.0",
            "precipMM": "0.0",
            "pressure": "1011",
            "pressureInches": "30",
            "tempC": "30",
            "tempF": "85",
            "time": "1900",
            "uvIndex": "7",
            "visibility": "10",
            "visibilityMiles": "6",
            "weatherCode": "116",
            "weatherDesc": [
             {
              "value": "Partly cloudy"
             }
            ],
            "weatherIconUrl": [
             {
              "value": "http://cdn.worldweatheronline.net/images/wsymbols01_png_64/wsymbol_0002_sunny_intervals.png"
             }
            ],
            "winddir16Point": "SSE",
            "winddirDegree": "151",
            "windspeedKmph": "14",
            "windspeedMiles": "9"
           },
           {
            "DewPointC": "17",
            "DewPointF": "63",
            "FeelsLikeC": "30",
            "FeelsLikeF": "85",
            "HeatIndexC": "30",
            "HeatIndexF": "85",
            "WindChillC": "29",
            "WindChillF": "83",
            "WindGustKmph": "21",
            "WindGustMiles": "13",
            "chanceoffog": "0",
            "chanceoffrost": "0",
            "chanceofhightemp": "46",
            "chanceofovercast": "42",
            "chanceofrain": "0",
            "chanceofremdry": "90",
            "chanceofsnow": "0",
            "chanceofsunshine": "82",
            "chanceofthunder": "0",
            "chanceofwindy": "0",
            "cloudcover": "18",
            "humidity": "51",
            "precipInches": "0.0",
            "precipMM": "0.0",
            "pressure": "1012",
            "pressureInches": "30",
            "tempC": "29",
            "tempF": "83",
            "time": "2000",
            "uvIndex": "0",
            "visibility": "10",
            "visibilityMiles": "6",
            "weatherCode": "116",
            "weatherDesc": [
             {
              "value": "Partly cloudy"
             }
            ],
            "weatherIconUrl": [
             {
              "value": "http://cdn.worldweatheronline.net/images/wsymbols01_png_64/wsymbol_0004_black_low_cloud.png"
             }
            ],
            "winddir16Point": "SSE",
            "winddirDegree": "152",
            "windspeedKmph": "14",
            "windspeedMiles": "9"
           },
           {
            "DewPointC": "18",
            "DewPointF": "64",
            "FeelsLikeC": "29",
            "FeelsLikeF": "83",
            "HeatIndexC": "29",
            "HeatIndexF": "83",
            "WindChillC": "28",
            "WindChillF": "82",
            "WindGustKmph": "21",
            "WindGustMiles": "13",
            "chanceoffog": "0",
            "chanceoffrost": "0",
            "chanceofhightemp": "43",
            "chanceofovercast": "45",
            "chanceofrain": "0",
            "chanceofremdry": "90",
            "chanceofsnow": "0",
            "chanceofsunshine": "80",
            "chanceofthunder": "0",
            "chanceofwindy": "0",
            "cloudcover": "13",
            "humidity": "55",
            "precipInches": "0.0",
            "precipMM": "0.0",
            "pressure": "1012",
            "pressureInches": "30",
            "tempC": "28",
            "tempF": "82",
            "time": "2100",
            "uvIndex": "0",
            "visibility": "10",
            "visibilityMiles": "6",
            "weatherCode": "116",
            "weatherDesc": [
             {
              "value": "Partly cloudy"
             }
            ],
            "weatherIconUrl": [
             {
              "value": "http://cdn.worldweatheronline.net/images/wsymbols01_png_64/wsymbol_0004_black_low_cloud.png"
             }
            ],
            "winddir16Point": "SSE",
            "winddirDegree": "154",
            "windspeedKmph": "14",
            "windspeedMiles": "9"
           },
           {
            "DewPointC": "18",
            "DewPointF": "64",
            "FeelsLikeC": "28",
            "FeelsLikeF": "82",
            "HeatIndexC": "28",
            "HeatIndexF": "82",
            "WindChillC": "27",
            "WindChillF": "80",
            "WindGustKmph": "21",
            "WindGustMiles": "13",
            "chanceoffog": "0",
            "chanceoffrost": "0",
            "chanceofhightemp": "40",
            "chanceofovercast": "47",
            "chanceofrain": "0",
            "chanceofremdry": "90",
            "chanceofsnow": "0",
            "chanceofsunshine": "78",
            "chanceofthunder": "0",
            "chanceofwindy": "0",
            "cloudcover": "8",
            "humidity": "59",
            "precipInches": "0.0",
            "precipMM": "0.0",
            "pressure": "1013",
            "pressureInches": "30",
            "tempC": "27",
            "tempF": "80",
            "time": "2200",
            "uvIndex": "0",
            "visibility": "10",
            "visibilityMiles": "6",
            "weatherCode": "116",
            "weatherDesc": [
             {
              "value": "Partly cloudy"
             }
            ],
            "weatherIconUrl": [
             {
              "value": "http://cdn.worldweatheronline.net/images/wsymbols01_png_64/wsymbol_0004_black_low_cloud.png"
             }
            ],
            "winddir16Point": "SSE",
            "winddirDegree": "155",
            "windspeedKmph": "13",
            "windspeedMiles": "8"
           },
           {
            "DewPointC": "18",
            "DewPointF": "65",
            "FeelsLikeC": "27",
            "FeelsLikeF": "81",
            "HeatIndexC": "27",
            "HeatIndexF": "81",
            "WindChillC": "26",
            "WindChillF": "78",
            "WindGustKmph": "21",
            "WindGustMiles": "13",
            "chanceoffog": "0",
            "chanceoffrost": "0",
            "chanceofhightemp": "32",
            "chanceofovercast": "44",
            "chanceofrain": "0",
            "chanceofremdry": "90",
            "chanceofsnow": "0",
            "chanceofsunshine": "75",
            "chanceofthunder": "0",
            "chanceofwindy": "0",
            "cloudcover": "7",
            "humidity": "64",
            "precipInches": "0.0",
            "precipMM": "0.0",
            "pressure": "1013",
            "pressureInches": "30",
            "tempC": "26",
            "tempF": "78",
            "time": "2300",
            "uvIndex": "0",
            "visibility": "10",
            "visibilityMiles": "6",
            "weatherCode": "116",
            "weatherDesc": [
             {
              "value": "Partly cloudy"
             }
            ],
            "weatherIconUrl": [
             {
              "value": "http://cdn.worldweatheronline.net/images/wsymbols01_png_64/wsymbol_0004_black_low_cloud.png"
             }
            ],
            "winddir16Point": "SSE",
            "winddirDegree": "163",
            "windspeedKmph": "14",
            "windspeedMiles": "9"
           }
          ],
          "maxtempC": "33",
          "maxtempF": "91",
          "mintempC": "24",
          "mintempF": "75",
          "sunHour": "0.0",
          "totalSnow_cm": "0.0",
          "uvIndex": "6"
         },
         {
          "astronomy": [
           {
            "moon_illumination": "48",
            "moon_phase": "First Quarter",
            "moonrise": "03:20 PM",
            "moonset": "12:58 AM",
            "sunrise": "07:27 AM",
            "sunset": "07:10 PM"
           }
          ],
          "avgtempC": "27",
          "avgtempF": "80",
          "date": "2019-10-06",
          "hourly": [
           {
            "DewPointC": "19",
            "DewPointF": "66",
            "FeelsLikeC": "27",
            "FeelsLikeF": "80",
            "HeatIndexC": "27",
            "HeatIndexF": "80",
            "WindChillC": "25",
            "WindChillF": "77",
            "WindGustKmph": "21",
            "WindGustMiles": "13",
            "chanceoffog": "0",
            "chanceoffrost": "0",
            "chanceofhightemp": "23",
            "chanceofovercast": "40",
            "chanceofrain": "0",
            "chanceofremdry": "90",
            "chanceofsnow": "0",
            "chanceofsunshine": "73",
            "chanceofthunder": "0",
            "chanceofwindy": "0",
            "cloudcover": "5",
            "humidity": "70",
            "precipInches": "0.0",
            "precipMM": "0.0",
            "pressure": "1013",
            "pressureInches": "30",
            "tempC": "25",
            "tempF": "77",
            "time": "0",
            "uvIndex": "0",
            "visibility": "10",
            "visibilityMiles": "6",
            "weatherCode": "116",
            "weatherDesc": [
             {
              "value": "Partly cloudy"
             }
            ],
            "weatherIconUrl": [
             {
              "value": "http://cdn.worldweatheronline.net/images/wsymbols01_png_64/wsymbol_0004_black_low_cloud.png"
             }
            ],
            "winddir16Point": "S",
            "winddirDegree": "171",
            "windspeedKmph": "14",
            "windspeedMiles": "9"
           },
           {
            "DewPointC": "20",
            "DewPointF": "67",
            "FeelsLikeC": "26",
            "FeelsLikeF": "79",
            "HeatIndexC": "26",
            "HeatIndexF": "79",
            "WindChillC": "24",
            "WindChillF": "75",
            "WindGustKmph": "21",
            "WindGustMiles": "13",
            "chanceoffog": "0",
            "chanceoffrost": "0",
            "chanceofhightemp": "15",
            "chanceofovercast": "37",
            "chanceofrain": "0",
            "chanceofremdry": "90",
            "chanceofsnow": "0",
            "chanceofsunshine": "70",
            "chanceofthunder": "0",
            "chanceofwindy": "0",
            "cloudcover": "3",
            "humidity": "75",
            "precipInches": "0.0",
            "precipMM": "0.0",
            "pressure": "1013",
            "pressureInches": "30",
            "tempC": "24",
            "tempF": "75",
            "time": "100",
            "uvIndex": "0",
            "visibility": "10",
            "visibilityMiles": "6",
            "weatherCode": "116",
            "weatherDesc": [
             {
              "value": "Partly cloudy"
             }
            ],
            "weatherIconUrl": [
             {
              "value": "http://cdn.worldweatheronline.net/images/wsymbols01_png_64/wsymbol_0004_black_low_cloud.png"
             }
            ],
            "winddir16Point": "S",
            "winddirDegree": "179",
            "windspeedKmph": "15",
            "windspeedMiles": "9"
           },
           {
            "DewPointC": "19",
            "DewPointF": "67",
            "FeelsLikeC": "26",
            "FeelsLikeF": "78",
            "HeatIndexC": "26",
            "HeatIndexF": "78",
            "WindChillC": "24",
            "WindChillF": "75",
            "WindGustKmph": "19",
            "WindGustMiles": "12",
            "chanceoffog": "0",
            "chanceoffrost": "0",
            "chanceofhightemp": "10",
            "chanceofovercast": "35",
            "chanceofrain": "0",
            "chanceofremdry": "89",
            "chanceofsnow": "0",
            "chanceofsunshine": "72",
            "chanceofthunder": "0",
            "chanceofwindy": "0",
            "cloudcover": "4",
            "humidity": "77",
            "precipInches": "0.0",
            "precipMM": "0.0",
            "pressure": "1013",
            "pressureInches": "30",
            "tempC": "24",
            "tempF": "75",
            "time": "200",
            "uvIndex": "0",
            "visibility": "10",
            "visibilityMiles": "6",
            "weatherCode": "116",
            "weatherDesc": [
             {
              "value": "Partly cloudy"
             }
            ],
            "weatherIconUrl": [
             {
              "value": "http://cdn.worldweatheronline.net/images/wsymbols01_png_64/wsymbol_0004_black_low_cloud.png"
             }
            ],
            "winddir16Point": "S",
            "winddirDegree": "182",
            "windspeedKmph": "13",
            "windspeedMiles": "8"
           },
           {
            "DewPointC": "19",
            "DewPointF": "67",
            "FeelsLikeC": "25",
            "FeelsLikeF": "77",
            "HeatIndexC": "25",
            "HeatIndexF": "77",
            "WindChillC": "23",
            "WindChillF": "74",
            "WindGustKmph": "18",
            "WindGustMiles": "11",
            "chanceoffog": "0",
            "chanceoffrost": "0",
            "chanceofhightemp": "5",
            "chanceofovercast": "32",
            "chanceofrain": "0",
            "chanceofremdry": "88",
            "chanceofsnow": "0",
            "chanceofsunshine": "73",
            "chanceofthunder": "0",
            "chanceofwindy": "0",
            "cloudcover": "4",
            "humidity": "79",
            "precipInches": "0.0",
            "precipMM": "0.0",
            "pressure": "1013",
            "pressureInches": "30",
            "tempC": "23",
            "tempF": "74",
            "time": "300",
            "uvIndex": "0",
            "visibility": "10",
            "visibilityMiles": "6",
            "weatherCode": "116",
            "weatherDesc": [
             {
              "value": "Partly cloudy"
             }
            ],
            "weatherIconUrl": [
             {
              "value": "http://cdn.worldweatheronline.net/images/wsymbols01_png_64/wsymbol_0004_black_low_cloud.png"
             }
            ],
            "winddir16Point": "S",
            "winddirDegree": "185",
            "windspeedKmph": "12",
            "windspeedMiles": "8"
           },
           {
            "DewPointC": "19",
            "DewPointF": "67",
            "FeelsLikeC": "25",
            "FeelsLikeF": "77",
            "HeatIndexC": "25",
            "HeatIndexF": "77",
            "WindChillC": "23",
            "WindChillF": "73",
            "WindGustKmph": "17",
            "WindGustMiles": "10",
            "chanceoffog": "0",
            "chanceoffrost": "0",
            "chanceofhightemp": "0",
            "chanceofovercast": "30",
            "chanceofrain": "0",
            "chanceofremdry": "87",
            "chanceofsnow": "0",
            "chanceofsunshine": "75",
            "chanceofthunder": "0",
            "chanceofwindy": "0",
            "cloudcover": "4",
            "humidity": "81",
            "precipInches": "0.0",
            "precipMM": "0.0",
            "pressure": "1012",
            "pressureInches": "30",
            "tempC": "23",
            "tempF": "73",
            "time": "400",
            "uvIndex": "0",
            "visibility": "10",
            "visibilityMiles": "6",
            "weatherCode": "116",
            "weatherDesc": [
             {
              "value": "Partly cloudy"
             }
            ],
            "weatherIconUrl": [
             {
              "value": "http://cdn.worldweatheronline.net/images/wsymbols01_png_64/wsymbol_0004_black_low_cloud.png"
             }
            ],
            "winddir16Point": "S",
            "winddirDegree": "188",
            "windspeedKmph": "11",
            "windspeedMiles": "7"
           },
           {
            "DewPointC": "20",
            "DewPointF": "67",
            "FeelsLikeC": "25",
            "FeelsLikeF": "77",
            "HeatIndexC": "25",
            "HeatIndexF": "77",
            "WindChillC": "23",
            "WindChillF": "73",
            "WindGustKmph": "14",
            "WindGustMiles": "9",
            "chanceoffog": "0",
            "chanceoffrost": "0",
            "chanceofhightemp": "0",
            "chanceofovercast": "30",
            "chanceofrain": "0",
            "chanceofremdry": "89",
            "chanceofsnow": "0",
            "chanceofsunshine": "74",
            "chanceofthunder": "0",
            "chanceofwindy": "0",
            "cloudcover": "11",
            "humidity": "83",
            "precipInches": "0.0",
            "precipMM": "0.0",
            "pressure": "1013",
            "pressureInches": "30",
            "tempC": "23",
            "tempF": "73",
            "time": "500",
            "uvIndex": "0",
            "visibility": "10",
            "visibilityMiles": "6",
            "weatherCode": "116",
            "weatherDesc": [
             {
              "value": "Partly cloudy"
             }
            ],
            "weatherIconUrl": [
             {
              "value": "http://cdn.worldweatheronline.net/images/wsymbols01_png_64/wsymbol_0004_black_low_cloud.png"
             }
            ],
            "winddir16Point": "S",
            "winddirDegree": "185",
            "windspeedKmph": "9",
            "windspeedMiles": "6"
           },
           {
            "DewPointC": "20",
            "DewPointF": "68",
            "FeelsLikeC": "25",
            "FeelsLikeF": "76",
            "HeatIndexC": "25",
            "HeatIndexF": "76",
            "WindChillC": "22",
            "WindChillF": "72",
            "WindGustKmph": "12",
            "WindGustMiles": "7",
            "chanceoffog": "0",
            "chanceoffrost": "0",
            "chanceofhightemp": "0",
            "chanceofovercast": "31",
            "chanceofrain": "0",
            "chanceofremdry": "90",
            "chanceofsnow": "0",
            "chanceofsunshine": "72",
            "chanceofthunder": "0",
            "chanceofwindy": "0",
            "cloudcover": "18",
            "humidity": "86",
            "precipInches": "0.0",
            "precipMM": "0.0",
            "pressure": "1013",
            "pressureInches": "30",
            "tempC": "22",
            "tempF": "72",
            "time": "600",
            "uvIndex": "0",
            "visibility": "10",
            "visibilityMiles": "6",
            "weatherCode": "116",
            "weatherDesc": [
             {
              "value": "Partly cloudy"
             }
            ],
            "weatherIconUrl": [
             {
              "value": "http://cdn.worldweatheronline.net/images/wsymbols01_png_64/wsymbol_0004_black_low_cloud.png"
             }
            ],
            "winddir16Point": "S",
            "winddirDegree": "182",
            "windspeedKmph": "8",
            "windspeedMiles": "5"
           },
           {
            "DewPointC": "20",
            "DewPointF": "68",
            "FeelsLikeC": "25",
            "FeelsLikeF": "76",
            "HeatIndexC": "25",
            "HeatIndexF": "76",
            "WindChillC": "22",
            "WindChillF": "72",
            "WindGustKmph": "9",
            "WindGustMiles": "6",
            "chanceoffog": "0",
            "chanceoffrost": "0",
            "chanceofhightemp": "0",
            "chanceofovercast": "31",
            "chanceofrain": "0",
            "chanceofremdry": "92",
            "chanceofsnow": "0",
            "chanceofsunshine": "71",
            "chanceofthunder": "0",
            "chanceofwindy": "0",
            "cloudcover": "25",
            "humidity": "88",
            "precipInches": "0.0",
            "precipMM": "0.0",
            "pressure": "1013",
            "pressureInches": "30",
            "tempC": "22",
            "tempF": "72",
            "time": "700",
            "uvIndex": "0",
            "visibility": "10",
            "visibilityMiles": "6",
            "weatherCode": "116",
            "weatherDesc": [
             {
              "value": "Partly cloudy"
             }
            ],
            "weatherIconUrl": [
             {
              "value": "http://cdn.worldweatheronline.net/images/wsymbols01_png_64/wsymbol_0004_black_low_cloud.png"
             }
            ],
            "winddir16Point": "S",
            "winddirDegree": "179",
            "windspeedKmph": "6",
            "windspeedMiles": "4"
           },
           {
            "DewPointC": "20",
            "DewPointF": "68",
            "FeelsLikeC": "26",
            "FeelsLikeF": "78",
            "HeatIndexC": "26",
            "HeatIndexF": "78",
            "WindChillC": "23",
            "WindChillF": "74",
            "WindGustKmph": "9",
            "WindGustMiles": "6",
            "chanceoffog": "0",
            "chanceoffrost": "0",
            "chanceofhightemp": "10",
            "chanceofovercast": "32",
            "chanceofrain": "0",
            "chanceofremdry": "89",
            "chanceofsnow": "0",
            "chanceofsunshine": "73",
            "chanceofthunder": "0",
            "chanceofwindy": "0",
            "cloudcover": "31",
            "humidity": "83",
            "precipInches": "0.0",
            "precipMM": "0.0",
            "pressure": "1013",
            "pressureInches": "30",
            "tempC": "23",
            "tempF": "74",
            "time": "800",
            "uvIndex": "6",
            "visibility": "10",
            "visibilityMiles": "6",
            "weatherCode": "116",
            "weatherDesc": [
             {
              "value": "Partly cloudy"
             }
            ],
            "weatherIconUrl": [
             {
              "value": "http://cdn.worldweatheronline.net/images/wsymbols01_png_64/wsymbol_0002_sunny_intervals.png"
             }
            ],
            "winddir16Point": "S",
            "winddirDegree": "173",
            "windspeedKmph": "7",
            "windspeedMiles": "4"
           },
           {
            "DewPointC": "20",
            "DewPointF": "69",
            "FeelsLikeC": "27",
            "FeelsLikeF": "80",
            "HeatIndexC": "27",
            "HeatIndexF": "80",
            "WindChillC": "24",
            "WindChillF": "76",
            "WindGustKmph": "9",
            "WindGustMiles": "6",
            "chanceoffog": "0",
            "chanceoffrost": "0",
            "chanceofhightemp": "20",
            "chanceofovercast": "33",
            "chanceofrain": "0",
            "chanceofremdry": "85",
            "chanceofsnow": "0",
            "chanceofsunshine": "76",
            "chanceofthunder": "0",
            "chanceofwindy": "0",
            "cloudcover": "37",
            "humidity": "78",
            "precipInches": "0.0",
            "precipMM": "0.0",
            "pressure": "1013",
            "pressureInches": "30",
            "tempC": "24",
            "tempF": "76",
            "time": "900",
            "uvIndex": "6",
            "visibility": "10",
            "visibilityMiles": "6",
            "weatherCode": "116",
            "weatherDesc": [
             {
              "value": "Partly cloudy"
             }
            ],
            "weatherIconUrl": [
             {
              "value": "http://cdn.worldweatheronline.net/images/wsymbols01_png_64/wsymbol_0002_sunny_intervals.png"
             }
            ],
            "winddir16Point": "SSE",
            "winddirDegree": "167",
            "windspeedKmph": "8",
            "windspeedMiles": "5"
           },
           {
            "DewPointC": "20",
            "DewPointF": "69",
            "FeelsLikeC": "27",
            "FeelsLikeF": "81",
            "HeatIndexC": "27",
            "HeatIndexF": "81",
            "WindChillC": "26",
            "WindChillF": "78",
            "WindGustKmph": "9",
            "WindGustMiles": "6",
            "chanceoffog": "0",
            "chanceoffrost": "0",
            "chanceofhightemp": "30",
            "chanceofovercast": "34",
            "chanceofrain": "0",
            "chanceofremdry": "82",
            "chanceofsnow": "0",
            "chanceofsunshine": "78",
            "chanceofthunder": "0",
            "chanceofwindy": "0",
            "cloudcover": "44",
            "humidity": "73",
            "precipInches": "0.0",
            "precipMM": "0.0",
            "pressure": "1013",
            "pressureInches": "30",
            "tempC": "26",
            "tempF": "78",
            "time": "1000",
            "uvIndex": "7",
            "visibility": "10",
            "visibilityMiles": "6",
            "weatherCode": "116",
            "weatherDesc": [
             {
              "value": "Partly cloudy"
             }
            ],
            "weatherIconUrl": [
             {
              "value": "http://cdn.worldweatheronline.net/images/wsymbols01_png_64/wsymbol_0002_sunny_intervals.png"
             }
            ],
            "winddir16Point": "SSE",
            "winddirDegree": "161",
            "windspeedKmph": "8",
            "windspeedMiles": "5"
           },
           {
            "DewPointC": "20",
            "DewPointF": "67",
            "FeelsLikeC": "29",
            "FeelsLikeF": "84",
            "HeatIndexC": "29",
            "HeatIndexF": "84",
            "WindChillC": "27",
            "WindChillF": "81",
            "WindGustKmph": "10",
            "WindGustMiles": "6",
            "chanceoffog": "0",
            "chanceoffrost": "0",
            "chanceofhightemp": "37",
            "chanceofovercast": "38",
            "chanceofrain": "0",
            "chanceofremdry": "81",
            "chanceofsnow": "0",
            "chanceofsunshine": "76",
            "chanceofthunder": "0",
            "chanceofwindy": "0",
            "cloudcover": "33",
            "humidity": "64",
            "precipInches": "0.0",
            "precipMM": "0.0",
            "pressure": "1013",
            "pressureInches": "30",
            "tempC": "27",
            "tempF": "81",
            "time": "1100",
            "uvIndex": "7",
            "visibility": "10",
            "visibilityMiles": "6",
            "weatherCode": "116",
            "weatherDesc": [
             {
              "value": "Partly cloudy"
             }
            ],
            "weatherIconUrl": [
             {
              "value": "http://cdn.worldweatheronline.net/images/wsymbols01_png_64/wsymbol_0002_sunny_intervals.png"
             }
            ],
            "winddir16Point": "SSE",
            "winddirDegree": "162",
            "windspeedKmph": "9",
            "windspeedMiles": "6"
           },
           {
            "DewPointC": "19",
            "DewPointF": "65",
            "FeelsLikeC": "30",
            "FeelsLikeF": "86",
            "HeatIndexC": "30",
            "HeatIndexF": "86",
            "WindChillC": "29",
            "WindChillF": "84",
            "WindGustKmph": "11",
            "WindGustMiles": "7",
            "chanceoffog": "0",
            "chanceoffrost": "0",
            "chanceofhightemp": "43",
            "chanceofovercast": "41",
            "chanceofrain": "0",
            "chanceofremdry": "81",
            "chanceofsnow": "0",
            "chanceofsunshine": "73",
            "chanceofthunder": "0",
            "chanceofwindy": "0",
            "cloudcover": "22",
            "humidity": "56",
            "precipInches": "0.0",
            "precipMM": "0.0",
            "pressure": "1013",
            "pressureInches": "30",
            "tempC": "29",
            "tempF": "84",
            "time": "1200",
            "uvIndex": "7",
            "visibility": "10",
            "visibilityMiles": "6",
            "weatherCode": "116",
            "weatherDesc": [
             {
              "value": "Partly cloudy"
             }
            ],
            "weatherIconUrl": [
             {
              "value": "http://cdn.worldweatheronline.net/images/wsymbols01_png_64/wsymbol_0002_sunny_intervals.png"
             }
            ],
            "winddir16Point": "SSE",
            "winddirDegree": "164",
            "windspeedKmph": "9",
            "windspeedMiles": "6"
           },
           {
            "DewPointC": "18",
            "DewPointF": "64",
            "FeelsLikeC": "32",
            "FeelsLikeF": "89",
            "HeatIndexC": "32",
            "HeatIndexF": "89",
            "WindChillC": "30",
            "WindChillF": "87",
            "WindGustKmph": "12",
            "WindGustMiles": "7",
            "chanceoffog": "0",
            "chanceoffrost": "0",
            "chanceofhightemp": "50",
            "chanceofovercast": "45",
            "chanceofrain": "0",
            "chanceofremdry": "80",
            "chanceofsnow": "0",
            "chanceofsunshine": "71",
            "chanceofthunder": "0",
            "chanceofwindy": "0",
            "cloudcover": "11",
            "humidity": "47",
            "precipInches": "0.0",
            "precipMM": "0.0",
            "pressure": "1012",
            "pressureInches": "30",
            "tempC": "30",
            "tempF": "87",
            "time": "1300",
            "uvIndex": "8",
            "visibility": "10",
            "visibilityMiles": "6",
            "weatherCode": "116",
            "weatherDesc": [
             {
              "value": "Partly cloudy"
             }
            ],
            "weatherIconUrl": [
             {
              "value": "http://cdn.worldweatheronline.net/images/wsymbols01_png_64/wsymbol_0002_sunny_intervals.png"
             }
            ],
            "winddir16Point": "SSE",
            "winddirDegree": "166",
            "windspeedKmph": "10",
            "windspeedMiles": "6"
           },
           {
            "DewPointC": "17",
            "DewPointF": "62",
            "FeelsLikeC": "32",
            "FeelsLikeF": "90",
            "HeatIndexC": "32",
            "HeatIndexF": "90",
            "WindChillC": "31",
            "WindChillF": "88",
            "WindGustKmph": "11",
            "WindGustMiles": "7",
            "chanceoffog": "0",
            "chanceoffrost": "0",
            "chanceofhightemp": "50",
            "chanceofovercast": "42",
            "chanceofrain": "0",
            "chanceofremdry": "82",
            "chanceofsnow": "0",
            "chanceofsunshine": "75",
            "chanceofthunder": "0",
            "chanceofwindy": "0",
            "cloudcover": "14",
            "humidity": "43",
            "precipInches": "0.0",
            "precipMM": "0.0",
            "pressure": "1011",
            "pressureInches": "30",
            "tempC": "31",
            "tempF": "88",
            "time": "1400",
            "uvIndex": "8",
            "visibility": "10",
            "visibilityMiles": "6",
            "weatherCode": "116",
            "weatherDesc": [
             {
              "value": "Partly cloudy"
             }
            ],
            "weatherIconUrl": [
             {
              "value": "http://cdn.worldweatheronline.net/images/wsymbols01_png_64/wsymbol_0002_sunny_intervals.png"
             }
            ],
            "winddir16Point": "S",
            "winddirDegree": "170",
            "windspeedKmph": "9",
            "windspeedMiles": "6"
           },
           {
            "DewPointC": "16",
            "DewPointF": "61",
            "FeelsLikeC": "33",
            "FeelsLikeF": "91",
            "HeatIndexC": "33",
            "HeatIndexF": "91",
            "WindChillC": "32",
            "WindChillF": "89",
            "WindGustKmph": "10",
            "WindGustMiles": "6",
            "chanceoffog": "0",
            "chanceoffrost": "0",
            "chanceofhightemp": "50",
            "chanceofovercast": "40",
            "chanceofrain": "0",
            "chanceofremdry": "85",
            "chanceofsnow": "0",
            "chanceofsunshine": "78",
            "chanceofthunder": "0",
            "chanceofwindy": "0",
            "cloudcover": "17",
            "humidity": "39",
            "precipInches": "0.0",
            "precipMM": "0.0",
            "pressure": "1010",
            "pressureInches": "30",
            "tempC": "32",
            "tempF": "89",
            "time": "1500",
            "uvIndex": "8",
            "visibility": "10",
            "visibilityMiles": "6",
            "weatherCode": "116",
            "weatherDesc": [
             {
              "value": "Partly cloudy"
             }
            ],
            "weatherIconUrl": [
             {
              "value": "http://cdn.worldweatheronline.net/images/wsymbols01_png_64/wsymbol_0002_sunny_intervals.png"
             }
            ],
            "winddir16Point": "S",
            "winddirDegree": "174",
            "windspeedKmph": "9",
            "windspeedMiles": "6"
           },
           {
            "DewPointC": "15",
            "DewPointF": "59",
            "FeelsLikeC": "33",
            "FeelsLikeF": "91",
            "HeatIndexC": "33",
            "HeatIndexF": "91",
            "WindChillC": "33",
            "WindChillF": "91",
            "WindGustKmph": "9",
            "WindGustMiles": "6",
            "chanceoffog": "0",
            "chanceoffrost": "0",
            "chanceofhightemp": "50",
            "chanceofovercast": "37",
            "chanceofrain": "0",
            "chanceofremdry": "87",
            "chanceofsnow": "0",
            "chanceofsunshine": "82",
            "chanceofthunder": "0",
            "chanceofwindy": "0",
            "cloudcover": "20",
            "humidity": "35",
            "precipInches": "0.0",
            "precipMM": "0.0",
            "pressure": "1009",
            "pressureInches": "30",
            "tempC": "33",
            "tempF": "91",
            "time": "1600",
            "uvIndex": "8",
            "visibility": "10",
            "visibilityMiles": "6",
            "weatherCode": "116",
            "weatherDesc": [
             {
              "value": "Partly cloudy"
             }
            ],
            "weatherIconUrl": [
             {
              "value": "http://cdn.worldweatheronline.net/images/wsymbols01_png_64/wsymbol_0002_sunny_intervals.png"
             }
            ],
            "winddir16Point": "S",
            "winddirDegree": "179",
            "windspeedKmph": "8",
            "windspeedMiles": "5"
           },
           {
            "DewPointC": "16",
            "DewPointF": "60",
            "FeelsLikeC": "32",
            "FeelsLikeF": "90",
            "HeatIndexC": "32",
            "HeatIndexF": "90",
            "WindChillC": "32",
            "WindChillF": "89",
            "WindGustKmph": "10",
            "WindGustMiles": "6",
            "chanceoffog": "0",
            "chanceoffrost": "0",
            "chanceofhightemp": "50",
            "chanceofovercast": "39",
            "chanceofrain": "0",
            "chanceofremdry": "86",
            "chanceofsnow": "0",
            "chanceofsunshine": "79",
            "chanceofthunder": "0",
            "chanceofwindy": "0",
            "cloudcover": "21",
            "humidity": "38",
            "precipInches": "0.0",
            "precipMM": "0.0",
            "pressure": "1009",
            "pressureInches": "30",
            "tempC": "32",
            "tempF": "89",
            "time": "1700",
            "uvIndex": "8",
            "visibility": "10",
            "visibilityMiles": "6",
            "weatherCode": "116",
            "weatherDesc": [
             {
              "value": "Partly cloudy"
             }
            ],
            "weatherIconUrl": [
             {
              "value": "http://cdn.worldweatheronline.net/images/wsymbols01_png_64/wsymbol_0002_sunny_intervals.png"
             }
            ],
            "winddir16Point": "S",
            "winddirDegree": "183",
            "windspeedKmph": "8",
            "windspeedMiles": "5"
           },
           {
            "DewPointC": "16",
            "DewPointF": "60",
            "FeelsLikeC": "31",
            "FeelsLikeF": "88",
            "HeatIndexC": "31",
            "HeatIndexF": "88",
            "WindChillC": "31",
            "WindChillF": "87",
            "WindGustKmph": "10",
            "WindGustMiles": "6",
            "chanceoffog": "0",
            "chanceoffrost": "0",
            "chanceofhightemp": "50",
            "chanceofovercast": "42",
            "chanceofrain": "0",
            "chanceofremdry": "85",
            "chanceofsnow": "0",
            "chanceofsunshine": "77",
            "chanceofthunder": "0",
            "chanceofwindy": "0",
            "cloudcover": "22",
            "humidity": "41",
            "precipInches": "0.0",
            "precipMM": "0.0",
            "pressure": "1010",
            "pressureInches": "30",
            "tempC": "31",
            "tempF": "87",
            "time": "1800",
            "uvIndex": "8",
            "visibility": "10",
            "visibilityMiles": "6",
            "weatherCode": "116",
            "weatherDesc": [
             {
              "value": "Partly cloudy"
             }
            ],
            "weatherIconUrl": [
             {
              "value": "http://cdn.worldweatheronline.net/images/wsymbols01_png_64/wsymbol_0002_sunny_intervals.png"
             }
            ],
            "winddir16Point": "S",
            "winddirDegree": "187",
            "windspeedKmph": "8",
            "windspeedMiles": "5"
           },
           {
            "DewPointC": "16",
            "DewPointF": "61",
            "FeelsLikeC": "30",
            "FeelsLikeF": "87",
            "HeatIndexC": "30",
            "HeatIndexF": "87",
            "WindChillC": "30",
            "WindChillF": "86",
            "WindGustKmph": "11",
            "WindGustMiles": "7",
            "chanceoffog": "0",
            "chanceoffrost": "0",
            "chanceofhightemp": "50",
            "chanceofovercast": "44",
            "chanceofrain": "0",
            "chanceofremdry": "84",
            "chanceofsnow": "0",
            "chanceofsunshine": "74",
            "chanceofthunder": "0",
            "chanceofwindy": "0",
            "cloudcover": "22",
            "humidity": "43",
            "precipInches": "0.0",
            "precipMM": "0.0",
            "pressure": "1010",
            "pressureInches": "30",
            "tempC": "30",
            "tempF": "86",
            "time": "1900",
            "uvIndex": "7",
            "visibility": "10",
            "visibilityMiles": "6",
            "weatherCode": "116",
            "weatherDesc": [
             {
              "value": "Partly cloudy"
             }
            ],
            "weatherIconUrl": [
             {
              "value": "http://cdn.worldweatheronline.net/images/wsymbols01_png_64/wsymbol_0002_sunny_intervals.png"
             }
            ],
            "winddir16Point": "S",
            "winddirDegree": "191",
            "windspeedKmph": "8",
            "windspeedMiles": "5"
           },
           {
            "DewPointC": "17",
            "DewPointF": "62",
            "FeelsLikeC": "30",
            "FeelsLikeF": "85",
            "HeatIndexC": "30",
            "HeatIndexF": "85",
            "WindChillC": "29",
            "WindChillF": "84",
            "WindGustKmph": "14",
            "WindGustMiles": "9",
            "chanceoffog": "0",
            "chanceoffrost": "0",
            "chanceofhightemp": "46",
            "chanceofovercast": "46",
            "chanceofrain": "0",
            "chanceofremdry": "86",
            "chanceofsnow": "0",
            "chanceofsunshine": "76",
            "chanceofthunder": "0",
            "chanceofwindy": "0",
            "cloudcover": "18",
            "humidity": "50",
            "precipInches": "0.0",
            "precipMM": "0.0",
            "pressure": "1010",
            "pressureInches": "30",
            "tempC": "29",
            "tempF": "84",
            "time": "2000",
            "uvIndex": "0",
            "visibility": "10",
            "visibilityMiles": "6",
            "weatherCode": "116",
            "weatherDesc": [
             {
              "value": "Partly cloudy"
             }
            ],
            "weatherIconUrl": [
             {
              "value": "http://cdn.worldweatheronline.net/images/wsymbols01_png_64/wsymbol_0004_black_low_cloud.png"
             }
            ],
            "winddir16Point": "S",
            "winddirDegree": "177",
            "windspeedKmph": "9",
            "windspeedMiles": "6"
           },
           {
            "DewPointC": "18",
            "DewPointF": "64",
            "FeelsLikeC": "29",
            "FeelsLikeF": "84",
            "HeatIndexC": "29",
            "HeatIndexF": "84",
            "WindChillC": "28",
            "WindChillF": "82",
            "WindGustKmph": "17",
            "WindGustMiles": "11",
            "chanceoffog": "0",
            "chanceoffrost": "0",
            "chanceofhightemp": "43",
            "chanceofovercast": "47",
            "chanceofrain": "0",
            "chanceofremdry": "88",
            "chanceofsnow": "0",
            "chanceofsunshine": "77",
            "chanceofthunder": "0",
            "chanceofwindy": "0",
            "cloudcover": "15",
            "humidity": "56",
            "precipInches": "0.0",
            "precipMM": "0.0",
            "pressure": "1011",
            "pressureInches": "30",
            "tempC": "28",
            "tempF": "82",
            "time": "2100",
            "uvIndex": "0",
            "visibility": "10",
            "visibilityMiles": "6",
            "weatherCode": "116",
            "weatherDesc": [
             {
              "value": "Partly cloudy"
             }
            ],
            "weatherIconUrl": [
             {
              "value": "http://cdn.worldweatheronline.net/images/wsymbols01_png_64/wsymbol_0004_black_low_cloud.png"
             }
            ],
            "winddir16Point": "SSE",
            "winddirDegree": "162",
            "windspeedKmph": "11",
            "windspeedMiles": "7"
           },
           {
            "DewPointC": "19",
            "DewPointF": "65",
            "FeelsLikeC": "28",
            "FeelsLikeF": "82",
            "HeatIndexC": "28",
            "HeatIndexF": "82",
            "WindChillC": "26",
            "WindChillF": "80",
            "WindGustKmph": "20",
            "WindGustMiles": "13",
            "chanceoffog": "0",
            "chanceoffrost": "0",
            "chanceofhightemp": "40",
            "chanceofovercast": "49",
            "chanceofrain": "0",
            "chanceofremdry": "90",
            "chanceofsnow": "0",
            "chanceofsunshine": "79",
            "chanceofthunder": "0",
            "chanceofwindy": "0",
            "cloudcover": "11",
            "humidity": "62",
            "precipInches": "0.0",
            "precipMM": "0.0",
            "pressure": "1012",
            "pressureInches": "30",
            "tempC": "26",
            "tempF": "80",
            "time": "2200",
            "uvIndex": "0",
            "visibility": "10",
            "visibilityMiles": "6",
            "weatherCode": "116",
            "weatherDesc": [
             {
              "value": "Partly cloudy"
             }
            ],
            "weatherIconUrl": [
             {
              "value": "http://cdn.worldweatheronline.net/images/wsymbols01_png_64/wsymbol_0004_black_low_cloud.png"
             }
            ],
            "winddir16Point": "SSE",
            "winddirDegree": "148",
            "windspeedKmph": "13",
            "windspeedMiles": "8"
           },
           {
            "DewPointC": "19",
            "DewPointF": "67",
            "FeelsLikeC": "27",
            "FeelsLikeF": "81",
            "HeatIndexC": "27",
            "HeatIndexF": "81",
            "WindChillC": "26",
            "WindChillF": "78",
            "WindGustKmph": "18",
            "WindGustMiles": "11",
            "chanceoffog": "0",
            "chanceoffrost": "0",
            "chanceofhightemp": "32",
            "chanceofovercast": "44",
            "chanceofrain": "0",
            "chanceofremdry": "88",
            "chanceofsnow": "0",
            "chanceofsunshine": "78",
            "chanceofthunder": "0",
            "chanceofwindy": "0",
            "cloudcover": "9",
            "humidity": "68",
            "precipInches": "0.0",
            "precipMM": "0.0",
            "pressure": "1012",
            "pressureInches": "30",
            "tempC": "26",
            "tempF": "78",
            "time": "2300",
            "uvIndex": "0",
            "visibility": "10",
            "visibilityMiles": "6",
            "weatherCode": "116",
            "weatherDesc": [
             {
              "value": "Partly cloudy"
             }
            ],
            "weatherIconUrl": [
             {
              "value": "http://cdn.worldweatheronline.net/images/wsymbols01_png_64/wsymbol_0004_black_low_cloud.png"
             }
            ],
            "winddir16Point": "SSE",
            "winddirDegree": "154",
            "windspeedKmph": "12",
            "windspeedMiles": "7"
           }
          ],
          "maxtempC": "33",
          "maxtempF": "91",
          "mintempC": "22",
          "mintempF": "72",
          "sunHour": "0.0",
          "totalSnow_cm": "0.0",
          "uvIndex": "7"
         },
         {
          "astronomy": [
           {
            "moon_illumination": "56",
            "moon_phase": "First Quarter",
            "moonrise": "04:03 PM",
            "moonset": "01:52 AM",
            "sunrise": "07:28 AM",
            "sunset": "07:09 PM"
           }
          ],
          "avgtempC": "27",
          "avgtempF": "80",
          "date": "2019-10-07",
          "hourly": [
           {
            "DewPointC": "20",
            "DewPointF": "68",
            "FeelsLikeC": "27",
            "FeelsLikeF": "80",
            "HeatIndexC": "27",
            "HeatIndexF": "80",
            "WindChillC": "25",
            "WindChillF": "77",
            "WindGustKmph": "17",
            "WindGustMiles": "11",
            "chanceoffog": "0",
            "chanceoffrost": "0",
            "chanceofhightemp": "23",
            "chanceofovercast": "38",
            "chanceofrain": "0",
            "chanceofremdry": "87",
            "chanceofsnow": "0",
            "chanceofsunshine": "76",
            "chanceofthunder": "0",
            "chanceofwindy": "0",
            "cloudcover": "7",
            "humidity": "73",
            "precipInches": "0.0",
            "precipMM": "0.0",
            "pressure": "1012",
            "pressureInches": "30",
            "tempC": "25",
            "tempF": "77",
            "time": "0",
            "uvIndex": "0",
            "visibility": "10",
            "visibilityMiles": "6",
            "weatherCode": "116",
            "weatherDesc": [
             {
              "value": "Partly cloudy"
             }
            ],
            "weatherIconUrl": [
             {
              "value": "http://cdn.worldweatheronline.net/images/wsymbols01_png_64/wsymbol_0004_black_low_cloud.png"
             }
            ],
            "winddir16Point": "SSE",
            "winddirDegree": "161",
            "windspeedKmph": "11",
            "windspeedMiles": "7"
           },
           {
            "DewPointC": "21",
            "DewPointF": "69",
            "FeelsLikeC": "26",
            "FeelsLikeF": "80",
            "HeatIndexC": "26",
            "HeatIndexF": "80",
            "WindChillC": "25",
            "WindChillF": "76",
            "WindGustKmph": "15",
            "WindGustMiles": "9",
            "chanceoffog": "0",
            "chanceoffrost": "0",
            "chanceofhightemp": "15",
            "chanceofovercast": "33",
            "chanceofrain": "0",
            "chanceofremdry": "85",
            "chanceofsnow": "0",
            "chanceofsunshine": "75",
            "chanceofthunder": "0",
            "chanceofwindy": "0",
            "cloudcover": "5",
            "humidity": "79",
            "precipInches": "0.0",
            "precipMM": "0.0",
            "pressure": "1012",
            "pressureInches": "30",
            "tempC": "25",
            "tempF": "76",
            "time": "100",
            "uvIndex": "0",
            "visibility": "10",
            "visibilityMiles": "6",
            "weatherCode": "116",
            "weatherDesc": [
             {
              "value": "Partly cloudy"
             }
            ],
            "weatherIconUrl": [
             {
              "value": "http://cdn.worldweatheronline.net/images/wsymbols01_png_64/wsymbol_0004_black_low_cloud.png"
             }
            ],
            "winddir16Point": "SSE",
            "winddirDegree": "167",
            "windspeedKmph": "10",
            "windspeedMiles": "6"
           },
           {
            "DewPointC": "21",
            "DewPointF": "69",
            "FeelsLikeC": "26",
            "FeelsLikeF": "79",
            "HeatIndexC": "26",
            "HeatIndexF": "79",
            "WindChillC": "24",
            "WindChillF": "76",
            "WindGustKmph": "13",
            "WindGustMiles": "8",
            "chanceoffog": "0",
            "chanceoffrost": "0",
            "chanceofhightemp": "15",
            "chanceofovercast": "36",
            "chanceofrain": "0",
            "chanceofremdry": "88",
            "chanceofsnow": "0",
            "chanceofsunshine": "76",
            "chanceofthunder": "0",
            "chanceofwindy": "0",
            "cloudcover": "8",
            "humidity": "80",
            "precipInches": "0.0",
            "precipMM": "0.0",
            "pressure": "1012",
            "pressureInches": "30",
            "tempC": "24",
            "tempF": "76",
            "time": "200",
            "uvIndex": "0",
            "visibility": "10",
            "visibilityMiles": "6",
            "weatherCode": "116",
            "weatherDesc": [
             {
              "value": "Partly cloudy"
             }
            ],
            "weatherIconUrl": [
             {
              "value": "http://cdn.worldweatheronline.net/images/wsymbols01_png_64/wsymbol_0004_black_low_cloud.png"
             }
            ],
            "winddir16Point": "S",
            "winddirDegree": "172",
            "windspeedKmph": "9",
            "windspeedMiles": "5"
           },
           {
            "DewPointC": "21",
            "DewPointF": "69",
            "FeelsLikeC": "26",
            "FeelsLikeF": "79",
            "HeatIndexC": "26",
            "HeatIndexF": "79",
            "WindChillC": "24",
            "WindChillF": "76",
            "WindGustKmph": "11",
            "WindGustMiles": "7",
            "chanceoffog": "0",
            "chanceoffrost": "0",
            "chanceofhightemp": "15",
            "chanceofovercast": "40",
            "chanceofrain": "0",
            "chanceofremdry": "91",
            "chanceofsnow": "0",
            "chanceofsunshine": "77",
            "chanceofthunder": "0",
            "chanceofwindy": "0",
            "cloudcover": "10",
            "humidity": "82",
            "precipInches": "0.0",
            "precipMM": "0.0",
            "pressure": "1012",
            "pressureInches": "30",
            "tempC": "24",
            "tempF": "76",
            "time": "300",
            "uvIndex": "0",
            "visibility": "10",
            "visibilityMiles": "6",
            "weatherCode": "116",
            "weatherDesc": [
             {
              "value": "Partly cloudy"
             }
            ],
            "weatherIconUrl": [
             {
              "value": "http://cdn.worldweatheronline.net/images/wsymbols01_png_64/wsymbol_0004_black_low_cloud.png"
             }
            ],
            "winddir16Point": "S",
            "winddirDegree": "176",
            "windspeedKmph": "8",
            "windspeedMiles": "5"
           },
           {
            "DewPointC": "21",
            "DewPointF": "70",
            "FeelsLikeC": "26",
            "FeelsLikeF": "79",
            "HeatIndexC": "26",
            "HeatIndexF": "79",
            "WindChillC": "24",
            "WindChillF": "75",
            "WindGustKmph": "9",
            "WindGustMiles": "6",
            "chanceoffog": "0",
            "chanceoffrost": "0",
            "chanceofhightemp": "15",
            "chanceofovercast": "43",
            "chanceofrain": "0",
            "chanceofremdry": "94",
            "chanceofsnow": "0",
            "chanceofsunshine": "78",
            "chanceofthunder": "0",
            "chanceofwindy": "0",
            "cloudcover": "12",
            "humidity": "83",
            "precipInches": "0.0",
            "precipMM": "0.0",
            "pressure": "1012",
            "pressureInches": "30",
            "tempC": "24",
            "tempF": "75",
            "time": "400",
            "uvIndex": "0",
            "visibility": "10",
            "visibilityMiles": "6",
            "weatherCode": "116",
            "weatherDesc": [
             {
              "value": "Partly cloudy"
             }
            ],
            "weatherIconUrl": [
             {
              "value": "http://cdn.worldweatheronline.net/images/wsymbols01_png_64/wsymbol_0004_black_low_cloud.png"
             }
            ],
            "winddir16Point": "S",
            "winddirDegree": "181",
            "windspeedKmph": "6",
            "windspeedMiles": "4"
           },
           {
            "DewPointC": "21",
            "DewPointF": "70",
            "FeelsLikeC": "26",
            "FeelsLikeF": "79",
            "HeatIndexC": "26",
            "HeatIndexF": "79",
            "WindChillC": "24",
            "WindChillF": "75",
            "WindGustKmph": "6",
            "WindGustMiles": "4",
            "chanceoffog": "0",
            "chanceoffrost": "0",
            "chanceofhightemp": "13",
            "chanceofovercast": "41",
            "chanceofrain": "0",
            "chanceofremdry": "92",
            "chanceofsnow": "0",
            "chanceofsunshine": "80",
            "chanceofthunder": "0",
            "chanceofwindy": "0",
            "cloudcover": "10",
            "humidity": "84",
            "precipInches": "0.0",
            "precipMM": "0.0",
            "pressure": "1012",
            "pressureInches": "30",
            "tempC": "24",
            "tempF": "75",
            "time": "500",
            "uvIndex": "0",
            "visibility": "10",
            "visibilityMiles": "6",
            "weatherCode": "116",
            "weatherDesc": [
             {
              "value": "Partly cloudy"
             }
            ],
            "weatherIconUrl": [
             {
              "value": "http://cdn.worldweatheronline.net/images/wsymbols01_png_64/wsymbol_0004_black_low_cloud.png"
             }
            ],
            "winddir16Point": "SSW",
            "winddirDegree": "206",
            "windspeedKmph": "4",
            "windspeedMiles": "3"
           },
           {
            "DewPointC": "21",
            "DewPointF": "70",
            "FeelsLikeC": "26",
            "FeelsLikeF": "79",
            "HeatIndexC": "26",
            "HeatIndexF": "79",
            "WindChillC": "24",
            "WindChillF": "75",
            "WindGustKmph": "4",
            "WindGustMiles": "2",
            "chanceoffog": "0",
            "chanceoffrost": "0",
            "chanceofhightemp": "12",
            "chanceofovercast": "38",
            "chanceofrain": "0",
            "chanceofremdry": "89",
            "chanceofsnow": "0",
            "chanceofsunshine": "82",
            "chanceofthunder": "0",
            "chanceofwindy": "0",
            "cloudcover": "8",
            "humidity": "84",
            "precipInches": "0.0",
            "precipMM": "0.0",
            "pressure": "1012",
            "pressureInches": "30",
            "tempC": "24",
            "tempF": "75",
            "time": "600",
            "uvIndex": "0",
            "visibility": "10",
            "visibilityMiles": "6",
            "weatherCode": "116",
            "weatherDesc": [
             {
              "value": "Partly cloudy"
             }
            ],
            "weatherIconUrl": [
             {
              "value": "http://cdn.worldweatheronline.net/images/wsymbols01_png_64/wsymbol_0004_black_low_cloud.png"
             }
            ],
            "winddir16Point": "SW",
            "winddirDegree": "231",
            "windspeedKmph": "3",
            "windspeedMiles": "2"
           },
           {
            "DewPointC": "21",
            "DewPointF": "70",
            "FeelsLikeC": "26",
            "FeelsLikeF": "79",
            "HeatIndexC": "26",
            "HeatIndexF": "79",
            "WindChillC": "24",
            "WindChillF": "75",
            "WindGustKmph": "1",
            "WindGustMiles": "1",
            "chanceoffog": "0",
            "chanceoffrost": "0",
            "chanceofhightemp": "10",
            "chanceofovercast": "36",
            "chanceofrain": "0",
            "chanceofremdry": "87",
            "chanceofsnow": "0",
            "chanceofsunshine": "84",
            "chanceofthunder": "0",
            "chanceofwindy": "0",
            "cloudcover": "6",
            "humidity": "85",
            "precipInches": "0.0",
            "precipMM": "0.0",
            "pressure": "1013",
            "pressureInches": "30",
            "tempC": "24",
            "tempF": "75",
            "time": "700",
            "uvIndex": "0",
            "visibility": "10",
            "visibilityMiles": "6",
            "weatherCode": "116",
            "weatherDesc": [
             {
              "value": "Partly cloudy"
             }
            ],
            "weatherIconUrl": [
             {
              "value": "http://cdn.worldweatheronline.net/images/wsymbols01_png_64/wsymbol_0004_black_low_cloud.png"
             }
            ],
            "winddir16Point": "WSW",
            "winddirDegree": "255",
            "windspeedKmph": "1",
            "windspeedMiles": "0"
           },
           {
            "DewPointC": "21",
            "DewPointF": "69",
            "FeelsLikeC": "27",
            "FeelsLikeF": "81",
            "HeatIndexC": "27",
            "HeatIndexF": "81",
            "WindChillC": "25",
            "WindChillF": "77",
            "WindGustKmph": "5",
            "WindGustMiles": "3",
            "chanceoffog": "0",
            "chanceoffrost": "0",
            "chanceofhightemp": "22",
            "chanceofovercast": "38",
            "chanceofrain": "0",
            "chanceofremdry": "89",
            "chanceofsnow": "0",
            "chanceofsunshine": "84",
            "chanceofthunder": "0",
            "chanceofwindy": "0",
            "cloudcover": "11",
            "humidity": "76",
            "precipInches": "0.0",
            "precipMM": "0.0",
            "pressure": "1014",
            "pressureInches": "30",
            "tempC": "25",
            "tempF": "77",
            "time": "800",
            "uvIndex": "7",
            "visibility": "10",
            "visibilityMiles": "6",
            "weatherCode": "116",
            "weatherDesc": [
             {
              "value": "Partly cloudy"
             }
            ],
            "weatherIconUrl": [
             {
              "value": "http://cdn.worldweatheronline.net/images/wsymbols01_png_64/wsymbol_0002_sunny_intervals.png"
             }
            ],
            "winddir16Point": "S",
            "winddirDegree": "178",
            "windspeedKmph": "4",
            "windspeedMiles": "2"
           },
           {
            "DewPointC": "20",
            "DewPointF": "68",
            "FeelsLikeC": "28",
            "FeelsLikeF": "83",
            "HeatIndexC": "28",
            "HeatIndexF": "83",
            "WindChillC": "27",
            "WindChillF": "80",
            "WindGustKmph": "8",
            "WindGustMiles": "5",
            "chanceoffog": "0",
            "chanceoffrost": "0",
            "chanceofhightemp": "33",
            "chanceofovercast": "39",
            "chanceofrain": "0",
            "chanceofremdry": "91",
            "chanceofsnow": "0",
            "chanceofsunshine": "84",
            "chanceofthunder": "0",
            "chanceofwindy": "0",
            "cloudcover": "16",
            "humidity": "68",
            "precipInches": "0.0",
            "precipMM": "0.0",
            "pressure": "1014",
            "pressureInches": "30",
            "tempC": "27",
            "tempF": "80",
            "time": "900",
            "uvIndex": "7",
            "visibility": "10",
            "visibilityMiles": "6",
            "weatherCode": "116",
            "weatherDesc": [
             {
              "value": "Partly cloudy"
             }
            ],
            "weatherIconUrl": [
             {
              "value": "http://cdn.worldweatheronline.net/images/wsymbols01_png_64/wsymbol_0002_sunny_intervals.png"
             }
            ],
            "winddir16Point": "E",
            "winddirDegree": "100",
            "windspeedKmph": "7",
            "windspeedMiles": "4"
           },
           {
            "DewPointC": "19",
            "DewPointF": "67",
            "FeelsLikeC": "30",
            "FeelsLikeF": "85",
            "HeatIndexC": "30",
            "HeatIndexF": "85",
            "WindChillC": "28",
            "WindChillF": "82",
            "WindGustKmph": "12",
            "WindGustMiles": "7",
            "chanceoffog": "0",
            "chanceoffrost": "0",
            "chanceofhightemp": "45",
            "chanceofovercast": "41",
            "chanceofrain": "0",
            "chanceofremdry": "93",
            "chanceofsnow": "0",
            "chanceofsunshine": "84",
            "chanceofthunder": "0",
            "chanceofwindy": "0",
            "cloudcover": "21",
            "humidity": "59",
            "precipInches": "0.0",
            "precipMM": "0.0",
            "pressure": "1015",
            "pressureInches": "30",
            "tempC": "28",
            "tempF": "82",
            "time": "1000",
            "uvIndex": "7",
            "visibility": "10",
            "visibilityMiles": "6",
            "weatherCode": "116",
            "weatherDesc": [
             {
              "value": "Partly cloudy"
             }
            ],
            "weatherIconUrl": [
             {
              "value": "http://cdn.worldweatheronline.net/images/wsymbols01_png_64/wsymbol_0002_sunny_intervals.png"
             }
            ],
            "winddir16Point": "NNE",
            "winddirDegree": "22",
            "windspeedKmph": "10",
            "windspeedMiles": "6"
           },
           {
            "DewPointC": "19",
            "DewPointF": "66",
            "FeelsLikeC": "31",
            "FeelsLikeF": "87",
            "HeatIndexC": "31",
            "HeatIndexF": "87",
            "WindChillC": "29",
            "WindChillF": "84",
            "WindGustKmph": "16",
            "WindGustMiles": "10",
            "chanceoffog": "0",
            "chanceoffrost": "0",
            "chanceofhightemp": "47",
            "chanceofovercast": "39",
            "chanceofrain": "0",
            "chanceofremdry": "93",
            "chanceofsnow": "0",
            "chanceofsunshine": "82",
            "chanceofthunder": "0",
            "chanceofwindy": "0",
            "cloudcover": "30",
            "humidity": "55",
            "precipInches": "0.0",
            "precipMM": "0.0",
            "pressure": "1015",
            "pressureInches": "30",
            "tempC": "29",
            "tempF": "84",
            "time": "1100",
            "uvIndex": "7",
            "visibility": "10",
            "visibilityMiles": "6",
            "weatherCode": "116",
            "weatherDesc": [
             {
              "value": "Partly cloudy"
             }
            ],
            "weatherIconUrl": [
             {
              "value": "http://cdn.worldweatheronline.net/images/wsymbols01_png_64/wsymbol_0002_sunny_intervals.png"
             }
            ],
            "winddir16Point": "NNE",
            "winddirDegree": "23",
            "windspeedKmph": "14",
            "windspeedMiles": "9"
           },
           {
            "DewPointC": "19",
            "DewPointF": "66",
            "FeelsLikeC": "32",
            "FeelsLikeF": "89",
            "HeatIndexC": "32",
            "HeatIndexF": "89",
            "WindChillC": "30",
            "WindChillF": "86",
            "WindGustKmph": "20",
            "WindGustMiles": "13",
            "chanceoffog": "0",
            "chanceoffrost": "0",
            "chanceofhightemp": "48",
            "chanceofovercast": "38",
            "chanceofrain": "0",
            "chanceofremdry": "93",
            "chanceofsnow": "0",
            "chanceofsunshine": "80",
            "chanceofthunder": "0",
            "chanceofwindy": "0",
            "cloudcover": "39",
            "humidity": "52",
            "precipInches": "0.0",
            "precipMM": "0.0",
            "pressure": "1015",
            "pressureInches": "30",
            "tempC": "30",
            "tempF": "86",
            "time": "1200",
            "uvIndex": "7",
            "visibility": "10",
            "visibilityMiles": "6",
            "weatherCode": "116",
            "weatherDesc": [
             {
              "value": "Partly cloudy"
             }
            ],
            "weatherIconUrl": [
             {
              "value": "http://cdn.worldweatheronline.net/images/wsymbols01_png_64/wsymbol_0002_sunny_intervals.png"
             }
            ],
            "winddir16Point": "NNE",
            "winddirDegree": "23",
            "windspeedKmph": "17",
            "windspeedMiles": "11"
           },
           {
            "DewPointC": "19",
            "DewPointF": "65",
            "FeelsLikeC": "33",
            "FeelsLikeF": "91",
            "HeatIndexC": "33",
            "HeatIndexF": "91",
            "WindChillC": "31",
            "WindChillF": "88",
            "WindGustKmph": "24",
            "WindGustMiles": "15",
            "chanceoffog": "0",
            "chanceoffrost": "0",
            "chanceofhightemp": "50",
            "chanceofovercast": "36",
            "chanceofrain": "0",
            "chanceofremdry": "93",
            "chanceofsnow": "0",
            "chanceofsunshine": "78",
            "chanceofthunder": "0",
            "chanceofwindy": "0",
            "cloudcover": "48",
            "humidity": "48",
            "precipInches": "0.0",
            "precipMM": "0.0",
            "pressure": "1015",
            "pressureInches": "30",
            "tempC": "31",
            "tempF": "88",
            "time": "1300",
            "uvIndex": "8",
            "visibility": "10",
            "visibilityMiles": "6",
            "weatherCode": "116",
            "weatherDesc": [
             {
              "value": "Partly cloudy"
             }
            ],
            "weatherIconUrl": [
             {
              "value": "http://cdn.worldweatheronline.net/images/wsymbols01_png_64/wsymbol_0002_sunny_intervals.png"
             }
            ],
            "winddir16Point": "NNE",
            "winddirDegree": "23",
            "windspeedKmph": "21",
            "windspeedMiles": "13"
           },
           {
            "DewPointC": "19",
            "DewPointF": "65",
            "FeelsLikeC": "32",
            "FeelsLikeF": "90",
            "HeatIndexC": "32",
            "HeatIndexF": "90",
            "WindChillC": "31",
            "WindChillF": "87",
            "WindGustKmph": "25",
            "WindGustMiles": "16",
            "chanceoffog": "0",
            "chanceoffrost": "0",
            "chanceofhightemp": "50",
            "chanceofovercast": "51",
            "chanceofrain": "25",
            "chanceofremdry": "62",
            "chanceofsnow": "0",
            "chanceofsunshine": "52",
            "chanceofthunder": "0",
            "chanceofwindy": "0",
            "cloudcover": "50",
            "humidity": "49",
            "precipInches": "0.0",
            "precipMM": "0.1",
            "pressure": "1014",
            "pressureInches": "30",
            "tempC": "31",
            "tempF": "87",
            "time": "1400",
            "uvIndex": "7",
            "visibility": "10",
            "visibilityMiles": "6",
            "weatherCode": "353",
            "weatherDesc": [
             {
              "value": "Light rain shower"
             }
            ],
            "weatherIconUrl": [
             {
              "value": "http://cdn.worldweatheronline.net/images/wsymbols01_png_64/wsymbol_0009_light_rain_showers.png"
             }
            ],
            "winddir16Point": "NNE",
            "winddirDegree": "23",
            "windspeedKmph": "22",
            "windspeedMiles": "13"
           },
           {
            "DewPointC": "19",
            "DewPointF": "65",
            "FeelsLikeC": "32",
            "FeelsLikeF": "89",
            "HeatIndexC": "32",
            "HeatIndexF": "89",
            "WindChillC": "30",
            "WindChillF": "86",
            "WindGustKmph": "26",
            "WindGustMiles": "16",
            "chanceoffog": "0",
            "chanceoffrost": "0",
            "chanceofhightemp": "50",
            "chanceofovercast": "66",
            "chanceofrain": "50",
            "chanceofremdry": "31",
            "chanceofsnow": "0",
            "chanceofsunshine": "26",
            "chanceofthunder": "0",
            "chanceofwindy": "0",
            "cloudcover": "52",
            "humidity": "50",
            "precipInches": "0.0",
            "precipMM": "0.1",
            "pressure": "1014",
            "pressureInches": "30",
            "tempC": "30",
            "tempF": "86",
            "time": "1500",
            "uvIndex": "8",
            "visibility": "10",
            "visibilityMiles": "6",
            "weatherCode": "116",
            "weatherDesc": [
             {
              "value": "Partly cloudy"
             }
            ],
            "weatherIconUrl": [
             {
              "value": "http://cdn.worldweatheronline.net/images/wsymbols01_png_64/wsymbol_0002_sunny_intervals.png"
             }
            ],
            "winddir16Point": "NNE",
            "winddirDegree": "22",
            "windspeedKmph": "23",
            "windspeedMiles": "14"
           },
           {
            "DewPointC": "19",
            "DewPointF": "65",
            "FeelsLikeC": "31",
            "FeelsLikeF": "88",
            "HeatIndexC": "31",
            "HeatIndexF": "88",
            "WindChillC": "30",
            "WindChillF": "85",
            "WindGustKmph": "27",
            "WindGustMiles": "17",
            "chanceoffog": "0",
            "chanceoffrost": "0",
            "chanceofhightemp": "50",
            "chanceofovercast": "81",
            "chanceofrain": "75",
            "chanceofremdry": "0",
            "chanceofsnow": "0",
            "chanceofsunshine": "0",
            "chanceofthunder": "0",
            "chanceofwindy": "0",
            "cloudcover": "53",
            "humidity": "51",
            "precipInches": "0.0",
            "precipMM": "0.2",
            "pressure": "1013",
            "pressureInches": "30",
            "tempC": "30",
            "tempF": "85",
            "time": "1600",
            "uvIndex": "6",
            "visibility": "10",
            "visibilityMiles": "6",
            "weatherCode": "353",
            "weatherDesc": [
             {
              "value": "Light rain shower"
             }
            ],
            "weatherIconUrl": [
             {
              "value": "http://cdn.worldweatheronline.net/images/wsymbols01_png_64/wsymbol_0009_light_rain_showers.png"
             }
            ],
            "winddir16Point": "NNE",
            "winddirDegree": "21",
            "windspeedKmph": "23",
            "windspeedMiles": "15"
           },
           {
            "DewPointC": "18",
            "DewPointF": "65",
            "FeelsLikeC": "30",
            "FeelsLikeF": "87",
            "HeatIndexC": "30",
            "HeatIndexF": "87",
            "WindChillC": "29",
            "WindChillF": "84",
            "WindGustKmph": "27",
            "WindGustMiles": "17",
            "chanceoffog": "0",
            "chanceoffrost": "0",
            "chanceofhightemp": "48",
            "chanceofovercast": "81",
            "chanceofrain": "73",
            "chanceofremdry": "0",
            "chanceofsnow": "0",
            "chanceofsunshine": "0",
            "chanceofthunder": "0",
            "chanceofwindy": "0",
            "cloudcover": "62",
            "humidity": "52",
            "precipInches": "0.0",
            "precipMM": "0.2",
            "pressure": "1013",
            "pressureInches": "30",
            "tempC": "29",
            "tempF": "84",
            "time": "1700",
            "uvIndex": "6",
            "visibility": "10",
            "visibilityMiles": "6",
            "weatherCode": "176",
            "weatherDesc": [
             {
              "value": "Patchy rain possible"
             }
            ],
            "weatherIconUrl": [
             {
              "value": "http://cdn.worldweatheronline.net/images/wsymbols01_png_64/wsymbol_0009_light_rain_showers.png"
             }
            ],
            "winddir16Point": "NNE",
            "winddirDegree": "24",
            "windspeedKmph": "22",
            "windspeedMiles": "14"
           },
           {
            "DewPointC": "18",
            "DewPointF": "64",
            "FeelsLikeC": "30",
            "FeelsLikeF": "85",
            "HeatIndexC": "30",
            "HeatIndexF": "85",
            "WindChillC": "28",
            "WindChillF": "83",
            "WindGustKmph": "27",
            "WindGustMiles": "17",
            "chanceoffog": "0",
            "chanceoffrost": "0",
            "chanceofhightemp": "47",
            "chanceofovercast": "82",
            "chanceofrain": "72",
            "chanceofremdry": "0",
            "chanceofsnow": "0",
            "chanceofsunshine": "0",
            "chanceofthunder": "0",
            "chanceofwindy": "0",
            "cloudcover": "70",
            "humidity": "54",
            "precipInches": "0.0",
            "precipMM": "0.3",
            "pressure": "1014",
            "pressureInches": "30",
            "tempC": "28",
            "tempF": "83",
            "time": "1800",
            "uvIndex": "6",
            "visibility": "9",
            "visibilityMiles": "5",
            "weatherCode": "353",
            "weatherDesc": [
             {
              "value": "Light rain shower"
             }
            ],
            "weatherIconUrl": [
             {
              "value": "http://cdn.worldweatheronline.net/images/wsymbols01_png_64/wsymbol_0009_light_rain_showers.png"
             }
            ],
            "winddir16Point": "NNE",
            "winddirDegree": "26",
            "windspeedKmph": "22",
            "windspeedMiles": "13"
           },
           {
            "DewPointC": "18",
            "DewPointF": "64",
            "FeelsLikeC": "29",
            "FeelsLikeF": "83",
            "HeatIndexC": "29",
            "HeatIndexF": "83",
            "WindChillC": "28",
            "WindChillF": "82",
            "WindGustKmph": "26",
            "WindGustMiles": "16",
            "chanceoffog": "0",
            "chanceoffrost": "0",
            "chanceofhightemp": "45",
            "chanceofovercast": "82",
            "chanceofrain": "70",
            "chanceofremdry": "0",
            "chanceofsnow": "0",
            "chanceofsunshine": "0",
            "chanceofthunder": "0",
            "chanceofwindy": "0",
            "cloudcover": "79",
            "humidity": "55",
            "precipInches": "0.0",
            "precipMM": "0.3",
            "pressure": "1014",
            "pressureInches": "30",
            "tempC": "28",
            "tempF": "82",
            "time": "1900",
            "uvIndex": "6",
            "visibility": "9",
            "visibilityMiles": "5",
            "weatherCode": "176",
            "weatherDesc": [
             {
              "value": "Patchy rain possible"
             }
            ],
            "weatherIconUrl": [
             {
              "value": "http://cdn.worldweatheronline.net/images/wsymbols01_png_64/wsymbol_0009_light_rain_showers.png"
             }
            ],
            "winddir16Point": "NNE",
            "winddirDegree": "28",
            "windspeedKmph": "21",
            "windspeedMiles": "13"
           },
           {
            "DewPointC": "17",
            "DewPointF": "62",
            "FeelsLikeC": "28",
            "FeelsLikeF": "82",
            "HeatIndexC": "28",
            "HeatIndexF": "82",
            "WindChillC": "27",
            "WindChillF": "80",
            "WindGustKmph": "27",
            "WindGustMiles": "17",
            "chanceoffog": "0",
            "chanceoffrost": "0",
            "chanceofhightemp": "35",
            "chanceofovercast": "69",
            "chanceofrain": "47",
            "chanceofremdry": "28",
            "chanceofsnow": "0",
            "chanceofsunshine": "26",
            "chanceofthunder": "0",
            "chanceofwindy": "0",
            "cloudcover": "59",
            "humidity": "55",
            "precipInches": "0.0",
            "precipMM": "0.2",
            "pressure": "1015",
            "pressureInches": "30",
            "tempC": "27",
            "tempF": "80",
            "time": "2000",
            "uvIndex": "0",
            "visibility": "9",
            "visibilityMiles": "5",
            "weatherCode": "116",
            "weatherDesc": [
             {
              "value": "Partly cloudy"
             }
            ],
            "weatherIconUrl": [
             {
              "value": "http://cdn.worldweatheronline.net/images/wsymbols01_png_64/wsymbol_0004_black_low_cloud.png"
             }
            ],
            "winddir16Point": "NNE",
            "winddirDegree": "27",
            "windspeedKmph": "21",
            "windspeedMiles": "13"
           },
           {
            "DewPointC": "16",
            "DewPointF": "60",
            "FeelsLikeC": "27",
            "FeelsLikeF": "80",
            "HeatIndexC": "27",
            "HeatIndexF": "80",
            "WindChillC": "25",
            "WindChillF": "78",
            "WindGustKmph": "28",
            "WindGustMiles": "17",
            "chanceoffog": "0",
            "chanceoffrost": "0",
            "chanceofhightemp": "25",
            "chanceofovercast": "57",
            "chanceofrain": "23",
            "chanceofremdry": "56",
            "chanceofsnow": "0",
            "chanceofsunshine": "51",
            "chanceofthunder": "0",
            "chanceofwindy": "0",
            "cloudcover": "39",
            "humidity": "54",
            "precipInches": "0.0",
            "precipMM": "0.1",
            "pressure": "1016",
            "pressureInches": "30",
            "tempC": "25",
            "tempF": "78",
            "time": "2100",
            "uvIndex": "0",
            "visibility": "10",
            "visibilityMiles": "6",
            "weatherCode": "176",
            "weatherDesc": [
             {
              "value": "Patchy rain possible"
             }
            ],
            "weatherIconUrl": [
             {
              "value": "http://cdn.worldweatheronline.net/images/wsymbols01_png_64/wsymbol_0025_light_rain_showers_night.png"
             }
            ],
            "winddir16Point": "NNE",
            "winddirDegree": "25",
            "windspeedKmph": "22",
            "windspeedMiles": "13"
           },
           {
            "DewPointC": "15",
            "DewPointF": "58",
            "FeelsLikeC": "26",
            "FeelsLikeF": "78",
            "HeatIndexC": "26",
            "HeatIndexF": "78",
            "WindChillC": "24",
            "WindChillF": "76",
            "WindGustKmph": "28",
            "WindGustMiles": "18",
            "chanceoffog": "0",
            "chanceoffrost": "0",
            "chanceofhightemp": "15",
            "chanceofovercast": "44",
            "chanceofrain": "0",
            "chanceofremdry": "84",
            "chanceofsnow": "0",
            "chanceofsunshine": "77",
            "chanceofthunder": "0",
            "chanceofwindy": "0",
            "cloudcover": "19",
            "humidity": "54",
            "precipInches": "0.0",
            "precipMM": "0.0",
            "pressure": "1017",
            "pressureInches": "31",
            "tempC": "24",
            "tempF": "76",
            "time": "2200",
            "uvIndex": "0",
            "visibility": "10",
            "visibilityMiles": "6",
            "weatherCode": "116",
            "weatherDesc": [
             {
              "value": "Partly cloudy"
             }
            ],
            "weatherIconUrl": [
             {
              "value": "http://cdn.worldweatheronline.net/images/wsymbols01_png_64/wsymbol_0004_black_low_cloud.png"
             }
            ],
            "winddir16Point": "NNE",
            "winddirDegree": "24",
            "windspeedKmph": "22",
            "windspeedMiles": "14"
           },
           {
            "DewPointC": "14",
            "DewPointF": "58",
            "FeelsLikeC": "25",
            "FeelsLikeF": "78",
            "HeatIndexC": "25",
            "HeatIndexF": "78",
            "WindChillC": "24",
            "WindChillF": "74",
            "WindGustKmph": "27",
            "WindGustMiles": "17",
            "chanceoffog": "0",
            "chanceoffrost": "0",
            "chanceofhightemp": "10",
            "chanceofovercast": "44",
            "chanceofrain": "0",
            "chanceofremdry": "87",
            "chanceofsnow": "0",
            "chanceofsunshine": "76",
            "chanceofthunder": "0",
            "chanceofwindy": "0",
            "cloudcover": "22",
            "humidity": "56",
            "precipInches": "0.0",
            "precipMM": "0.0",
            "pressure": "1017",
            "pressureInches": "31",
            "tempC": "24",
            "tempF": "74",
            "time": "2300",
            "uvIndex": "0",
            "visibility": "10",
            "visibilityMiles": "6",
            "weatherCode": "116",
            "weatherDesc": [
             {
              "value": "Partly cloudy"
             }
            ],
            "weatherIconUrl": [
             {
              "value": "http://cdn.worldweatheronline.net/images/wsymbols01_png_64/wsymbol_0004_black_low_cloud.png"
             }
            ],
            "winddir16Point": "NNE",
            "winddirDegree": "24",
            "windspeedKmph": "21",
            "windspeedMiles": "13"
           }
          ],
          "maxtempC": "31",
          "maxtempF": "88",
          "mintempC": "24",
          "mintempF": "75",
          "sunHour": "0.0",
          "totalSnow_cm": "0.0",
          "uvIndex": "7"
         },
         {
          "astronomy": [
           {
            "moon_illumination": "63",
            "moon_phase": "First Quarter",
            "moonrise": "04:42 PM",
            "moonset": "02:46 AM",
            "sunrise": "07:29 AM",
            "sunset": "07:08 PM"
           }
          ],
          "avgtempC": "21",
          "avgtempF": "69",
          "date": "2019-10-08",
          "hourly": [
           {
            "DewPointC": "14",
            "DewPointF": "58",
            "FeelsLikeC": "25",
            "FeelsLikeF": "77",
            "HeatIndexC": "25",
            "HeatIndexF": "77",
            "WindChillC": "23",
            "WindChillF": "73",
            "WindGustKmph": "26",
            "WindGustMiles": "16",
            "chanceoffog": "0",
            "chanceoffrost": "0",
            "chanceofhightemp": "5",
            "chanceofovercast": "43",
            "chanceofrain": "0",
            "chanceofremdry": "90",
            "chanceofsnow": "0",
            "chanceofsunshine": "74",
            "chanceofthunder": "0",
            "chanceofwindy": "0",
            "cloudcover": "25",
            "humidity": "58",
            "precipInches": "0.0",
            "precipMM": "0.0",
            "pressure": "1017",
            "pressureInches": "31",
            "tempC": "23",
            "tempF": "73",
            "time": "0",
            "uvIndex": "0",
            "visibility": "10",
            "visibilityMiles": "6",
            "weatherCode": "116",
            "weatherDesc": [
             {
              "value": "Partly cloudy"
             }
            ],
            "weatherIconUrl": [
             {
              "value": "http://cdn.worldweatheronline.net/images/wsymbols01_png_64/wsymbol_0004_black_low_cloud.png"
             }
            ],
            "winddir16Point": "NNE",
            "winddirDegree": "25",
            "windspeedKmph": "20",
            "windspeedMiles": "13"
           },
           {
            "DewPointC": "14",
            "DewPointF": "57",
            "FeelsLikeC": "25",
            "FeelsLikeF": "76",
            "HeatIndexC": "25",
            "HeatIndexF": "76",
            "WindChillC": "22",
            "WindChillF": "72",
            "WindGustKmph": "24",
            "WindGustMiles": "15",
            "chanceoffog": "0",
            "chanceoffrost": "0",
            "chanceofhightemp": "0",
            "chanceofovercast": "43",
            "chanceofrain": "0",
            "chanceofremdry": "93",
            "chanceofsnow": "0",
            "chanceofsunshine": "73",
            "chanceofthunder": "0",
            "chanceofwindy": "0",
            "cloudcover": "28",
            "humidity": "60",
            "precipInches": "0.0",
            "precipMM": "0.0",
            "pressure": "1017",
            "pressureInches": "31",
            "tempC": "22",
            "tempF": "72",
            "time": "100",
            "uvIndex": "0",
            "visibility": "10",
            "visibilityMiles": "6",
            "weatherCode": "116",
            "weatherDesc": [
             {
              "value": "Partly cloudy"
             }
            ],
            "weatherIconUrl": [
             {
              "value": "http://cdn.worldweatheronline.net/images/wsymbols01_png_64/wsymbol_0004_black_low_cloud.png"
             }
            ],
            "winddir16Point": "NNE",
            "winddirDegree": "25",
            "windspeedKmph": "19",
            "windspeedMiles": "12"
           },
           {
            "DewPointC": "15",
            "DewPointF": "58",
            "FeelsLikeC": "22",
            "FeelsLikeF": "71",
            "HeatIndexC": "25",
            "HeatIndexF": "76",
            "WindChillC": "22",
            "WindChillF": "71",
            "WindGustKmph": "24",
            "WindGustMiles": "15",
            "chanceoffog": "0",
            "chanceoffrost": "0",
            "chanceofhightemp": "0",
            "chanceofovercast": "39",
            "chanceofrain": "0",
            "chanceofremdry": "89",
            "chanceofsnow": "0",
            "chanceofsunshine": "75",
            "chanceofthunder": "0",
            "chanceofwindy": "0",
            "cloudcover": "33",
            "humidity": "64",
            "precipInches": "0.0",
            "precipMM": "0.0",
            "pressure": "1017",
            "pressureInches": "31",
            "tempC": "22",
            "tempF": "71",
            "time": "200",
            "uvIndex": "0",
            "visibility": "10",
            "visibilityMiles": "6",
            "weatherCode": "116",
            "weatherDesc": [
             {
              "value": "Partly cloudy"
             }
            ],
            "weatherIconUrl": [
             {
              "value": "http://cdn.worldweatheronline.net/images/wsymbols01_png_64/wsymbol_0004_black_low_cloud.png"
             }
            ],
            "winddir16Point": "NNE",
            "winddirDegree": "32",
            "windspeedKmph": "19",
            "windspeedMiles": "12"
           },
           {
            "DewPointC": "15",
            "DewPointF": "60",
            "FeelsLikeC": "22",
            "FeelsLikeF": "71",
            "HeatIndexC": "25",
            "HeatIndexF": "76",
            "WindChillC": "22",
            "WindChillF": "71",
            "WindGustKmph": "23",
            "WindGustMiles": "14",
            "chanceoffog": "0",
            "chanceoffrost": "0",
            "chanceofhightemp": "0",
            "chanceofovercast": "36",
            "chanceofrain": "0",
            "chanceofremdry": "85",
            "chanceofsnow": "0",
            "chanceofsunshine": "76",
            "chanceofthunder": "0",
            "chanceofwindy": "0",
            "cloudcover": "39",
            "humidity": "67",
            "precipInches": "0.0",
            "precipMM": "0.0",
            "pressure": "1017",
            "pressureInches": "30",
            "tempC": "22",
            "tempF": "71",
            "time": "300",
            "uvIndex": "0",
            "visibility": "10",
            "visibilityMiles": "6",
            "weatherCode": "116",
            "weatherDesc": [
             {
              "value": "Partly cloudy"
             }
            ],
            "weatherIconUrl": [
             {
              "value": "http://cdn.worldweatheronline.net/images/wsymbols01_png_64/wsymbol_0004_black_low_cloud.png"
             }
            ],
            "winddir16Point": "NE",
            "winddirDegree": "39",
            "windspeedKmph": "18",
            "windspeedMiles": "11"
           },
           {
            "DewPointC": "16",
            "DewPointF": "61",
            "FeelsLikeC": "21",
            "FeelsLikeF": "71",
            "HeatIndexC": "24",
            "HeatIndexF": "76",
            "WindChillC": "21",
            "WindChillF": "71",
            "WindGustKmph": "22",
            "WindGustMiles": "14",
            "chanceoffog": "0",
            "chanceoffrost": "0",
            "chanceofhightemp": "0",
            "chanceofovercast": "32",
            "chanceofrain": "0",
            "chanceofremdry": "81",
            "chanceofsnow": "0",
            "chanceofsunshine": "78",
            "chanceofthunder": "0",
            "chanceofwindy": "0",
            "cloudcover": "44",
            "humidity": "71",
            "precipInches": "0.0",
            "precipMM": "0.0",
            "pressure": "1016",
            "pressureInches": "30",
            "tempC": "21",
            "tempF": "71",
            "time": "400",
            "uvIndex": "0",
            "visibility": "10",
            "visibilityMiles": "6",
            "weatherCode": "116",
            "weatherDesc": [
             {
              "value": "Partly cloudy"
             }
            ],
            "weatherIconUrl": [
             {
              "value": "http://cdn.worldweatheronline.net/images/wsymbols01_png_64/wsymbol_0004_black_low_cloud.png"
             }
            ],
            "winddir16Point": "NE",
            "winddirDegree": "45",
            "windspeedKmph": "18",
            "windspeedMiles": "11"
           },
           {
            "DewPointC": "16",
            "DewPointF": "60",
            "FeelsLikeC": "21",
            "FeelsLikeF": "70",
            "HeatIndexC": "23",
            "HeatIndexF": "74",
            "WindChillC": "21",
            "WindChillF": "70",
            "WindGustKmph": "22",
            "WindGustMiles": "14",
            "chanceoffog": "0",
            "chanceoffrost": "0",
            "chanceofhightemp": "0",
            "chanceofovercast": "49",
            "chanceofrain": "0",
            "chanceofremdry": "81",
            "chanceofsnow": "0",
            "chanceofsunshine": "54",
            "chanceofthunder": "0",
            "chanceofwindy": "0",
            "cloudcover": "58",
            "humidity": "70",
            "precipInches": "0.0",
            "precipMM": "0.0",
            "pressure": "1016",
            "pressureInches": "30",
            "tempC": "21",
            "tempF": "70",
            "time": "500",
            "uvIndex": "0",
            "visibility": "10",
            "visibilityMiles": "6",
            "weatherCode": "119",
            "weatherDesc": [
             {
              "value": "Cloudy"
             }
            ],
            "weatherIconUrl": [
             {
              "value": "http://cdn.worldweatheronline.net/images/wsymbols01_png_64/wsymbol_0004_black_low_cloud.png"
             }
            ],
            "winddir16Point": "NE",
            "winddirDegree": "45",
            "windspeedKmph": "18",
            "windspeedMiles": "11"
           },
           {
            "DewPointC": "15",
            "DewPointF": "59",
            "FeelsLikeC": "21",
            "FeelsLikeF": "69",
            "HeatIndexC": "22",
            "HeatIndexF": "71",
            "WindChillC": "21",
            "WindChillF": "69",
            "WindGustKmph": "22",
            "WindGustMiles": "13",
            "chanceoffog": "0",
            "chanceoffrost": "0",
            "chanceofhightemp": "0",
            "chanceofovercast": "66",
            "chanceofrain": "0",
            "chanceofremdry": "82",
            "chanceofsnow": "0",
            "chanceofsunshine": "29",
            "chanceofthunder": "0",
            "chanceofwindy": "0",
            "cloudcover": "72",
            "humidity": "70",
            "precipInches": "0.0",
            "precipMM": "0.0",
            "pressure": "1017",
            "pressureInches": "31",
            "tempC": "21",
            "tempF": "69",
            "time": "600",
            "uvIndex": "0",
            "visibility": "10",
            "visibilityMiles": "6",
            "weatherCode": "116",
            "weatherDesc": [
             {
              "value": "Partly cloudy"
             }
            ],
            "weatherIconUrl": [
             {
              "value": "http://cdn.worldweatheronline.net/images/wsymbols01_png_64/wsymbol_0004_black_low_cloud.png"
             }
            ],
            "winddir16Point": "NE",
            "winddirDegree": "45",
            "windspeedKmph": "18",
            "windspeedMiles": "11"
           },
           {
            "DewPointC": "15",
            "DewPointF": "58",
            "FeelsLikeC": "21",
            "FeelsLikeF": "69",
            "HeatIndexC": "21",
            "HeatIndexF": "69",
            "WindChillC": "21",
            "WindChillF": "69",
            "WindGustKmph": "22",
            "WindGustMiles": "13",
            "chanceoffog": "0",
            "chanceoffrost": "0",
            "chanceofhightemp": "0",
            "chanceofovercast": "83",
            "chanceofrain": "0",
            "chanceofremdry": "82",
            "chanceofsnow": "0",
            "chanceofsunshine": "5",
            "chanceofthunder": "0",
            "chanceofwindy": "0",
            "cloudcover": "87",
            "humidity": "69",
            "precipInches": "0.0",
            "precipMM": "0.0",
            "pressure": "1017",
            "pressureInches": "31",
            "tempC": "21",
            "tempF": "69",
            "time": "700",
            "uvIndex": "0",
            "visibility": "10",
            "visibilityMiles": "6",
            "weatherCode": "119",
            "weatherDesc": [
             {
              "value": "Cloudy"
             }
            ],
            "weatherIconUrl": [
             {
              "value": "http://cdn.worldweatheronline.net/images/wsymbols01_png_64/wsymbol_0004_black_low_cloud.png"
             }
            ],
            "winddir16Point": "NE",
            "winddirDegree": "45",
            "windspeedKmph": "18",
            "windspeedMiles": "11"
           },
           {
            "DewPointC": "15",
            "DewPointF": "58",
            "FeelsLikeC": "21",
            "FeelsLikeF": "69",
            "HeatIndexC": "21",
            "HeatIndexF": "69",
            "WindChillC": "21",
            "WindChillF": "69",
            "WindGustKmph": "22",
            "WindGustMiles": "13",
            "chanceoffog": "0",
            "chanceoffrost": "0",
            "chanceofhightemp": "0",
            "chanceofovercast": "84",
            "chanceofrain": "25",
            "chanceofremdry": "55",
            "chanceofsnow": "0",
            "chanceofsunshine": "3",
            "chanceofthunder": "0",
            "chanceofwindy": "0",
            "cloudcover": "88",
            "humidity": "69",
            "precipInches": "0.0",
            "precipMM": "0.1",
            "pressure": "1017",
            "pressureInches": "31",
            "tempC": "21",
            "tempF": "69",
            "time": "800",
            "uvIndex": "5",
            "visibility": "10",
            "visibilityMiles": "6",
            "weatherCode": "353",
            "weatherDesc": [
             {
              "value": "Light rain shower"
             }
            ],
            "weatherIconUrl": [
             {
              "value": "http://cdn.worldweatheronline.net/images/wsymbols01_png_64/wsymbol_0009_light_rain_showers.png"
             }
            ],
            "winddir16Point": "NE",
            "winddirDegree": "47",
            "windspeedKmph": "18",
            "windspeedMiles": "11"
           },
           {
            "DewPointC": "15",
            "DewPointF": "59",
            "FeelsLikeC": "21",
            "FeelsLikeF": "69",
            "HeatIndexC": "21",
            "HeatIndexF": "69",
            "WindChillC": "21",
            "WindChillF": "69",
            "WindGustKmph": "22",
            "WindGustMiles": "13",
            "chanceoffog": "0",
            "chanceoffrost": "0",
            "chanceofhightemp": "0",
            "chanceofovercast": "85",
            "chanceofrain": "50",
            "chanceofremdry": "27",
            "chanceofsnow": "0",
            "chanceofsunshine": "2",
            "chanceofthunder": "0",
            "chanceofwindy": "0",
            "cloudcover": "90",
            "humidity": "68",
            "precipInches": "0.0",
            "precipMM": "0.3",
            "pressure": "1018",
            "pressureInches": "31",
            "tempC": "21",
            "tempF": "69",
            "time": "900",
            "uvIndex": "5",
            "visibility": "10",
            "visibilityMiles": "6",
            "weatherCode": "119",
            "weatherDesc": [
             {
              "value": "Cloudy"
             }
            ],
            "weatherIconUrl": [
             {
              "value": "http://cdn.worldweatheronline.net/images/wsymbols01_png_64/wsymbol_0003_white_cloud.png"
             }
            ],
            "winddir16Point": "NE",
            "winddirDegree": "49",
            "windspeedKmph": "18",
            "windspeedMiles": "11"
           },
           {
            "DewPointC": "15",
            "DewPointF": "59",
            "FeelsLikeC": "21",
            "FeelsLikeF": "70",
            "HeatIndexC": "21",
            "HeatIndexF": "70",
            "WindChillC": "21",
            "WindChillF": "70",
            "WindGustKmph": "22",
            "WindGustMiles": "13",
            "chanceoffog": "0",
            "chanceoffrost": "0",
            "chanceofhightemp": "0",
            "chanceofovercast": "86",
            "chanceofrain": "75",
            "chanceofremdry": "0",
            "chanceofsnow": "0",
            "chanceofsunshine": "0",
            "chanceofthunder": "0",
            "chanceofwindy": "0",
            "cloudcover": "92",
            "humidity": "68",
            "precipInches": "0.0",
            "precipMM": "0.4",
            "pressure": "1018",
            "pressureInches": "31",
            "tempC": "21",
            "tempF": "70",
            "time": "1000",
            "uvIndex": "5",
            "visibility": "10",
            "visibilityMiles": "6",
            "weatherCode": "353",
            "weatherDesc": [
             {
              "value": "Light rain shower"
             }
            ],
            "weatherIconUrl": [
             {
              "value": "http://cdn.worldweatheronline.net/images/wsymbols01_png_64/wsymbol_0009_light_rain_showers.png"
             }
            ],
            "winddir16Point": "NE",
            "winddirDegree": "52",
            "windspeedKmph": "18",
            "windspeedMiles": "11"
           },
           {
            "DewPointC": "15",
            "DewPointF": "59",
            "FeelsLikeC": "22",
            "FeelsLikeF": "71",
            "HeatIndexC": "22",
            "HeatIndexF": "72",
            "WindChillC": "22",
            "WindChillF": "71",
            "WindGustKmph": "23",
            "WindGustMiles": "15",
            "chanceoffog": "0",
            "chanceoffrost": "0",
            "chanceofhightemp": "0",
            "chanceofovercast": "85",
            "chanceofrain": "79",
            "chanceofremdry": "0",
            "chanceofsnow": "0",
            "chanceofsunshine": "0",
            "chanceofthunder": "0",
            "chanceofwindy": "0",
            "cloudcover": "95",
            "humidity": "66",
            "precipInches": "0.0",
            "precipMM": "1.0",
            "pressure": "1018",
            "pressureInches": "31",
            "tempC": "22",
            "tempF": "71",
            "time": "1100",
            "uvIndex": "5",
            "visibility": "10",
            "visibilityMiles": "6",
            "weatherCode": "353",
            "weatherDesc": [
             {
              "value": "Light rain shower"
             }
            ],
            "weatherIconUrl": [
             {
              "value": "http://cdn.worldweatheronline.net/images/wsymbols01_png_64/wsymbol_0009_light_rain_showers.png"
             }
            ],
            "winddir16Point": "NE",
            "winddirDegree": "51",
            "windspeedKmph": "18",
            "windspeedMiles": "11"
           },
           {
            "DewPointC": "15",
            "DewPointF": "59",
            "FeelsLikeC": "24",
            "FeelsLikeF": "74",
            "HeatIndexC": "24",
            "HeatIndexF": "74",
            "WindChillC": "22",
            "WindChillF": "72",
            "WindGustKmph": "25",
            "WindGustMiles": "16",
            "chanceoffog": "0",
            "chanceoffrost": "0",
            "chanceofhightemp": "0",
            "chanceofovercast": "83",
            "chanceofrain": "82",
            "chanceofremdry": "0",
            "chanceofsnow": "0",
            "chanceofsunshine": "0",
            "chanceofthunder": "0",
            "chanceofwindy": "0",
            "cloudcover": "97",
            "humidity": "63",
            "precipInches": "0.1",
            "precipMM": "1.7",
            "pressure": "1018",
            "pressureInches": "31",
            "tempC": "22",
            "tempF": "72",
            "time": "1200",
            "uvIndex": "5",
            "visibility": "10",
            "visibilityMiles": "6",
            "weatherCode": "353",
            "weatherDesc": [
             {
              "value": "Light rain shower"
             }
            ],
            "weatherIconUrl": [
             {
              "value": "http://cdn.worldweatheronline.net/images/wsymbols01_png_64/wsymbol_0009_light_rain_showers.png"
             }
            ],
            "winddir16Point": "NE",
            "winddirDegree": "50",
            "windspeedKmph": "18",
            "windspeedMiles": "11"
           },
           {
            "DewPointC": "15",
            "DewPointF": "59",
            "FeelsLikeC": "25",
            "FeelsLikeF": "77",
            "HeatIndexC": "25",
            "HeatIndexF": "77",
            "WindChillC": "23",
            "WindChillF": "73",
            "WindGustKmph": "27",
            "WindGustMiles": "17",
            "chanceoffog": "0",
            "chanceoffrost": "0",
            "chanceofhightemp": "0",
            "chanceofovercast": "82",
            "chanceofrain": "86",
            "chanceofremdry": "0",
            "chanceofsnow": "0",
            "chanceofsunshine": "0",
            "chanceofthunder": "0",
            "chanceofwindy": "0",
            "cloudcover": "100",
            "humidity": "61",
            "precipInches": "0.1",
            "precipMM": "2.3",
            "pressure": "1018",
            "pressureInches": "31",
            "tempC": "23",
            "tempF": "73",
            "time": "1300",
            "uvIndex": "5",
            "visibility": "10",
            "visibilityMiles": "6",
            "weatherCode": "353",
            "weatherDesc": [
             {
              "value": "Light rain shower"
             }
            ],
            "weatherIconUrl": [
             {
              "value": "http://cdn.worldweatheronline.net/images/wsymbols01_png_64/wsymbol_0009_light_rain_showers.png"
             }
            ],
            "winddir16Point": "NE",
            "winddirDegree": "49",
            "windspeedKmph": "18",
            "windspeedMiles": "11"
           },
           {
            "DewPointC": "15",
            "DewPointF": "58",
            "FeelsLikeC": "24",
            "FeelsLikeF": "74",
            "HeatIndexC": "24",
            "HeatIndexF": "74",
            "WindChillC": "22",
            "WindChillF": "72",
            "WindGustKmph": "28",
            "WindGustMiles": "17",
            "chanceoffog": "0",
            "chanceoffrost": "0",
            "chanceofhightemp": "0",
            "chanceofovercast": "81",
            "chanceofrain": "86",
            "chanceofremdry": "0",
            "chanceofsnow": "0",
            "chanceofsunshine": "0",
            "chanceofthunder": "0",
            "chanceofwindy": "0",
            "cloudcover": "99",
            "humidity": "62",
            "precipInches": "0.1",
            "precipMM": "1.9",
            "pressure": "1017",
            "pressureInches": "31",
            "tempC": "22",
            "tempF": "72",
            "time": "1400",
            "uvIndex": "5",
            "visibility": "10",
            "visibilityMiles": "6",
            "weatherCode": "353",
            "weatherDesc": [
             {
              "value": "Light rain shower"
             }
            ],
            "weatherIconUrl": [
             {
              "value": "http://cdn.worldweatheronline.net/images/wsymbols01_png_64/wsymbol_0009_light_rain_showers.png"
             }
            ],
            "winddir16Point": "NE",
            "winddirDegree": "42",
            "windspeedKmph": "19",
            "windspeedMiles": "12"
           },
           {
            "DewPointC": "14",
            "DewPointF": "58",
            "FeelsLikeC": "22",
            "FeelsLikeF": "71",
            "HeatIndexC": "22",
            "HeatIndexF": "72",
            "WindChillC": "22",
            "WindChillF": "71",
            "WindGustKmph": "29",
            "WindGustMiles": "18",
            "chanceoffog": "0",
            "chanceoffrost": "0",
            "chanceofhightemp": "0",
            "chanceofovercast": "81",
            "chanceofrain": "85",
            "chanceofremdry": "0",
            "chanceofsnow": "0",
            "chanceofsunshine": "0",
            "chanceofthunder": "0",
            "chanceofwindy": "0",
            "cloudcover": "98",
            "humidity": "63",
            "precipInches": "0.1",
            "precipMM": "1.6",
            "pressure": "1017",
            "pressureInches": "31",
            "tempC": "22",
            "tempF": "71",
            "time": "1500",
            "uvIndex": "5",
            "visibility": "10",
            "visibilityMiles": "6",
            "weatherCode": "353",
            "weatherDesc": [
             {
              "value": "Light rain shower"
             }
            ],
            "weatherIconUrl": [
             {
              "value": "http://cdn.worldweatheronline.net/images/wsymbols01_png_64/wsymbol_0009_light_rain_showers.png"
             }
            ],
            "winddir16Point": "NE",
            "winddirDegree": "35",
            "windspeedKmph": "21",
            "windspeedMiles": "13"
           },
           {
            "DewPointC": "14",
            "DewPointF": "57",
            "FeelsLikeC": "21",
            "FeelsLikeF": "70",
            "HeatIndexC": "21",
            "HeatIndexF": "70",
            "WindChillC": "21",
            "WindChillF": "70",
            "WindGustKmph": "30",
            "WindGustMiles": "19",
            "chanceoffog": "0",
            "chanceoffrost": "0",
            "chanceofhightemp": "0",
            "chanceofovercast": "80",
            "chanceofrain": "85",
            "chanceofremdry": "0",
            "chanceofsnow": "0",
            "chanceofsunshine": "0",
            "chanceofthunder": "0",
            "chanceofwindy": "0",
            "cloudcover": "97",
            "humidity": "64",
            "precipInches": "0.0",
            "precipMM": "1.2",
            "pressure": "1017",
            "pressureInches": "30",
            "tempC": "21",
            "tempF": "70",
            "time": "1600",
            "uvIndex": "5",
            "visibility": "10",
            "visibilityMiles": "6",
            "weatherCode": "353",
            "weatherDesc": [
             {
              "value": "Light rain shower"
             }
            ],
            "weatherIconUrl": [
             {
              "value": "http://cdn.worldweatheronline.net/images/wsymbols01_png_64/wsymbol_0009_light_rain_showers.png"
             }
            ],
            "winddir16Point": "NNE",
            "winddirDegree": "28",
            "windspeedKmph": "22",
            "windspeedMiles": "14"
           },
           {
            "DewPointC": "14",
            "DewPointF": "57",
            "FeelsLikeC": "20",
            "FeelsLikeF": "68",
            "HeatIndexC": "20",
            "HeatIndexF": "68",
            "WindChillC": "20",
            "WindChillF": "68",
            "WindGustKmph": "31",
            "WindGustMiles": "19",
            "chanceoffog": "0",
            "chanceoffrost": "0",
            "chanceofhightemp": "0",
            "chanceofovercast": "82",
            "chanceofrain": "83",
            "chanceofremdry": "0",
            "chanceofsnow": "0",
            "chanceofsunshine": "0",
            "chanceofthunder": "0",
            "chanceofwindy": "0",
            "cloudcover": "90",
            "humidity": "68",
            "precipInches": "0.0",
            "precipMM": "1.1",
            "pressure": "1017",
            "pressureInches": "30",
            "tempC": "20",
            "tempF": "68",
            "time": "1700",
            "uvIndex": "5",
            "visibility": "10",
            "visibilityMiles": "6",
            "weatherCode": "353",
            "weatherDesc": [
             {
              "value": "Light rain shower"
             }
            ],
            "weatherIconUrl": [
             {
              "value": "http://cdn.worldweatheronline.net/images/wsymbols01_png_64/wsymbol_0009_light_rain_showers.png"
             }
            ],
            "winddir16Point": "NNE",
            "winddirDegree": "30",
            "windspeedKmph": "23",
            "windspeedMiles": "14"
           },
           {
            "DewPointC": "14",
            "DewPointF": "58",
            "FeelsLikeC": "20",
            "FeelsLikeF": "67",
            "HeatIndexC": "20",
            "HeatIndexF": "67",
            "WindChillC": "20",
            "WindChillF": "67",
            "WindGustKmph": "32",
            "WindGustMiles": "20",
            "chanceoffog": "0",
            "chanceoffrost": "0",
            "chanceofhightemp": "0",
            "chanceofovercast": "84",
            "chanceofrain": "81",
            "chanceofremdry": "0",
            "chanceofsnow": "0",
            "chanceofsunshine": "0",
            "chanceofthunder": "0",
            "chanceofwindy": "0",
            "cloudcover": "83",
            "humidity": "72",
            "precipInches": "0.0",
            "precipMM": "1.1",
            "pressure": "1017",
            "pressureInches": "30",
            "tempC": "20",
            "tempF": "67",
            "time": "1800",
            "uvIndex": "4",
            "visibility": "10",
            "visibilityMiles": "6",
            "weatherCode": "353",
            "weatherDesc": [
             {
              "value": "Light rain shower"
             }
            ],
            "weatherIconUrl": [
             {
              "value": "http://cdn.worldweatheronline.net/images/wsymbols01_png_64/wsymbol_0009_light_rain_showers.png"
             }
            ],
            "winddir16Point": "NNE",
            "winddirDegree": "32",
            "windspeedKmph": "23",
            "windspeedMiles": "14"
           },
           {
            "DewPointC": "15",
            "DewPointF": "58",
            "FeelsLikeC": "19",
            "FeelsLikeF": "66",
            "HeatIndexC": "19",
            "HeatIndexF": "66",
            "WindChillC": "19",
            "WindChillF": "66",
            "WindGustKmph": "33",
            "WindGustMiles": "21",
            "chanceoffog": "0",
            "chanceoffrost": "0",
            "chanceofhightemp": "0",
            "chanceofovercast": "86",
            "chanceofrain": "79",
            "chanceofremdry": "0",
            "chanceofsnow": "0",
            "chanceofsunshine": "0",
            "chanceofthunder": "0",
            "chanceofwindy": "0",
            "cloudcover": "76",
            "humidity": "76",
            "precipInches": "0.0",
            "precipMM": "1.0",
            "pressure": "1017",
            "pressureInches": "30",
            "tempC": "19",
            "tempF": "66",
            "time": "1900",
            "uvIndex": "4",
            "visibility": "10",
            "visibilityMiles": "6",
            "weatherCode": "353",
            "weatherDesc": [
             {
              "value": "Light rain shower"
             }
            ],
            "weatherIconUrl": [
             {
              "value": "http://cdn.worldweatheronline.net/images/wsymbols01_png_64/wsymbol_0009_light_rain_showers.png"
             }
            ],
            "winddir16Point": "NE",
            "winddirDegree": "35",
            "windspeedKmph": "23",
            "windspeedMiles": "14"
           },
           {
            "DewPointC": "15",
            "DewPointF": "58",
            "FeelsLikeC": "19",
            "FeelsLikeF": "66",
            "HeatIndexC": "19",
            "HeatIndexF": "66",
            "WindChillC": "19",
            "WindChillF": "66",
            "WindGustKmph": "34",
            "WindGustMiles": "21",
            "chanceoffog": "0",
            "chanceoffrost": "0",
            "chanceofhightemp": "0",
            "chanceofovercast": "87",
            "chanceofrain": "81",
            "chanceofremdry": "0",
            "chanceofsnow": "0",
            "chanceofsunshine": "0",
            "chanceofthunder": "0",
            "chanceofwindy": "0",
            "cloudcover": "84",
            "humidity": "77",
            "precipInches": "0.1",
            "precipMM": "1.7",
            "pressure": "1017",
            "pressureInches": "31",
            "tempC": "19",
            "tempF": "66",
            "time": "2000",
            "uvIndex": "0",
            "visibility": "9",
            "visibilityMiles": "5",
            "weatherCode": "356",
            "weatherDesc": [
             {
              "value": "Moderate or heavy rain shower"
             }
            ],
            "weatherIconUrl": [
             {
              "value": "http://cdn.worldweatheronline.net/images/wsymbols01_png_64/wsymbol_0026_heavy_rain_showers_night.png"
             }
            ],
            "winddir16Point": "NE",
            "winddirDegree": "34",
            "windspeedKmph": "23",
            "windspeedMiles": "14"
           },
           {
            "DewPointC": "15",
            "DewPointF": "58",
            "FeelsLikeC": "19",
            "FeelsLikeF": "66",
            "HeatIndexC": "19",
            "HeatIndexF": "66",
            "WindChillC": "19",
            "WindChillF": "66",
            "WindGustKmph": "35",
            "WindGustMiles": "22",
            "chanceoffog": "0",
            "chanceoffrost": "0",
            "chanceofhightemp": "0",
            "chanceofovercast": "89",
            "chanceofrain": "84",
            "chanceofremdry": "0",
            "chanceofsnow": "0",
            "chanceofsunshine": "0",
            "chanceofthunder": "0",
            "chanceofwindy": "0",
            "cloudcover": "92",
            "humidity": "77",
            "precipInches": "0.1",
            "precipMM": "2.3",
            "pressure": "1018",
            "pressureInches": "31",
            "tempC": "19",
            "tempF": "66",
            "time": "2100",
            "uvIndex": "0",
            "visibility": "8",
            "visibilityMiles": "4",
            "weatherCode": "353",
            "weatherDesc": [
             {
              "value": "Light rain shower"
             }
            ],
            "weatherIconUrl": [
             {
              "value": "http://cdn.worldweatheronline.net/images/wsymbols01_png_64/wsymbol_0025_light_rain_showers_night.png"
             }
            ],
            "winddir16Point": "NNE",
            "winddirDegree": "34",
            "windspeedKmph": "23",
            "windspeedMiles": "14"
           },
           {
            "DewPointC": "15",
            "DewPointF": "58",
            "FeelsLikeC": "19",
            "FeelsLikeF": "65",
            "HeatIndexC": "19",
            "HeatIndexF": "65",
            "WindChillC": "19",
            "WindChillF": "65",
            "WindGustKmph": "36",
            "WindGustMiles": "22",
            "chanceoffog": "0",
            "chanceoffrost": "0",
            "chanceofhightemp": "0",
            "chanceofovercast": "90",
            "chanceofrain": "86",
            "chanceofremdry": "0",
            "chanceofsnow": "0",
            "chanceofsunshine": "0",
            "chanceofthunder": "0",
            "chanceofwindy": "0",
            "cloudcover": "100",
            "humidity": "77",
            "precipInches": "0.1",
            "precipMM": "3.0",
            "pressure": "1018",
            "pressureInches": "31",
            "tempC": "19",
            "tempF": "65",
            "time": "2200",
            "uvIndex": "0",
            "visibility": "7",
            "visibilityMiles": "4",
            "weatherCode": "356",
            "weatherDesc": [
             {
              "value": "Moderate or heavy rain shower"
             }
            ],
            "weatherIconUrl": [
             {
              "value": "http://cdn.worldweatheronline.net/images/wsymbols01_png_64/wsymbol_0026_heavy_rain_showers_night.png"
             }
            ],
            "winddir16Point": "NNE",
            "winddirDegree": "33",
            "windspeedKmph": "22",
            "windspeedMiles": "14"
           },
           {
            "DewPointC": "14",
            "DewPointF": "58",
            "FeelsLikeC": "18",
            "FeelsLikeF": "64",
            "HeatIndexC": "18",
            "HeatIndexF": "64",
            "WindChillC": "18",
            "WindChillF": "64",
            "WindGustKmph": "38",
            "WindGustMiles": "24",
            "chanceoffog": "0",
            "chanceoffrost": "0",
            "chanceofhightemp": "0",
            "chanceofovercast": "90",
            "chanceofrain": "78",
            "chanceofremdry": "0",
            "chanceofsnow": "0",
            "chanceofsunshine": "0",
            "chanceofthunder": "0",
            "chanceofwindy": "0",
            "cloudcover": "99",
            "humidity": "81",
            "precipInches": "0.3",
            "precipMM": "7.3",
            "pressure": "1018",
            "pressureInches": "31",
            "tempC": "18",
            "tempF": "64",
            "time": "2300",
            "uvIndex": "0",
            "visibility": "6",
            "visibilityMiles": "3",
            "weatherCode": "308",
            "weatherDesc": [
             {
              "value": "Heavy rain"
             }
            ],
            "weatherIconUrl": [
             {
              "value": "http://cdn.worldweatheronline.net/images/wsymbols01_png_64/wsymbol_0034_cloudy_with_heavy_rain_night.png"
             }
            ],
            "winddir16Point": "NE",
            "winddirDegree": "40",
            "windspeedKmph": "23",
            "windspeedMiles": "15"
           }
          ],
          "maxtempC": "23",
          "maxtempF": "73",
          "mintempC": "19",
          "mintempF": "65",
          "sunHour": "0.0",
          "totalSnow_cm": "0.0",
          "uvIndex": "6"
         },
         {
          "astronomy": [
           {
            "moon_illumination": "70",
            "moon_phase": "Waxing Gibbous",
            "moonrise": "05:18 PM",
            "moonset": "03:40 AM",
            "sunrise": "07:29 AM",
            "sunset": "07:07 PM"
           }
          ],
          "avgtempC": "17",
          "avgtempF": "62",
          "date": "2019-10-09",
          "hourly": [
           {
            "DewPointC": "14",
            "DewPointF": "57",
            "FeelsLikeC": "16",
            "FeelsLikeF": "62",
            "HeatIndexC": "16",
            "HeatIndexF": "62",
            "WindChillC": "16",
            "WindChillF": "62",
            "WindGustKmph": "41",
            "WindGustMiles": "25",
            "chanceoffog": "0",
            "chanceoffrost": "0",
            "chanceofhightemp": "0",
            "chanceofovercast": "90",
            "chanceofrain": "71",
            "chanceofremdry": "0",
            "chanceofsnow": "0",
            "chanceofsunshine": "0",
            "chanceofthunder": "0",
            "chanceofwindy": "0",
            "cloudcover": "99",
            "humidity": "85",
            "precipInches": "0.5",
            "precipMM": "11.6",
            "pressure": "1018",
            "pressureInches": "31",
            "tempC": "16",
            "tempF": "62",
            "time": "0",
            "uvIndex": "0",
            "visibility": "6",
            "visibilityMiles": "3",
            "weatherCode": "356",
            "weatherDesc": [
             {
              "value": "Moderate or heavy rain shower"
             }
            ],
            "weatherIconUrl": [
             {
              "value": "http://cdn.worldweatheronline.net/images/wsymbols01_png_64/wsymbol_0026_heavy_rain_showers_night.png"
             }
            ],
            "winddir16Point": "NE",
            "winddirDegree": "46",
            "windspeedKmph": "24",
            "windspeedMiles": "15"
           },
           {
            "DewPointC": "14",
            "DewPointF": "56",
            "FeelsLikeC": "15",
            "FeelsLikeF": "60",
            "HeatIndexC": "15",
            "HeatIndexF": "60",
            "WindChillC": "15",
            "WindChillF": "60",
            "WindGustKmph": "43",
            "WindGustMiles": "27",
            "chanceoffog": "0",
            "chanceoffrost": "0",
            "chanceofhightemp": "0",
            "chanceofovercast": "90",
            "chanceofrain": "63",
            "chanceofremdry": "0",
            "chanceofsnow": "0",
            "chanceofsunshine": "0",
            "chanceofthunder": "0",
            "chanceofwindy": "0",
            "cloudcover": "98",
            "humidity": "89",
            "precipInches": "0.6",
            "precipMM": "15.9",
            "pressure": "1018",
            "pressureInches": "31",
            "tempC": "15",
            "tempF": "60",
            "time": "100",
            "uvIndex": "0",
            "visibility": "5",
            "visibilityMiles": "3",
            "weatherCode": "308",
            "weatherDesc": [
             {
              "value": "Heavy rain"
             }
            ],
            "weatherIconUrl": [
             {
              "value": "http://cdn.worldweatheronline.net/images/wsymbols01_png_64/wsymbol_0034_cloudy_with_heavy_rain_night.png"
             }
            ],
            "winddir16Point": "NE",
            "winddirDegree": "52",
            "windspeedKmph": "25",
            "windspeedMiles": "16"
           },
           {
            "DewPointC": "13",
            "DewPointF": "56",
            "FeelsLikeC": "15",
            "FeelsLikeF": "60",
            "HeatIndexC": "15",
            "HeatIndexF": "60",
            "WindChillC": "15",
            "WindChillF": "60",
            "WindGustKmph": "37",
            "WindGustMiles": "23",
            "chanceoffog": "0",
            "chanceoffrost": "0",
            "chanceofhightemp": "0",
            "chanceofovercast": "87",
            "chanceofrain": "65",
            "chanceofremdry": "0",
            "chanceofsnow": "0",
            "chanceofsunshine": "0",
            "chanceofthunder": "0",
            "chanceofwindy": "0",
            "cloudcover": "99",
            "humidity": "88",
            "precipInches": "0.5",
            "precipMM": "12.3",
            "pressure": "1018",
            "pressureInches": "31",
            "tempC": "15",
            "tempF": "60",
            "time": "200",
            "uvIndex": "0",
            "visibility": "6",
            "visibilityMiles": "3",
            "weatherCode": "302",
            "weatherDesc": [
             {
              "value": "Moderate rain"
             }
            ],
            "weatherIconUrl": [
             {
              "value": "http://cdn.worldweatheronline.net/images/wsymbols01_png_64/wsymbol_0034_cloudy_with_heavy_rain_night.png"
             }
            ],
            "winddir16Point": "NE",
            "winddirDegree": "46",
            "windspeedKmph": "24",
            "windspeedMiles": "15"
           },
           {
            "DewPointC": "13",
            "DewPointF": "56",
            "FeelsLikeC": "15",
            "FeelsLikeF": "60",
            "HeatIndexC": "15",
            "HeatIndexF": "60",
            "WindChillC": "15",
            "WindChillF": "60",
            "WindGustKmph": "31",
            "WindGustMiles": "19",
            "chanceoffog": "0",
            "chanceoffrost": "0",
            "chanceofhightemp": "0",
            "chanceofovercast": "85",
            "chanceofrain": "68",
            "chanceofremdry": "0",
            "chanceofsnow": "0",
            "chanceofsunshine": "0",
            "chanceofthunder": "0",
            "chanceofwindy": "0",
            "cloudcover": "99",
            "humidity": "87",
            "precipInches": "0.3",
            "precipMM": "8.8",
            "pressure": "1018",
            "pressureInches": "31",
            "tempC": "15",
            "tempF": "60",
            "time": "300",
            "uvIndex": "0",
            "visibility": "6",
            "visibilityMiles": "3",
            "weatherCode": "308",
            "weatherDesc": [
             {
              "value": "Heavy rain"
             }
            ],
            "weatherIconUrl": [
             {
              "value": "http://cdn.worldweatheronline.net/images/wsymbols01_png_64/wsymbol_0034_cloudy_with_heavy_rain_night.png"
             }
            ],
            "winddir16Point": "NE",
            "winddirDegree": "41",
            "windspeedKmph": "22",
            "windspeedMiles": "14"
           },
           {
            "DewPointC": "13",
            "DewPointF": "56",
            "FeelsLikeC": "16",
            "FeelsLikeF": "60",
            "HeatIndexC": "16",
            "HeatIndexF": "60",
            "WindChillC": "16",
            "WindChillF": "60",
            "WindGustKmph": "26",
            "WindGustMiles": "16",
            "chanceoffog": "0",
            "chanceoffrost": "0",
            "chanceofhightemp": "0",
            "chanceofovercast": "82",
            "chanceofrain": "70",
            "chanceofremdry": "0",
            "chanceofsnow": "0",
            "chanceofsunshine": "0",
            "chanceofthunder": "0",
            "chanceofwindy": "0",
            "cloudcover": "100",
            "humidity": "86",
            "precipInches": "0.2",
            "precipMM": "5.2",
            "pressure": "1018",
            "pressureInches": "31",
            "tempC": "16",
            "tempF": "60",
            "time": "400",
            "uvIndex": "0",
            "visibility": "7",
            "visibilityMiles": "4",
            "weatherCode": "302",
            "weatherDesc": [
             {
              "value": "Moderate rain"
             }
            ],
            "weatherIconUrl": [
             {
              "value": "http://cdn.worldweatheronline.net/images/wsymbols01_png_64/wsymbol_0034_cloudy_with_heavy_rain_night.png"
             }
            ],
            "winddir16Point": "NE",
            "winddirDegree": "35",
            "windspeedKmph": "21",
            "windspeedMiles": "13"
           },
           {
            "DewPointC": "13",
            "DewPointF": "56",
            "FeelsLikeC": "16",
            "FeelsLikeF": "60",
            "HeatIndexC": "16",
            "HeatIndexF": "60",
            "WindChillC": "16",
            "WindChillF": "60",
            "WindGustKmph": "24",
            "WindGustMiles": "15",
            "chanceoffog": "0",
            "chanceoffrost": "0",
            "chanceofhightemp": "0",
            "chanceofovercast": "84",
            "chanceofrain": "67",
            "chanceofremdry": "0",
            "chanceofsnow": "0",
            "chanceofsunshine": "0",
            "chanceofthunder": "0",
            "chanceofwindy": "0",
            "cloudcover": "100",
            "humidity": "86",
            "precipInches": "0.2",
            "precipMM": "5.4",
            "pressure": "1018",
            "pressureInches": "31",
            "tempC": "16",
            "tempF": "60",
            "time": "500",
            "uvIndex": "0",
            "visibility": "7",
            "visibilityMiles": "4",
            "weatherCode": "302",
            "weatherDesc": [
             {
              "value": "Moderate rain"
             }
            ],
            "weatherIconUrl": [
             {
              "value": "http://cdn.worldweatheronline.net/images/wsymbols01_png_64/wsymbol_0034_cloudy_with_heavy_rain_night.png"
             }
            ],
            "winddir16Point": "NE",
            "winddirDegree": "34",
            "windspeedKmph": "20",
            "windspeedMiles": "13"
           },
           {
            "DewPointC": "13",
            "DewPointF": "56",
            "FeelsLikeC": "15",
            "FeelsLikeF": "60",
            "HeatIndexC": "15",
            "HeatIndexF": "60",
            "WindChillC": "15",
            "WindChillF": "60",
            "WindGustKmph": "24",
            "WindGustMiles": "15",
            "chanceoffog": "0",
            "chanceoffrost": "0",
            "chanceofhightemp": "0",
            "chanceofovercast": "86",
            "chanceofrain": "64",
            "chanceofremdry": "0",
            "chanceofsnow": "0",
            "chanceofsunshine": "0",
            "chanceofthunder": "0",
            "chanceofwindy": "0",
            "cloudcover": "100",
            "humidity": "86",
            "precipInches": "0.2",
            "precipMM": "5.7",
            "pressure": "1018",
            "pressureInches": "31",
            "tempC": "15",
            "tempF": "60",
            "time": "600",
            "uvIndex": "0",
            "visibility": "7",
            "visibilityMiles": "4",
            "weatherCode": "302",
            "weatherDesc": [
             {
              "value": "Moderate rain"
             }
            ],
            "weatherIconUrl": [
             {
              "value": "http://cdn.worldweatheronline.net/images/wsymbols01_png_64/wsymbol_0034_cloudy_with_heavy_rain_night.png"
             }
            ],
            "winddir16Point": "NNE",
            "winddirDegree": "33",
            "windspeedKmph": "19",
            "windspeedMiles": "12"
           },
           {
            "DewPointC": "13",
            "DewPointF": "56",
            "FeelsLikeC": "15",
            "FeelsLikeF": "60",
            "HeatIndexC": "15",
            "HeatIndexF": "60",
            "WindChillC": "15",
            "WindChillF": "60",
            "WindGustKmph": "23",
            "WindGustMiles": "14",
            "chanceoffog": "0",
            "chanceoffrost": "0",
            "chanceofhightemp": "0",
            "chanceofovercast": "88",
            "chanceofrain": "61",
            "chanceofremdry": "0",
            "chanceofsnow": "0",
            "chanceofsunshine": "0",
            "chanceofthunder": "0",
            "chanceofwindy": "0",
            "cloudcover": "100",
            "humidity": "86",
            "precipInches": "0.2",
            "precipMM": "5.9",
            "pressure": "1018",
            "pressureInches": "31",
            "tempC": "15",
            "tempF": "60",
            "time": "700",
            "uvIndex": "0",
            "visibility": "7",
            "visibilityMiles": "4",
            "weatherCode": "302",
            "weatherDesc": [
             {
              "value": "Moderate rain"
             }
            ],
            "weatherIconUrl": [
             {
              "value": "http://cdn.worldweatheronline.net/images/wsymbols01_png_64/wsymbol_0034_cloudy_with_heavy_rain_night.png"
             }
            ],
            "winddir16Point": "NNE",
            "winddirDegree": "33",
            "windspeedKmph": "18",
            "windspeedMiles": "11"
           },
           {
            "DewPointC": "13",
            "DewPointF": "56",
            "FeelsLikeC": "16",
            "FeelsLikeF": "60",
            "HeatIndexC": "16",
            "HeatIndexF": "60",
            "WindChillC": "16",
            "WindChillF": "60",
            "WindGustKmph": "22",
            "WindGustMiles": "13",
            "chanceoffog": "0",
            "chanceoffrost": "0",
            "chanceofhightemp": "0",
            "chanceofovercast": "86",
            "chanceofrain": "41",
            "chanceofremdry": "27",
            "chanceofsnow": "0",
            "chanceofsunshine": "3",
            "chanceofthunder": "0",
            "chanceofwindy": "0",
            "cloudcover": "100",
            "humidity": "85",
            "precipInches": "0.2",
            "precipMM": "3.9",
            "pressure": "1018",
            "pressureInches": "31",
            "tempC": "16",
            "tempF": "60",
            "time": "800",
            "uvIndex": "4",
            "visibility": "8",
            "visibilityMiles": "4",
            "weatherCode": "122",
            "weatherDesc": [
             {
              "value": "Overcast"
             }
            ],
            "weatherIconUrl": [
             {
              "value": "http://cdn.worldweatheronline.net/images/wsymbols01_png_64/wsymbol_0004_black_low_cloud.png"
             }
            ],
            "winddir16Point": "NNE",
            "winddirDegree": "32",
            "windspeedKmph": "18",
            "windspeedMiles": "11"
           },
           {
            "DewPointC": "13",
            "DewPointF": "56",
            "FeelsLikeC": "16",
            "FeelsLikeF": "61",
            "HeatIndexC": "16",
            "HeatIndexF": "61",
            "WindChillC": "16",
            "WindChillF": "61",
            "WindGustKmph": "21",
            "WindGustMiles": "13",
            "chanceoffog": "0",
            "chanceoffrost": "0",
            "chanceofhightemp": "0",
            "chanceofovercast": "85",
            "chanceofrain": "20",
            "chanceofremdry": "55",
            "chanceofsnow": "0",
            "chanceofsunshine": "5",
            "chanceofthunder": "0",
            "chanceofwindy": "0",
            "cloudcover": "100",
            "humidity": "84",
            "precipInches": "0.1",
            "precipMM": "2.0",
            "pressure": "1019",
            "pressureInches": "31",
            "tempC": "16",
            "tempF": "61",
            "time": "900",
            "uvIndex": "4",
            "visibility": "9",
            "visibilityMiles": "5",
            "weatherCode": "302",
            "weatherDesc": [
             {
              "value": "Moderate rain"
             }
            ],
            "weatherIconUrl": [
             {
              "value": "http://cdn.worldweatheronline.net/images/wsymbols01_png_64/wsymbol_0018_cloudy_with_heavy_rain.png"
             }
            ],
            "winddir16Point": "NNE",
            "winddirDegree": "31",
            "windspeedKmph": "17",
            "windspeedMiles": "11"
           },
           {
            "DewPointC": "14",
            "DewPointF": "56",
            "FeelsLikeC": "16",
            "FeelsLikeF": "62",
            "HeatIndexC": "16",
            "HeatIndexF": "62",
            "WindChillC": "16",
            "WindChillF": "62",
            "WindGustKmph": "19",
            "WindGustMiles": "12",
            "chanceoffog": "0",
            "chanceoffrost": "0",
            "chanceofhightemp": "0",
            "chanceofovercast": "83",
            "chanceofrain": "0",
            "chanceofremdry": "82",
            "chanceofsnow": "0",
            "chanceofsunshine": "8",
            "chanceofthunder": "0",
            "chanceofwindy": "0",
            "cloudcover": "100",
            "humidity": "83",
            "precipInches": "0.0",
            "precipMM": "0.0",
            "pressure": "1019",
            "pressureInches": "31",
            "tempC": "16",
            "tempF": "62",
            "time": "1000",
            "uvIndex": "4",
            "visibility": "10",
            "visibilityMiles": "6",
            "weatherCode": "122",
            "weatherDesc": [
             {
              "value": "Overcast"
             }
            ],
            "weatherIconUrl": [
             {
              "value": "http://cdn.worldweatheronline.net/images/wsymbols01_png_64/wsymbol_0004_black_low_cloud.png"
             }
            ],
            "winddir16Point": "NNE",
            "winddirDegree": "29",
            "windspeedKmph": "17",
            "windspeedMiles": "11"
           },
           {
            "DewPointC": "14",
            "DewPointF": "56",
            "FeelsLikeC": "17",
            "FeelsLikeF": "63",
            "HeatIndexC": "17",
            "HeatIndexF": "63",
            "WindChillC": "17",
            "WindChillF": "63",
            "WindGustKmph": "19",
            "WindGustMiles": "12",
            "chanceoffog": "0",
            "chanceoffrost": "0",
            "chanceofhightemp": "0",
            "chanceofovercast": "84",
            "chanceofrain": "0",
            "chanceofremdry": "81",
            "chanceofsnow": "0",
            "chanceofsunshine": "9",
            "chanceofthunder": "0",
            "chanceofwindy": "0",
            "cloudcover": "100",
            "humidity": "81",
            "precipInches": "0.0",
            "precipMM": "0.0",
            "pressure": "1019",
            "pressureInches": "31",
            "tempC": "17",
            "tempF": "63",
            "time": "1100",
            "uvIndex": "4",
            "visibility": "10",
            "visibilityMiles": "6",
            "weatherCode": "122",
            "weatherDesc": [
             {
              "value": "Overcast"
             }
            ],
            "weatherIconUrl": [
             {
              "value": "http://cdn.worldweatheronline.net/images/wsymbols01_png_64/wsymbol_0004_black_low_cloud.png"
             }
            ],
            "winddir16Point": "NNE",
            "winddirDegree": "29",
            "windspeedKmph": "17",
            "windspeedMiles": "11"
           },
           {
            "DewPointC": "14",
            "DewPointF": "57",
            "FeelsLikeC": "18",
            "FeelsLikeF": "64",
            "HeatIndexC": "18",
            "HeatIndexF": "64",
            "WindChillC": "18",
            "WindChillF": "64",
            "WindGustKmph": "19",
            "WindGustMiles": "12",
            "chanceoffog": "0",
            "chanceoffrost": "0",
            "chanceofhightemp": "0",
            "chanceofovercast": "84",
            "chanceofrain": "0",
            "chanceofremdry": "81",
            "chanceofsnow": "0",
            "chanceofsunshine": "11",
            "chanceofthunder": "0",
            "chanceofwindy": "0",
            "cloudcover": "100",
            "humidity": "78",
            "precipInches": "0.0",
            "precipMM": "0.0",
            "pressure": "1019",
            "pressureInches": "31",
            "tempC": "18",
            "tempF": "64",
            "time": "1200",
            "uvIndex": "4",
            "visibility": "10",
            "visibilityMiles": "6",
            "weatherCode": "122",
            "weatherDesc": [
             {
              "value": "Overcast"
             }
            ],
            "weatherIconUrl": [
             {
              "value": "http://cdn.worldweatheronline.net/images/wsymbols01_png_64/wsymbol_0004_black_low_cloud.png"
             }
            ],
            "winddir16Point": "NNE",
            "winddirDegree": "29",
            "windspeedKmph": "17",
            "windspeedMiles": "10"
           },
           {
            "DewPointC": "14",
            "DewPointF": "57",
            "FeelsLikeC": "18",
            "FeelsLikeF": "65",
            "HeatIndexC": "18",
            "HeatIndexF": "65",
            "WindChillC": "18",
            "WindChillF": "65",
            "WindGustKmph": "19",
            "WindGustMiles": "12",
            "chanceoffog": "0",
            "chanceoffrost": "0",
            "chanceofhightemp": "0",
            "chanceofovercast": "85",
            "chanceofrain": "0",
            "chanceofremdry": "80",
            "chanceofsnow": "0",
            "chanceofsunshine": "12",
            "chanceofthunder": "0",
            "chanceofwindy": "0",
            "cloudcover": "100",
            "humidity": "76",
            "precipInches": "0.0",
            "precipMM": "0.0",
            "pressure": "1019",
            "pressureInches": "31",
            "tempC": "18",
            "tempF": "65",
            "time": "1300",
            "uvIndex": "4",
            "visibility": "10",
            "visibilityMiles": "6",
            "weatherCode": "122",
            "weatherDesc": [
             {
              "value": "Overcast"
             }
            ],
            "weatherIconUrl": [
             {
              "value": "http://cdn.worldweatheronline.net/images/wsymbols01_png_64/wsymbol_0004_black_low_cloud.png"
             }
            ],
            "winddir16Point": "NNE",
            "winddirDegree": "29",
            "windspeedKmph": "17",
            "windspeedMiles": "10"
           },
           {
            "DewPointC": "14",
            "DewPointF": "57",
            "FeelsLikeC": "19",
            "FeelsLikeF": "66",
            "HeatIndexC": "19",
            "HeatIndexF": "66",
            "WindChillC": "19",
            "WindChillF": "66",
            "WindGustKmph": "19",
            "WindGustMiles": "12",
            "chanceoffog": "0",
            "chanceoffrost": "0",
            "chanceofhightemp": "0",
            "chanceofovercast": "87",
            "chanceofrain": "0",
            "chanceofremdry": "81",
            "chanceofsnow": "0",
            "chanceofsunshine": "13",
            "chanceofthunder": "0",
            "chanceofwindy": "0",
            "cloudcover": "100",
            "humidity": "74",
            "precipInches": "0.0",
            "precipMM": "0.0",
            "pressure": "1018",
            "pressureInches": "31",
            "tempC": "19",
            "tempF": "66",
            "time": "1400",
            "uvIndex": "4",
            "visibility": "10",
            "visibilityMiles": "6",
            "weatherCode": "122",
            "weatherDesc": [
             {
              "value": "Overcast"
             }
            ],
            "weatherIconUrl": [
             {
              "value": "http://cdn.worldweatheronline.net/images/wsymbols01_png_64/wsymbol_0004_black_low_cloud.png"
             }
            ],
            "winddir16Point": "NNE",
            "winddirDegree": "30",
            "windspeedKmph": "16",
            "windspeedMiles": "10"
           },
           {
            "DewPointC": "14",
            "DewPointF": "58",
            "FeelsLikeC": "19",
            "FeelsLikeF": "67",
            "HeatIndexC": "19",
            "HeatIndexF": "67",
            "WindChillC": "19",
            "WindChillF": "67",
            "WindGustKmph": "19",
            "WindGustMiles": "12",
            "chanceoffog": "0",
            "chanceoffrost": "0",
            "chanceofhightemp": "0",
            "chanceofovercast": "88",
            "chanceofrain": "0",
            "chanceofremdry": "81",
            "chanceofsnow": "0",
            "chanceofsunshine": "15",
            "chanceofthunder": "0",
            "chanceofwindy": "0",
            "cloudcover": "100",
            "humidity": "73",
            "precipInches": "0.0",
            "precipMM": "0.0",
            "pressure": "1017",
            "pressureInches": "31",
            "tempC": "19",
            "tempF": "67",
            "time": "1500",
            "uvIndex": "4",
            "visibility": "10",
            "visibilityMiles": "6",
            "weatherCode": "122",
            "weatherDesc": [
             {
              "value": "Overcast"
             }
            ],
            "weatherIconUrl": [
             {
              "value": "http://cdn.worldweatheronline.net/images/wsymbols01_png_64/wsymbol_0004_black_low_cloud.png"
             }
            ],
            "winddir16Point": "NNE",
            "winddirDegree": "32",
            "windspeedKmph": "16",
            "windspeedMiles": "10"
           },
           {
            "DewPointC": "14",
            "DewPointF": "58",
            "FeelsLikeC": "20",
            "FeelsLikeF": "67",
            "HeatIndexC": "20",
            "HeatIndexF": "67",
            "WindChillC": "20",
            "WindChillF": "67",
            "WindGustKmph": "18",
            "WindGustMiles": "11",
            "chanceoffog": "0",
            "chanceoffrost": "0",
            "chanceofhightemp": "0",
            "chanceofovercast": "90",
            "chanceofrain": "0",
            "chanceofremdry": "82",
            "chanceofsnow": "0",
            "chanceofsunshine": "16",
            "chanceofthunder": "0",
            "chanceofwindy": "0",
            "cloudcover": "100",
            "humidity": "71",
            "precipInches": "0.0",
            "precipMM": "0.0",
            "pressure": "1016",
            "pressureInches": "30",
            "tempC": "20",
            "tempF": "67",
            "time": "1600",
            "uvIndex": "4",
            "visibility": "10",
            "visibilityMiles": "6",
            "weatherCode": "122",
            "weatherDesc": [
             {
              "value": "Overcast"
             }
            ],
            "weatherIconUrl": [
             {
              "value": "http://cdn.worldweatheronline.net/images/wsymbols01_png_64/wsymbol_0004_black_low_cloud.png"
             }
            ],
            "winddir16Point": "NNE",
            "winddirDegree": "34",
            "windspeedKmph": "16",
            "windspeedMiles": "10"
           },
           {
            "DewPointC": "14",
            "DewPointF": "58",
            "FeelsLikeC": "20",
            "FeelsLikeF": "67",
            "HeatIndexC": "20",
            "HeatIndexF": "67",
            "WindChillC": "20",
            "WindChillF": "67",
            "WindGustKmph": "17",
            "WindGustMiles": "11",
            "chanceoffog": "0",
            "chanceoffrost": "0",
            "chanceofhightemp": "0",
            "chanceofovercast": "88",
            "chanceofrain": "0",
            "chanceofremdry": "83",
            "chanceofsnow": "0",
            "chanceofsunshine": "15",
            "chanceofthunder": "0",
            "chanceofwindy": "0",
            "cloudcover": "96",
            "humidity": "72",
            "precipInches": "0.0",
            "precipMM": "0.0",
            "pressure": "1016",
            "pressureInches": "30",
            "tempC": "20",
            "tempF": "67",
            "time": "1700",
            "uvIndex": "4",
            "visibility": "10",
            "visibilityMiles": "6",
            "weatherCode": "119",
            "weatherDesc": [
             {
              "value": "Cloudy"
             }
            ],
            "weatherIconUrl": [
             {
              "value": "http://cdn.worldweatheronline.net/images/wsymbols01_png_64/wsymbol_0003_white_cloud.png"
             }
            ],
            "winddir16Point": "NE",
            "winddirDegree": "40",
            "windspeedKmph": "14",
            "windspeedMiles": "9"
           },
           {
            "DewPointC": "15",
            "DewPointF": "58",
            "FeelsLikeC": "20",
            "FeelsLikeF": "67",
            "HeatIndexC": "20",
            "HeatIndexF": "67",
            "WindChillC": "20",
            "WindChillF": "67",
            "WindGustKmph": "16",
            "WindGustMiles": "10",
            "chanceoffog": "0",
            "chanceoffrost": "0",
            "chanceofhightemp": "0",
            "chanceofovercast": "86",
            "chanceofrain": "0",
            "chanceofremdry": "84",
            "chanceofsnow": "0",
            "chanceofsunshine": "13",
            "chanceofthunder": "0",
            "chanceofwindy": "0",
            "cloudcover": "91",
            "humidity": "73",
            "precipInches": "0.0",
            "precipMM": "0.0",
            "pressure": "1016",
            "pressureInches": "30",
            "tempC": "20",
            "tempF": "67",
            "time": "1800",
            "uvIndex": "4",
            "visibility": "10",
            "visibilityMiles": "6",
            "weatherCode": "122",
            "weatherDesc": [
             {
              "value": "Overcast"
             }
            ],
            "weatherIconUrl": [
             {
              "value": "http://cdn.worldweatheronline.net/images/wsymbols01_png_64/wsymbol_0004_black_low_cloud.png"
             }
            ],
            "winddir16Point": "NE",
            "winddirDegree": "45",
            "windspeedKmph": "13",
            "windspeedMiles": "8"
           },
           {
            "DewPointC": "15",
            "DewPointF": "58",
            "FeelsLikeC": "19",
            "FeelsLikeF": "67",
            "HeatIndexC": "19",
            "HeatIndexF": "67",
            "WindChillC": "19",
            "WindChillF": "67",
            "WindGustKmph": "15",
            "WindGustMiles": "9",
            "chanceoffog": "0",
            "chanceoffrost": "0",
            "chanceofhightemp": "0",
            "chanceofovercast": "84",
            "chanceofrain": "0",
            "chanceofremdry": "85",
            "chanceofsnow": "0",
            "chanceofsunshine": "12",
            "chanceofthunder": "0",
            "chanceofwindy": "0",
            "cloudcover": "87",
            "humidity": "73",
            "precipInches": "0.0",
            "precipMM": "0.0",
            "pressure": "1016",
            "pressureInches": "30",
            "tempC": "19",
            "tempF": "67",
            "time": "1900",
            "uvIndex": "4",
            "visibility": "10",
            "visibilityMiles": "6",
            "weatherCode": "119",
            "weatherDesc": [
             {
              "value": "Cloudy"
             }
            ],
            "weatherIconUrl": [
             {
              "value": "http://cdn.worldweatheronline.net/images/wsymbols01_png_64/wsymbol_0003_white_cloud.png"
             }
            ],
            "winddir16Point": "NE",
            "winddirDegree": "51",
            "windspeedKmph": "11",
            "windspeedMiles": "7"
           },
           {
            "DewPointC": "13",
            "DewPointF": "56",
            "FeelsLikeC": "18",
            "FeelsLikeF": "65",
            "HeatIndexC": "19",
            "HeatIndexF": "66",
            "WindChillC": "18",
            "WindChillF": "65",
            "WindGustKmph": "17",
            "WindGustMiles": "11",
            "chanceoffog": "0",
            "chanceoffrost": "0",
            "chanceofhightemp": "0",
            "chanceofovercast": "68",
            "chanceofrain": "0",
            "chanceofremdry": "85",
            "chanceofsnow": "0",
            "chanceofsunshine": "37",
            "chanceofthunder": "0",
            "chanceofwindy": "0",
            "cloudcover": "61",
            "humidity": "65",
            "precipInches": "0.0",
            "precipMM": "0.0",
            "pressure": "1016",
            "pressureInches": "30",
            "tempC": "18",
            "tempF": "65",
            "time": "2000",
            "uvIndex": "0",
            "visibility": "10",
            "visibilityMiles": "6",
            "weatherCode": "116",
            "weatherDesc": [
             {
              "value": "Partly cloudy"
             }
            ],
            "weatherIconUrl": [
             {
              "value": "http://cdn.worldweatheronline.net/images/wsymbols01_png_64/wsymbol_0004_black_low_cloud.png"
             }
            ],
            "winddir16Point": "ENE",
            "winddirDegree": "72",
            "windspeedKmph": "12",
            "windspeedMiles": "7"
           },
           {
            "DewPointC": "12",
            "DewPointF": "54",
            "FeelsLikeC": "17",
            "FeelsLikeF": "62",
            "HeatIndexC": "18",
            "HeatIndexF": "65",
            "WindChillC": "17",
            "WindChillF": "62",
            "WindGustKmph": "19",
            "WindGustMiles": "12",
            "chanceoffog": "0",
            "chanceoffrost": "0",
            "chanceofhightemp": "0",
            "chanceofovercast": "53",
            "chanceofrain": "0",
            "chanceofremdry": "84",
            "chanceofsnow": "0",
            "chanceofsunshine": "62",
            "chanceofthunder": "0",
            "chanceofwindy": "0",
            "cloudcover": "35",
            "humidity": "56",
            "precipInches": "0.0",
            "precipMM": "0.0",
            "pressure": "1016",
            "pressureInches": "30",
            "tempC": "17",
            "tempF": "62",
            "time": "2100",
            "uvIndex": "0",
            "visibility": "10",
            "visibilityMiles": "6",
            "weatherCode": "119",
            "weatherDesc": [
             {
              "value": "Cloudy"
             }
            ],
            "weatherIconUrl": [
             {
              "value": "http://cdn.worldweatheronline.net/images/wsymbols01_png_64/wsymbol_0004_black_low_cloud.png"
             }
            ],
            "winddir16Point": "E",
            "winddirDegree": "93",
            "windspeedKmph": "12",
            "windspeedMiles": "8"
           },
           {
            "DewPointC": "11",
            "DewPointF": "52",
            "FeelsLikeC": "15",
            "FeelsLikeF": "60",
            "HeatIndexC": "17",
            "HeatIndexF": "63",
            "WindChillC": "15",
            "WindChillF": "60",
            "WindGustKmph": "21",
            "WindGustMiles": "13",
            "chanceoffog": "0",
            "chanceoffrost": "0",
            "chanceofhightemp": "0",
            "chanceofovercast": "37",
            "chanceofrain": "0",
            "chanceofremdry": "84",
            "chanceofsnow": "0",
            "chanceofsunshine": "87",
            "chanceofthunder": "0",
            "chanceofwindy": "0",
            "cloudcover": "9",
            "humidity": "48",
            "precipInches": "0.0",
            "precipMM": "0.0",
            "pressure": "1016",
            "pressureInches": "30",
            "tempC": "15",
            "tempF": "60",
            "time": "2200",
            "uvIndex": "0",
            "visibility": "10",
            "visibilityMiles": "6",
            "weatherCode": "116",
            "weatherDesc": [
             {
              "value": "Partly cloudy"
             }
            ],
            "weatherIconUrl": [
             {
              "value": "http://cdn.worldweatheronline.net/images/wsymbols01_png_64/wsymbol_0004_black_low_cloud.png"
             }
            ],
            "winddir16Point": "ESE",
            "winddirDegree": "113",
            "windspeedKmph": "13",
            "windspeedMiles": "8"
           },
           {
            "DewPointC": "12",
            "DewPointF": "53",
            "FeelsLikeC": "17",
            "FeelsLikeF": "63",
            "HeatIndexC": "20",
            "HeatIndexF": "67",
            "WindChillC": "17",
            "WindChillF": "63",
            "WindGustKmph": "19",
            "WindGustMiles": "12",
            "chanceoffog": "0",
            "chanceoffrost": "0",
            "chanceofhightemp": "0",
            "chanceofovercast": "39",
            "chanceofrain": "0",
            "chanceofremdry": "85",
            "chanceofsnow": "0",
            "chanceofsunshine": "85",
            "chanceofthunder": "0",
            "chanceofwindy": "0",
            "cloudcover": "10",
            "humidity": "51",
            "precipInches": "0.0",
            "precipMM": "0.0",
            "pressure": "1017",
            "pressureInches": "30",
            "tempC": "17",
            "tempF": "63",
            "time": "2300",
            "uvIndex": "0",
            "visibility": "10",
            "visibilityMiles": "6",
            "weatherCode": "116",
            "weatherDesc": [
             {
              "value": "Partly cloudy"
             }
            ],
            "weatherIconUrl": [
             {
              "value": "http://cdn.worldweatheronline.net/images/wsymbols01_png_64/wsymbol_0004_black_low_cloud.png"
             }
            ],
            "winddir16Point": "ESE",
            "winddirDegree": "124",
            "windspeedKmph": "11",
            "windspeedMiles": "7"
           }
          ],
          "maxtempC": "20",
          "maxtempF": "67",
          "mintempC": "15",
          "mintempF": "60",
          "sunHour": "0.0",
          "totalSnow_cm": "0.0",
          "uvIndex": "4"
         }
        ]
       }
      },
      "text/plain": [
       "<IPython.core.display.JSON object>"
      ]
     },
     "execution_count": 111,
     "metadata": {
      "application/json": {
       "expanded": false,
       "root": "root"
      }
     },
     "output_type": "execute_result"
    }
   ],
   "source": [
    "JSON(cont)"
   ]
  },
  {
   "cell_type": "code",
   "execution_count": null,
   "metadata": {},
   "outputs": [],
   "source": []
  }
 ],
 "metadata": {
  "kernelspec": {
   "display_name": "Python 3",
   "language": "python",
   "name": "python3"
  },
  "language_info": {
   "codemirror_mode": {
    "name": "ipython",
    "version": 3
   },
   "file_extension": ".py",
   "mimetype": "text/x-python",
   "name": "python",
   "nbconvert_exporter": "python",
   "pygments_lexer": "ipython3",
   "version": "3.7.3"
  }
 },
 "nbformat": 4,
 "nbformat_minor": 4
}
